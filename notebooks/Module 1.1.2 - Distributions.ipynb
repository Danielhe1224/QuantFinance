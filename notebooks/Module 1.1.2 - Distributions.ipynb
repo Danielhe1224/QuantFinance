{
 "cells": [
  {
   "cell_type": "markdown",
   "metadata": {},
   "source": [
    "# Introduction to Quantitative Finance\n",
    "\n",
    "Copyright (c) 2019 Python Charmers Pty Ltd, Australia, <https://pythoncharmers.com>. All rights reserved.\n",
    "\n",
    "<img src=\"img/python_charmers_logo.png\" width=\"300\" alt=\"Python Charmers Logo\">\n",
    "\n",
    "Published under the Creative Commons Attribution-NonCommercial 4.0 International (CC BY-NC 4.0) license. See `LICENSE.md` for details.\n",
    "\n",
    "Sponsored by Tibra Global Services, <https://tibra.com>\n",
    "\n",
    "<img src=\"img/tibra_logo.png\" width=\"300\" alt=\"Tibra Logo\">\n",
    "\n",
    "\n",
    "## Module 1.1: Distributions and Random Processes\n",
    "\n",
    "### 1.1.2: Distributions\n",
    "\n",
    "Many real world phenomena can be modelled with random variables, which is particularly useful when we do not have all possible information about a given environment. Consider a die roll, where we throw a die into the air, and see which number is on top.\n",
    "\n",
    "The die has six possible outcomes: 1, 2, 3, 4, 5 and 6, which are the possible states or values. It is impossible* to get a value other than these six distinct possible.\n",
    "\n",
    "<div class=\"alert alert-warning\">\n",
    "    * Some might argue that it would be possible to properly model a die throw and know what the result would be. Whether it is possible is the type of question that keeps physicists up at night, however it almost certainly would be more effort than it's worth.\n",
    "</div>\n",
    "\n",
    "Here is a simulation of a die roll."
   ]
  },
  {
   "cell_type": "code",
   "execution_count": 1,
   "metadata": {},
   "outputs": [
    {
     "data": {
      "text/plain": [
       "3"
      ]
     },
     "execution_count": 1,
     "metadata": {},
     "output_type": "execute_result"
    }
   ],
   "source": [
    "import random\n",
    "\n",
    "possible_states = [1, 2, 3, 4, 5, 6]\n",
    "\n",
    "random.choice(possible_states)"
   ]
  },
  {
   "cell_type": "markdown",
   "metadata": {},
   "source": [
    "If we run this simulation 100,000 times, we can get an *empirical estimate* of the distribution:"
   ]
  },
  {
   "cell_type": "code",
   "execution_count": 2,
   "metadata": {},
   "outputs": [],
   "source": [
    "NUM_TRIALS = 100000\n",
    "\n",
    "results = [random.choice(possible_states) for i in range(NUM_TRIALS)]"
   ]
  },
  {
   "cell_type": "code",
   "execution_count": 3,
   "metadata": {},
   "outputs": [
    {
     "data": {
      "text/plain": [
       "Counter({6: 16910, 5: 16788, 1: 16739, 3: 16574, 2: 16564, 4: 16425})"
      ]
     },
     "execution_count": 3,
     "metadata": {},
     "output_type": "execute_result"
    }
   ],
   "source": [
    "from collections import Counter\n",
    "counts = Counter(results)\n",
    "counts"
   ]
  },
  {
   "cell_type": "code",
   "execution_count": 4,
   "metadata": {},
   "outputs": [
    {
     "data": {
      "text/plain": [
       "RendererRegistry.enable('default')"
      ]
     },
     "execution_count": 4,
     "metadata": {},
     "output_type": "execute_result"
    }
   ],
   "source": [
    "import altair as alt\n",
    "import vega\n",
    "alt.renderers.enable('default')  # Setup your environment to show altair plots.  Note this option depends on where you are running your code."
   ]
  },
  {
   "cell_type": "code",
   "execution_count": 5,
   "metadata": {},
   "outputs": [
    {
     "name": "stdout",
     "output_type": "stream",
     "text": [
      "   state  count\n",
      "0      1  16739\n",
      "1      2  16564\n",
      "2      3  16574\n",
      "3      4  16425\n",
      "4      5  16788\n",
      "5      6  16910\n"
     ]
    },
    {
     "data": {
      "text/html": [
       "\n",
       "<style>\n",
       "  #altair-viz-bdea7e7925dc43678bda1cee337daa60.vega-embed {\n",
       "    width: 100%;\n",
       "    display: flex;\n",
       "  }\n",
       "\n",
       "  #altair-viz-bdea7e7925dc43678bda1cee337daa60.vega-embed details,\n",
       "  #altair-viz-bdea7e7925dc43678bda1cee337daa60.vega-embed details summary {\n",
       "    position: relative;\n",
       "  }\n",
       "</style>\n",
       "<div id=\"altair-viz-bdea7e7925dc43678bda1cee337daa60\"></div>\n",
       "<script type=\"text/javascript\">\n",
       "  var VEGA_DEBUG = (typeof VEGA_DEBUG == \"undefined\") ? {} : VEGA_DEBUG;\n",
       "  (function(spec, embedOpt){\n",
       "    let outputDiv = document.currentScript.previousElementSibling;\n",
       "    if (outputDiv.id !== \"altair-viz-bdea7e7925dc43678bda1cee337daa60\") {\n",
       "      outputDiv = document.getElementById(\"altair-viz-bdea7e7925dc43678bda1cee337daa60\");\n",
       "    }\n",
       "    const paths = {\n",
       "      \"vega\": \"https://cdn.jsdelivr.net/npm/vega@5?noext\",\n",
       "      \"vega-lib\": \"https://cdn.jsdelivr.net/npm/vega-lib?noext\",\n",
       "      \"vega-lite\": \"https://cdn.jsdelivr.net/npm/vega-lite@5.8.0?noext\",\n",
       "      \"vega-embed\": \"https://cdn.jsdelivr.net/npm/vega-embed@6?noext\",\n",
       "    };\n",
       "\n",
       "    function maybeLoadScript(lib, version) {\n",
       "      var key = `${lib.replace(\"-\", \"\")}_version`;\n",
       "      return (VEGA_DEBUG[key] == version) ?\n",
       "        Promise.resolve(paths[lib]) :\n",
       "        new Promise(function(resolve, reject) {\n",
       "          var s = document.createElement('script');\n",
       "          document.getElementsByTagName(\"head\")[0].appendChild(s);\n",
       "          s.async = true;\n",
       "          s.onload = () => {\n",
       "            VEGA_DEBUG[key] = version;\n",
       "            return resolve(paths[lib]);\n",
       "          };\n",
       "          s.onerror = () => reject(`Error loading script: ${paths[lib]}`);\n",
       "          s.src = paths[lib];\n",
       "        });\n",
       "    }\n",
       "\n",
       "    function showError(err) {\n",
       "      outputDiv.innerHTML = `<div class=\"error\" style=\"color:red;\">${err}</div>`;\n",
       "      throw err;\n",
       "    }\n",
       "\n",
       "    function displayChart(vegaEmbed) {\n",
       "      vegaEmbed(outputDiv, spec, embedOpt)\n",
       "        .catch(err => showError(`Javascript Error: ${err.message}<br>This usually means there's a typo in your chart specification. See the javascript console for the full traceback.`));\n",
       "    }\n",
       "\n",
       "    if(typeof define === \"function\" && define.amd) {\n",
       "      requirejs.config({paths});\n",
       "      require([\"vega-embed\"], displayChart, err => showError(`Error loading script: ${err.message}`));\n",
       "    } else {\n",
       "      maybeLoadScript(\"vega\", \"5\")\n",
       "        .then(() => maybeLoadScript(\"vega-lite\", \"5.8.0\"))\n",
       "        .then(() => maybeLoadScript(\"vega-embed\", \"6\"))\n",
       "        .catch(showError)\n",
       "        .then(() => displayChart(vegaEmbed));\n",
       "    }\n",
       "  })({\"config\": {\"view\": {\"continuousWidth\": 300, \"continuousHeight\": 300}}, \"data\": {\"name\": \"data-7d5817419443c6d9475804c050f814ab\"}, \"mark\": {\"type\": \"bar\"}, \"encoding\": {\"x\": {\"field\": \"state\", \"type\": \"ordinal\"}, \"y\": {\"field\": \"count\", \"type\": \"quantitative\"}}, \"$schema\": \"https://vega.github.io/schema/vega-lite/v5.8.0.json\", \"datasets\": {\"data-7d5817419443c6d9475804c050f814ab\": [{\"state\": 1, \"count\": 16739}, {\"state\": 2, \"count\": 16564}, {\"state\": 3, \"count\": 16574}, {\"state\": 4, \"count\": 16425}, {\"state\": 5, \"count\": 16788}, {\"state\": 6, \"count\": 16910}]}}, {\"mode\": \"vega-lite\"});\n",
       "</script>"
      ],
      "text/plain": [
       "alt.Chart(...)"
      ]
     },
     "execution_count": 5,
     "metadata": {},
     "output_type": "execute_result"
    }
   ],
   "source": [
    "import pandas as pd\n",
    "\n",
    "die_rolls = pd.DataFrame({\n",
    "    'state': possible_states,\n",
    "    'count': [counts.get(state, 0) for state in possible_states]\n",
    "})\n",
    "\n",
    "print(die_rolls)\n",
    "\n",
    "alt.Chart(die_rolls).mark_bar().encode(\n",
    "    x='state:O',\n",
    "    y='count'\n",
    ")"
   ]
  },
  {
   "cell_type": "code",
   "execution_count": 6,
   "metadata": {},
   "outputs": [
    {
     "name": "stdout",
     "output_type": "stream",
     "text": [
      "   state  count\n",
      "0      1  16739\n",
      "1      2  16564\n",
      "2      3  16574\n",
      "3      4  16425\n",
      "4      5  16788\n",
      "5      6  16910\n"
     ]
    },
    {
     "data": {
      "text/html": [
       "\n",
       "<style>\n",
       "  #altair-viz-1cc4fab1ac30411794ddcd6924c76cd4.vega-embed {\n",
       "    width: 100%;\n",
       "    display: flex;\n",
       "  }\n",
       "\n",
       "  #altair-viz-1cc4fab1ac30411794ddcd6924c76cd4.vega-embed details,\n",
       "  #altair-viz-1cc4fab1ac30411794ddcd6924c76cd4.vega-embed details summary {\n",
       "    position: relative;\n",
       "  }\n",
       "</style>\n",
       "<div id=\"altair-viz-1cc4fab1ac30411794ddcd6924c76cd4\"></div>\n",
       "<script type=\"text/javascript\">\n",
       "  var VEGA_DEBUG = (typeof VEGA_DEBUG == \"undefined\") ? {} : VEGA_DEBUG;\n",
       "  (function(spec, embedOpt){\n",
       "    let outputDiv = document.currentScript.previousElementSibling;\n",
       "    if (outputDiv.id !== \"altair-viz-1cc4fab1ac30411794ddcd6924c76cd4\") {\n",
       "      outputDiv = document.getElementById(\"altair-viz-1cc4fab1ac30411794ddcd6924c76cd4\");\n",
       "    }\n",
       "    const paths = {\n",
       "      \"vega\": \"https://cdn.jsdelivr.net/npm/vega@5?noext\",\n",
       "      \"vega-lib\": \"https://cdn.jsdelivr.net/npm/vega-lib?noext\",\n",
       "      \"vega-lite\": \"https://cdn.jsdelivr.net/npm/vega-lite@5.8.0?noext\",\n",
       "      \"vega-embed\": \"https://cdn.jsdelivr.net/npm/vega-embed@6?noext\",\n",
       "    };\n",
       "\n",
       "    function maybeLoadScript(lib, version) {\n",
       "      var key = `${lib.replace(\"-\", \"\")}_version`;\n",
       "      return (VEGA_DEBUG[key] == version) ?\n",
       "        Promise.resolve(paths[lib]) :\n",
       "        new Promise(function(resolve, reject) {\n",
       "          var s = document.createElement('script');\n",
       "          document.getElementsByTagName(\"head\")[0].appendChild(s);\n",
       "          s.async = true;\n",
       "          s.onload = () => {\n",
       "            VEGA_DEBUG[key] = version;\n",
       "            return resolve(paths[lib]);\n",
       "          };\n",
       "          s.onerror = () => reject(`Error loading script: ${paths[lib]}`);\n",
       "          s.src = paths[lib];\n",
       "        });\n",
       "    }\n",
       "\n",
       "    function showError(err) {\n",
       "      outputDiv.innerHTML = `<div class=\"error\" style=\"color:red;\">${err}</div>`;\n",
       "      throw err;\n",
       "    }\n",
       "\n",
       "    function displayChart(vegaEmbed) {\n",
       "      vegaEmbed(outputDiv, spec, embedOpt)\n",
       "        .catch(err => showError(`Javascript Error: ${err.message}<br>This usually means there's a typo in your chart specification. See the javascript console for the full traceback.`));\n",
       "    }\n",
       "\n",
       "    if(typeof define === \"function\" && define.amd) {\n",
       "      requirejs.config({paths});\n",
       "      require([\"vega-embed\"], displayChart, err => showError(`Error loading script: ${err.message}`));\n",
       "    } else {\n",
       "      maybeLoadScript(\"vega\", \"5\")\n",
       "        .then(() => maybeLoadScript(\"vega-lite\", \"5.8.0\"))\n",
       "        .then(() => maybeLoadScript(\"vega-embed\", \"6\"))\n",
       "        .catch(showError)\n",
       "        .then(() => displayChart(vegaEmbed));\n",
       "    }\n",
       "  })({\"config\": {\"view\": {\"continuousWidth\": 300, \"continuousHeight\": 300}}, \"data\": {\"name\": \"data-7d5817419443c6d9475804c050f814ab\"}, \"mark\": {\"type\": \"bar\"}, \"encoding\": {\"x\": {\"field\": \"state\", \"type\": \"ordinal\"}, \"y\": {\"field\": \"count\", \"type\": \"quantitative\"}}, \"$schema\": \"https://vega.github.io/schema/vega-lite/v5.8.0.json\", \"datasets\": {\"data-7d5817419443c6d9475804c050f814ab\": [{\"state\": 1, \"count\": 16739}, {\"state\": 2, \"count\": 16564}, {\"state\": 3, \"count\": 16574}, {\"state\": 4, \"count\": 16425}, {\"state\": 5, \"count\": 16788}, {\"state\": 6, \"count\": 16910}]}}, {\"mode\": \"vega-lite\"});\n",
       "</script>"
      ],
      "text/plain": [
       "alt.Chart(...)"
      ]
     },
     "execution_count": 6,
     "metadata": {},
     "output_type": "execute_result"
    }
   ],
   "source": [
    "die_rolls = pd.DataFrame({\n",
    "    'state': possible_states,\n",
    "    'count': [counts[state] for state in possible_states]\n",
    "})\n",
    "\n",
    "print(die_rolls)\n",
    "\n",
    "alt.Chart(die_rolls).mark_bar().encode(\n",
    "    x='state:O',\n",
    "    y='count'\n",
    ")"
   ]
  },
  {
   "cell_type": "markdown",
   "metadata": {},
   "source": [
    "As one might expect with a \"fair\" die roll like this, the estimates are about the same (your results may vary).\n",
    "\n",
    "More formally, we have a random variable $X$ such that the value of $X$ is the result of rolling a fair die. The distribution of $X$ is the following:\n",
    "\n",
    "\n",
    "$\n",
    "\\begin{gather*}\n",
    "  P(X=x) = \\begin{cases}\n",
    "  \\frac{1}{6} & \\text{if $x \\in \\{1,2,3,4,5,6\\}$}\\\\\n",
    "  0 & \\text{otherwise.}\n",
    "  \\end{cases}\n",
    "\\end{gather*}\n",
    "$\n",
    "\n",
    "In this case, all options (at least, the valid ones) have the same likelihood of appearing, and therefore the resulting distribution is known as a *uniform distribution*. Uniform distributions can occur for both discrete and continuous variables.\n",
    "\n",
    "A **discrete** variable is one that takes on a fixed set of values, such as a die roll or the month you were born. They are usually finite (i.e. there is only so many of them), but the requirement is technically that they be *countable*, which allows for infinite discrete values (think of the integers as a discrete infinite random variable).\n",
    "\n",
    "A **continuous** variable is one that can take on an arbitrary value. As an example, the amount of liquid in a cup is continuous. It can be 350ml, or 350.1ml, or 350.1252342ml, or so on, with infinite precision (we will ignore the effect of the Planck constant). \n",
    "\n",
    "Distributions exist for both discrete random variables, as we saw above, and for continuous random variables, however they often behave differently."
   ]
  },
  {
   "cell_type": "code",
   "execution_count": 7,
   "metadata": {},
   "outputs": [
    {
     "data": {
      "text/html": [
       "<!-- Run me, but there is  need to worry about this code - \n",
       "    it makes the equation in the next cell larger and more readable -->\n",
       "<style>\n",
       "    .big_function {font-size: 200%;}\n",
       "</style>\n"
      ],
      "text/plain": [
       "<IPython.core.display.HTML object>"
      ]
     },
     "metadata": {},
     "output_type": "display_data"
    }
   ],
   "source": [
    "%%html\n",
    "<!-- Run me, but there is  need to worry about this code - \n",
    "    it makes the equation in the next cell larger and more readable -->\n",
    "<style>\n",
    "    .big_function {font-size: 200%;}\n",
    "</style>"
   ]
  },
  {
   "cell_type": "markdown",
   "metadata": {},
   "source": [
    "### Normal Distributions\n",
    "Let's create a normal distribution, which is a continuous distribution centred around 0 and with a standard deviation of 1.\n",
    "\n",
    "A normal distribution is the most commonly seen continuous distribution, and the one most people are familiar with. The equation for the graph is:\n",
    "\n",
    "<div class=\"big_function\">\n",
    "    $y = \\frac{1}{\\sqrt{2\\pi\\sigma^2}}e^{-\\frac{(x-\\mu)^2}{2\\sigma^2}}$\n",
    "</div>"
   ]
  },
  {
   "cell_type": "code",
   "execution_count": 8,
   "metadata": {},
   "outputs": [],
   "source": [
    "# Let's plot that out\n",
    "import numpy as np\n",
    "x = np.linspace(-5, 5, 1000)  # 1000 linearly spaced points starting -5 going to 5\n",
    "\n",
    "mean = 0\n",
    "sigma = 1\n",
    "\n",
    "y = (1 / np.sqrt(2 * np.pi * sigma ** 2)) * np.e ** -((x - mean) ** 2) / (2 * sigma ** 2)\n",
    "\n",
    "# Or a bit more nicely laid out...\n",
    "\n",
    "scale_term = (1 / np.sqrt(2 * np.pi * sigma ** 2))\n",
    "exponent_term = ((x - mean) ** 2) / (2 * sigma ** 2)\n",
    "y = scale_term * np.e ** -exponent_term"
   ]
  },
  {
   "cell_type": "code",
   "execution_count": 9,
   "metadata": {},
   "outputs": [
    {
     "data": {
      "image/png": "[encoded data removed]",
      "text/plain": [
       "<Figure size 640x480 with 1 Axes>"
      ]
     },
     "metadata": {},
     "output_type": "display_data"
    }
   ],
   "source": [
    "from matplotlib import pyplot as plt\n",
    "plt.plot(x, y, \"-\");"
   ]
  },
  {
   "cell_type": "code",
   "execution_count": 10,
   "metadata": {},
   "outputs": [],
   "source": [
    "from scipy import stats"
   ]
  },
  {
   "cell_type": "code",
   "execution_count": 11,
   "metadata": {},
   "outputs": [],
   "source": [
    "n = stats.norm(0, 1)"
   ]
  },
  {
   "cell_type": "code",
   "execution_count": 12,
   "metadata": {},
   "outputs": [
    {
     "data": {
      "text/plain": [
       "array([-1.42122671, -1.70697827, -0.27577568, -1.52189016, -0.74745163,\n",
       "        0.93269276,  1.32581431, -0.76560974,  2.58954367,  0.47115614])"
      ]
     },
     "execution_count": 12,
     "metadata": {},
     "output_type": "execute_result"
    }
   ],
   "source": [
    "# Generate 10 random variates from this distribution\n",
    "n.rvs(10)"
   ]
  },
  {
   "cell_type": "code",
   "execution_count": 13,
   "metadata": {},
   "outputs": [],
   "source": [
    "# note that Counter isn't very helpful here. It is *highly* likely that all counts will be 1\n",
    "# regardless of how many values you generate. In fact, it's nearly impossible to get the same value twice.\n",
    "results = n.rvs(10)"
   ]
  },
  {
   "cell_type": "code",
   "execution_count": 14,
   "metadata": {},
   "outputs": [
    {
     "data": {
      "text/plain": [
       "Counter({0.4174924097621579: 1,\n",
       "         -0.8174011421965219: 1,\n",
       "         -0.942463007609828: 1,\n",
       "         1.0920922074709813: 1,\n",
       "         -0.22433428317539106: 1,\n",
       "         0.594314472056107: 1,\n",
       "         -1.989578744531904: 1,\n",
       "         -0.5114829364673861: 1,\n",
       "         -0.2031748381220003: 1,\n",
       "         -1.2340732730610797: 1})"
      ]
     },
     "execution_count": 14,
     "metadata": {},
     "output_type": "execute_result"
    }
   ],
   "source": [
    "Counter(results)"
   ]
  },
  {
   "cell_type": "code",
   "execution_count": 15,
   "metadata": {},
   "outputs": [
    {
     "data": {
      "text/html": [
       "\n",
       "<style>\n",
       "  #altair-viz-ad11139cb566434da8b02d8fa4e2ac63.vega-embed {\n",
       "    width: 100%;\n",
       "    display: flex;\n",
       "  }\n",
       "\n",
       "  #altair-viz-ad11139cb566434da8b02d8fa4e2ac63.vega-embed details,\n",
       "  #altair-viz-ad11139cb566434da8b02d8fa4e2ac63.vega-embed details summary {\n",
       "    position: relative;\n",
       "  }\n",
       "</style>\n",
       "<div id=\"altair-viz-ad11139cb566434da8b02d8fa4e2ac63\"></div>\n",
       "<script type=\"text/javascript\">\n",
       "  var VEGA_DEBUG = (typeof VEGA_DEBUG == \"undefined\") ? {} : VEGA_DEBUG;\n",
       "  (function(spec, embedOpt){\n",
       "    let outputDiv = document.currentScript.previousElementSibling;\n",
       "    if (outputDiv.id !== \"altair-viz-ad11139cb566434da8b02d8fa4e2ac63\") {\n",
       "      outputDiv = document.getElementById(\"altair-viz-ad11139cb566434da8b02d8fa4e2ac63\");\n",
       "    }\n",
       "    const paths = {\n",
       "      \"vega\": \"https://cdn.jsdelivr.net/npm/vega@5?noext\",\n",
       "      \"vega-lib\": \"https://cdn.jsdelivr.net/npm/vega-lib?noext\",\n",
       "      \"vega-lite\": \"https://cdn.jsdelivr.net/npm/vega-lite@5.8.0?noext\",\n",
       "      \"vega-embed\": \"https://cdn.jsdelivr.net/npm/vega-embed@6?noext\",\n",
       "    };\n",
       "\n",
       "    function maybeLoadScript(lib, version) {\n",
       "      var key = `${lib.replace(\"-\", \"\")}_version`;\n",
       "      return (VEGA_DEBUG[key] == version) ?\n",
       "        Promise.resolve(paths[lib]) :\n",
       "        new Promise(function(resolve, reject) {\n",
       "          var s = document.createElement('script');\n",
       "          document.getElementsByTagName(\"head\")[0].appendChild(s);\n",
       "          s.async = true;\n",
       "          s.onload = () => {\n",
       "            VEGA_DEBUG[key] = version;\n",
       "            return resolve(paths[lib]);\n",
       "          };\n",
       "          s.onerror = () => reject(`Error loading script: ${paths[lib]}`);\n",
       "          s.src = paths[lib];\n",
       "        });\n",
       "    }\n",
       "\n",
       "    function showError(err) {\n",
       "      outputDiv.innerHTML = `<div class=\"error\" style=\"color:red;\">${err}</div>`;\n",
       "      throw err;\n",
       "    }\n",
       "\n",
       "    function displayChart(vegaEmbed) {\n",
       "      vegaEmbed(outputDiv, spec, embedOpt)\n",
       "        .catch(err => showError(`Javascript Error: ${err.message}<br>This usually means there's a typo in your chart specification. See the javascript console for the full traceback.`));\n",
       "    }\n",
       "\n",
       "    if(typeof define === \"function\" && define.amd) {\n",
       "      requirejs.config({paths});\n",
       "      require([\"vega-embed\"], displayChart, err => showError(`Error loading script: ${err.message}`));\n",
       "    } else {\n",
       "      maybeLoadScript(\"vega\", \"5\")\n",
       "        .then(() => maybeLoadScript(\"vega-lite\", \"5.8.0\"))\n",
       "        .then(() => maybeLoadScript(\"vega-embed\", \"6\"))\n",
       "        .catch(showError)\n",
       "        .then(() => displayChart(vegaEmbed));\n",
       "    }\n",
       "  })({\"config\": {\"view\": {\"continuousWidth\": 300, \"continuousHeight\": 300}}, \"data\": {\"name\": \"data-4d32beb5534a253baf08b3dd7f1e4971\"}, \"mark\": {\"type\": \"bar\"}, \"encoding\": {\"color\": {\"value\": \"#287E1E\"}, \"x\": {\"bin\": {\"maxbins\": 100}, \"field\": \"value\", \"type\": \"quantitative\"}, \"y\": {\"aggregate\": \"count\", \"type\": \"quantitative\"}}, \"$schema\": \"https://vega.github.io/schema/vega-lite/v5.8.0.json\", \"datasets\": {\"data-4d32beb5534a253baf08b3dd7f1e4971\": [{\"value\": 0.35777463199908055}, {\"value\": 1.3119128937384261}, {\"value\": 0.009490114488232624}, {\"value\": 1.5359663755529198}, {\"value\": -1.865491777155442}, {\"value\": -1.2035193813989746}, {\"value\": 0.2739075936160569}, {\"value\": 0.5135921316967388}, {\"value\": -0.14805422682520877}, {\"value\": 0.8616950140857668}, {\"value\": -1.3060341783733296}, {\"value\": -0.8542956060008245}, {\"value\": 1.28962379854221}, {\"value\": 0.2813947948133867}, {\"value\": -1.0503856044126496}, {\"value\": 1.2344375901077165}, {\"value\": 1.600859274948822}, {\"value\": 2.147939390558237}, {\"value\": -0.076791950383431}, {\"value\": 0.011447652997280183}, {\"value\": -1.9470815916616624}, {\"value\": -0.2115485677921248}, {\"value\": 0.5455291080454592}, {\"value\": 0.3711813938756335}, {\"value\": -0.2652628557772759}, {\"value\": 0.8847709181046114}, {\"value\": -1.7360566723398394}, {\"value\": -0.2218679114788695}, {\"value\": -1.0398910375067667}, {\"value\": -0.23723137151543583}, {\"value\": 0.0542207440541967}, {\"value\": -0.2571538007879348}, {\"value\": -0.5125830572484482}, {\"value\": 1.6532861997272312}, {\"value\": -0.226460794874864}, {\"value\": 0.4030023534466376}, {\"value\": -1.178568680933066}, {\"value\": 0.26742853787437126}, {\"value\": -0.6101743599849436}, {\"value\": 0.44392153334605894}, {\"value\": -0.09751273404966904}, {\"value\": 1.3006647716480035}, {\"value\": 0.04352309967878435}, {\"value\": -2.156559985490557}, {\"value\": -0.5715519577511701}, {\"value\": 1.2141843631703684}, {\"value\": -0.824406860910436}, {\"value\": 1.2231267561452164}, {\"value\": -0.34018673942241584}, {\"value\": 0.2574750554528699}, {\"value\": -1.5122656809196204}, {\"value\": -2.269076244999649}, {\"value\": -0.6442598955178054}, {\"value\": 0.5009317328012202}, {\"value\": 2.917854111421724}, {\"value\": 0.19591188476857507}, {\"value\": 0.8755251601860299}, {\"value\": -0.24986476700977653}, {\"value\": 0.6276479675752527}, {\"value\": -1.4618138259268902}, {\"value\": -0.13914606778855876}, {\"value\": 0.1696608996273766}, {\"value\": -1.4006756827597815}, {\"value\": 1.0972441394314447}, {\"value\": 0.1550302744368789}, {\"value\": -0.0021268307711910205}, {\"value\": 2.5325251398411437}, {\"value\": 0.9049753349588792}, {\"value\": 0.6349015773496604}, {\"value\": -0.46489745400083976}, {\"value\": 0.006170568209903209}, {\"value\": -0.909730442651188}, {\"value\": 0.5098727807394762}, {\"value\": 0.06646226295814225}, {\"value\": -1.4940552773624252}, {\"value\": 0.15969374582857185}, {\"value\": 0.3415502017902471}, {\"value\": 0.10659267246185068}, {\"value\": -1.3983356147044634}, {\"value\": -0.18026038457640484}, {\"value\": -0.527636483819796}, {\"value\": -1.1295711201563934}, {\"value\": 0.212400643344205}, {\"value\": 0.20288613313875498}, {\"value\": -0.9584580757901585}, {\"value\": 0.9651600829883492}, {\"value\": 0.5781013955030841}, {\"value\": 0.059695225035918356}, {\"value\": -0.0712600540111921}, {\"value\": 0.45356178954064197}, {\"value\": -0.32850653533799573}, {\"value\": -1.2958690056323796}, {\"value\": 0.1434483779512489}, {\"value\": 0.5216249850341687}, {\"value\": 0.08124228364777526}, {\"value\": -1.2372774490747829}, {\"value\": 2.0126390871085875}, {\"value\": 1.8204488356412245}, {\"value\": -0.10691579868800978}, {\"value\": -1.1374012340319823}, {\"value\": -1.5428078422827605}, {\"value\": -0.4744303923623409}, {\"value\": -0.5486993541230766}, {\"value\": -2.08008872076284}, {\"value\": 0.7849731012965471}, {\"value\": -1.281174378968531}, {\"value\": 0.9962198440123697}, {\"value\": 0.9601114668431417}, {\"value\": 0.47564738963815273}, {\"value\": 1.2136120551176774}, {\"value\": -0.5213593557154962}, {\"value\": 2.2152928684808617}, {\"value\": -0.7295904117921289}, {\"value\": 1.3380131253507215}, {\"value\": -1.5278687567006535}, {\"value\": -0.37015510635781984}, {\"value\": -0.23635187167541843}, {\"value\": -0.8592987233877479}, {\"value\": 0.7711835387512169}, {\"value\": 0.20716373432720345}, {\"value\": -1.2652140084411763}, {\"value\": -0.8820583924524562}, {\"value\": 0.0704725589951399}, {\"value\": 0.2713936628388399}, {\"value\": -0.19786266722533596}, {\"value\": -0.6742682046943563}, {\"value\": 0.5155522598084934}, {\"value\": 1.0239279441136264}, {\"value\": 2.00275308289214}, {\"value\": 0.6448836907019811}, {\"value\": 0.7372612237910552}, {\"value\": -0.615295610732168}, {\"value\": -0.09272004640745121}, {\"value\": -1.0804599617701347}, {\"value\": -2.1149740202898357}, {\"value\": -0.13359518922033928}, {\"value\": -0.15216292324052186}, {\"value\": 0.2809562571108578}, {\"value\": -0.3655344112842311}, {\"value\": 2.1055071980911557}, {\"value\": -1.496508761584208}, {\"value\": -0.7447822476850084}, {\"value\": 0.5781962740591019}, {\"value\": -1.8691861485371837}, {\"value\": -0.29066049687828416}, {\"value\": 0.024396368060459646}, {\"value\": -1.1645335171358433}, {\"value\": -0.25014194675454354}, {\"value\": 2.038759133010699}, {\"value\": -0.2139739552458404}, {\"value\": 0.5193109817072062}, {\"value\": 0.3431180294371501}, {\"value\": -0.911206164190015}, {\"value\": 0.35243161957949565}, {\"value\": 0.09207056891609207}, {\"value\": 0.18308316511996123}, {\"value\": -1.1593913992276221}, {\"value\": -0.12220876633522823}, {\"value\": 0.5833752586062733}, {\"value\": 1.7615404418492422}, {\"value\": -0.8218804007588193}, {\"value\": -1.4036771794011524}, {\"value\": -1.2559883905961922}, {\"value\": 1.2511468556435457}, {\"value\": -1.6427673241654808}, {\"value\": 0.29248105669151736}, {\"value\": 0.11785022848028029}, {\"value\": 0.23036803783261153}, {\"value\": -0.12957774312578227}, {\"value\": -0.0925596141559862}, {\"value\": -3.0477270215629306}, {\"value\": 1.5219888190200295}, {\"value\": 1.92750280749833}, {\"value\": -0.7295636848249166}, {\"value\": -0.8638892946192369}, {\"value\": -0.29829244797767596}, {\"value\": -0.48057884378363414}, {\"value\": 0.718822040730352}, {\"value\": -0.5650939468109213}, {\"value\": 1.904942620499642}, {\"value\": 0.8785020539652391}, {\"value\": 0.15114770505631733}, {\"value\": 0.0046993548770837045}, {\"value\": -0.7242832965457856}, {\"value\": -1.146858929480571}, {\"value\": -1.3415705921838705}, {\"value\": -1.5120014281675385}, {\"value\": -0.15247871283228492}, {\"value\": -0.5496918910261616}, {\"value\": -1.0454407415845086}, {\"value\": 0.5625893989878432}, {\"value\": -0.9974909434372192}, {\"value\": 0.36185170579369447}, {\"value\": -1.182981389713392}, {\"value\": 1.4291814735173713}, {\"value\": -0.3078098689231652}, {\"value\": -0.267014206731594}, {\"value\": -0.5218344014256837}, {\"value\": 1.1483476363220795}, {\"value\": 0.6282712690001712}, {\"value\": 0.06034030070451581}, {\"value\": 0.48049120832206316}, {\"value\": -1.0029171442910312}, {\"value\": 0.5933914889379865}, {\"value\": -0.2100692931123797}, {\"value\": -1.105576862152983}, {\"value\": 1.2831752670078627}, {\"value\": 0.042667968410078215}, {\"value\": 0.3671915112924278}, {\"value\": -2.1955481948066047}, {\"value\": 2.116945999699148}, {\"value\": 0.12578414552757883}, {\"value\": 0.14231539219082526}, {\"value\": 0.6869260932170786}, {\"value\": 0.7409061443803339}, {\"value\": 2.177256051038869}, {\"value\": 0.5904924720765832}, {\"value\": -0.26270078228852184}, {\"value\": -0.15954035317899526}, {\"value\": 0.934371543354683}, {\"value\": -0.5573518570411528}, {\"value\": 0.19384577565474284}, {\"value\": -0.7566955929699385}, {\"value\": -0.5654145891015058}, {\"value\": 0.7479113258406554}, {\"value\": 1.0363950140085965}, {\"value\": 0.5876800310911642}, {\"value\": -1.0376163785747723}, {\"value\": -0.2315602760944108}, {\"value\": -0.7995929123137271}, {\"value\": 1.8823189863058019}, {\"value\": 0.6782691208220695}, {\"value\": -1.151653724210603}, {\"value\": 0.6266902785092613}, {\"value\": -0.21108346247591497}, {\"value\": -0.9159361896919122}, {\"value\": -0.3882206613688134}, {\"value\": -0.14290091388133938}, {\"value\": 2.530070979639153}, {\"value\": -1.0309921810687577}, {\"value\": -0.013473877899685148}, {\"value\": 1.5794959155444381}, {\"value\": -0.6478438756830565}, {\"value\": -0.578200310212173}, {\"value\": 0.11326291730489839}, {\"value\": 0.41164718022388835}, {\"value\": 0.9436748238986334}, {\"value\": -0.6138188290457333}, {\"value\": -0.9573387788485996}, {\"value\": -0.09856269859130826}, {\"value\": -2.6999906690490185}, {\"value\": 0.027839116133595552}, {\"value\": 0.7036718789631463}, {\"value\": -0.7064782273853563}, {\"value\": 1.3014234191952885}, {\"value\": 0.16197251283288183}, {\"value\": -0.22951650784368638}, {\"value\": -0.2057357692792212}, {\"value\": 0.34982227653056}, {\"value\": -0.6715333091079116}, {\"value\": -0.18184321863233174}, {\"value\": -1.0499006102096469}, {\"value\": -0.33269477304669587}, {\"value\": 0.48338561587909346}, {\"value\": 1.1715064407493623}, {\"value\": -0.993608903706154}, {\"value\": -1.1889523609236248}, {\"value\": 0.42418266035666624}, {\"value\": 0.31649765453686496}, {\"value\": 0.5022880413991208}, {\"value\": -0.4803581721244924}, {\"value\": -0.28810365442735125}, {\"value\": 1.2629384718773888}, {\"value\": -0.17960195134437787}, {\"value\": 0.73355547535743}, {\"value\": -0.3297921046502682}, {\"value\": 0.1989859920544437}, {\"value\": 0.3471544327549539}, {\"value\": 1.2119771680685776}, {\"value\": -0.4557417185935201}, {\"value\": 0.7374049749211132}, {\"value\": 1.1341809792339277}, {\"value\": -0.02246506333622482}, {\"value\": -1.559413881664824}, {\"value\": -0.13987095023268328}, {\"value\": 0.4496927460748393}, {\"value\": 0.05025976835390915}, {\"value\": -0.6822906735585205}, {\"value\": -0.7563284217749043}, {\"value\": -0.1808058163922311}, {\"value\": 0.2738879597212321}, {\"value\": -1.3451593457678437}, {\"value\": -2.092401070967819}, {\"value\": 1.1956805086951632}, {\"value\": 0.3784752624716646}, {\"value\": -0.17014252710930108}, {\"value\": 0.5401377210317977}, {\"value\": 0.6220819480494933}, {\"value\": 0.25082253873253246}, {\"value\": 0.23977036088390377}, {\"value\": -0.9697590844166835}, {\"value\": 0.04744877111734633}, {\"value\": 0.1667929547901697}, {\"value\": -2.073819149978466}, {\"value\": -1.8044428919230668}, {\"value\": -2.28890502218677}, {\"value\": -1.78334975773404}, {\"value\": -0.604162900787158}, {\"value\": 0.7347764625177857}, {\"value\": 0.02724681709885037}, {\"value\": 1.1483452200678952}, {\"value\": -0.13617821881268313}, {\"value\": -0.2464922365793465}, {\"value\": 0.1624232155157414}, {\"value\": 2.015271283459476}, {\"value\": -0.03144749035523037}, {\"value\": -0.5022237907193355}, {\"value\": 0.4151605885245721}, {\"value\": 0.339803450649703}, {\"value\": -2.139419858108072}, {\"value\": -0.3594611109136602}, {\"value\": 0.2686396151413218}, {\"value\": -0.5647876506309153}, {\"value\": -0.5151341196840811}, {\"value\": 0.43472530768278206}, {\"value\": 0.5375832266282249}, {\"value\": 1.1538846177291713}, {\"value\": -0.08330561168196975}, {\"value\": -0.2320136371477655}, {\"value\": -0.1660111362111279}, {\"value\": -2.0728569422545844}, {\"value\": -1.0234180579964423}, {\"value\": -0.021957330725969205}, {\"value\": 0.690796403171899}, {\"value\": 2.263805723552599}, {\"value\": 0.39601734215711704}, {\"value\": -0.8484570275349326}, {\"value\": -1.229800027827535}, {\"value\": -1.0757483425672614}, {\"value\": -0.5072488213751488}, {\"value\": -2.359612901909618}, {\"value\": 2.1536959311972725}, {\"value\": 0.9039378343164849}, {\"value\": -0.012652250395381275}, {\"value\": -0.5833961302335569}, {\"value\": 0.4515000959763972}, {\"value\": 0.957440329871025}, {\"value\": -1.0108181014836475}, {\"value\": -0.3830307655977611}, {\"value\": -1.5629599137335228}, {\"value\": 1.368448240919879}, {\"value\": 0.2786141593416038}, {\"value\": 0.20254968153068126}, {\"value\": 0.6457658148480339}, {\"value\": -0.5916415196364063}, {\"value\": -0.7622896003619949}, {\"value\": 0.11683079849504498}, {\"value\": -1.030991748634956}, {\"value\": 0.5061544877431428}, {\"value\": 0.9339050997961823}, {\"value\": 2.2914527846130217}, {\"value\": 0.19206014808895405}, {\"value\": 0.15907371506771323}, {\"value\": 0.34093340043293946}, {\"value\": 2.27017050304972}, {\"value\": -0.8572177632119373}, {\"value\": -0.9554529339524722}, {\"value\": -0.725531687479754}, {\"value\": -0.723716438199125}, {\"value\": -1.4559358131356088}, {\"value\": 0.0844774521266821}, {\"value\": -1.1633368304192067}, {\"value\": -1.0838345312481674}, {\"value\": 0.823766532363956}, {\"value\": -0.06173442834422143}, {\"value\": -0.7395943965919257}, {\"value\": 0.1916278454293086}, {\"value\": -0.5102691331712754}, {\"value\": 0.7845880112991878}, {\"value\": -0.520909225867447}, {\"value\": -1.973346534152451}, {\"value\": 1.1432714354742812}, {\"value\": -1.2466791769639}, {\"value\": 0.38644497658265203}, {\"value\": 0.22432489340839232}, {\"value\": -0.18737664713192975}, {\"value\": 0.7696784007273434}, {\"value\": -1.4686156182140597}, {\"value\": -0.3452007507808024}, {\"value\": -1.1543104785111191}, {\"value\": -0.7340657092923489}, {\"value\": 0.4509929435764937}, {\"value\": 1.4924109638673606}, {\"value\": -0.194767843729631}, {\"value\": 0.07008686563842462}, {\"value\": 0.4087709286457629}, {\"value\": -1.2360288372823833}, {\"value\": 0.2515418079802832}, {\"value\": 0.47224781685316775}, {\"value\": 2.5535085353860825}, {\"value\": 0.4713259774088401}, {\"value\": -0.9660771509399997}, {\"value\": 0.3961109783714386}, {\"value\": -1.3519231862828966}, {\"value\": 1.8511685668081932}, {\"value\": 1.3241953563341784}, {\"value\": -2.511106558648518}, {\"value\": -1.1009695108694253}, {\"value\": -1.0207241420132915}, {\"value\": 0.549820178669456}, {\"value\": 1.2841196480491246}, {\"value\": 2.957851585041447}, {\"value\": -0.025536615629953748}, {\"value\": -0.08874320055528676}, {\"value\": 2.329885381427692}, {\"value\": 0.3153972576286785}, {\"value\": 1.1830681001384034}, {\"value\": 0.8756532120480222}, {\"value\": 0.642966771265305}, {\"value\": -0.7047975204576618}, {\"value\": 1.684991899764781}, {\"value\": 0.4841447288161056}, {\"value\": 0.1425518944404861}, {\"value\": 0.6122680151429921}, {\"value\": -0.92444181909557}, {\"value\": 1.2432537602320608}, {\"value\": -0.6654427149154516}, {\"value\": 0.7219575362607954}, {\"value\": 1.1650824723726152}, {\"value\": 0.5185107563565041}, {\"value\": 1.552235289858505}, {\"value\": -0.7512825411243498}, {\"value\": -0.04737338694566348}, {\"value\": 1.2539889753254072}, {\"value\": -1.69552094835879}, {\"value\": -2.1145619265591726}, {\"value\": 0.33311264431952137}, {\"value\": 0.4601453010953013}, {\"value\": 2.1329825453125033}, {\"value\": -0.381778674487628}, {\"value\": -1.1488686903393102}, {\"value\": 1.851596700352329}, {\"value\": 0.5803592243434054}, {\"value\": -0.30607775417516864}, {\"value\": -0.7270395248309772}, {\"value\": -0.8650272155264399}, {\"value\": -0.1165386761819146}, {\"value\": -1.9624125681880975}, {\"value\": 0.8781480585001014}, {\"value\": 0.33534034990183437}, {\"value\": -1.2379203251388948}, {\"value\": -0.610457745731305}, {\"value\": -0.8660508997137295}, {\"value\": -2.3930451887015525}, {\"value\": -0.27564184612348597}, {\"value\": 1.1302165984297146}, {\"value\": -1.9832597723929488}, {\"value\": -1.2259847418721903}, {\"value\": 1.1079067553370783}, {\"value\": 0.2787914271239199}, {\"value\": 0.04083850175175221}, {\"value\": -1.323867293969991}, {\"value\": 0.7784816462937996}, {\"value\": -1.608924256270979}, {\"value\": 0.22785222404370423}, {\"value\": 1.4074494012244971}, {\"value\": -0.6642974744077358}, {\"value\": 1.2911740695028506}, {\"value\": 0.45231883962949015}, {\"value\": 0.1275586960392951}, {\"value\": 0.22618945937169027}, {\"value\": -1.6282506370293226}, {\"value\": -0.751037746748123}, {\"value\": -0.21321592106575152}, {\"value\": 1.0432778232185622}, {\"value\": -0.492616215487536}, {\"value\": -0.774312111955036}, {\"value\": 0.5030646601676271}, {\"value\": -0.31074465990440236}, {\"value\": -0.431500041744806}, {\"value\": -0.8748106709769546}, {\"value\": 0.5568227012406121}, {\"value\": -1.2199640976751327}, {\"value\": -0.16230857966712015}, {\"value\": -1.3105745299041003}, {\"value\": -0.49753915109984453}, {\"value\": -0.4469773214804052}, {\"value\": -0.2584690651973155}, {\"value\": 1.5066161076270048}, {\"value\": -0.08544091506498917}, {\"value\": -1.1246058209194973}, {\"value\": 0.408885533138884}, {\"value\": 0.9800165147550435}, {\"value\": 0.2720856807430577}, {\"value\": 0.6284925845668701}, {\"value\": 0.4961935343912499}, {\"value\": -1.2703987232206302}, {\"value\": 1.1911528600708547}, {\"value\": -0.029429890553493782}, {\"value\": 1.003985519944765}, {\"value\": -0.18235931571130068}, {\"value\": 0.22828175504650589}, {\"value\": 0.11912083175214541}, {\"value\": -0.9301074625020791}, {\"value\": 0.11014784226278233}, {\"value\": -1.3840299482784075}, {\"value\": 1.0778575761861884}, {\"value\": 1.868310294434603}, {\"value\": 0.5642680251150664}, {\"value\": 0.03447976990486283}, {\"value\": -0.5822400288059582}, {\"value\": 0.006640075667329067}, {\"value\": 0.37413519403518375}, {\"value\": 0.660655177061763}, {\"value\": -0.45657678884323366}, {\"value\": 0.8529607639821458}, {\"value\": -0.8444852306865956}, {\"value\": -0.13100091503986702}, {\"value\": -0.37259520316433065}, {\"value\": -0.9248820369548051}, {\"value\": -0.6696581804160768}, {\"value\": -0.7660439243475422}, {\"value\": -1.0978976887127108}, {\"value\": -0.09897101856703674}, {\"value\": -1.8563219894189076}, {\"value\": -1.5527484975855017}, {\"value\": -1.4492916846386392}, {\"value\": 0.9092338555202683}, {\"value\": -1.7050146776225756}, {\"value\": 1.8375462595573966}, {\"value\": -0.11789325798765153}, {\"value\": 0.40876642047250883}, {\"value\": -0.9097186171886184}, {\"value\": 0.6641330652369466}, {\"value\": 1.2531302552968875}, {\"value\": -1.2615907292328377}, {\"value\": -0.5554618839827671}, {\"value\": -2.643056985334815}, {\"value\": 0.8593009865632983}, {\"value\": -0.49747026972505654}, {\"value\": 0.7678724907544487}, {\"value\": 1.0543447664189847}, {\"value\": 0.36124989482899866}, {\"value\": 1.267759126178974}, {\"value\": -2.010219848874363}, {\"value\": 1.6506483722109184}, {\"value\": -1.314190061101979}, {\"value\": 0.7273609468492005}, {\"value\": -1.2500153480095015}, {\"value\": -2.2666768411077154}, {\"value\": -1.269997207277955}, {\"value\": 0.07666677332135434}, {\"value\": -0.6873359953520474}, {\"value\": 0.12326104259141181}, {\"value\": 1.0740835736588512}, {\"value\": 0.18357416272788823}, {\"value\": -0.9806555286758906}, {\"value\": 0.1899551966423698}, {\"value\": -0.588259214356864}, {\"value\": 0.337090975595474}, {\"value\": -0.3493737213993987}, {\"value\": -1.1330332143581074}, {\"value\": 0.05596634032475276}, {\"value\": 0.8332523503011021}, {\"value\": -1.270203700428925}, {\"value\": -1.142696768384086}, {\"value\": -0.47917237595622575}, {\"value\": -0.10011104420079402}, {\"value\": -0.6362494980047413}, {\"value\": -0.7363926030631884}, {\"value\": -0.5325514404593933}, {\"value\": 0.632088343387594}, {\"value\": -0.37085161814055373}, {\"value\": 1.7667324737907308}, {\"value\": 1.8421119068464114}, {\"value\": 1.526682247497613}, {\"value\": 1.0870181330315682}, {\"value\": -0.08728427882928663}, {\"value\": 0.5052408258647045}, {\"value\": 0.43108603080406227}, {\"value\": -0.7341564074410579}, {\"value\": -1.2137682994938492}, {\"value\": 0.6660697641134333}, {\"value\": -0.43297304462728053}, {\"value\": 1.1731520120930483}, {\"value\": 0.10992400949292502}, {\"value\": -0.852821716838204}, {\"value\": 0.8136871562187882}, {\"value\": 0.7705840709584408}, {\"value\": -0.7076008533931807}, {\"value\": 0.9205871354643591}, {\"value\": -0.6661212030192224}, {\"value\": 0.2616322328071318}, {\"value\": -0.4087308274201276}, {\"value\": -0.028361136969095653}, {\"value\": -0.9723350144097287}, {\"value\": -0.0010080595094152153}, {\"value\": -0.28723505826116186}, {\"value\": 0.35732693713763675}, {\"value\": 0.4617167063409992}, {\"value\": -1.0638181964385178}, {\"value\": -1.7420112201005322}, {\"value\": -1.0878910948124088}, {\"value\": -1.4644573006245862}, {\"value\": 0.28554920382574106}, {\"value\": -2.0637157032405415}, {\"value\": -0.5827420946779197}, {\"value\": -0.42079949218268814}, {\"value\": -0.03889792113285266}, {\"value\": 0.5324935734676456}, {\"value\": -1.027005136399251}, {\"value\": -0.8417083310309608}, {\"value\": -0.6928256702669147}, {\"value\": 0.6731416283188623}, {\"value\": -1.0331884633140402}, {\"value\": 1.9799498220626537}, {\"value\": 1.7780506845837452}, {\"value\": 0.3891700838936947}, {\"value\": -1.2084987286784614}, {\"value\": -0.5813353825351666}, {\"value\": 0.5874437299018284}, {\"value\": -1.4071961080605475}, {\"value\": 1.2069606121272651}, {\"value\": 0.6483692677700368}, {\"value\": -1.9183806749714798}, {\"value\": 0.413698758831605}, {\"value\": 1.1628457759964406}, {\"value\": -0.901636931862117}, {\"value\": 0.11119108036873729}, {\"value\": 0.014384283358392003}, {\"value\": 1.2085886443816083}, {\"value\": -0.6162506798526293}, {\"value\": 0.5115597385228908}, {\"value\": 0.4281051967720392}, {\"value\": 0.00046233376987932527}, {\"value\": -1.2982180510075687}, {\"value\": -0.43693380933527604}, {\"value\": 1.4118324128513053}, {\"value\": -0.4270657747206516}, {\"value\": -0.49473734106106176}, {\"value\": 0.29366738583165486}, {\"value\": -0.7815242879868426}, {\"value\": -0.006548682446378712}, {\"value\": -1.7288377169353915}, {\"value\": -1.8585838823191374}, {\"value\": 0.26432611950630447}, {\"value\": -0.4166424459848602}, {\"value\": 0.6918200371619215}, {\"value\": -0.42466489064718665}, {\"value\": 0.9138615183661853}, {\"value\": -0.18112531243823787}, {\"value\": -0.2294866041558117}, {\"value\": -0.35596724488493175}, {\"value\": -1.3693248538974794}, {\"value\": -0.45014566372997694}, {\"value\": 0.29066513114149306}, {\"value\": -1.41107112337345}, {\"value\": 0.6280563792998066}, {\"value\": 1.0773764043737888}, {\"value\": -1.6257362037756244}, {\"value\": 0.657912851634548}, {\"value\": -0.09035543808332264}, {\"value\": 0.28039901792651345}, {\"value\": 1.3660145032013744}, {\"value\": -0.09928055728470647}, {\"value\": 1.0937410944535875}, {\"value\": 0.1647418752013414}, {\"value\": -0.4945655291939989}, {\"value\": 1.3428965761679046}, {\"value\": 0.7661185234053741}, {\"value\": -0.5742120171912125}, {\"value\": 0.5624884371235792}, {\"value\": -0.4217707473174818}, {\"value\": -0.6487427112724792}, {\"value\": 0.10712120772426934}, {\"value\": 0.5929729840818141}, {\"value\": 0.30472362575739986}, {\"value\": 1.0668256596934822}, {\"value\": -0.42376171530873924}, {\"value\": -1.4162366098158585}, {\"value\": 0.147425390192182}, {\"value\": 0.4557704030520057}, {\"value\": -1.3021773465181175}, {\"value\": 0.6393920869989033}, {\"value\": 0.6195713110837642}, {\"value\": -0.981155156989708}, {\"value\": -0.4748513790457672}, {\"value\": -0.329148436490829}, {\"value\": -2.1099842194468494}, {\"value\": -2.066764091035949}, {\"value\": -0.7602004727266054}, {\"value\": 1.0197645619243418}, {\"value\": 0.6736049322342594}, {\"value\": 0.6724637333363853}, {\"value\": -1.875424700516593}, {\"value\": 0.9802812895218811}, {\"value\": 0.337573533414254}, {\"value\": -1.211472181134481}, {\"value\": 2.0515276294831946}, {\"value\": 0.6414435854946435}, {\"value\": -1.2879847370205812}, {\"value\": -1.0404687976052711}, {\"value\": -0.5467726706319643}, {\"value\": -1.1029268108689942}, {\"value\": -1.2337469907474312}, {\"value\": -0.5152559714985014}, {\"value\": 0.26266558412437635}, {\"value\": 1.574700801933536}, {\"value\": 0.7323522477898053}, {\"value\": 0.7907311508784721}, {\"value\": -1.3348476237991596}, {\"value\": -0.23911750997502104}, {\"value\": -2.1292503908303626}, {\"value\": -0.6869765056439315}, {\"value\": 0.7958217310402694}, {\"value\": 2.124224675648132}, {\"value\": -0.736689963068554}, {\"value\": 0.058685755162978866}, {\"value\": -1.2985821177614238}, {\"value\": -1.1670349407837703}, {\"value\": -0.15642434888219817}, {\"value\": 1.4278251935054964}, {\"value\": 1.2775621571552644}, {\"value\": 0.9938235292462708}, {\"value\": 1.381796889414287}, {\"value\": -0.007495056788320257}, {\"value\": -0.4454545949845366}, {\"value\": 0.7170200163398572}, {\"value\": -0.012828129626778253}, {\"value\": 0.3922787416617588}, {\"value\": -1.272027712423923}, {\"value\": -0.8711463157915631}, {\"value\": -1.5665879418961492}, {\"value\": -1.1840238491896549}, {\"value\": 2.1963582013589056}, {\"value\": -2.1003491644227257}, {\"value\": 1.170958365466383}, {\"value\": 1.2148595927651242}, {\"value\": 0.028366293743986967}, {\"value\": 0.6272273175647843}, {\"value\": -0.7469766048825993}, {\"value\": -0.2092544601339067}, {\"value\": -0.18831205696056172}, {\"value\": -1.3181705945307536}, {\"value\": 1.5342141506112394}, {\"value\": -0.02690923481972672}, {\"value\": -1.4851648086512033}, {\"value\": -0.3367389450899939}, {\"value\": -1.0108571820197148}, {\"value\": 0.6419676246896968}, {\"value\": 0.3305981218238974}, {\"value\": -0.5596613894002326}, {\"value\": 0.4675187806036379}, {\"value\": 0.10956372207731623}, {\"value\": 0.14880528170303703}, {\"value\": -0.43516220670791406}, {\"value\": 1.522782101600333}, {\"value\": 0.9663606841500295}, {\"value\": -0.20853533970191285}, {\"value\": -0.960753386874112}, {\"value\": 0.3381300766374675}, {\"value\": -0.6313446452407171}, {\"value\": 1.423011467647627}, {\"value\": 0.1436053883559094}, {\"value\": 0.9165788583031471}, {\"value\": -0.29508829455687796}, {\"value\": 1.331804663715574}, {\"value\": 0.2932222012562748}, {\"value\": 0.12300568412813126}, {\"value\": 0.2070034492838076}, {\"value\": 1.7817749540999364}, {\"value\": 0.9376811133404794}, {\"value\": 0.23529011528379942}, {\"value\": -0.2113062693820653}, {\"value\": -0.22042289028647294}, {\"value\": -0.6833584241178761}, {\"value\": -0.6049224446045091}, {\"value\": 0.2538243615544659}, {\"value\": 1.3597143837994818}, {\"value\": -0.5682401554270444}, {\"value\": -0.28537809023801186}, {\"value\": 1.635769681099821}, {\"value\": -0.05434063942392413}, {\"value\": -0.1416756390065735}, {\"value\": -0.7392323724141178}, {\"value\": -0.5040239959204877}, {\"value\": 0.621905439419539}, {\"value\": 0.5095249411776627}, {\"value\": 0.8851251632909147}, {\"value\": -0.10673512092172392}, {\"value\": 0.2786045190449014}, {\"value\": 0.6789322990378605}, {\"value\": 0.961602334567978}, {\"value\": -0.9563233813403222}, {\"value\": -0.6239508834332368}, {\"value\": 0.8822528602434878}, {\"value\": -0.33847432058954297}, {\"value\": 0.8362157262639414}, {\"value\": -0.02573769622516763}, {\"value\": -1.2730369626035793}, {\"value\": 1.4921313519524348}, {\"value\": 0.6251572539921829}, {\"value\": 0.5288813729526297}, {\"value\": -0.6772171011321575}, {\"value\": 0.03268002561207326}, {\"value\": -0.9575371175818451}, {\"value\": 1.111447202953801}, {\"value\": -2.1062123892467994}, {\"value\": 1.0327620321104471}, {\"value\": -0.5393088865608938}, {\"value\": 0.32591980023827255}, {\"value\": -1.4817446163311265}, {\"value\": 0.5828374522904709}, {\"value\": -1.069447111453213}, {\"value\": -0.6408708221523295}, {\"value\": 1.126837199517368}, {\"value\": -0.2127208048548302}, {\"value\": 0.36449729277044474}, {\"value\": 0.5496183973648034}, {\"value\": 1.263372998340606}, {\"value\": -0.647389996664127}, {\"value\": 0.480003895817611}, {\"value\": 0.7412199752772866}, {\"value\": 0.199690887902799}, {\"value\": 0.8817823399263676}, {\"value\": -0.29559466441643484}, {\"value\": 0.1374543004812038}, {\"value\": -0.7322075638299735}, {\"value\": -0.19278298893000118}, {\"value\": -0.4680020585736951}, {\"value\": -0.6261254015449181}, {\"value\": -1.0191678907144615}, {\"value\": 0.17325877960714312}, {\"value\": 1.3701404347734605}, {\"value\": -0.17455012159296107}, {\"value\": -0.07708924134174679}, {\"value\": -1.3827783733182566}, {\"value\": 1.4903504532855285}, {\"value\": 0.5922054790494687}, {\"value\": 0.6390458045254144}, {\"value\": -1.3317097778009008}, {\"value\": 0.3334616341254792}, {\"value\": -0.3761452904044027}, {\"value\": -0.330591936326134}, {\"value\": 0.7824775512212565}, {\"value\": 0.12203547579176374}, {\"value\": 2.3827670404658634}, {\"value\": 0.3379783274281596}, {\"value\": 0.7967633777386666}, {\"value\": -0.493525411024655}, {\"value\": 0.584783497481413}, {\"value\": 0.3085760088916936}, {\"value\": 2.2738537057320234}, {\"value\": 0.809514835619191}, {\"value\": -0.12560078066691463}, {\"value\": 1.0121273011591212}, {\"value\": 1.038063193698036}, {\"value\": 0.5011130420965062}, {\"value\": 0.7111579525134426}, {\"value\": 1.7492345557514148}, {\"value\": -2.050672670634324}, {\"value\": -0.4263907668871878}, {\"value\": -0.24870959259351558}, {\"value\": -1.6932998807866915}, {\"value\": 0.8834988227593313}, {\"value\": 2.012630010892494}, {\"value\": 0.6759387780995302}, {\"value\": 0.9334301482137642}, {\"value\": -0.736747387001666}, {\"value\": 0.7549090321296332}, {\"value\": 0.12546438404595728}, {\"value\": 0.7988629585026901}, {\"value\": 0.7717434485903754}, {\"value\": 0.044408180957737076}, {\"value\": -0.11678439723794233}, {\"value\": -1.369490591251903}, {\"value\": 0.996686366890532}, {\"value\": 0.053569840862759156}, {\"value\": -0.2141531911184408}, {\"value\": 0.12240311054350854}, {\"value\": -0.14469837860807444}, {\"value\": 0.38973279851557124}, {\"value\": -0.8060078508720284}, {\"value\": 0.5381808304267496}, {\"value\": 2.240611101051036}, {\"value\": 1.2067365244139545}, {\"value\": -1.7402142474398041}, {\"value\": 0.9971741114830669}, {\"value\": -1.748949453357317}, {\"value\": -0.062463280384137974}, {\"value\": 1.3917563812910294}, {\"value\": 0.7893776527119144}, {\"value\": -0.3514924872241299}, {\"value\": -1.3358665675325374}, {\"value\": -2.1156709673081746}, {\"value\": 0.739776462912627}, {\"value\": -0.5859985045370918}, {\"value\": 1.2363644492163277}, {\"value\": 0.5835776607066128}, {\"value\": -1.0109424878459756}, {\"value\": -0.2736591462217298}, {\"value\": -0.042145066855442455}, {\"value\": 0.7897166405548713}, {\"value\": 0.07442547844330939}, {\"value\": 0.23237028281914487}, {\"value\": 0.1604564033948497}, {\"value\": -0.127622590296647}, {\"value\": -0.47173770805031007}, {\"value\": 0.6762600786254498}, {\"value\": -0.2022703301004213}, {\"value\": -0.15041518388426334}, {\"value\": 0.42859264616231296}, {\"value\": 1.9895131150139544}, {\"value\": -1.1804648406090663}, {\"value\": 0.29927144664791894}, {\"value\": 0.09015252713774147}, {\"value\": 0.6933140581118017}, {\"value\": -0.3885003777165851}, {\"value\": 0.8338405098126452}, {\"value\": -2.1072106054738264}, {\"value\": 1.2650638400880612}, {\"value\": 0.42020434023116404}, {\"value\": -2.1729894609257268}, {\"value\": 0.8909662042964794}, {\"value\": -0.5933274452367151}, {\"value\": -0.29312640583219357}, {\"value\": 1.7926328505411868}, {\"value\": -0.7606725474195764}, {\"value\": -0.8772625736848487}, {\"value\": 0.11324569678085947}, {\"value\": 2.4023708156880126}, {\"value\": -0.8933283850120918}, {\"value\": 0.07307155697404413}, {\"value\": 1.1860497610625507}, {\"value\": -0.6463801736962905}, {\"value\": 0.36036772207483697}, {\"value\": -0.05216269624005669}, {\"value\": 0.9180751485113169}, {\"value\": -0.34300782854723744}, {\"value\": 1.57614690076668}, {\"value\": 0.5276648584022718}, {\"value\": 0.016556978318043036}, {\"value\": 1.1013970511363218}, {\"value\": -0.18600815351615263}, {\"value\": -1.7246115416181702}, {\"value\": 0.5222417186384384}, {\"value\": 0.9552968756561044}, {\"value\": -0.7100667399560943}, {\"value\": -1.6485627303923283}, {\"value\": -0.28045272069628757}, {\"value\": 0.24251229116496312}, {\"value\": 0.217176185544038}, {\"value\": 1.2038479987619055}, {\"value\": 0.011452914736002191}, {\"value\": -1.5780974929350757}, {\"value\": 1.2428468856864252}, {\"value\": 0.6333659786157996}, {\"value\": 0.6087951963936797}, {\"value\": 1.594535828241137}, {\"value\": -0.18347195100882552}, {\"value\": 0.8042054862923378}, {\"value\": -0.28569756608703617}, {\"value\": 0.6792729499850543}, {\"value\": 0.5082993594864845}, {\"value\": 1.1483180613502597}, {\"value\": 0.2504457962796374}, {\"value\": 0.3332109016127007}, {\"value\": -0.5710770571030761}, {\"value\": 0.21076370470440076}, {\"value\": -1.5648770048776157}, {\"value\": -0.5641783918257528}, {\"value\": -0.6090227081228639}, {\"value\": 0.8743801727490194}, {\"value\": 2.0758101977635435}, {\"value\": -0.6821122397224687}, {\"value\": -0.697036442265092}, {\"value\": -0.5692577374315749}, {\"value\": -0.9429836079173544}, {\"value\": -0.6656629962605363}, {\"value\": 0.11991115711893262}, {\"value\": -0.4955360098557785}, {\"value\": 0.22445220250748135}, {\"value\": 0.9304512752612245}, {\"value\": 0.8701511467831581}, {\"value\": -1.3315665159845753}, {\"value\": 0.5542472308138461}, {\"value\": 1.0001872235643214}, {\"value\": 0.030593317956901886}, {\"value\": -1.1296405479526899}, {\"value\": -0.5655221395732974}, {\"value\": -0.760333020951613}, {\"value\": 1.907134489017565}, {\"value\": 1.5501008580619522}, {\"value\": 0.12041806394314263}, {\"value\": 0.5069387535415681}, {\"value\": 0.5450347506471134}, {\"value\": -0.7417809411983772}, {\"value\": -0.7627836350245513}, {\"value\": -0.6901057950402979}, {\"value\": -0.14162089512269305}, {\"value\": 1.2350459741016202}, {\"value\": -1.5382635088054926}, {\"value\": 0.9248499316712517}, {\"value\": 0.42496076519218207}, {\"value\": 0.8988926284334753}, {\"value\": 1.2909235139383513}, {\"value\": 0.7840765319726174}, {\"value\": 0.3180167977004177}, {\"value\": -1.164138304949212}, {\"value\": 0.9628533127160382}, {\"value\": -0.13448759139941296}, {\"value\": -0.7901998980600774}, {\"value\": -0.29653456083024143}, {\"value\": 0.30281315842142514}, {\"value\": 0.5987223930309726}, {\"value\": -1.2425386184638771}, {\"value\": -0.9959228157841842}, {\"value\": -0.03332330322507186}, {\"value\": -1.8588499492766781}, {\"value\": 0.615186541352527}, {\"value\": 0.6895746886978109}, {\"value\": -0.27815727473387764}, {\"value\": -0.8935139053484135}, {\"value\": -0.9920552054485966}, {\"value\": 0.6572436135279315}, {\"value\": 2.388860319636313}, {\"value\": -0.659042553457812}, {\"value\": 0.3517766003018903}, {\"value\": 0.5066525571316216}, {\"value\": -0.2512582134062061}, {\"value\": 0.23825349140968974}, {\"value\": -0.3787443812524332}, {\"value\": -0.6718325950895511}, {\"value\": 1.0860196970851606}, {\"value\": 1.4942614829799885}, {\"value\": 0.7650066579369801}, {\"value\": -1.0213303677838454}, {\"value\": 0.11505426922478078}, {\"value\": -0.9174944321765406}, {\"value\": -0.27540613209444026}, {\"value\": -0.15358710093268257}, {\"value\": 0.398325348320659}, {\"value\": -0.1571414999418504}, {\"value\": 0.7071988556902761}, {\"value\": 0.4648452779311311}, {\"value\": -0.06594614001236923}, {\"value\": 0.7372796699469915}, {\"value\": 0.7222125251134748}, {\"value\": -1.3221795637338318}, {\"value\": 0.3495750076524613}, {\"value\": 1.8617573564393715}, {\"value\": 1.4406665550147235}, {\"value\": -1.8438685797261238}, {\"value\": 1.4476414262593318}, {\"value\": 0.8029758446054615}, {\"value\": -0.7850787244250682}, {\"value\": -1.4824474842544948}, {\"value\": -1.2706340317872034}, {\"value\": 0.23116224194939877}, {\"value\": 0.009543280203517033}, {\"value\": -0.5301683306093565}, {\"value\": -1.6342607921260508}, {\"value\": 0.8032850336522875}, {\"value\": -0.8246761650324603}, {\"value\": 1.1005375978464167}, {\"value\": -1.1457591134007703}, {\"value\": 1.8037107996701771}, {\"value\": 0.20538568506594482}, {\"value\": -0.4031538055576305}, {\"value\": 0.6098048324378992}, {\"value\": 0.9679992797659567}, {\"value\": 1.9512407586230835}, {\"value\": 1.7779565071393193}, {\"value\": -1.942523937676325}, {\"value\": 0.924707954276247}, {\"value\": 0.033216120411501696}, {\"value\": -0.13952730463468013}, {\"value\": -0.1594797707211676}, {\"value\": -1.496852835222448}, {\"value\": -0.11079803091217588}, {\"value\": 0.2936475036044749}, {\"value\": 1.0825139717227619}, {\"value\": 1.6831878015890387}, {\"value\": 0.20977363434984891}, {\"value\": 0.24385463057576026}, {\"value\": 0.4942216805871816}, {\"value\": -0.3497299112562082}, {\"value\": -0.9414397769780932}, {\"value\": -1.0204706645340036}, {\"value\": -2.3697446202423955}, {\"value\": 0.9908617747729115}, {\"value\": -0.8393711055333577}, {\"value\": -1.7165336174569836}, {\"value\": -0.5569253813093802}, {\"value\": 0.487418904382215}, {\"value\": 0.16918868362416872}, {\"value\": -0.7291663917980258}, {\"value\": -1.1657746535918634}, {\"value\": -1.7092846934006523}, {\"value\": -0.4202376008490223}, {\"value\": -0.9139471963653012}, {\"value\": -0.4953148592928711}, {\"value\": 0.8517144367186955}, {\"value\": -3.2117298624813455}, {\"value\": -0.17269214471259844}, {\"value\": 0.0676494885154915}, {\"value\": -1.687298054626776}, {\"value\": -1.0498904569222516}, {\"value\": -0.23158014193001625}, {\"value\": 0.9460713082194417}, {\"value\": -0.10022541618563435}, {\"value\": 0.8865122375223712}, {\"value\": -0.363134563368491}, {\"value\": -0.3769452867212091}, {\"value\": -0.02085209683221527}, {\"value\": 1.617276797431589}, {\"value\": -0.34900710885257824}, {\"value\": -0.7025749913434142}, {\"value\": 0.9104688220749114}, {\"value\": -1.8787675435788}, {\"value\": -0.3394660874485972}, {\"value\": 2.6078917491657747}, {\"value\": 0.03694087786815353}, {\"value\": 1.4313213640878286}, {\"value\": 1.4451954037697405}, {\"value\": -0.9096028017416941}, {\"value\": 0.26404249088300874}, {\"value\": -1.285940689935072}, {\"value\": 2.6825880935494797}, {\"value\": -0.10277221706688308}, {\"value\": 1.4804883694019249}, {\"value\": 0.11504225409968967}, {\"value\": 1.3600414110989025}, {\"value\": 0.1942328748654553}, {\"value\": -1.0785114081174867}, {\"value\": 0.9456434772355935}, {\"value\": -1.4566806915327386}, {\"value\": 0.20228345137338372}, {\"value\": -0.2857276363196941}, {\"value\": -0.2865948333466845}, {\"value\": 0.30653597807851485}, {\"value\": -1.4187090979204444}, {\"value\": -0.7888937612746096}, {\"value\": 1.1809802289443665}, {\"value\": 0.5254666604841995}, {\"value\": 0.9369761113659835}, {\"value\": 1.0171313659279464}, {\"value\": -0.20706000663931223}, {\"value\": 0.33619754602539675}, {\"value\": 0.1794007302591476}, {\"value\": -0.0795233975571602}, {\"value\": -0.17889499422968935}, {\"value\": 0.6085448728300927}, {\"value\": 0.21025386474548502}, {\"value\": 0.10295460701921891}, {\"value\": -0.14521902306162113}, {\"value\": -0.6628076440845327}, {\"value\": -0.48866397010648716}, {\"value\": 0.5264791713589819}, {\"value\": -0.4509475613024702}, {\"value\": -1.6090900453533814}, {\"value\": -2.0623281905471997}, {\"value\": -0.8276021979173668}, {\"value\": 0.11928670448549741}, {\"value\": -0.39473642864596503}, {\"value\": 0.7010876957959382}, {\"value\": 0.1894675789242337}, {\"value\": -0.7900476210089221}, {\"value\": -0.6602944153776769}, {\"value\": 0.7861007238599373}, {\"value\": 0.819555074102519}, {\"value\": 0.04016830535267418}, {\"value\": -0.31213029712100476}, {\"value\": 0.6878501863632164}, {\"value\": -0.023161163453989348}, {\"value\": 1.5234359933994357}, {\"value\": 0.397078807953429}, {\"value\": 0.21823356104115896}, {\"value\": -0.7003995167380049}, {\"value\": -1.480017795294639}, {\"value\": 0.21081087332410173}, {\"value\": -0.9596843333916126}, {\"value\": 0.3599217150679206}, {\"value\": 0.12868839603905527}, {\"value\": 0.15830491195344906}, {\"value\": -0.5099996973702007}, {\"value\": -0.041996859876097845}, {\"value\": -0.14301978598973064}, {\"value\": 0.24909461069676805}, {\"value\": -1.0075237153116714}, {\"value\": 0.4571271943698757}, {\"value\": 2.051060494596958}, {\"value\": -0.4999496491465176}, {\"value\": -0.17806009903931222}, {\"value\": 2.8873784606871675}, {\"value\": -0.36231483601266057}, {\"value\": 2.6142856669942383}, {\"value\": 0.7913840113925225}, {\"value\": -0.3578344002232389}, {\"value\": 2.2158611178972842}, {\"value\": -1.099343829363841}, {\"value\": 0.7243261694558893}, {\"value\": 0.6088018027368441}, {\"value\": 1.0935153170363847}, {\"value\": -0.8822094165103551}, {\"value\": -1.0025431759731402}, {\"value\": 0.7032266410303131}, {\"value\": -0.13549571782268588}, {\"value\": 0.40344753379861964}, {\"value\": -0.09507437252679234}, {\"value\": 0.7637455885030069}, {\"value\": 0.5209003233724705}, {\"value\": 2.150993565827847}, {\"value\": 0.8404938349507535}, {\"value\": -0.7593456389246478}, {\"value\": 0.24033912282912642}, {\"value\": -0.8387524715625179}, {\"value\": -0.6699565327284285}, {\"value\": 0.7823379004002753}, {\"value\": -1.8250974450341222}, {\"value\": 0.17842112505446253}, {\"value\": 0.1838312643199977}, {\"value\": -1.2645591941284655}, {\"value\": 0.38412812944749625}, {\"value\": -0.5431875235485366}, {\"value\": 1.2128834180070762}, {\"value\": -0.34295501121242417}, {\"value\": 1.223662611586703}, {\"value\": 0.8563945954670041}, {\"value\": 0.7593811318944227}, {\"value\": -1.2562560714399498}, {\"value\": 0.03614995117322877}, {\"value\": 0.09041347995020424}, {\"value\": 0.13148125899329147}, {\"value\": -0.6031477198898378}, {\"value\": 0.5062896915245002}, {\"value\": 0.5548242696182577}, {\"value\": 0.7719759190690791}, {\"value\": 0.1069494479568884}, {\"value\": 0.5910881124683156}, {\"value\": 1.2164284027849965}, {\"value\": -0.47402941289830763}, {\"value\": -0.2585489371367558}, {\"value\": 0.30712263727859906}, {\"value\": -0.7977143455015274}, {\"value\": 0.8351893302478886}, {\"value\": 1.2417668194342366}, {\"value\": -0.3121746993664913}, {\"value\": -0.5557754524094844}, {\"value\": 0.4606795711157006}, {\"value\": -0.6720952718627963}, {\"value\": -1.4164057753232517}, {\"value\": -0.5337690596162993}, {\"value\": -0.6036519495575563}, {\"value\": -1.5503585814722927}, {\"value\": -0.9975141228983664}, {\"value\": -0.7184021845665144}, {\"value\": -0.4977131577512999}, {\"value\": -0.9678143922905879}, {\"value\": -0.1711964553224035}, {\"value\": -0.8197170443972117}, {\"value\": 0.5572932354758215}, {\"value\": -0.026390333487677525}, {\"value\": -0.5670616913603842}, {\"value\": -0.0019382921893448455}, {\"value\": 1.1532134310383546}, {\"value\": -1.292062565347476}, {\"value\": 0.3777668160831086}, {\"value\": -1.2907264975864516}, {\"value\": -0.4013734950329036}, {\"value\": -0.0695550945093903}, {\"value\": -0.4246235214273379}, {\"value\": 0.022404213623882986}, {\"value\": -0.4743604404217252}, {\"value\": -0.1412262066317591}, {\"value\": 0.3038659967061419}, {\"value\": 0.12155375624827634}, {\"value\": 0.1102142073717347}, {\"value\": -0.765668157379739}, {\"value\": 0.814674755105011}, {\"value\": -1.1150085447977982}, {\"value\": -0.36286987882306054}, {\"value\": 0.6877600716941045}, {\"value\": -0.6538772440721028}, {\"value\": -0.22944925933185586}, {\"value\": 2.045729049113515}, {\"value\": 0.05617656230094374}, {\"value\": -0.5424029941293103}, {\"value\": -0.7287457705345569}, {\"value\": -1.9617285707265624}, {\"value\": -2.1245210927377602}, {\"value\": -0.40688559013871406}, {\"value\": -0.39447952586308316}, {\"value\": -1.1599981426333634}, {\"value\": 0.019757027957560055}, {\"value\": 0.5916623420174831}, {\"value\": -0.6317096624179408}, {\"value\": 0.46563269126244694}, {\"value\": 1.4526029899013009}, {\"value\": 1.701767917554138}, {\"value\": -0.08489854031730087}, {\"value\": -0.3835799385211532}, {\"value\": 0.3047657200874227}, {\"value\": 0.6482639486467835}, {\"value\": -0.33642427953072845}, {\"value\": 0.8720518127594278}, {\"value\": -0.1977624071310386}, {\"value\": -0.25842495785639313}, {\"value\": -0.7704700402981175}, {\"value\": 1.2026886335855798}, {\"value\": -2.6811917936333276}, {\"value\": 0.5598406607218386}, {\"value\": 0.016205289125665163}, {\"value\": -0.9281084177075305}, {\"value\": 0.5288555254237428}, {\"value\": -0.46462457989480366}, {\"value\": -0.1324293857210554}, {\"value\": 0.4994937363132412}, {\"value\": -1.052897109614657}, {\"value\": 0.6635632573159742}, {\"value\": 0.053769448273928655}, {\"value\": -0.4868019837407178}, {\"value\": 1.8792895579066742}, {\"value\": 0.622545185644809}, {\"value\": 1.4058946534825736}, {\"value\": 0.002367216970022358}, {\"value\": 1.0476877982843393}, {\"value\": 0.2640598238643772}, {\"value\": 0.08817240815059357}, {\"value\": -1.3760126130404682}, {\"value\": 1.567453678207936}, {\"value\": 1.5554359780989537}, {\"value\": 0.541681014691621}, {\"value\": 0.619732098009789}, {\"value\": 0.9302876981672297}, {\"value\": 2.214250074799987}, {\"value\": -0.2589274979586168}, {\"value\": -0.1896803358819797}, {\"value\": 1.2397015297860818}, {\"value\": -1.523132639168368}, {\"value\": -1.1267396170407797}, {\"value\": -0.24243244362529054}, {\"value\": 0.6007904931430619}, {\"value\": -0.8316644275872652}, {\"value\": 1.068406860455098}, {\"value\": 1.0969651327166747}, {\"value\": -0.20853725872388454}, {\"value\": -1.1221727152834389}, {\"value\": -2.0975431536114284}, {\"value\": 0.5311971820925627}, {\"value\": -0.4954567126196336}, {\"value\": -0.5497851547566818}, {\"value\": 0.9940042172504225}, {\"value\": -0.3096289312730073}, {\"value\": -0.6073266729742844}, {\"value\": 0.4049740641831203}, {\"value\": -0.8791143062361981}, {\"value\": 0.9496255572982619}, {\"value\": -0.6410282900592734}, {\"value\": -0.44824311977875664}, {\"value\": 0.5981905899047469}, {\"value\": 1.192303914802311}, {\"value\": -0.7701620516489859}, {\"value\": 1.5489911154482519}, {\"value\": 1.441400056415466}, {\"value\": 0.24443999010364736}, {\"value\": -0.7228191300332926}, {\"value\": 1.7996832047046332}, {\"value\": -1.0854633630032888}, {\"value\": 0.6760502852955339}, {\"value\": 0.5469132262483215}, {\"value\": 0.26673718180201866}, {\"value\": -1.074949974991127}, {\"value\": -0.047161282953866526}, {\"value\": 1.9638356191245268}, {\"value\": 0.5419766390768362}, {\"value\": 2.0961124357373806}, {\"value\": 0.034933152531024955}, {\"value\": 0.9301849182067641}, {\"value\": 1.65651270321136}, {\"value\": 1.340152292405371}, {\"value\": 1.517640866880196}, {\"value\": -0.5021734940150548}, {\"value\": 0.07687120390359015}, {\"value\": 0.07403494009997544}, {\"value\": -0.8740777971160728}, {\"value\": 0.03454541077883989}, {\"value\": 0.6979299942837741}, {\"value\": 1.8844008075242225}, {\"value\": -1.7012152365614912}, {\"value\": 1.0200408978804218}, {\"value\": -0.03586681375861448}, {\"value\": 1.512455210666814}, {\"value\": -0.23678653872766536}, {\"value\": 0.9630338277205358}, {\"value\": -1.4024703944979318}, {\"value\": -1.4140147941577923}, {\"value\": 0.8508408405995984}, {\"value\": -0.22730018372170094}, {\"value\": 0.8859270797930812}, {\"value\": -1.2261446363944406}, {\"value\": 0.09629792707947239}, {\"value\": -1.083701510475936}, {\"value\": -0.8546622295257681}, {\"value\": -0.4750585135838335}, {\"value\": -0.4823362394176949}, {\"value\": 0.8526830134135599}, {\"value\": 0.034060256079359356}, {\"value\": -0.7039067898148872}, {\"value\": -0.07753171205745829}, {\"value\": -0.12576463840998067}, {\"value\": -0.12671303893881347}, {\"value\": 1.3408069681584154}, {\"value\": -1.2365332430057399}, {\"value\": 1.1117617504367567}, {\"value\": 0.3388891950912515}, {\"value\": -0.10903729402996229}, {\"value\": -0.7953136515730925}, {\"value\": -0.11755793529342025}, {\"value\": -1.0415761154198828}, {\"value\": 0.31778509087627393}, {\"value\": 1.829247546319836}, {\"value\": -0.09218883290796516}, {\"value\": 1.9018946089855855}, {\"value\": 0.776749833558634}, {\"value\": 0.6062123075757807}, {\"value\": 0.5130280897688457}, {\"value\": 0.01632572911175696}, {\"value\": 0.060927282631135476}, {\"value\": -0.3832980237087507}, {\"value\": -0.2445429898226916}, {\"value\": -1.014462117797386}, {\"value\": -0.8964893803084191}, {\"value\": 0.5963497263601919}, {\"value\": -1.3111683669951038}, {\"value\": 0.260387997316315}, {\"value\": -0.5383174376097679}, {\"value\": -1.4626897640160978}, {\"value\": 0.43209118096599874}, {\"value\": -1.834330837566689}, {\"value\": 1.0928603035569455}, {\"value\": 1.1007302277585684}, {\"value\": -0.20553757158209954}, {\"value\": -1.0260823952158908}, {\"value\": -0.4447812892656977}, {\"value\": -1.2685182101762822}, {\"value\": -0.022742837521940496}, {\"value\": 0.25122101828468885}, {\"value\": -0.44923712498262575}, {\"value\": -0.6510007382634942}, {\"value\": 0.4911612147652696}, {\"value\": 0.255037902463992}, {\"value\": -1.8644838702580275}, {\"value\": -0.011156808990251666}, {\"value\": 0.6674516947455298}, {\"value\": 0.6099477634827208}, {\"value\": 0.709170281988857}, {\"value\": 1.4384046781140696}, {\"value\": -1.7675619276039105}, {\"value\": 0.5732975512851531}, {\"value\": -0.5814839482854195}, {\"value\": -0.03230641062900682}, {\"value\": -0.03735898681219928}, {\"value\": 1.8429878259998391}, {\"value\": 0.2785661681669224}, {\"value\": -0.6932615026540715}, {\"value\": -1.3745619458681633}, {\"value\": -0.913168938628259}, {\"value\": 1.2524233834239424}, {\"value\": 0.15727846011444754}, {\"value\": 0.2963130664640517}, {\"value\": 1.3494320926010048}, {\"value\": -0.2846242903278137}, {\"value\": -1.1603344659211823}, {\"value\": -1.14181531731967}, {\"value\": -1.0759691761716366}, {\"value\": 0.6565422713536265}, {\"value\": -1.7613012111318826}, {\"value\": 1.007085794896075}, {\"value\": 0.011180114418782576}, {\"value\": 1.8563018096466675}, {\"value\": -1.0424791599602323}, {\"value\": 0.7248213253066775}, {\"value\": 0.3850693242173223}, {\"value\": 0.013230593059088934}, {\"value\": 0.5609050351200618}, {\"value\": -0.03024737576768969}, {\"value\": -0.14779803814104564}, {\"value\": 0.20640661416704517}, {\"value\": -1.5474811788045808}, {\"value\": 0.07975595977555502}, {\"value\": 1.2677824530247699}, {\"value\": -1.6064145390343527}, {\"value\": 1.3260514006086328}, {\"value\": 0.8658714948545392}, {\"value\": 0.25331401768450507}, {\"value\": 0.8921367477832228}, {\"value\": -0.9114154845784733}, {\"value\": -1.155070870107492}, {\"value\": 2.032564888274596}, {\"value\": -0.21421807150882746}, {\"value\": 2.188061006192538}, {\"value\": -0.9905438852085408}, {\"value\": -1.238417458013919}, {\"value\": -1.862446734028718}, {\"value\": 1.278993145739881}, {\"value\": -0.9404998513997564}, {\"value\": -0.9608062138062198}, {\"value\": 1.3259997700116757}, {\"value\": 2.5227291827072458}, {\"value\": 0.20641680851309166}, {\"value\": -0.7759008981448955}, {\"value\": -0.3507823887129394}, {\"value\": -0.4908792814819869}, {\"value\": 0.854765332440098}, {\"value\": -0.6894045224343545}, {\"value\": 0.8921867230071145}, {\"value\": 0.9553365228615281}, {\"value\": 0.17078729583364305}, {\"value\": -0.9409661136635579}, {\"value\": 0.2911020858579982}, {\"value\": -0.8004607500021197}, {\"value\": -1.1049017979411666}, {\"value\": 0.44100562202212845}, {\"value\": 0.4950632924568516}, {\"value\": -0.2590503772560784}, {\"value\": -1.19764645664349}, {\"value\": 0.5025998989156908}, {\"value\": -0.12298697368292165}, {\"value\": 0.17235834306937456}, {\"value\": 0.6252242946223505}, {\"value\": 0.34499400078780523}, {\"value\": 0.20145276236162926}, {\"value\": 0.7826816050595105}, {\"value\": -2.000532716754908}, {\"value\": -0.2430574143037179}, {\"value\": -0.464925167709787}, {\"value\": -0.7502977440450501}, {\"value\": 0.9235231849584729}, {\"value\": 0.32451000493429377}, {\"value\": 1.6436557989794114}, {\"value\": 2.8144654857411227}, {\"value\": 0.4820921877999377}, {\"value\": 0.8554205991596725}, {\"value\": 1.4807262089268383}, {\"value\": 0.49019268148061057}, {\"value\": 0.04773147431994065}, {\"value\": 1.2316985726001934}, {\"value\": -1.510151663943673}, {\"value\": 0.572488437176486}, {\"value\": -0.7432213009058481}, {\"value\": 0.32051425268693895}, {\"value\": -1.2608028457563694}, {\"value\": -1.1070909653731473}, {\"value\": -1.1271997216084944}, {\"value\": 0.7115136487803688}, {\"value\": -0.9952009328055578}, {\"value\": 0.3072508836934928}, {\"value\": 1.1395386838087174}, {\"value\": 0.1929636022118509}, {\"value\": -0.18987028320128085}, {\"value\": -0.36078877908401363}, {\"value\": 1.6197855121461853}, {\"value\": -0.16347454041120627}, {\"value\": 0.24177222229067263}, {\"value\": -0.5170267242885428}, {\"value\": -0.9402554198024557}, {\"value\": -0.7351105450490477}, {\"value\": -1.3009086226534268}, {\"value\": -0.22055380439199831}, {\"value\": 0.1755363401395215}, {\"value\": -1.6363639577991351}, {\"value\": 0.6535972911960047}, {\"value\": -0.3726163697472832}, {\"value\": -0.7922545861677552}, {\"value\": -0.959691096669217}, {\"value\": -0.9488235307590338}, {\"value\": 0.7679859352510752}, {\"value\": 0.7994963686018418}, {\"value\": 1.5252795565141646}, {\"value\": -1.055597605602289}, {\"value\": -0.7278990621666283}, {\"value\": 1.271949071219894}, {\"value\": -0.9410124054284499}, {\"value\": 0.12547686256521726}, {\"value\": 0.33260352314821634}, {\"value\": -0.4086574066989105}, {\"value\": 0.4607212260842154}, {\"value\": -0.6249002386187741}, {\"value\": 1.215609007617541}, {\"value\": 0.2851525618978879}, {\"value\": -0.8509454241995921}, {\"value\": 0.7775091133733734}, {\"value\": 0.6137050229773624}, {\"value\": -0.654698495975251}, {\"value\": 0.1948437408366381}, {\"value\": 2.190238763610636}, {\"value\": 0.5501028964346322}, {\"value\": -0.09504973965343566}, {\"value\": -0.7054263596485589}, {\"value\": 0.4898595612078746}, {\"value\": 0.2919716057143222}, {\"value\": 1.4266346750791803}, {\"value\": 1.203797381697911}, {\"value\": -0.8186588627255945}, {\"value\": 0.8707562974439501}, {\"value\": -1.4080714959341938}, {\"value\": 0.6981617086346433}, {\"value\": -1.2721538111291564}, {\"value\": -0.48083174402664536}, {\"value\": 0.07134919419460721}, {\"value\": 0.9597110584555452}, {\"value\": -0.605975084205074}, {\"value\": 0.7822205623980534}, {\"value\": -0.7919976945395355}, {\"value\": -2.501683954171055}, {\"value\": -0.04191441288420285}, {\"value\": -0.8057230694162825}, {\"value\": 0.3295569539649817}, {\"value\": 0.18639173318290353}, {\"value\": -0.7879192174065749}, {\"value\": 0.4461551166099687}, {\"value\": 0.320560911078074}, {\"value\": -0.6028664863864814}, {\"value\": -0.2822438965703825}, {\"value\": 0.1725219907361359}, {\"value\": -0.6123021980691026}, {\"value\": -1.2488508987497438}, {\"value\": 1.5353358799897383}, {\"value\": 1.277073387835609}, {\"value\": 0.6856463777163085}, {\"value\": 2.3635327229217746}, {\"value\": -0.08071952881053054}, {\"value\": 0.013442184467952594}, {\"value\": -0.8786679685708899}, {\"value\": -0.25879963818061374}, {\"value\": -0.1387283017440511}, {\"value\": 0.006370686892075698}, {\"value\": -0.4567195607807681}, {\"value\": -1.3669110507636777}, {\"value\": -0.47836890523983816}, {\"value\": 0.5854584891856014}, {\"value\": -0.788052817687731}, {\"value\": 0.4687374729405452}, {\"value\": -0.003680803404392032}, {\"value\": 1.0583109701113622}, {\"value\": -2.0017945615832877}, {\"value\": 0.765056811781591}, {\"value\": 0.047744457274552864}, {\"value\": -0.7084312223422714}, {\"value\": 2.379932041061301}, {\"value\": 3.0269870980363804}, {\"value\": 0.26232334322664186}, {\"value\": 0.5245002186788451}, {\"value\": 0.11136441312990401}, {\"value\": -0.9029304498735699}, {\"value\": 0.4867839707792343}, {\"value\": -1.7702059985183236}, {\"value\": 0.3875450898524934}, {\"value\": -0.14607764132949466}, {\"value\": -1.3130690088181036}, {\"value\": 0.3005378081213767}, {\"value\": 1.7784057352395801}, {\"value\": 0.16437252991287385}, {\"value\": 0.9472234190467079}, {\"value\": 0.9974837414958131}, {\"value\": 0.22229512438204438}, {\"value\": -0.35379156462488665}, {\"value\": 0.5217660908185128}, {\"value\": -1.5123841902299786}, {\"value\": 1.378270521457278}, {\"value\": -0.9218521990772337}, {\"value\": 1.1485276827643065}, {\"value\": -0.6138079565720346}, {\"value\": 0.13114129930938978}, {\"value\": -0.5280329602579322}, {\"value\": 0.6575304559222183}, {\"value\": 0.5927699612317598}, {\"value\": -1.1872127797145193}, {\"value\": 0.2943110321529797}, {\"value\": -0.5407335913036339}, {\"value\": -0.9411388035762231}, {\"value\": -0.3962644384112565}, {\"value\": 1.4368224448577966}, {\"value\": 0.37152530569160586}, {\"value\": -1.1313547451337898}, {\"value\": 0.04730635953703842}, {\"value\": -0.77879735219859}, {\"value\": 0.4354725402167096}, {\"value\": -0.30628424546202637}, {\"value\": -0.9651135510639771}, {\"value\": -0.6394540442884162}, {\"value\": -1.6207930104761865}, {\"value\": -0.2844041882626751}, {\"value\": -1.5756409322370388}, {\"value\": -0.20239803352194038}, {\"value\": 1.5728209133346884}, {\"value\": 1.0994768657084066}, {\"value\": 0.46747875488923163}, {\"value\": -1.0774606194152823}, {\"value\": -0.7853248900782518}, {\"value\": -0.7114858706808882}, {\"value\": -0.40868693688846214}, {\"value\": 1.41091794006077}, {\"value\": 0.8573915376126662}, {\"value\": -0.6997158585307977}, {\"value\": -1.336482322208334}, {\"value\": 0.11727247204193122}, {\"value\": 0.13632314702924295}, {\"value\": 0.5821069722744812}, {\"value\": -0.9398372628141393}, {\"value\": 0.852748775705413}, {\"value\": 2.0168088894938214}, {\"value\": -0.3098568868848275}, {\"value\": -1.0031800210458486}, {\"value\": 0.6831604199367824}, {\"value\": -0.3090217479883991}, {\"value\": 0.32193604324932557}, {\"value\": 0.13091396705013147}, {\"value\": -1.955059199296495}, {\"value\": 0.4284695309406288}, {\"value\": -0.5758168507556622}, {\"value\": -0.30870155678032507}, {\"value\": -0.5834068765286164}, {\"value\": 0.003303290952778352}, {\"value\": -0.7670041317065255}, {\"value\": 1.095853278787285}, {\"value\": 0.4733898102631654}, {\"value\": -0.44364629531557903}, {\"value\": -0.18396968313692447}, {\"value\": 0.4286287792915142}, {\"value\": -0.8573841516756726}, {\"value\": -2.1317587164068437}, {\"value\": 0.16515761522757252}, {\"value\": 0.6663905164108112}, {\"value\": 0.6293821727097425}, {\"value\": 2.8049264381798475}, {\"value\": 0.770884865831257}, {\"value\": -1.7234197239618005}, {\"value\": -0.9382384872230844}, {\"value\": 0.04175119135424327}, {\"value\": 1.3003120145295655}, {\"value\": 0.7955226910549134}, {\"value\": -0.9702427618728598}, {\"value\": -0.1087429221823432}, {\"value\": -1.1826891972141615}, {\"value\": 1.0412198056051611}, {\"value\": 1.336510919478504}, {\"value\": 0.5438558896962985}, {\"value\": -0.4566356697483309}, {\"value\": 0.20393018201434637}, {\"value\": -0.25598797979542953}, {\"value\": 0.7878491576768003}, {\"value\": 0.8130091663039605}, {\"value\": 1.6712417103341222}, {\"value\": -1.6522075953327373}, {\"value\": -1.3355227931003095}, {\"value\": -0.8839701304993435}, {\"value\": 0.6356194457349991}, {\"value\": 2.531847198794879}, {\"value\": 0.5220180141392172}, {\"value\": 1.1415331188751154}, {\"value\": 0.9119312110770349}, {\"value\": 1.3395444686009637}, {\"value\": 0.2655889330428169}, {\"value\": -1.69885563096756}, {\"value\": -0.09968876793221368}, {\"value\": 0.7909923177911333}, {\"value\": -0.8913887767664308}, {\"value\": -0.06663829430392722}, {\"value\": 0.4460263967871192}, {\"value\": 0.8833202272360506}, {\"value\": 1.25907253655045}, {\"value\": 1.5830515834434784}, {\"value\": 1.203125007968091}, {\"value\": 1.083032700418325}, {\"value\": -0.960523747600979}, {\"value\": 0.8585442756611691}, {\"value\": -0.9467308894728292}, {\"value\": -0.40832362253098514}, {\"value\": 1.2067030760688524}, {\"value\": -0.9181785683428806}, {\"value\": -0.9312319928299372}, {\"value\": -0.8226459991993703}, {\"value\": -1.309305088786548}, {\"value\": -0.14346428157677396}, {\"value\": -0.983064988463155}, {\"value\": 0.5477407299517288}, {\"value\": 1.0972984534185222}, {\"value\": -0.0974158685449006}, {\"value\": -1.5944832138304035}, {\"value\": -1.2724380835555316}, {\"value\": 0.8431863625819453}, {\"value\": 0.3936183513462045}, {\"value\": -0.630999539627411}, {\"value\": 0.6974250366473654}, {\"value\": -0.6028142718199844}, {\"value\": -0.25623560181887967}, {\"value\": -0.6952397901116937}, {\"value\": 0.4328382162940221}, {\"value\": -1.3514121755001787}, {\"value\": 0.9148821820090982}, {\"value\": 0.3878509950156224}, {\"value\": -0.7737613395684325}, {\"value\": 1.2175926887098876}, {\"value\": -0.4574481023301327}, {\"value\": 1.3137821973275992}, {\"value\": 0.7977488253838472}, {\"value\": 0.33433952579393217}, {\"value\": 0.2768821663366919}, {\"value\": 1.09857658701896}, {\"value\": -0.11767310358340928}, {\"value\": -1.0652602694763627}, {\"value\": 2.098920666044655}, {\"value\": -0.241047182102559}, {\"value\": 1.3574636478069535}, {\"value\": -0.5066970774786429}, {\"value\": -0.48349545189968723}, {\"value\": -1.2879679121515646}, {\"value\": 0.862604241995355}, {\"value\": -0.398829296087441}, {\"value\": 2.0425615084188258}, {\"value\": 0.8286160152324813}, {\"value\": -0.5106945985594007}, {\"value\": -0.8974134082986973}, {\"value\": -1.1747844605461246}, {\"value\": -1.7548812431968797}, {\"value\": 0.49628670047212686}, {\"value\": 0.48053093935451596}, {\"value\": -0.30182882645496517}, {\"value\": 0.05984009841833325}, {\"value\": -0.5526600885415959}, {\"value\": 0.42485301715710677}, {\"value\": 0.27283685118011375}, {\"value\": 0.972134645436637}, {\"value\": 0.8378726388917368}, {\"value\": -1.7124322558383032}, {\"value\": 0.1485476472551026}, {\"value\": 0.6526950524188669}, {\"value\": -0.10098962170555527}, {\"value\": -0.6755329534185421}, {\"value\": 0.8683663771165012}, {\"value\": 0.7131996968060474}, {\"value\": 0.430151624571686}, {\"value\": 2.7930373258609076}, {\"value\": 0.1225939873392999}, {\"value\": -0.5900552011444625}, {\"value\": -0.10719652109887724}, {\"value\": -0.9500536901505119}, {\"value\": -0.4913556388839165}, {\"value\": 1.4463519708289319}, {\"value\": -1.075188912103605}, {\"value\": 1.4808106545722077}, {\"value\": 0.4697676940092845}, {\"value\": -0.22266261405374876}, {\"value\": 0.5232002161168064}, {\"value\": -0.48749964753406716}, {\"value\": -0.8508134813544874}, {\"value\": -0.0032976464434377782}, {\"value\": 0.20516701850780258}, {\"value\": 0.30537486071055486}, {\"value\": 0.18391337710242667}, {\"value\": -0.16339457835087245}, {\"value\": -1.3703390231294281}, {\"value\": -1.3717366759906582}, {\"value\": -0.18310581461271364}, {\"value\": -0.47811697913306594}, {\"value\": -0.7477001773846774}, {\"value\": -0.4372267880403061}, {\"value\": 0.4592726261945355}, {\"value\": -2.1275258265994434}, {\"value\": -1.5695652832715028}, {\"value\": 0.5438126557152899}, {\"value\": -0.5756644862817284}, {\"value\": -0.21443859207629426}, {\"value\": 1.6109817987026462}, {\"value\": 2.2874171558221987}, {\"value\": 0.23027348377865606}, {\"value\": 0.2270810428843574}, {\"value\": 1.3750010009315317}, {\"value\": -1.3790854774994374}, {\"value\": -0.6463296930117509}, {\"value\": 0.05169558454892114}, {\"value\": 1.4036987194062434}, {\"value\": 0.9800722658829173}, {\"value\": 0.7720269398202806}, {\"value\": -1.4165180175373435}, {\"value\": 0.8434832487601157}, {\"value\": -0.5010070861188934}, {\"value\": 0.5449636476671088}, {\"value\": 1.5404177294757568}, {\"value\": -0.3149873714226373}, {\"value\": -1.1047382328486302}, {\"value\": 1.530498079233666}, {\"value\": 1.2141706542595403}, {\"value\": 0.4203471164112232}, {\"value\": -0.15215504468432492}, {\"value\": 0.7499416315818364}, {\"value\": 1.1231862292817543}, {\"value\": 0.3416672276119771}, {\"value\": 0.5246458206600667}, {\"value\": 0.2935105974391285}, {\"value\": 1.5244856377161504}, {\"value\": 0.347445047461159}, {\"value\": -0.1562680327881807}, {\"value\": 0.2680171352229477}, {\"value\": 1.9048696019768077}, {\"value\": 0.08775470600909034}, {\"value\": 0.44029872427722594}, {\"value\": -0.42502640263694763}, {\"value\": -0.2610425267419823}, {\"value\": -0.22566598750583805}, {\"value\": -0.1948668698649241}, {\"value\": 1.3326413692388799}, {\"value\": -0.6664183635768705}, {\"value\": -0.470178762309303}, {\"value\": -1.2856002800366144}, {\"value\": -0.7942282849385331}, {\"value\": 1.559718210095253}, {\"value\": -0.3390726282855079}, {\"value\": 0.7389540920527831}, {\"value\": 1.9583372084571107}, {\"value\": -1.094130687258779}, {\"value\": -0.05780543900523894}, {\"value\": 0.2170079949952918}, {\"value\": -0.770600789109567}, {\"value\": 1.0250110441764022}, {\"value\": 0.6208740884933195}, {\"value\": 0.1708181148155578}, {\"value\": 0.06748218630491051}, {\"value\": 0.20118364903281047}, {\"value\": -1.7280661736406067}, {\"value\": 2.0521036836755653}, {\"value\": -0.15366936171293033}, {\"value\": -0.4278835759432779}, {\"value\": 0.41614744304776896}, {\"value\": -0.2730839122390816}, {\"value\": 0.24487127318565785}, {\"value\": -0.9817411063731757}, {\"value\": -1.142935638004234}, {\"value\": -0.7989328831257739}, {\"value\": -0.454079205348887}, {\"value\": -0.41363285158400415}, {\"value\": -0.7499496162017187}, {\"value\": 0.8319073949906314}, {\"value\": 0.19419395890502567}, {\"value\": -0.7511387271077989}, {\"value\": -1.5544529170549761}, {\"value\": 0.20320809560567493}, {\"value\": -0.8053818275765621}, {\"value\": 0.3697133419385328}, {\"value\": 0.8935426147336981}, {\"value\": 0.9836065573017854}, {\"value\": -0.3016253997608032}, {\"value\": 1.01962880886396}, {\"value\": -0.9915439093415214}, {\"value\": -0.991936345720993}, {\"value\": 0.6417598015676852}, {\"value\": -1.2066327761137352}, {\"value\": 1.261236965476949}, {\"value\": -0.5250430738927617}, {\"value\": 1.32366513512468}, {\"value\": -1.0204728172138207}, {\"value\": 0.348188526165271}, {\"value\": -1.562587477702176}, {\"value\": -0.8119312556427789}, {\"value\": 0.1365233948139971}, {\"value\": -1.6487491088261574}, {\"value\": 0.5158091147940297}, {\"value\": 0.9079615462787669}, {\"value\": 0.6516212023886476}, {\"value\": 0.21480376245777838}, {\"value\": -0.8419028582264445}, {\"value\": 0.85829871554541}, {\"value\": -0.4597027986052827}, {\"value\": 0.5346555889357781}, {\"value\": 2.833497114666703}, {\"value\": 0.7162610634501986}, {\"value\": -1.2203080472957124}, {\"value\": -1.6105319718791598}, {\"value\": -1.3607403085973182}, {\"value\": 2.3572547518094416}, {\"value\": 0.7770099823397199}, {\"value\": -0.5329816434516271}, {\"value\": -0.20051404124599428}, {\"value\": 0.8497043635158998}, {\"value\": -0.8459129837915408}, {\"value\": 1.1213447378703294}, {\"value\": -0.3724114821542993}, {\"value\": 0.3018311228811423}, {\"value\": 0.825466628597514}, {\"value\": 0.34611540535280927}, {\"value\": -0.5623716822139502}, {\"value\": -2.167970194603655}, {\"value\": -1.2048854094676462}, {\"value\": -0.37590546047043283}, {\"value\": -0.49368587212609577}, {\"value\": -0.568965792076066}, {\"value\": -0.7700566476539753}, {\"value\": -0.2309292555032337}, {\"value\": 1.7746219297622432}, {\"value\": 1.4532342376581977}, {\"value\": 0.2510409728115841}, {\"value\": 1.5109979088116887}, {\"value\": -0.6937441033907964}, {\"value\": 0.4456989181861767}, {\"value\": 0.45570777158985515}, {\"value\": 1.3303465252607145}, {\"value\": 0.34898124371047756}, {\"value\": -0.14379419228103787}, {\"value\": -0.5508169202862345}, {\"value\": -0.3113875820245896}, {\"value\": 0.56787808378853}, {\"value\": 1.8376891988441735}, {\"value\": -2.0630411780097386}, {\"value\": 0.2184540059737578}, {\"value\": -1.3218482142032209}, {\"value\": -1.308024532301976}, {\"value\": 0.7469069658113386}, {\"value\": 0.2635670511100943}, {\"value\": -0.5150877941298253}, {\"value\": -0.18316840194799636}, {\"value\": -0.7767696959596577}, {\"value\": 0.5887624891276394}, {\"value\": 0.393632051136609}, {\"value\": 0.9343372764908046}, {\"value\": 1.927559993796345}, {\"value\": -0.5684094718641537}, {\"value\": 0.6767811916238786}, {\"value\": 0.8144919909567403}, {\"value\": 0.8232084374969444}, {\"value\": 0.7021940233928793}, {\"value\": -0.8699349291295175}, {\"value\": 0.2332139078945762}, {\"value\": 0.23863325008019415}, {\"value\": -0.477772674474002}, {\"value\": -0.7342903436568303}, {\"value\": 0.3122394891288797}, {\"value\": 0.9821222149818727}, {\"value\": -1.343327373770559}, {\"value\": -0.6821164365278716}, {\"value\": -1.1262457755442241}, {\"value\": 0.2276639292592293}, {\"value\": -0.0865258541831702}, {\"value\": 2.2487515493358345}, {\"value\": -1.1504936137318087}, {\"value\": -0.050261057694165286}, {\"value\": 0.4976924551643912}, {\"value\": -1.303103904645879}, {\"value\": -1.0980381704593598}, {\"value\": 0.05709190537175252}, {\"value\": -0.373766628683546}, {\"value\": 0.7707765627678459}, {\"value\": 0.7342318884989488}, {\"value\": 0.0823521043923809}, {\"value\": -0.5571642468680994}, {\"value\": -0.22332768896075714}, {\"value\": 1.5618946584488853}, {\"value\": -0.7822929354535376}, {\"value\": -0.11217440683283068}, {\"value\": 1.3382032099073142}, {\"value\": -0.26088980532751127}, {\"value\": 1.3958089775839724}, {\"value\": -1.6768430906584504}, {\"value\": -1.4152737268809263}, {\"value\": -1.04066005123576}, {\"value\": 0.9329371487065834}, {\"value\": -1.0188756804324866}, {\"value\": -0.5904353098988698}, {\"value\": -1.0461291784910913}, {\"value\": 1.057293274292127}, {\"value\": -1.4034056421420384}, {\"value\": -0.829665059843099}, {\"value\": 0.9321259170971857}, {\"value\": -0.7161580186732633}, {\"value\": 0.30996319986713067}, {\"value\": 0.20789894451750865}, {\"value\": 1.1453134221485937}, {\"value\": -2.1149029939963424}, {\"value\": 1.5092813772077929}, {\"value\": -0.8143814649331602}, {\"value\": -0.182294700842838}, {\"value\": 2.262361166239926}, {\"value\": 0.5333054586304538}, {\"value\": -0.8403644734614305}, {\"value\": -0.3224980841176313}, {\"value\": 1.258007930455464}, {\"value\": -0.2589754171960036}, {\"value\": -1.1877222303398376}, {\"value\": -0.7312849853362999}, {\"value\": 0.7798488292246941}, {\"value\": -0.35863342664712916}, {\"value\": 0.45662474715980544}, {\"value\": -1.405576457667161}, {\"value\": -0.43208442699837907}, {\"value\": 1.224980647544568}, {\"value\": 1.1871437870157684}, {\"value\": -0.48944308579828}, {\"value\": -1.341008502493605}, {\"value\": -0.8344151644666311}, {\"value\": -0.010867909885806219}, {\"value\": -0.6469080223398556}, {\"value\": 0.1551495808088448}, {\"value\": -0.1678038121733826}, {\"value\": -0.14370387921419736}, {\"value\": 0.5137266153197219}, {\"value\": 0.15742514580241326}, {\"value\": -1.1946615930438207}, {\"value\": 1.129818063527352}, {\"value\": -0.9882380726001747}, {\"value\": -0.6932207127597876}, {\"value\": -0.20313067792107534}, {\"value\": 1.453496799835927}, {\"value\": -0.8657467098254752}, {\"value\": -0.5575597763637046}, {\"value\": -1.1242098464454873}, {\"value\": -0.2531626950864616}, {\"value\": -1.7722999017697239}, {\"value\": 0.2073707125495435}, {\"value\": -1.2455249411838247}, {\"value\": -0.3239193000794902}, {\"value\": 1.254378237909012}, {\"value\": -0.7198252805090902}, {\"value\": -1.0534568903679058}, {\"value\": 1.6899316684801131}, {\"value\": -0.21207183216977027}, {\"value\": -0.6473277422956426}, {\"value\": -1.5107360535018972}, {\"value\": 1.8830482497457077}, {\"value\": -0.7839560328957291}, {\"value\": -0.5880017340279033}, {\"value\": -0.4190296145926075}, {\"value\": 0.7154975194142756}, {\"value\": 0.3349618383159593}, {\"value\": 1.9936582474568667}, {\"value\": -1.5232702210944873}, {\"value\": 0.23614682038745508}, {\"value\": 0.0526807773890167}, {\"value\": 0.22272458642592832}, {\"value\": -0.3283689910916502}, {\"value\": -0.3248475563954256}, {\"value\": 1.537708290931556}, {\"value\": -0.11086652957972608}, {\"value\": 1.0514052360801331}, {\"value\": -0.7928314709164642}, {\"value\": 1.269576307026095}, {\"value\": 0.604466663338258}, {\"value\": 0.35042911193186754}, {\"value\": 1.5138609004856765}, {\"value\": -0.7104923856926736}, {\"value\": -0.5707475807861144}, {\"value\": -1.4282150726044334}, {\"value\": 0.09029926810275751}, {\"value\": -0.24714284147965979}, {\"value\": -0.2365008294427579}, {\"value\": -0.6613979866540939}, {\"value\": 1.4752705386061091}, {\"value\": 0.9642044415470765}, {\"value\": 1.1226484229258504}, {\"value\": -0.3550386056189665}, {\"value\": -0.6849744453583159}, {\"value\": -0.9132097960495278}, {\"value\": 2.0888236237335667}, {\"value\": -0.4055967725368643}, {\"value\": 1.1424102136137686}, {\"value\": -0.6733474720687681}, {\"value\": -0.12017392024598064}, {\"value\": -0.5036191062156371}, {\"value\": -0.4823570436706084}, {\"value\": 0.7217560786345909}, {\"value\": -0.8218109180804904}, {\"value\": 0.2145475127020813}, {\"value\": -0.8458852474234263}, {\"value\": -0.1567710784535829}, {\"value\": 0.023561003470731205}, {\"value\": 0.5801013046859926}, {\"value\": -0.021326221434889665}, {\"value\": -1.2138336593619161}, {\"value\": -1.0634185091647754}, {\"value\": -0.8213604396802834}, {\"value\": 0.20473281146155659}, {\"value\": 1.684902501401696}, {\"value\": -0.38277471994727397}, {\"value\": 1.849398970968011}, {\"value\": -0.532252494616787}, {\"value\": -0.9612915500954148}, {\"value\": -0.5108297486666971}, {\"value\": -1.7997829955636706}, {\"value\": -2.233573362535951}, {\"value\": -0.13079737336524783}, {\"value\": 0.7034031416596636}, {\"value\": -0.11893298731466541}, {\"value\": -1.6137760486557442}, {\"value\": 0.9043106831477307}, {\"value\": -0.1521500879631405}, {\"value\": 0.07295564882175574}, {\"value\": -0.5391961895273626}, {\"value\": -0.42748241902332107}, {\"value\": 0.42083852652752096}, {\"value\": -1.079408361096802}, {\"value\": -1.1444317209882857}, {\"value\": 0.7963666584367147}, {\"value\": -0.65037030235173}, {\"value\": 1.2232054975639837}, {\"value\": -0.42814084714599765}, {\"value\": 0.27635960490042155}, {\"value\": -1.4572422987540417}, {\"value\": -0.2894661415955047}, {\"value\": 1.7200059791563378}, {\"value\": 0.6491402554831407}, {\"value\": -0.5447944448365847}, {\"value\": -0.1178029092449274}, {\"value\": -0.8877234867223971}, {\"value\": 0.17957583687625478}, {\"value\": 0.3356496437828965}, {\"value\": -0.9953826092678753}, {\"value\": 1.5328546368857834}, {\"value\": -0.13123234143110454}, {\"value\": -0.049123890752202165}, {\"value\": 0.7637350444991852}, {\"value\": -1.8062837710572994}, {\"value\": -1.9066046814457744}, {\"value\": 0.45484459118785187}, {\"value\": 0.2514528481729702}, {\"value\": -0.5404694729893587}, {\"value\": 0.20884365198443305}, {\"value\": -0.7070294798144933}, {\"value\": 1.3657495957842396}, {\"value\": 0.5415202806919953}, {\"value\": 0.5395934422886886}, {\"value\": -1.3432906179961934}, {\"value\": -1.1534091523573966}, {\"value\": 0.5981203685625331}, {\"value\": 0.0763380294848703}, {\"value\": -0.30534315485615593}, {\"value\": -0.8482500756671051}, {\"value\": 1.429230744642988}, {\"value\": -1.0960648921398541}, {\"value\": -0.9346281661576915}, {\"value\": 1.7217984317348116}, {\"value\": 1.3447890020393032}, {\"value\": 0.5319805468336731}, {\"value\": 0.7995268448944105}, {\"value\": -0.41081135852352463}, {\"value\": 0.7740593734208983}, {\"value\": 0.9478144679122642}, {\"value\": -1.1368021509657116}, {\"value\": -0.19720074439493718}, {\"value\": 0.533997593420635}, {\"value\": -0.3435379195874418}, {\"value\": -0.3743138690204965}, {\"value\": 0.6822223667699686}, {\"value\": 0.03636116785140306}, {\"value\": 1.2595718793341786}, {\"value\": 0.5949849289144804}, {\"value\": -1.021473883420467}, {\"value\": 0.4983129973189547}, {\"value\": 1.8200989589992056}, {\"value\": -0.7023870536519808}, {\"value\": -1.2933719784120838}, {\"value\": 0.5861312272222687}, {\"value\": 1.147147200771588}, {\"value\": -0.8855876590015341}, {\"value\": 0.07246738094222917}, {\"value\": -0.5066570209713611}, {\"value\": -0.18135853049867062}, {\"value\": -0.7943235036783611}, {\"value\": -0.5696593371280358}, {\"value\": 1.8867825342032827}, {\"value\": 0.9225689536646323}, {\"value\": 0.039991850995989446}, {\"value\": -0.9783676575734501}, {\"value\": 1.7459241155547895}, {\"value\": -0.8043429872122534}, {\"value\": 0.5288519735339712}, {\"value\": -1.6403052439545667}, {\"value\": -0.1344267690783311}, {\"value\": -0.4930743516376559}, {\"value\": -0.579030524915864}, {\"value\": -0.19897031935709572}, {\"value\": 0.3541923471895869}, {\"value\": -0.2421125300774604}, {\"value\": 0.8554490391718462}, {\"value\": -0.5181650320068469}, {\"value\": -0.41881729926888656}, {\"value\": -1.7972964121540056}, {\"value\": -0.5683405580857647}, {\"value\": -0.0782576729965641}, {\"value\": -1.0521534346656698}, {\"value\": 1.1079759676425656}, {\"value\": 0.7998103869913334}, {\"value\": -1.2433153138376833}, {\"value\": -0.653729522218726}, {\"value\": 1.025902905481658}, {\"value\": 0.5289684111911276}, {\"value\": 0.5238782334122499}, {\"value\": -0.12783366255429118}, {\"value\": 1.3694804898591628}, {\"value\": -0.776167786460825}, {\"value\": 1.693883362667775}, {\"value\": -0.4257209252233481}, {\"value\": 0.9701205998568211}, {\"value\": -0.5730361843925988}, {\"value\": -1.3057381052947343}, {\"value\": 0.5911612564035311}, {\"value\": 1.2581506074066306}, {\"value\": -1.3606756343754896}, {\"value\": -0.08555989978026071}, {\"value\": 1.040463762923309}, {\"value\": 0.017541240743432635}, {\"value\": -0.2653372645689122}, {\"value\": 0.32424463242372903}, {\"value\": -2.0436639722893024}, {\"value\": 0.11578157378717487}, {\"value\": -0.6286953151705889}, {\"value\": 2.2070022368633766}, {\"value\": -1.2557239769096862}, {\"value\": -0.9953884724391698}, {\"value\": 2.1867399042300435}, {\"value\": -0.9201895139769093}, {\"value\": -1.0903878041815656}, {\"value\": -0.18202087339691858}, {\"value\": 0.7442228626538159}, {\"value\": 0.5782877076964388}, {\"value\": -0.1951269875072892}, {\"value\": -0.09333543320730932}, {\"value\": 0.37068733452839325}, {\"value\": -1.9436655673137089}, {\"value\": -0.9029838391726425}, {\"value\": 1.1518083554699385}, {\"value\": -0.5823074643706835}, {\"value\": 0.24290783289048262}, {\"value\": -0.8126730879153554}, {\"value\": -0.28079859757921427}, {\"value\": -0.2889608815837778}, {\"value\": -0.06773929996778817}, {\"value\": 0.10526837668826829}, {\"value\": -0.41705184358242176}, {\"value\": 0.5278928391359504}, {\"value\": -0.2467512139687268}, {\"value\": 0.5470510500123578}, {\"value\": -0.10387624026383682}, {\"value\": 0.5861107310358977}, {\"value\": -0.9860518337473676}, {\"value\": -1.1349491859307337}, {\"value\": -0.275969760785674}, {\"value\": -0.03213028418344798}, {\"value\": -0.4293776231664462}, {\"value\": 0.03214581632374035}, {\"value\": -0.17900871219689712}, {\"value\": -0.0016906995244313017}, {\"value\": -0.5683867213605365}, {\"value\": 0.26830339109482465}, {\"value\": 0.1230118288444461}, {\"value\": 1.3224255638120035}, {\"value\": -0.26059648294114907}, {\"value\": -0.438272237960169}, {\"value\": -2.270903067315087}, {\"value\": 0.44302158012909726}, {\"value\": 0.04590117792402267}, {\"value\": -0.258499108246295}, {\"value\": -0.3736466899968928}, {\"value\": 0.3926456576281912}, {\"value\": 0.18207096825470045}, {\"value\": -0.7418259890201439}, {\"value\": 0.7011772579685543}, {\"value\": 1.118109875973096}, {\"value\": 1.0032833103525076}, {\"value\": 1.767902239743942}, {\"value\": 1.157547391945764}, {\"value\": 1.3013292673554737}, {\"value\": 0.8025958110792097}, {\"value\": 0.5495544677051235}, {\"value\": -0.7002658795738104}, {\"value\": 0.34011492116166503}, {\"value\": -0.17936272842708761}, {\"value\": 1.572865452362042}, {\"value\": 1.8352013860625014}, {\"value\": -1.3628424526749596}, {\"value\": 1.1742508656409896}, {\"value\": -1.7345710246453732}, {\"value\": -0.843724274436958}, {\"value\": 0.05535221420690097}, {\"value\": -1.4713662490202466}, {\"value\": -1.1206143494473437}, {\"value\": -1.3541199405683522}, {\"value\": 0.3717405736499193}, {\"value\": -1.3029562908198773}, {\"value\": 0.26179346976647483}, {\"value\": 1.7541756924038867}, {\"value\": -0.45930183680172715}, {\"value\": -1.4084403695113028}, {\"value\": 1.046785608675428}, {\"value\": 0.941709711396996}, {\"value\": 0.017446803255324658}, {\"value\": -0.7422491615087113}, {\"value\": -1.6739982232342328}, {\"value\": 1.4211011602977577}, {\"value\": -1.0530747969885543}, {\"value\": -1.6696484391720252}, {\"value\": 0.019987982904898446}, {\"value\": -0.6884225748411337}, {\"value\": -0.10077394085096415}, {\"value\": -0.30662111738137054}, {\"value\": -0.8861765797834397}, {\"value\": 0.36984647653058034}, {\"value\": -0.19535653451977827}, {\"value\": 0.48660288232879373}, {\"value\": 1.6879231975596656}, {\"value\": 1.1758691131350716}, {\"value\": 1.974030445337427}, {\"value\": 0.1733360843317436}, {\"value\": -1.4010419815675488}, {\"value\": -1.4749463338008755}, {\"value\": -0.05950676534551922}, {\"value\": 0.8858745434486868}, {\"value\": -0.3026975142861114}, {\"value\": -0.029385951773967703}, {\"value\": 0.28867752801171537}, {\"value\": -0.0778312205603613}, {\"value\": -0.04541869637118039}, {\"value\": 0.4797908074905943}, {\"value\": 0.5979260410415811}, {\"value\": 1.2091499084483532}, {\"value\": 1.809312470495651}, {\"value\": 0.5195675306387414}, {\"value\": -0.9329397784971091}, {\"value\": 1.0844571915792227}, {\"value\": -0.4295202142721214}, {\"value\": -0.16621237387824622}, {\"value\": 0.48590967710963595}, {\"value\": 0.6671906434071047}, {\"value\": -0.9421996580969817}, {\"value\": 1.6834226262206995}, {\"value\": -1.3248793165200006}, {\"value\": -0.42559181821575576}, {\"value\": 1.1821292796813359}, {\"value\": -1.5976556724721471}, {\"value\": -1.1684727867904112}, {\"value\": 0.7469652139752826}, {\"value\": -0.002873357309496813}, {\"value\": -0.44214778010284106}, {\"value\": -0.3072640625942113}, {\"value\": 0.1842111465568968}, {\"value\": 1.9190572671384418}, {\"value\": -0.058442184562323585}, {\"value\": -0.1362227902222276}, {\"value\": 1.224340972568852}, {\"value\": 0.6129171810126566}, {\"value\": 0.6115012954150962}, {\"value\": -0.9323563474755623}, {\"value\": 0.2213565372990191}, {\"value\": -0.35748186017137223}, {\"value\": -0.18641549684933184}, {\"value\": -0.34836314117978767}, {\"value\": 0.17049525001686802}, {\"value\": 0.27947880119836094}, {\"value\": -0.8698153908312198}, {\"value\": 0.0395786691231263}, {\"value\": -0.7839922441215252}, {\"value\": 2.5988050004464047}, {\"value\": -1.4732808919775002}, {\"value\": -1.8516642326123247}, {\"value\": 1.2640115547807804}, {\"value\": -0.1749517294810001}, {\"value\": 0.23608134817170706}, {\"value\": 0.34419216545913117}, {\"value\": -0.6126682367452123}, {\"value\": 0.8027214779502599}, {\"value\": 0.22712028136015128}, {\"value\": 1.0722081667039702}, {\"value\": 0.9234807003554908}, {\"value\": 0.05189315029155862}, {\"value\": 0.9991787044290373}, {\"value\": 0.2306682599821088}, {\"value\": 0.8235502917218862}, {\"value\": -0.8234061282112989}, {\"value\": 0.39358697510763624}, {\"value\": 0.377491590863663}, {\"value\": 1.5996597498601606}, {\"value\": 0.7064339398660793}, {\"value\": -0.6449663458213325}, {\"value\": 0.5799704332224122}, {\"value\": 0.06119210873807186}, {\"value\": 0.5316615969798506}, {\"value\": -1.8071040668061442}, {\"value\": 0.434567351967416}, {\"value\": 0.16615111779179928}, {\"value\": -1.0482331058111274}, {\"value\": 0.4378425706574355}, {\"value\": 0.7447956577063499}, {\"value\": 1.013215659946612}, {\"value\": -1.1211798953756282}, {\"value\": -1.073009361094504}, {\"value\": -0.18687028705202227}, {\"value\": -0.7745657796209148}, {\"value\": -1.6470002646215163}, {\"value\": 0.5195423766766595}, {\"value\": 1.5264397529037161}, {\"value\": -0.6327815934951624}, {\"value\": -0.21731826229346618}, {\"value\": 2.8553833589153053}, {\"value\": -0.16247350026949567}, {\"value\": 0.28648124064408476}, {\"value\": -0.3955031635110735}, {\"value\": -0.270144726877304}, {\"value\": -0.9401894107075414}, {\"value\": 0.14742795021404168}, {\"value\": 0.16312242741049246}, {\"value\": -0.1810808872001181}, {\"value\": -0.8962658717868341}, {\"value\": 0.5714940157565781}, {\"value\": 1.4559709770262874}, {\"value\": 1.3206682546408104}, {\"value\": -0.5475412886892799}, {\"value\": -1.3190745134837052}, {\"value\": 1.5972124921435926}, {\"value\": 1.6549767832763707}, {\"value\": -1.251554515479187}, {\"value\": 0.9196482827433934}, {\"value\": -0.1567224466858737}, {\"value\": -0.1836258813709158}, {\"value\": 2.2691805262454707}, {\"value\": -0.3527846292571077}, {\"value\": 0.8378497575717905}, {\"value\": 0.3440899765636422}, {\"value\": -1.2635564090354456}, {\"value\": 0.1869524535207426}, {\"value\": -1.3435904664042646}, {\"value\": 0.32057685256044854}, {\"value\": 0.9877640401521907}, {\"value\": 1.1596415125518753}, {\"value\": -1.8823201601153674}, {\"value\": -0.7302877185130636}, {\"value\": 2.270614356614046}, {\"value\": -1.4801035628494166}, {\"value\": 0.6876776019191531}, {\"value\": 0.09013675272561812}, {\"value\": 1.7138458850962919}, {\"value\": -0.3609378129672103}, {\"value\": -0.038233238784037525}, {\"value\": 0.9467871885688998}, {\"value\": 1.35571271619391}, {\"value\": 2.1322041633816706}, {\"value\": 0.31344530224650985}, {\"value\": 1.4067904752291607}, {\"value\": 2.030806649066393}, {\"value\": 0.7592344856263078}, {\"value\": -0.24278198561660547}, {\"value\": 0.02455759527215626}, {\"value\": 1.1914154013386846}, {\"value\": 1.0918521592618493}, {\"value\": -0.9070820645826692}, {\"value\": 0.30754446202900354}, {\"value\": -0.7674483771512367}, {\"value\": 0.6954536575061891}, {\"value\": 0.29714610165563005}, {\"value\": 0.6707727240412235}, {\"value\": 0.7339350899410588}, {\"value\": 0.3500232467422493}, {\"value\": 1.0650104094728208}, {\"value\": 1.4925622242947325}, {\"value\": 1.6085501474976296}, {\"value\": 0.6610107684352796}, {\"value\": 0.26146877724200007}, {\"value\": -0.08115755347077483}, {\"value\": -0.8877949077238295}, {\"value\": 1.2235798150851662}, {\"value\": 1.4361774405824983}, {\"value\": -0.7629455166674313}, {\"value\": 1.0586494943341527}, {\"value\": 0.34918726989800575}, {\"value\": -0.14248502292949403}, {\"value\": -0.31849722185397816}, {\"value\": 0.6726416149930169}, {\"value\": -1.2314328282667786}, {\"value\": -0.024925936975725968}, {\"value\": -1.2258700267328897}, {\"value\": 0.2568725479567222}, {\"value\": 0.04284769212369476}, {\"value\": -0.01917932904166074}, {\"value\": 0.05825184493396634}, {\"value\": -0.5628008034230202}, {\"value\": 0.4209084070792922}, {\"value\": 0.1637821822707002}, {\"value\": 1.381472881149795}, {\"value\": 0.00348104799023873}, {\"value\": -0.4702658174698226}, {\"value\": -0.16450389566582363}, {\"value\": 1.2990255310055943}, {\"value\": 1.0674749416338218}, {\"value\": 1.2550422321679648}, {\"value\": -0.3052437147067726}, {\"value\": -0.14751539825693197}, {\"value\": 1.9557260681322144}, {\"value\": -0.14676546133148421}, {\"value\": 0.6111886853606657}, {\"value\": 0.7135540523260403}, {\"value\": -0.23101946943898638}, {\"value\": 0.493818658893199}, {\"value\": -0.3093305564271386}, {\"value\": -0.07365280146659081}, {\"value\": -0.5275495248659579}, {\"value\": -1.0033984877390956}, {\"value\": 0.01745735382058591}, {\"value\": -0.31639895697378684}, {\"value\": -0.8400927238882613}, {\"value\": -0.6076585533324315}, {\"value\": -2.0703863279238726}, {\"value\": -0.661049121938662}, {\"value\": 1.0737812502145916}, {\"value\": -0.37549958554401885}, {\"value\": -2.0598550157740654}, {\"value\": 2.1683979910039146}, {\"value\": -0.4012633885312494}, {\"value\": 0.9235763441243752}, {\"value\": 0.48088706101375667}, {\"value\": 1.3372007725117843}, {\"value\": 0.7214329173580453}, {\"value\": -0.17882704762677912}, {\"value\": 0.6624516255740899}, {\"value\": -0.3110513899181066}, {\"value\": 0.34926807879854743}, {\"value\": 0.615428548198326}, {\"value\": 0.31128040848787814}, {\"value\": -1.0308661566648805}, {\"value\": 0.013351411313496651}, {\"value\": 0.16228628192279185}, {\"value\": 0.009865718053789909}, {\"value\": 1.1013191732071284}, {\"value\": 0.14587727969595282}, {\"value\": 1.695495496567614}, {\"value\": -0.2862885269857544}, {\"value\": -0.4630532403895018}, {\"value\": -0.5982955956674518}, {\"value\": 0.6726604460229864}, {\"value\": -0.1381148656356255}, {\"value\": 0.007172790506070424}, {\"value\": 0.3247651170509792}, {\"value\": -1.0548248000649811}, {\"value\": -1.3805232981109548}, {\"value\": -0.9525442731513614}, {\"value\": -0.5826773874763038}, {\"value\": -0.24251069706176134}, {\"value\": 0.3699055929194751}, {\"value\": 1.3381891327590938}, {\"value\": 0.5174573511903408}, {\"value\": 0.9632009343507816}, {\"value\": 0.0635789710492226}, {\"value\": -0.5752915715063707}, {\"value\": -0.48014401457244676}, {\"value\": -1.4441239047201686}, {\"value\": -0.3585972205497678}, {\"value\": 1.6850022512992098}, {\"value\": 0.9749650695543081}, {\"value\": -0.49745165316601486}, {\"value\": -1.8469828513257365}, {\"value\": -1.031979159136463}, {\"value\": -0.41552157444605736}, {\"value\": -0.33665240901068033}, {\"value\": 0.30630156702469186}, {\"value\": 0.32172739070936685}, {\"value\": -0.06817271100250669}, {\"value\": -1.329688295249464}, {\"value\": 0.019191717550472345}, {\"value\": 1.3747360250160563}, {\"value\": 0.850666290745861}, {\"value\": 1.1369767740707004}, {\"value\": 0.20413672094391971}, {\"value\": 1.170320156254455}, {\"value\": 0.28327777897105455}, {\"value\": 0.9507487036898873}, {\"value\": 0.17242148224965878}, {\"value\": -0.029264498016884754}, {\"value\": -0.1633334108265658}, {\"value\": 1.056025915536842}, {\"value\": 1.3348395713380499}, {\"value\": 0.10304025986179827}, {\"value\": -0.9373007319640192}, {\"value\": 0.35260657923902594}, {\"value\": 1.3724913098589702}, {\"value\": -0.2906320806571513}, {\"value\": -1.088345534488437}, {\"value\": -1.3737448835252393}, {\"value\": 0.8366688823626383}, {\"value\": 0.4279482148318797}, {\"value\": -0.103320301946711}, {\"value\": -0.6874656778609223}, {\"value\": -0.7961929424966578}, {\"value\": 1.6155124867527566}, {\"value\": 0.891814762157786}, {\"value\": -0.06911051503593592}, {\"value\": 0.44665088684629795}, {\"value\": -1.123190271430865}, {\"value\": 0.26134806996678267}, {\"value\": -0.20876282414314343}, {\"value\": 0.32417595923068754}, {\"value\": 0.03281549867446292}, {\"value\": -1.5793804685213222}, {\"value\": -2.693194052798869}, {\"value\": -0.11003754870662652}, {\"value\": -1.043798308070092}, {\"value\": -0.4626552491634173}, {\"value\": 0.02103860120255724}, {\"value\": -1.2503171400651931}, {\"value\": -0.12220064459490029}, {\"value\": -0.0002044186242565439}, {\"value\": -1.2515562356168508}, {\"value\": 0.9527995093116512}, {\"value\": -1.5776676367888425}, {\"value\": -1.0712011131334522}, {\"value\": -0.15548491506121148}, {\"value\": 0.03970464671191408}, {\"value\": -1.2060860310270802}, {\"value\": -0.14746461410085832}, {\"value\": 1.3566803310409465}, {\"value\": 1.4030099222397339}, {\"value\": -1.2995665543450214}, {\"value\": 0.38119717348779075}, {\"value\": 0.45509167323269917}, {\"value\": -1.5262206982353113}, {\"value\": 1.5519239169914185}, {\"value\": -1.235293551026359}, {\"value\": -0.07592349397012463}, {\"value\": 0.0753682162812771}, {\"value\": 0.9798935268612938}, {\"value\": -1.018809587294213}, {\"value\": 1.1662699407089596}, {\"value\": 0.7868504176531242}, {\"value\": 0.21427691750101976}, {\"value\": 1.3966791310581144}, {\"value\": 0.3454631998881131}, {\"value\": -0.8840602866163813}, {\"value\": -0.5495715355642303}, {\"value\": 1.2779153555055007}, {\"value\": 0.797306777087112}, {\"value\": 0.9754306153005431}, {\"value\": -1.7897175940562053}, {\"value\": 0.9138202109493601}, {\"value\": 2.909390977875157}, {\"value\": 0.44699074721718673}, {\"value\": -0.29176071949445936}, {\"value\": -1.1110750349116636}, {\"value\": 0.35671630892968664}, {\"value\": -0.5982927363709075}, {\"value\": 1.689691181781531}, {\"value\": 0.20076255610296476}, {\"value\": 1.2877813298869483}, {\"value\": -0.2118345989806881}, {\"value\": 0.29608205961537565}, {\"value\": 0.04350040517455218}, {\"value\": 0.11447887827848441}, {\"value\": -1.8006796347437082}, {\"value\": -0.8664289623354192}, {\"value\": -0.5821759014045403}, {\"value\": 2.019714977718427}, {\"value\": 0.9249629656992893}, {\"value\": -0.8979036057546229}, {\"value\": -0.011316792059919884}, {\"value\": -1.0961009446593237}, {\"value\": 1.390527284489587}, {\"value\": 0.14498503447520572}, {\"value\": 1.3873191017775761}, {\"value\": 0.21016413724214889}, {\"value\": -0.939390409510233}, {\"value\": 0.21886450362328458}, {\"value\": -0.08345804763445411}, {\"value\": 1.0047026410900985}, {\"value\": -0.2114770517425265}, {\"value\": -1.8694961484828203}, {\"value\": -0.45529178310181073}, {\"value\": -2.0408493912612675}, {\"value\": -0.2673102029202049}, {\"value\": -1.4153092191847445}, {\"value\": -0.07087262146288024}, {\"value\": 0.8219499156720819}, {\"value\": 0.22474365898195026}, {\"value\": 0.958318229580558}, {\"value\": -0.3572630944198068}, {\"value\": -0.15198706802653425}, {\"value\": -0.1086465018237577}, {\"value\": -0.26042592855082825}, {\"value\": -1.1314650147475762}, {\"value\": 0.6770203038683853}, {\"value\": -0.38831339784747193}, {\"value\": 1.1147018488665117}, {\"value\": -0.9681250675752091}, {\"value\": -1.0092406779866578}, {\"value\": -0.3596273350997933}, {\"value\": 0.31494345137225904}, {\"value\": -0.053619399214666026}, {\"value\": 0.864711065191841}, {\"value\": -0.6962630163407661}, {\"value\": -0.26599839196723846}, {\"value\": -1.8088075545739832}, {\"value\": 0.3182933502093808}, {\"value\": 0.8587600925584956}, {\"value\": 0.5777812797326046}, {\"value\": -0.6044238076041022}, {\"value\": -1.401579607384279}, {\"value\": -0.4937691164328977}, {\"value\": -1.2341725642810193}, {\"value\": 1.2539472780590555}, {\"value\": 1.2508167491641156}, {\"value\": -1.7382576035438089}, {\"value\": -0.278372233442261}, {\"value\": -0.1332810869640516}, {\"value\": 0.34402221035453157}, {\"value\": -0.972177138212244}, {\"value\": -0.0023306481662071664}, {\"value\": -0.29804953246099686}, {\"value\": -0.6805145702788585}, {\"value\": 0.11368425276360486}, {\"value\": -0.3255816107073508}, {\"value\": 1.3013073701851194}, {\"value\": 1.8181316634611453}, {\"value\": -1.329436504201127}, {\"value\": 1.6548361526872468}, {\"value\": 0.005797132269749313}, {\"value\": 0.09638222509132595}, {\"value\": 0.3825761094902891}, {\"value\": -1.1812322133736433}, {\"value\": 1.1437057460706517}, {\"value\": 0.5386094772994819}, {\"value\": 0.8519389973465903}, {\"value\": 0.6893606584163409}, {\"value\": 1.4899268642306427}, {\"value\": -2.2336388982370763}, {\"value\": -0.9814891594686813}, {\"value\": 0.6979371039822364}, {\"value\": 1.2843156334172297}, {\"value\": -0.3309360137857304}, {\"value\": -0.5038443996103777}, {\"value\": 0.5830459832596109}, {\"value\": -1.0832938621583075}, {\"value\": 0.6393528101950626}, {\"value\": 0.19747146883767377}, {\"value\": -0.5809581702458042}, {\"value\": -0.8714767988498724}, {\"value\": 0.15527783733068903}, {\"value\": -1.3517407975929807}, {\"value\": 0.9426658348585342}, {\"value\": -1.1116599948882746}, {\"value\": 0.4992302025426466}, {\"value\": -1.3908707349298535}, {\"value\": -1.4895107952962978}, {\"value\": 1.4878958255435022}, {\"value\": 0.5634808925173925}, {\"value\": 0.025389488315823314}, {\"value\": 0.418448940987753}, {\"value\": 0.5197552380388261}, {\"value\": -0.6934087646566252}, {\"value\": 0.023018731944520518}, {\"value\": -1.4430121632343402}, {\"value\": 1.8927251571864445}, {\"value\": -0.009059255731859077}, {\"value\": 0.8947465488218328}, {\"value\": -1.2361202095005532}, {\"value\": 2.0655917080049253}, {\"value\": 0.39998771350210777}, {\"value\": -0.9724952320447539}, {\"value\": -0.887845742402635}, {\"value\": 0.5578867757319614}, {\"value\": 0.4801564191181327}, {\"value\": -0.660574340406579}, {\"value\": 0.8921503071642967}, {\"value\": -0.442087189089311}, {\"value\": 1.7308560200517913}, {\"value\": -1.337474165280964}, {\"value\": -1.0525897389606074}, {\"value\": -1.9012170541944344}, {\"value\": -0.5450485711894867}, {\"value\": -1.5382862686008314}, {\"value\": -0.7534155562684155}, {\"value\": -1.7759894608983284}, {\"value\": -0.09388811421655475}, {\"value\": -0.258811393589691}, {\"value\": 0.8696248119067305}, {\"value\": 1.7496380919399916}, {\"value\": 1.5648130868742522}, {\"value\": 1.0765253696849202}, {\"value\": -0.5323051915378706}, {\"value\": 0.052692215854760215}, {\"value\": -0.32260781869538047}, {\"value\": -0.8340720507592648}, {\"value\": -0.3319648080752285}, {\"value\": -1.3353960097937259}, {\"value\": -0.6972547833331434}, {\"value\": 0.14592959654371726}, {\"value\": -0.18160806075076952}, {\"value\": 0.3293484468323666}, {\"value\": -0.040389815343131845}, {\"value\": 1.5095173406533169}, {\"value\": -1.4155328157677534}, {\"value\": 1.4711455834261333}, {\"value\": 0.17409855074655564}, {\"value\": 1.7896519145566814}, {\"value\": 0.6051925330832139}, {\"value\": 1.1843611552144786}, {\"value\": -0.06259723956525697}, {\"value\": -0.7243090737398811}, {\"value\": 0.42631080394534027}, {\"value\": -0.18559382062897184}, {\"value\": -0.055500068709029515}, {\"value\": 0.2973767390941002}, {\"value\": 0.2112126189668618}, {\"value\": 1.909263019987821}, {\"value\": -0.12735487809197918}, {\"value\": 1.2446646090764035}, {\"value\": 1.554091767931156}, {\"value\": -1.3373621490373908}, {\"value\": 1.3140976647945106}, {\"value\": -0.006535423525722224}, {\"value\": 1.0929116585370369}, {\"value\": -0.5414311856706585}, {\"value\": -0.27291717516812}, {\"value\": -1.0113852239029748}, {\"value\": 0.2413908015015735}, {\"value\": 1.3336733620649548}, {\"value\": -0.5300221182416986}, {\"value\": 0.04634500290418451}, {\"value\": 0.7447147782121212}, {\"value\": 0.24665652978468114}, {\"value\": 0.22830821623853897}, {\"value\": 0.3511956021091784}, {\"value\": -0.28088136027943317}, {\"value\": -1.0263742152623738}, {\"value\": 0.05692176516521692}, {\"value\": 0.2844540980335734}, {\"value\": 0.40528382996665446}, {\"value\": -1.4002463790784918}, {\"value\": 0.09739033151250259}, {\"value\": 0.3408166525989363}, {\"value\": -1.1762339175441743}, {\"value\": 2.5925947335141255}, {\"value\": -0.9610169013039441}, {\"value\": 0.03561957262266379}, {\"value\": -0.9498065300805955}, {\"value\": -1.4229109835766554}, {\"value\": 0.2546024862878979}, {\"value\": 2.0338874353787606}, {\"value\": -0.42756901547542997}, {\"value\": 0.47500882109887743}, {\"value\": -1.2522419913409906}, {\"value\": 0.3652467731358208}, {\"value\": -1.133596730036653}, {\"value\": 1.5105616923182463}, {\"value\": -1.5419696268743033}, {\"value\": -0.06902548702670036}, {\"value\": -0.48336755777173784}, {\"value\": -0.6079763365976646}, {\"value\": 1.8072102147526674}, {\"value\": -2.8137431901661025}, {\"value\": -0.27872193160043357}, {\"value\": 0.24031511759955734}, {\"value\": -0.6195441716107509}, {\"value\": 0.2942381940222129}, {\"value\": -1.3786637324121607}, {\"value\": 0.3734833655873623}, {\"value\": 0.24219013377146903}, {\"value\": 0.372008085492688}, {\"value\": -0.7752057594950382}, {\"value\": -1.4306081443444283}, {\"value\": 1.9150760395199347}, {\"value\": 0.16905790256615197}, {\"value\": -0.24909963540075925}, {\"value\": -1.1733483304737715}, {\"value\": 1.1001242184147784}, {\"value\": 1.5845475215218703}, {\"value\": 0.11574298723693559}, {\"value\": -0.7834562390972355}, {\"value\": 0.6311399076059139}, {\"value\": 0.9411612453555863}, {\"value\": 1.4900624179072919}, {\"value\": -0.7382862018655042}, {\"value\": -1.6066378869490725}, {\"value\": 0.4188529011823372}, {\"value\": -1.2739745732909469}, {\"value\": -1.6483312025611179}, {\"value\": 1.4878442116027102}, {\"value\": 0.3187235637031276}, {\"value\": -0.6867564944694601}, {\"value\": 0.6819768299802642}, {\"value\": -0.9317444161772482}, {\"value\": 0.766055541863028}, {\"value\": 0.8652969400522429}, {\"value\": -1.0791757368042285}, {\"value\": -1.94426502401176}, {\"value\": 1.139673527860936}, {\"value\": 0.4669425476628611}, {\"value\": 0.506791456726391}, {\"value\": 0.10599841766375066}, {\"value\": 0.38376834463163934}, {\"value\": -1.2097428811769422}, {\"value\": -1.5388814667334343}, {\"value\": 1.0714256688138606}, {\"value\": -1.0932874444258935}, {\"value\": -0.8507028785246826}, {\"value\": 0.5641924691701082}, {\"value\": -0.6964250415410793}, {\"value\": 0.48353310311999226}, {\"value\": -2.2291200968894755}, {\"value\": -1.728913622611131}, {\"value\": -0.32241920562302373}, {\"value\": 0.5334940146809813}, {\"value\": -0.2099742793456171}, {\"value\": -2.4839869928063787}, {\"value\": 2.240156986646992}, {\"value\": 1.8699380833709454}, {\"value\": 0.461268830558843}, {\"value\": 0.3090805721942321}, {\"value\": 2.15681254942094}, {\"value\": -0.05497205731896964}, {\"value\": -0.9219959060841073}, {\"value\": -1.3987067810262748}, {\"value\": 0.19678049722246274}, {\"value\": -1.10031846473972}, {\"value\": -0.7440256743632511}, {\"value\": 1.4763914865385157}, {\"value\": 1.1178660027889278}, {\"value\": 1.557485021392619}, {\"value\": -0.22136063296451888}, {\"value\": -0.44657052486452}, {\"value\": 0.6684873299334971}, {\"value\": 1.1626251904244491}, {\"value\": 0.8918424081456577}, {\"value\": 0.2693317043594639}, {\"value\": -0.339920564841394}, {\"value\": -0.44203530744509273}, {\"value\": -0.16896873770356968}, {\"value\": -0.577042782003206}, {\"value\": 0.950816733792849}, {\"value\": 2.4350336392839145}, {\"value\": -1.269114563863058}, {\"value\": -0.5058421446215423}, {\"value\": 1.163078453745963}, {\"value\": -1.3893203458572703}, {\"value\": -0.5845589042934068}, {\"value\": 1.7113138435139152}, {\"value\": 1.006349228229571}, {\"value\": 0.9574734382580706}, {\"value\": 0.3595977225496434}, {\"value\": 0.9326600883889996}, {\"value\": 1.0968681370022615}, {\"value\": -1.039117536809423}, {\"value\": -2.0900123473838734}, {\"value\": 0.0022855928912746265}, {\"value\": 1.66367579457147}, {\"value\": -1.4632352823256651}, {\"value\": 0.2456693514010168}, {\"value\": -1.4761129372469606}, {\"value\": 0.6729245004821683}, {\"value\": 1.788781273271783}, {\"value\": 0.4903981752487765}, {\"value\": -0.20442054894369233}, {\"value\": 0.4707703357476487}, {\"value\": -1.3779660953035315}, {\"value\": 1.817284719183486}, {\"value\": 0.5906675717569759}, {\"value\": 0.9959686166448509}, {\"value\": -0.5671501763621896}, {\"value\": 0.24345299064019948}, {\"value\": -0.026506938368571608}, {\"value\": -0.9904504546712688}, {\"value\": 0.4414781821724643}, {\"value\": -0.46175601405721833}, {\"value\": 1.9681879286939798}, {\"value\": 0.48508018354723487}, {\"value\": 1.2462664585086973}, {\"value\": -0.46860978696719463}, {\"value\": -0.006475854261412428}, {\"value\": 0.10030151208982388}, {\"value\": 1.2903440016152603}, {\"value\": 0.3175269667683642}, {\"value\": 0.18871148096717652}, {\"value\": -1.02506839380901}, {\"value\": 0.5879316227978545}, {\"value\": -0.012850385479465801}, {\"value\": -0.8499492466327486}, {\"value\": 0.12480221903012403}, {\"value\": 0.5404703278575974}, {\"value\": -2.0135857423731043}, {\"value\": 1.03469435758602}, {\"value\": 0.7197065353769931}, {\"value\": -0.9969500297724097}, {\"value\": -0.14841606168711965}, {\"value\": -0.40617088375578686}, {\"value\": -1.4347643759914506}, {\"value\": 0.013508176672569228}, {\"value\": -0.8378578849220296}, {\"value\": 0.08713567429696588}, {\"value\": -1.072135368561041}, {\"value\": -0.6251764326854544}, {\"value\": -2.6408233899147437}, {\"value\": -0.7554217884118428}, {\"value\": -1.0042619690400445}, {\"value\": 2.6686243088838895}, {\"value\": -0.916987990344145}, {\"value\": -0.7995658416861396}, {\"value\": 1.2449432666713593}, {\"value\": 0.41132629156588935}, {\"value\": 1.9813005264014734}, {\"value\": -0.9815926886216783}, {\"value\": -0.3789645579053694}, {\"value\": 0.6728138203164398}, {\"value\": -0.31849360079821215}, {\"value\": 1.0092417765898125}, {\"value\": 0.48830010361174686}, {\"value\": 2.718840141941237}, {\"value\": 1.215767522936348}, {\"value\": 1.7950722348401082}, {\"value\": -0.9683763445307267}, {\"value\": -0.27268581322126517}, {\"value\": 0.017417200732230406}, {\"value\": 0.06692418596078047}, {\"value\": -0.10597349856535197}, {\"value\": 0.889252749262857}, {\"value\": 0.9695976446841588}, {\"value\": 0.27280897123864456}, {\"value\": 0.5879006861591879}, {\"value\": -0.030258347348749607}, {\"value\": -1.1473058498668818}, {\"value\": 0.6265759783279798}, {\"value\": 0.14824815147054907}, {\"value\": 0.6236848983126637}, {\"value\": 0.11928654687884602}, {\"value\": -0.1839212843421146}, {\"value\": -1.028089395245753}, {\"value\": -0.5764341416089496}, {\"value\": 0.05458008082623033}, {\"value\": 1.191751143346084}, {\"value\": 0.3736526450504492}, {\"value\": -0.45786443449962416}, {\"value\": -0.7961859428115335}, {\"value\": 1.0897329415074355}, {\"value\": 0.0722494653446573}, {\"value\": -2.4456720426325704}, {\"value\": 0.2362328386150572}, {\"value\": -0.5744966612106308}, {\"value\": -0.02303779255358737}, {\"value\": 0.7014310684329154}, {\"value\": -0.34592285522495103}, {\"value\": 0.035167863275993236}, {\"value\": 0.7428728994326277}, {\"value\": 0.03695533872499613}, {\"value\": -1.4892716238535695}, {\"value\": -0.5250529553697318}, {\"value\": 2.376957990063713}, {\"value\": 0.020158390082361973}, {\"value\": 0.43231359909934275}, {\"value\": 1.8272220733352937}, {\"value\": 0.5141045344464659}, {\"value\": 0.26658035396282764}, {\"value\": 0.9381025728999213}, {\"value\": -1.1906905422202008}, {\"value\": 1.3902314018706947}, {\"value\": 1.9366784806782318}, {\"value\": 2.397270413181209}, {\"value\": 0.7013086352541791}, {\"value\": -0.22799584078200905}, {\"value\": 1.4165206766363332}, {\"value\": -1.5692525701426672}, {\"value\": 0.9004186822497872}, {\"value\": 0.13955269252498934}, {\"value\": -0.21020524675749597}, {\"value\": -0.886815576935108}, {\"value\": 0.13593490468200614}, {\"value\": 0.08976205858393237}, {\"value\": -0.016771562561092735}, {\"value\": 0.4293159705193735}, {\"value\": -0.8901305444504328}, {\"value\": 1.7423358756782394}, {\"value\": 0.20770711905373698}, {\"value\": -1.9998908243100808}, {\"value\": 1.9599405912539065}, {\"value\": 0.3537804620247548}, {\"value\": -0.9607206942258563}, {\"value\": -0.2114680815246121}, {\"value\": 1.4723215777023944}, {\"value\": -1.9850317586105557}, {\"value\": -0.6826371300380287}, {\"value\": 0.26926227211357706}, {\"value\": 1.8689839924971703}, {\"value\": 3.095640989831279}, {\"value\": -2.0076136428719784}, {\"value\": 1.8346756084675309}, {\"value\": -1.7639325399152832}, {\"value\": 1.0622202798929572}, {\"value\": 0.03868226185084605}, {\"value\": -0.2329191953749576}, {\"value\": -0.9786394459431136}, {\"value\": 0.9396477762844655}, {\"value\": 0.4141723792650212}, {\"value\": -0.8855951230900638}, {\"value\": -0.19019715384999758}, {\"value\": -0.2184045271460341}, {\"value\": 0.3084040712303537}, {\"value\": -0.6878013343360266}, {\"value\": 0.3068957728323537}, {\"value\": 1.3764498759752064}, {\"value\": -0.1493969303463006}, {\"value\": -0.7736460031339812}, {\"value\": 1.0104740229240106}, {\"value\": 3.0892755352267622}, {\"value\": -1.4046025904739876}, {\"value\": -0.943683092934611}, {\"value\": 0.03503303152754563}, {\"value\": -2.0993713949480823}, {\"value\": 1.3412336015908795}, {\"value\": 0.685098163559292}, {\"value\": 1.504808118435453}, {\"value\": -0.7343768093963555}, {\"value\": 0.9035604721839148}, {\"value\": 0.6294769413790168}, {\"value\": -0.5150579456630886}, {\"value\": 0.5043163336311247}, {\"value\": 0.4157534068460165}, {\"value\": -0.3333282198590625}, {\"value\": -0.6517078928737338}, {\"value\": 0.25095474401903844}, {\"value\": -0.3061624381913695}, {\"value\": 0.3945193277655386}, {\"value\": -1.6282542367896562}, {\"value\": -1.0948526166950463}, {\"value\": -1.2989287642682739}, {\"value\": 0.1544485261926966}, {\"value\": -1.145905751139398}, {\"value\": -0.7756904957419305}, {\"value\": 0.8333991573405967}, {\"value\": 0.0025928913120764957}, {\"value\": 1.4863835574183306}, {\"value\": -0.8643501975088143}, {\"value\": -1.0887472781292509}, {\"value\": 0.07139844338538352}, {\"value\": -0.8988662177718633}, {\"value\": -0.15733005156975388}, {\"value\": -0.46839407725104876}, {\"value\": -0.1484271271361356}, {\"value\": -0.5960446015084097}, {\"value\": 0.3907560684799683}, {\"value\": -0.3745343460027354}, {\"value\": -0.8594851271370199}, {\"value\": -0.944213550257511}, {\"value\": 0.37132465178669505}, {\"value\": 2.6174668869268194}, {\"value\": -0.2729814570561616}, {\"value\": -1.1977378221762813}, {\"value\": -0.20557751912514174}, {\"value\": 0.4075541559306521}, {\"value\": -0.7936112971354975}, {\"value\": -0.03363268620522172}, {\"value\": -1.659216572026311}, {\"value\": 1.3468847207008594}, {\"value\": -0.07068235797040374}, {\"value\": 0.32636225796826196}, {\"value\": 0.03307291654403292}, {\"value\": 0.35509507624705017}, {\"value\": 0.5832575666271956}, {\"value\": -0.7710629730802084}, {\"value\": -0.4179991554113384}, {\"value\": 1.069812869674783}, {\"value\": -2.392416918746889}, {\"value\": -0.9682307622201821}, {\"value\": -0.20142605301661062}, {\"value\": -0.8375750123158494}, {\"value\": -0.6950679848884304}, {\"value\": 0.2600900217317445}, {\"value\": -0.5369053023485111}, {\"value\": -0.36819136105886435}, {\"value\": 0.3092237047618872}, {\"value\": -0.7565159088142033}, {\"value\": -0.13530980947582447}, {\"value\": 0.9985554782349862}, {\"value\": -1.0480170430388358}, {\"value\": -0.1790172575713698}, {\"value\": 0.7851721168760204}, {\"value\": 2.3745857518004247}, {\"value\": -0.5356599098935323}, {\"value\": 0.44335531579518717}, {\"value\": -1.1945392411169766}, {\"value\": -0.0011612643265140386}, {\"value\": -2.043981390931257}, {\"value\": 1.595900966792566}, {\"value\": 0.5161373455648672}, {\"value\": 1.4018525924055731}, {\"value\": -0.33798181711695896}, {\"value\": -1.9734181118903442}, {\"value\": 0.34034525095349993}, {\"value\": 0.1950962429658845}, {\"value\": 0.5190788339821752}, {\"value\": 1.4118778588882448}, {\"value\": -0.5003898425969651}, {\"value\": 0.3393625082808218}, {\"value\": 0.41415647699504615}, {\"value\": 0.30106262604303535}, {\"value\": -0.48005174253150523}, {\"value\": 0.14167300491295434}, {\"value\": -1.662874921468004}, {\"value\": 1.6649154466718459}, {\"value\": -0.44720542070874364}, {\"value\": 0.4103700661535024}, {\"value\": -0.7211976776374565}, {\"value\": 0.5123859465476801}, {\"value\": 0.6445099262188121}, {\"value\": -0.31163271564208517}, {\"value\": 0.1856315805273375}, {\"value\": -2.0677500211487416}, {\"value\": -0.2540746191393547}, {\"value\": -0.9514011332047179}, {\"value\": -3.242353185912033}, {\"value\": -0.5624232615935403}, {\"value\": -0.34851665221535716}, {\"value\": 1.1145966834646228}, {\"value\": 0.5539483223324941}, {\"value\": -3.214753555219219}, {\"value\": -0.1059858091049487}, {\"value\": 0.8297957956443802}, {\"value\": 0.6281036892689656}, {\"value\": -0.47354182528409955}, {\"value\": -0.5287318219506667}, {\"value\": 0.17375385106665847}, {\"value\": -1.2007562916956778}, {\"value\": -0.01142038447518928}, {\"value\": -0.7004251962986369}, {\"value\": 0.5741620614681213}, {\"value\": -1.3819751587254514}, {\"value\": 0.580904186285398}, {\"value\": 1.1511538211354806}, {\"value\": -0.5580777037222326}, {\"value\": -0.39821850552968063}, {\"value\": -0.873163821718005}, {\"value\": -1.6044015180962459}, {\"value\": 0.8740736862556097}, {\"value\": 1.2768964128426703}, {\"value\": -0.04530170273873038}, {\"value\": -0.3370697133968987}, {\"value\": -0.60636182211267}, {\"value\": -0.2012116733192503}, {\"value\": 0.04444995088668478}, {\"value\": -0.49470086714948985}, {\"value\": 1.1696197092553378}, {\"value\": -0.9074764939967616}, {\"value\": -0.35097499896757084}, {\"value\": -1.1012023181460622}, {\"value\": -0.3911362929224788}, {\"value\": -0.11099021801659055}, {\"value\": 1.1544173663119066}, {\"value\": 0.07427860591096287}, {\"value\": 0.9776265529845796}, {\"value\": -1.710303176904442}, {\"value\": 0.7395332900966923}, {\"value\": 2.1565087477260314}, {\"value\": 1.4769033168194552}, {\"value\": 0.32525875407012333}, {\"value\": -0.39313401627860695}, {\"value\": 2.2950603714192397}, {\"value\": 2.3024471478509696}, {\"value\": -0.9503205861225382}, {\"value\": 0.7125363767163533}, {\"value\": -0.5003798861641836}, {\"value\": -1.3604902056816073}, {\"value\": 0.0243756473122799}, {\"value\": 0.23947945328623335}, {\"value\": 0.05717665183247522}, {\"value\": -0.1769403149753168}, {\"value\": 1.7730921298498448}, {\"value\": -1.1407717879435693}, {\"value\": -0.7365410555664816}, {\"value\": 0.7199828179694411}, {\"value\": -0.5383166858276808}, {\"value\": -0.14038553768681516}, {\"value\": 0.3297632819478836}, {\"value\": 2.395968808910106}, {\"value\": 0.30310537363759127}, {\"value\": 0.40730909969164586}, {\"value\": -0.7205501237547455}, {\"value\": -0.9972143907441182}, {\"value\": -1.2768835580031035}, {\"value\": 0.6710816419342761}, {\"value\": 1.176730234270242}, {\"value\": 1.6696877897531988}, {\"value\": -0.41365961997161727}, {\"value\": -0.08363485839126951}, {\"value\": -0.5386404098563463}, {\"value\": -1.316079128240929}, {\"value\": 0.20415228799583704}, {\"value\": 0.22889001671035517}, {\"value\": 1.3299038715400922}, {\"value\": 0.14507706585757799}, {\"value\": -0.245340204014659}, {\"value\": -0.2623558456970614}, {\"value\": 1.3408388950087482}, {\"value\": -1.1676794050060473}, {\"value\": -0.4034212913216324}, {\"value\": -0.8168143523664536}, {\"value\": 0.4197360640388408}, {\"value\": -0.1327699673670175}, {\"value\": 0.4420534387281769}, {\"value\": -0.10183674412598744}, {\"value\": -0.07980903365500507}, {\"value\": 0.4362389952237267}, {\"value\": 0.1395856968058737}, {\"value\": -1.0716205037362412}, {\"value\": -2.633971723007245}, {\"value\": -1.293608221261206}, {\"value\": -0.7130187035970313}, {\"value\": 1.2259036191103043}, {\"value\": -0.2536712210960645}, {\"value\": 0.6375454839678153}, {\"value\": -1.1104797115515626}, {\"value\": -1.9259059436201096}, {\"value\": 1.6219844032767274}, {\"value\": -0.3311613431632069}, {\"value\": 1.050719140632663}, {\"value\": -1.1552585227974446}, {\"value\": -1.8191609301113567}, {\"value\": 2.5710664883596386}, {\"value\": 0.5801902153822632}, {\"value\": -0.2810620848125152}, {\"value\": 1.1759118467461405}, {\"value\": 0.46342502587846984}, {\"value\": 0.8969139028153547}, {\"value\": -0.09328566220305698}, {\"value\": -0.7545752464982783}, {\"value\": -1.0325144040066545}, {\"value\": -1.6844667152358221}, {\"value\": -1.0198727623649222}, {\"value\": 1.10727645086516}, {\"value\": -0.9527375215747328}, {\"value\": 0.2778757793454135}, {\"value\": -0.04973782584004001}, {\"value\": -0.6011709369601103}, {\"value\": 1.9240696676070137}, {\"value\": -0.4155655506262117}, {\"value\": 0.9589285086713057}, {\"value\": 0.46375553344613446}, {\"value\": 1.511970326754377}, {\"value\": 0.9013497735521411}, {\"value\": -0.9044088752233503}, {\"value\": 0.520961359645057}, {\"value\": 0.41753043920044824}, {\"value\": -0.3893783525701798}, {\"value\": -0.29871080769589886}, {\"value\": 0.2617998857448264}, {\"value\": -0.07812084567215472}, {\"value\": -0.3372685970790179}, {\"value\": -0.372207706886702}, {\"value\": 0.043519252714828476}, {\"value\": 1.9124153948869702}, {\"value\": 0.13638637534989542}, {\"value\": -0.5097498083926791}, {\"value\": 1.5844458692560817}, {\"value\": -0.3296957903882037}, {\"value\": 1.0603864398489042}, {\"value\": -2.894073585643336}, {\"value\": -0.8849600577294814}, {\"value\": 0.9290593122634649}, {\"value\": 0.5605536424615352}, {\"value\": 0.25351122320012803}, {\"value\": 0.5810088782437586}, {\"value\": -1.3544389360223426}, {\"value\": 1.463433974472291}, {\"value\": 0.23172889499062077}, {\"value\": 1.0419569041897276}, {\"value\": 0.23476371228007337}, {\"value\": 1.266152100188819}, {\"value\": -1.1497723403880913}, {\"value\": 0.5519556870565803}, {\"value\": -1.1047403165401786}, {\"value\": -1.4608542977287213}, {\"value\": -1.0182567987729194}, {\"value\": 0.23235504482689595}, {\"value\": 0.5842776740160622}, {\"value\": 0.6375996026469272}, {\"value\": 1.3001867262403983}, {\"value\": 0.49863705790047225}, {\"value\": 1.356254759822006}, {\"value\": 1.0227748147886613}, {\"value\": -0.34294529050657774}, {\"value\": -1.3687104095822349}, {\"value\": -1.9080154752352219}, {\"value\": 0.38756581458155825}, {\"value\": -0.10320843368268583}, {\"value\": 0.3520484390104606}, {\"value\": 0.9112404683301343}, {\"value\": -0.2750808726302069}, {\"value\": -0.6893847437700851}, {\"value\": 2.369493791597165}, {\"value\": 0.7774033625383681}, {\"value\": 1.1554433584470754}, {\"value\": -0.0348807620732534}, {\"value\": -0.667792869820181}, {\"value\": 0.3440443582985971}, {\"value\": 1.9358146818729118}, {\"value\": 0.4099524388555292}, {\"value\": 0.501888799305281}, {\"value\": 0.5256170801627238}, {\"value\": 0.7009996827490029}, {\"value\": 0.9484508209662392}, {\"value\": -0.04787176341055743}, {\"value\": 0.6874381469272427}, {\"value\": -1.656019979825415}, {\"value\": 0.7529220894280937}, {\"value\": 0.45402945832413366}, {\"value\": 2.5994221628225134}, {\"value\": 0.9448924479707766}, {\"value\": 0.04473103720678888}, {\"value\": 0.9679719231741585}, {\"value\": 0.916867158101419}, {\"value\": 0.4052411184473136}, {\"value\": -0.00014390333709069883}, {\"value\": 0.6569452657586904}, {\"value\": -1.2548092314112995}, {\"value\": 0.9333385497808846}, {\"value\": -0.5600253559141339}, {\"value\": 1.2848838380693348}, {\"value\": -0.05551518845350072}, {\"value\": 0.22047624268725985}, {\"value\": 0.11607833934045411}, {\"value\": -2.1172154846976494}, {\"value\": -0.4991605421061736}, {\"value\": 0.09954496944270144}, {\"value\": -0.4283992429467299}, {\"value\": -0.1755666481498454}, {\"value\": 1.3390188341656117}, {\"value\": 0.6918919944860983}, {\"value\": -0.6265846765473007}, {\"value\": -0.8876640025869456}, {\"value\": 0.359047237262857}, {\"value\": -0.6188042955635942}, {\"value\": -0.8746900758941631}, {\"value\": 1.6137969829372527}, {\"value\": -1.339924634667263}, {\"value\": 0.4083027793144105}, {\"value\": 0.10661251549121893}, {\"value\": -1.1834403189274139}, {\"value\": -0.23745664475303888}, {\"value\": 0.8769867383956994}, {\"value\": -0.10243140721405616}, {\"value\": 1.2269471390157074}, {\"value\": 1.0260453903697409}, {\"value\": 0.47127153984316716}, {\"value\": 1.6528164645197796}, {\"value\": -0.29180370153349844}, {\"value\": -1.155141389261797}, {\"value\": -0.8335926887168161}, {\"value\": 0.7768114765852441}, {\"value\": -0.9295661359808212}, {\"value\": 1.2392807268087114}, {\"value\": -0.9567076774550984}, {\"value\": 2.3223439266101376}, {\"value\": -0.818734473380287}, {\"value\": 0.10340838494138213}, {\"value\": -0.2153637155493053}, {\"value\": 0.3531253836133336}, {\"value\": -0.20777468644955555}, {\"value\": 1.384943421640101}, {\"value\": -2.3252188234285804}, {\"value\": -0.6681333248497315}, {\"value\": -1.3773656989508452}, {\"value\": -0.5152150464736777}, {\"value\": 0.6180112916820821}, {\"value\": 1.2315529872281015}, {\"value\": 0.18305730903951895}, {\"value\": 0.74108071022912}, {\"value\": 0.5319973669731829}, {\"value\": -0.6780876152378486}, {\"value\": -0.6688810025838016}, {\"value\": 0.8322638061862446}, {\"value\": 0.6498982840115204}, {\"value\": 1.791816054720146}, {\"value\": -0.5000161085331443}, {\"value\": -0.39915869503594675}, {\"value\": 0.08959353034074151}, {\"value\": 0.786555347898555}, {\"value\": 0.24903297152910944}, {\"value\": 0.7550990292092525}, {\"value\": -0.4722780093725108}, {\"value\": -0.5366418969310626}, {\"value\": 0.09947885945521595}, {\"value\": -0.9838075607501611}, {\"value\": 1.5629329036115798}, {\"value\": -0.4871589836026516}, {\"value\": -0.037392778051301534}, {\"value\": 1.9993376500703244}, {\"value\": -0.26979767056874987}, {\"value\": 0.5289113883815529}, {\"value\": -0.17584342208356332}, {\"value\": -0.6548714101752832}, {\"value\": 1.5681340116139346}, {\"value\": 0.2907758774646398}, {\"value\": 0.9055306268272303}, {\"value\": 0.4556750097315932}, {\"value\": 0.6750721396334973}, {\"value\": 1.063511011296833}, {\"value\": -0.3627191839147278}, {\"value\": -0.5943043245080397}, {\"value\": 0.3558550819087446}, {\"value\": 0.2018449272385053}, {\"value\": -1.6983514206968138}, {\"value\": 0.534776419974959}, {\"value\": 0.6929090898784713}, {\"value\": 0.2734321738513448}, {\"value\": 0.5834985131195892}, {\"value\": 0.539379464733606}, {\"value\": -0.3279484523715668}, {\"value\": -0.08646887823860663}, {\"value\": -1.4491221721739704}, {\"value\": 0.1405742580396397}, {\"value\": -0.745710047258527}, {\"value\": 0.7672993185203576}, {\"value\": -0.01099446879984754}, {\"value\": 1.700549587052297}, {\"value\": -0.6686748196586119}, {\"value\": -0.10963805769709942}, {\"value\": 1.048579663528867}, {\"value\": -1.2294412593304231}, {\"value\": -1.4141572990513434}, {\"value\": -0.10593229155388188}, {\"value\": -1.0255107862148962}, {\"value\": -0.05038448846247007}, {\"value\": -0.676191678386246}, {\"value\": -0.5453844245285913}, {\"value\": -1.640400667028417}, {\"value\": -0.6543605090085289}, {\"value\": -0.4787173382303571}, {\"value\": 1.0788085026106486}, {\"value\": 1.9043775153712446}, {\"value\": -0.3027013583183164}, {\"value\": 0.6150987185561697}, {\"value\": 0.5849416735904193}, {\"value\": 0.4922052722735522}, {\"value\": -0.12623727793532294}, {\"value\": 0.11726803198857115}, {\"value\": -0.2250764995028174}, {\"value\": 2.004090595365259}, {\"value\": -0.08312444278150642}, {\"value\": -0.6704851327684671}, {\"value\": -0.6254649848958539}, {\"value\": 0.11210887624967564}, {\"value\": 1.3200246632293993}, {\"value\": -0.6208173555101483}, {\"value\": 0.6430769866281731}, {\"value\": -0.9590468953938115}, {\"value\": 0.7394681422786469}, {\"value\": 0.3346692829060357}, {\"value\": -0.8201433393449412}, {\"value\": -0.3749684039466946}, {\"value\": 2.0192703049846394}, {\"value\": 0.2272496119574332}, {\"value\": 0.3174131765268668}, {\"value\": 1.1914207383297124}, {\"value\": 1.7049669395098155}, {\"value\": -0.696019820830293}, {\"value\": 0.045527807072381056}, {\"value\": -0.948076927691544}, {\"value\": 0.41927706676820786}, {\"value\": -0.5927672537416889}, {\"value\": 0.2664763521515688}, {\"value\": 2.46460274121744}, {\"value\": 0.1924080030094779}, {\"value\": -0.17803601233914165}, {\"value\": -1.5745583724240002}, {\"value\": -0.17018473633270834}, {\"value\": -0.1071936794995005}, {\"value\": -1.3766204132773792}, {\"value\": 0.352982856306021}, {\"value\": 0.1832946754927871}, {\"value\": 1.4908620084577362}, {\"value\": 0.6058888782118401}, {\"value\": 0.21382022175578266}, {\"value\": 0.029436500821253396}, {\"value\": 0.4037147308912095}, {\"value\": -0.7585030064943175}, {\"value\": 0.7327332225391993}, {\"value\": 0.17929043870456982}, {\"value\": -0.9432949432164381}, {\"value\": 0.10124001335470456}, {\"value\": -1.7644758709954835}, {\"value\": 1.0526945709902908}, {\"value\": 0.6969410337737745}, {\"value\": 0.24477397461424277}, {\"value\": -0.2304509372657204}, {\"value\": 0.04026047351605217}, {\"value\": 0.005519766432223123}, {\"value\": 0.22461458922139443}, {\"value\": -0.08366146401494727}, {\"value\": 0.0535584550966423}, {\"value\": -1.6316593034635942}, {\"value\": -1.0098739873575293}, {\"value\": 0.2807523847697328}, {\"value\": -0.43076980864019404}, {\"value\": -1.11904420763303}, {\"value\": 1.6393963412037318}, {\"value\": -0.41898259056836257}, {\"value\": 0.2433808260141114}, {\"value\": -0.393225563268276}, {\"value\": 0.4038869303264796}, {\"value\": 0.4872200079319812}, {\"value\": 0.7652738447101756}, {\"value\": -0.49069210974671956}, {\"value\": -0.6587475602127733}, {\"value\": -0.20495964437895392}, {\"value\": -0.07204241617110498}, {\"value\": 0.07447995377774912}, {\"value\": 1.6779237287598086}, {\"value\": 0.6705622297048653}, {\"value\": 1.223300960691215}, {\"value\": 1.2231587235061196}, {\"value\": 0.1731135574982526}, {\"value\": -1.451800202727538}, {\"value\": -1.1420484549018197}, {\"value\": 0.7612392844829118}, {\"value\": 1.3597725066297963}, {\"value\": 2.718279604203708}, {\"value\": -1.4581393002939054}, {\"value\": 0.3847964386758895}, {\"value\": 0.47258370308826547}, {\"value\": -0.3705766730882034}, {\"value\": 0.4057946754281204}, {\"value\": 0.4443447075125208}, {\"value\": -0.15676589027094742}, {\"value\": -0.28021304043152334}, {\"value\": -0.43303119542051344}, {\"value\": 0.3190654988801405}, {\"value\": -0.5771450608902151}, {\"value\": -0.4519517718928525}, {\"value\": 0.057888153499202025}, {\"value\": -0.023006493023293766}, {\"value\": -0.2969004151742056}, {\"value\": 2.917584695810813}, {\"value\": -0.72047123099295}, {\"value\": -0.0711791069660687}, {\"value\": 0.4977204047515615}, {\"value\": -0.8202483670499467}, {\"value\": 0.14683147471996946}, {\"value\": 0.09982295074639684}, {\"value\": -0.04693423506386732}, {\"value\": 0.19611929517360507}, {\"value\": -1.5405435647644485}, {\"value\": -1.0377325194617661}, {\"value\": 1.6374232278338554}, {\"value\": 0.6037734814351476}, {\"value\": -0.772896108623675}, {\"value\": 1.2071415546730924}, {\"value\": -1.1656137714385293}, {\"value\": 0.5501742640983847}, {\"value\": -2.123957748017436}, {\"value\": -0.7069834153200781}, {\"value\": 0.8634355132646411}, {\"value\": 1.0745205681462995}, {\"value\": 0.696588026699475}, {\"value\": -0.20672756011262444}, {\"value\": 0.5539363958737701}, {\"value\": 0.3456179419606828}, {\"value\": 0.14587073351043472}, {\"value\": 0.261078784742686}, {\"value\": -0.3044608446442363}, {\"value\": 0.2536421941289616}, {\"value\": 0.4200503629244791}, {\"value\": -0.8992740083448323}, {\"value\": -1.5002537991924774}, {\"value\": 0.5658750313599401}, {\"value\": -1.0224247949066956}, {\"value\": -1.2123921247261922}, {\"value\": 0.5780549656258833}, {\"value\": 0.9384193188826856}, {\"value\": 0.8653449548296104}, {\"value\": 0.23714608124346662}, {\"value\": -1.3106753990537843}, {\"value\": -0.9265586213228371}, {\"value\": 0.22020676872184416}, {\"value\": -2.039195493429072}, {\"value\": -2.788242817983747}, {\"value\": -0.3272817688583466}, {\"value\": 0.1408250740660264}, {\"value\": 0.16500708011741896}, {\"value\": 1.1419366111620244}, {\"value\": 0.8010707993347881}, {\"value\": -0.7231911378478298}, {\"value\": -1.4722494189675785}, {\"value\": -0.9774189280912153}, {\"value\": 2.3161588912172233}, {\"value\": 1.2118034930752095}, {\"value\": 1.2367549206015203}, {\"value\": -1.1478785811822054}, {\"value\": 0.8073408583936067}, {\"value\": 2.0307319754915643}, {\"value\": -1.4798298995381454}, {\"value\": -0.04560324540313322}, {\"value\": -0.08953799328216339}, {\"value\": -0.6168064484609072}, {\"value\": 0.6604067443867228}, {\"value\": 1.2780347496030002}, {\"value\": 0.24705897840476515}, {\"value\": 0.1480560756723896}, {\"value\": 0.7930584883032205}, {\"value\": 0.14093614731157428}, {\"value\": 0.8436741936295539}, {\"value\": 0.11824524799008339}, {\"value\": 0.9817844253617902}, {\"value\": 0.2858192312165976}, {\"value\": 1.643816451569095}, {\"value\": -0.8917828547975136}, {\"value\": 0.6170033920676504}, {\"value\": 0.22206772262758195}, {\"value\": 1.096866954246994}, {\"value\": 0.5753605390909318}, {\"value\": -0.7557020423913325}, {\"value\": -0.2194019745374794}, {\"value\": 2.2131885067029153}, {\"value\": 1.2944082835116766}, {\"value\": 1.3135996193885868}, {\"value\": 0.8974221909239053}, {\"value\": 0.41260911129652905}, {\"value\": -0.23845089920446497}, {\"value\": 0.9668661629821867}, {\"value\": -0.7141525545400399}, {\"value\": 0.9328444663626208}, {\"value\": 0.6772686244397897}, {\"value\": -0.39908065829257555}, {\"value\": -1.4462201718719276}, {\"value\": -1.6345693773567374}, {\"value\": 1.1712912935671058}, {\"value\": -1.7731036798685575}, {\"value\": -0.4995363623791418}, {\"value\": -0.5335638609798743}, {\"value\": -0.7007155906597307}, {\"value\": 0.7302818878777199}, {\"value\": -0.4343119661180279}, {\"value\": 1.0460215398241892}, {\"value\": -1.1709308545240986}, {\"value\": 0.7998407860025686}, {\"value\": -0.41482304189519}, {\"value\": 0.1967001017126383}, {\"value\": -1.1742172410810108}, {\"value\": -1.7752079687197788}, {\"value\": -0.7461686848784189}, {\"value\": 0.3142858425067662}, {\"value\": 0.24097749391337567}, {\"value\": -0.7203900805279969}, {\"value\": 0.01790619681846601}, {\"value\": -1.3116827414592425}, {\"value\": -0.30771718014642285}, {\"value\": 0.34299200660638446}, {\"value\": -0.33668672612206557}, {\"value\": 1.204648067561191}, {\"value\": 1.168109816735563}, {\"value\": 1.4236619603829734}, {\"value\": -0.05924870653687191}, {\"value\": -1.2312347845033964}, {\"value\": -0.2266822693308706}, {\"value\": -0.6701798840122586}, {\"value\": 2.2681983567698443}, {\"value\": -0.5332698796177419}, {\"value\": -0.31289294588747824}, {\"value\": -0.20988139840779654}, {\"value\": 0.4335278328188075}, {\"value\": -0.6858495686881535}, {\"value\": 2.0080198007031873}, {\"value\": 0.5871939142154353}, {\"value\": 0.17458483340449477}, {\"value\": 1.5508008551107915}, {\"value\": -0.26637514297708303}, {\"value\": 0.6706083300197606}, {\"value\": 0.6381720923777185}, {\"value\": 0.018786530761440975}, {\"value\": 1.5768523233592016}, {\"value\": 0.2705905229175089}, {\"value\": 1.0324511214699235}, {\"value\": 0.614080854494325}, {\"value\": -1.5779610487330487}, {\"value\": -0.6965341516955847}, {\"value\": -0.00771759326549949}, {\"value\": 0.7278755132180823}, {\"value\": -1.304182532986728}, {\"value\": 2.256295548549537}, {\"value\": 1.4560692213902329}, {\"value\": -0.3712483504015803}, {\"value\": 1.7467989085415043}, {\"value\": -0.13962091532398424}, {\"value\": 0.1216678264092923}, {\"value\": -1.233182510344575}, {\"value\": 0.08816822940170974}, {\"value\": -0.5098444293120192}, {\"value\": -0.10466242602552707}, {\"value\": 1.5069052738302626}, {\"value\": -0.9061267821184369}, {\"value\": -0.4686744558204789}, {\"value\": -0.016775739950908235}, {\"value\": -0.4798220632153616}, {\"value\": -0.18333779921053592}, {\"value\": 0.15619061318963015}, {\"value\": -0.7846394255435475}, {\"value\": 0.0030491664618320794}, {\"value\": 2.7228753496870945}, {\"value\": -1.5044809747092867}, {\"value\": 1.2391514533159487}, {\"value\": 1.4629253558425563}, {\"value\": 0.6439230849211766}, {\"value\": -0.5850464574310278}, {\"value\": 1.6381117442929716}, {\"value\": 0.5911983266057622}, {\"value\": -0.552680270287922}, {\"value\": 0.41026240074965553}, {\"value\": -0.48283302509984266}, {\"value\": 0.6460508851707634}, {\"value\": 1.9125342644747332}, {\"value\": -0.7487824362260787}, {\"value\": -0.07641292287672881}, {\"value\": 0.3786756883519052}, {\"value\": -0.828702378200486}, {\"value\": -0.16692711765826101}, {\"value\": -0.949715154170929}, {\"value\": -1.7371635725408838}, {\"value\": -0.2808268362253945}, {\"value\": 1.5068006480640175}, {\"value\": 1.070585933042381}, {\"value\": 0.42349400446945684}, {\"value\": 0.22454187853885324}, {\"value\": -0.41817151963872307}, {\"value\": -0.6212896008637615}, {\"value\": 0.5232017276139228}, {\"value\": 1.99766774062024}, {\"value\": 0.7765727502398171}, {\"value\": -0.6839330810085039}, {\"value\": 1.1058910293990365}, {\"value\": 0.7498872725301349}, {\"value\": 0.07997112667902095}, {\"value\": 1.446412929679864}, {\"value\": -0.4758841521094326}, {\"value\": -0.19065912890004566}, {\"value\": -1.0174464355849528}, {\"value\": 0.26063961051031587}, {\"value\": 1.0037223508788986}, {\"value\": -1.8458748474046374}, {\"value\": -0.08546030008331482}, {\"value\": 1.201773454724274}, {\"value\": -2.445843469574471}, {\"value\": 1.0299950212613929}, {\"value\": -0.25809965918855293}, {\"value\": 1.572422675470526}, {\"value\": -0.741022650155615}, {\"value\": 2.3143128475496746}, {\"value\": 0.31915384539741326}, {\"value\": -0.19560849643879272}, {\"value\": 2.2120176332689407}, {\"value\": -0.14407015778307294}, {\"value\": -0.027540413916856018}, {\"value\": -0.855134584779703}, {\"value\": -2.928919045722888}, {\"value\": 1.2569371953290707}, {\"value\": -1.0895743531563484}, {\"value\": 0.3283269076858036}, {\"value\": -0.604509611433383}, {\"value\": 1.813759294332122}, {\"value\": 0.5445957929611257}, {\"value\": 0.8350367739539628}, {\"value\": 0.377542192794199}, {\"value\": -0.8120413137247877}, {\"value\": -0.07471092370527851}, {\"value\": -0.24848140265739682}, {\"value\": -0.29494882320692456}, {\"value\": 0.35805495733576137}, {\"value\": -1.6510482346623228}, {\"value\": 0.06481525304300868}, {\"value\": -1.607345007640147}, {\"value\": -0.46850093649545904}, {\"value\": -0.03940632723922507}, {\"value\": 0.029211146348862287}, {\"value\": 0.5730904766693558}, {\"value\": -0.14074323329074218}, {\"value\": 0.8048488097026105}, {\"value\": -0.2379634086862363}, {\"value\": 1.4467582606559046}, {\"value\": -0.5090885416856842}, {\"value\": -3.23767954488129}, {\"value\": 1.3893482128139574}, {\"value\": -0.3255407649424649}, {\"value\": 0.5271095513986952}, {\"value\": -0.7778024714807582}, {\"value\": -0.8238984535194668}, {\"value\": -0.1480502911772754}, {\"value\": 0.5341270844746694}, {\"value\": -0.05324160743434184}, {\"value\": -0.9290511107843481}, {\"value\": -0.9873060258390869}, {\"value\": -0.38635511617538887}, {\"value\": 0.04710304233506976}, {\"value\": 1.005955439680248}, {\"value\": -0.7294336539450144}, {\"value\": 1.0192197468063566}, {\"value\": 0.49930121847298525}, {\"value\": 0.3619957020025609}, {\"value\": 0.6629841707625816}, {\"value\": 1.908277196930634}, {\"value\": -0.8320997519762089}, {\"value\": -0.3165282684484437}, {\"value\": -0.6134439501905928}, {\"value\": -0.12527138892931144}, {\"value\": -1.1483323919714328}, {\"value\": 1.5358082875667067}, {\"value\": 0.10171503785243263}, {\"value\": 0.8078937399500511}, {\"value\": 0.3810522710517599}, {\"value\": 0.4621201788502515}, {\"value\": -0.5166496702652358}, {\"value\": -1.510347576506143}, {\"value\": 0.3459670138102612}, {\"value\": -1.807736238109627}, {\"value\": 0.791497784876962}, {\"value\": 0.4522118126862228}, {\"value\": -0.5426325196936039}, {\"value\": -0.2063756382294819}, {\"value\": -0.5561975373643591}, {\"value\": -0.6822503610286264}, {\"value\": -0.9984302577139025}, {\"value\": -0.6948328734543161}, {\"value\": -0.03589133363020921}, {\"value\": 0.8712416517204382}, {\"value\": 0.5516683177953741}, {\"value\": -1.3781860291072452}, {\"value\": 1.613359617130071}, {\"value\": -0.7800763320430328}, {\"value\": 0.3170736092358071}, {\"value\": -1.6542708033079068}, {\"value\": 2.2085521373781116}, {\"value\": 0.8237445625108913}, {\"value\": -0.2458250227541627}, {\"value\": -0.6784812337542478}, {\"value\": -1.3326212251032907}, {\"value\": 0.3347889587423732}, {\"value\": 0.410987285492884}, {\"value\": -1.642587439654291}, {\"value\": -0.22400897596158406}, {\"value\": 1.9862358908817312}, {\"value\": 0.3625531837372079}, {\"value\": -0.7024892104064511}, {\"value\": -0.8320828648376127}, {\"value\": -0.8180111352851261}, {\"value\": 1.3995715401250597}, {\"value\": 1.2244692847490892}, {\"value\": 1.8373608337923126}, {\"value\": 0.0987429194071547}, {\"value\": -1.3685066331570455}, {\"value\": 1.793531649009589}, {\"value\": 3.8847697989027163}, {\"value\": -2.0887478809935223}, {\"value\": -0.9839637992210054}, {\"value\": 0.7503903604543657}, {\"value\": 1.4825159742978116}, {\"value\": 0.06796246611955385}, {\"value\": -0.15568843438288069}, {\"value\": -0.9149254699671323}, {\"value\": -0.37387625699591015}, {\"value\": -0.7802288777078986}, {\"value\": -1.0884295016696588}, {\"value\": 0.9714351035835518}, {\"value\": -0.22112401983971255}, {\"value\": -0.7043197066836407}, {\"value\": 1.2090798707640342}, {\"value\": 0.3536798323530695}, {\"value\": 0.7669937256449386}, {\"value\": -1.514864378084344}, {\"value\": 1.7416060924628007}, {\"value\": 0.5914813500002699}, {\"value\": 1.1259660593360552}, {\"value\": 0.07736164310936222}, {\"value\": 1.0980676167316614}, {\"value\": -2.236874024755707}, {\"value\": -1.835740934452573}, {\"value\": -1.1394151175451852}, {\"value\": 1.0840183892227329}, {\"value\": -0.008365819837508913}, {\"value\": 1.2469418877943887}, {\"value\": -0.37530037850373327}, {\"value\": -0.05635887928126992}, {\"value\": -0.3485410790235455}, {\"value\": -0.14005687545811052}, {\"value\": -1.4468472722070391}, {\"value\": 0.9043446462903408}, {\"value\": -1.2271342289380232}, {\"value\": 0.16438972747631186}, {\"value\": 0.5196505150725155}, {\"value\": 0.37557602775425647}, {\"value\": 0.9333162580452647}, {\"value\": 0.3007871703809566}, {\"value\": -1.411187625782886}, {\"value\": -0.03676513241412268}, {\"value\": 1.2927346633141654}, {\"value\": 0.14184111316725373}, {\"value\": -0.5731535307983752}, {\"value\": 0.17172086743054468}, {\"value\": -1.443159627807937}, {\"value\": -1.1592135201551563}, {\"value\": -0.5113845546514615}, {\"value\": -1.285595135441516}, {\"value\": -0.7092310816684412}, {\"value\": -0.277899833712983}, {\"value\": 0.18977507567827698}, {\"value\": -0.7976540835502608}, {\"value\": -2.1601354051048345}, {\"value\": -0.049701310949938696}, {\"value\": 0.9549317764920037}, {\"value\": -0.80190107229677}, {\"value\": -1.221526414724137}, {\"value\": -2.9696821842709102}, {\"value\": -0.8648889840885664}, {\"value\": -1.1040697577332241}, {\"value\": -1.6814684661069597}, {\"value\": 0.0918415680504754}, {\"value\": -0.6229191066672737}, {\"value\": -1.0607379830099628}, {\"value\": -0.3796895928968895}, {\"value\": -1.0274853210529569}, {\"value\": -1.5305598310913486}, {\"value\": 1.221922710176322}, {\"value\": -0.8602108417124843}, {\"value\": 0.16015691257263143}, {\"value\": 1.2986119076863203}, {\"value\": -1.1510348690850292}, {\"value\": 0.7785913759380054}, {\"value\": -0.6787400588976881}, {\"value\": 1.144054349323628}, {\"value\": 0.357009112463217}, {\"value\": -0.835279013147468}, {\"value\": 1.4922956329173913}, {\"value\": 0.9800928318216842}, {\"value\": -1.9953405710107506}, {\"value\": -0.11238894807035299}, {\"value\": -0.5368982078320801}, {\"value\": -0.78025991676183}, {\"value\": 1.7678233113140782}, {\"value\": -1.6507268330326428}, {\"value\": 0.18330615123062993}, {\"value\": -0.8477135412445684}, {\"value\": 0.6223604748097706}, {\"value\": -0.2550001279366414}, {\"value\": 0.9036245164507075}, {\"value\": 0.6481273427739105}, {\"value\": -0.885899040879826}, {\"value\": 0.527680025566884}, {\"value\": -0.32569229369990643}, {\"value\": -0.5211455726349238}, {\"value\": 1.9438316810391978}, {\"value\": -0.9212777136139866}, {\"value\": -1.9630518754703057}, {\"value\": 1.4277545553782356}, {\"value\": -0.016871799889152446}, {\"value\": -0.9872394653129906}, {\"value\": -1.0400551672911014}, {\"value\": 0.819703870048591}, {\"value\": 1.6936009141436903}, {\"value\": 0.054864042443758886}, {\"value\": -0.5663486492266685}, {\"value\": -1.0329995376329704}, {\"value\": 1.826353221754351}, {\"value\": -0.805952002626091}, {\"value\": -2.846219323717153}, {\"value\": -1.0765424297685866}, {\"value\": -0.5900799204576328}, {\"value\": 1.165311789030272}, {\"value\": -0.7299288333414325}, {\"value\": -0.39673905282464894}, {\"value\": 0.09084395842660564}, {\"value\": -1.523487214427631}, {\"value\": 0.2712691067723412}, {\"value\": -0.3254783997811484}, {\"value\": 0.6455527227554251}, {\"value\": 0.7640618002143377}, {\"value\": 1.2291838893776208}, {\"value\": -1.5081793304587385}, {\"value\": -1.4097724533648368}, {\"value\": -0.1667728218618566}, {\"value\": -0.10583468455037101}, {\"value\": 0.7455563859878638}, {\"value\": 0.30546723627048405}, {\"value\": -1.6498271526631556}, {\"value\": -0.7387793744316332}, {\"value\": -0.4137497629948338}, {\"value\": -1.4869011764127664}, {\"value\": 1.020538918205101}, {\"value\": 1.0709185153980683}, {\"value\": 1.4763181762031112}, {\"value\": 2.173374685279748}, {\"value\": -1.2592996598793613}, {\"value\": -1.267032900262133}, {\"value\": 0.8780233721500285}, {\"value\": -0.018002732214422362}, {\"value\": -1.1927542916965386}, {\"value\": 1.060533847186464}, {\"value\": -0.515953972709344}, {\"value\": 2.1141710230003063}, {\"value\": 0.30545769868920836}, {\"value\": 0.9444374715312737}, {\"value\": -0.38617133227384925}, {\"value\": 1.6388221606334488}, {\"value\": -0.903006652341133}, {\"value\": -0.40233798250459957}, {\"value\": -0.8853674302477481}, {\"value\": 0.15484627136899481}, {\"value\": -1.2870839239726302}, {\"value\": -2.2501463153158126}, {\"value\": 0.29615413579685373}, {\"value\": 0.31203381304837674}, {\"value\": 0.41701206445804884}, {\"value\": 0.20848344560675683}, {\"value\": 0.46271758380874717}, {\"value\": -1.1609289670244927}, {\"value\": 0.9189844283949857}, {\"value\": 0.9000429665167464}, {\"value\": -0.7908089014915122}, {\"value\": -0.15118971298273534}, {\"value\": 0.4798112176615502}, {\"value\": -1.0475185599860517}, {\"value\": -0.9790891331607493}, {\"value\": 0.8484137171468756}, {\"value\": -2.4553956000504225}, {\"value\": -0.5366675072197191}, {\"value\": -0.24611547919009177}, {\"value\": -0.7809533865863034}, {\"value\": -1.8725055654548421}, {\"value\": 0.041847277165336705}, {\"value\": -0.840665906170021}, {\"value\": -0.38616979775419363}, {\"value\": -0.8201857991627938}, {\"value\": -0.27221922443148705}, {\"value\": 0.41489529927986407}, {\"value\": 1.7834494541400907}, {\"value\": -0.03615025321835459}, {\"value\": 1.5303799944949492}, {\"value\": 0.6699193755634723}, {\"value\": -1.9447557958425452}, {\"value\": -1.6843544449441221}, {\"value\": -0.8122796954059945}, {\"value\": 0.3815451912209162}, {\"value\": 0.5680211435116369}, {\"value\": -1.8165167986549031}, {\"value\": -1.517449927039273}, {\"value\": 0.5539607515020545}, {\"value\": -0.40614664662822775}, {\"value\": 0.04317008871139566}, {\"value\": 0.31381903185237414}, {\"value\": -2.087073841787325}, {\"value\": 1.0940157533173052}, {\"value\": -0.13534762789636495}, {\"value\": 2.004305163745284}, {\"value\": -1.6137304907432046}, {\"value\": 1.3890073294013554}, {\"value\": -0.3134315735263615}, {\"value\": -0.5567230524290414}, {\"value\": 1.1188037323973803}, {\"value\": 0.770336004809019}, {\"value\": 0.1848046486009863}, {\"value\": 0.20738291682982934}, {\"value\": -0.5778116924720658}, {\"value\": 0.9178136767833235}, {\"value\": 1.8023273510271378}, {\"value\": 0.9960742642844196}, {\"value\": 0.6714862630347881}, {\"value\": 2.047105670496301}, {\"value\": -0.26200659330242}, {\"value\": 0.6994294634110291}, {\"value\": 0.9256650494830282}, {\"value\": -1.3376192325610405}, {\"value\": -0.5111191656772148}, {\"value\": 0.7507010833892733}, {\"value\": 0.1605390582799009}, {\"value\": 0.5324952034226581}, {\"value\": 0.40816517737062913}, {\"value\": -0.6107691257468343}, {\"value\": -1.4719611855979435}, {\"value\": -0.1498782367776044}, {\"value\": -1.0081136673722357}, {\"value\": -0.4109058779260402}, {\"value\": -1.0967436220161455}, {\"value\": -1.5867989371542726}, {\"value\": 0.8587712088973434}, {\"value\": -1.4355927131146071}, {\"value\": -0.4214510211496853}, {\"value\": -0.36040817612882486}, {\"value\": 0.058842913103049364}, {\"value\": -2.043250574637497}, {\"value\": 0.5881691369787254}, {\"value\": -2.3078119660199765}, {\"value\": 2.0174219223099015}, {\"value\": 1.776907725435647}, {\"value\": 0.6925851383669642}, {\"value\": -1.2880440903630983}, {\"value\": -0.6332757085620518}, {\"value\": 0.8140351418223267}, {\"value\": 1.3502119568018607}, {\"value\": -0.12796330149912485}, {\"value\": 0.02999027364736824}, {\"value\": -0.8215542082976557}, {\"value\": 0.825890272067823}, {\"value\": -0.34804677944201734}, {\"value\": -0.1982150365841071}, {\"value\": 2.4490504414559484}, {\"value\": 1.7630317810608298}, {\"value\": -0.9567310587105534}, {\"value\": 1.7567890730507916}, {\"value\": 0.776944461699837}, {\"value\": -2.0617543075854448}, {\"value\": -0.562998357157962}, {\"value\": 1.472397541245726}, {\"value\": -1.0846585813206464}, {\"value\": -0.7216532360157744}, {\"value\": 0.8708402778063009}, {\"value\": 1.755348471656312}, {\"value\": -0.7087264029591511}, {\"value\": 0.6164582433336756}, {\"value\": 0.6451771762763986}, {\"value\": 0.8110781308655}, {\"value\": -0.11077147656100607}, {\"value\": -0.1334805961257523}, {\"value\": -0.06732694350788036}, {\"value\": -1.1730804233258274}, {\"value\": 0.5775094090820293}, {\"value\": 0.2030806400844666}, {\"value\": -0.6481534991118931}, {\"value\": -2.1132516304824285}, {\"value\": 0.014271593875698558}, {\"value\": -0.6007704262991758}, {\"value\": 0.05255327657064238}, {\"value\": -0.47149824767420545}, {\"value\": -0.05961945891078544}, {\"value\": -1.4526839844893542}, {\"value\": 0.6076828374630737}, {\"value\": 1.63596912487863}, {\"value\": 0.3942431175451858}, {\"value\": -0.8228551212007802}, {\"value\": 0.5184036217378498}, {\"value\": 0.2944543206920015}, {\"value\": 1.9668080166115975}, {\"value\": 0.41172010015917604}, {\"value\": -1.221102114957356}, {\"value\": 1.9930412597552356}, {\"value\": -0.19079198276781945}, {\"value\": -1.7664680379410935}, {\"value\": 0.3270489846752429}, {\"value\": -0.09887746093157138}, {\"value\": -1.120552292259304}, {\"value\": 0.4539057950266126}, {\"value\": 0.15844194494809327}, {\"value\": -0.425313981280287}, {\"value\": 0.33556832860741365}, {\"value\": 1.4733431014615637}, {\"value\": 0.18227036084615628}, {\"value\": -0.38558504298926577}, {\"value\": -0.8472880157180162}, {\"value\": -0.9959178906977112}, {\"value\": -0.6881561260135081}, {\"value\": 0.5654271651119424}, {\"value\": -1.1368795259396811}, {\"value\": 0.23656931581538343}, {\"value\": 0.4736001573437994}, {\"value\": 0.5611442217285588}, {\"value\": 0.17411478409797973}, {\"value\": -1.1437719246904543}, {\"value\": -0.4227832809584069}, {\"value\": 2.0298907861771913}, {\"value\": -0.24074259026189418}, {\"value\": 0.5279869460001897}, {\"value\": -0.42018243500759594}, {\"value\": -0.533812462992385}, {\"value\": -0.6818978653333948}, {\"value\": 0.10662692491375139}, {\"value\": -0.3198508805934814}, {\"value\": 1.503138759150356}, {\"value\": 1.5611777681785095}, {\"value\": 0.7185396661373552}, {\"value\": 0.888712873098713}, {\"value\": 1.495055280708002}, {\"value\": -0.754848384597677}, {\"value\": 0.79714851507438}, {\"value\": 0.4373672169215661}, {\"value\": -0.5148095014500357}, {\"value\": -1.921005720454611}, {\"value\": 0.14362061489399205}, {\"value\": 1.1977080720097646}, {\"value\": 1.8609894824124051}, {\"value\": 1.028245049679117}, {\"value\": 0.8918829050423273}, {\"value\": 1.8753869603460576}, {\"value\": -1.3200842304902771}, {\"value\": -0.2044216551035083}, {\"value\": 0.9952056902391434}, {\"value\": 1.4174126458143732}, {\"value\": 0.029493210328093447}, {\"value\": 0.31468582938164075}, {\"value\": 0.6640706558206393}, {\"value\": 0.5519091035120075}, {\"value\": 0.8287142547224806}, {\"value\": -0.12522709764090384}, {\"value\": -0.4278753211248754}, {\"value\": 0.09663306807516439}, {\"value\": 0.21293830932720975}, {\"value\": -1.5814019667064412}, {\"value\": -1.6247827773261914}, {\"value\": -0.8369202492963683}, {\"value\": 2.555418737313544}, {\"value\": 0.0143157606757017}, {\"value\": -0.23544733490015757}, {\"value\": -0.6057836226795607}, {\"value\": 2.0393106054833177}, {\"value\": -0.2163444173520751}, {\"value\": 2.276735413392202}, {\"value\": 0.42441409279481945}, {\"value\": 0.26371306297094527}, {\"value\": 0.2687604742811917}, {\"value\": -0.9180984571432173}, {\"value\": 1.0636256972841829}, {\"value\": 1.045189609225088}, {\"value\": -1.4097085383140107}, {\"value\": 1.123089354775379}, {\"value\": 0.392971567318747}, {\"value\": 0.5462068737155708}, {\"value\": -0.5125226785962488}, {\"value\": 0.7553068049833509}, {\"value\": 0.8957149346197206}, {\"value\": 0.45523450512322133}, {\"value\": 0.5462585743630894}, {\"value\": 0.7839661415993878}, {\"value\": 0.890121069453746}, {\"value\": -0.13884970552174872}, {\"value\": -0.47282692153716993}, {\"value\": 0.32329235646636534}, {\"value\": -0.3859122633386503}, {\"value\": -0.6545980279762404}, {\"value\": 1.0253104892124056}, {\"value\": -0.07835750920829379}, {\"value\": -1.0694175992490003}, {\"value\": -0.7516914441545461}, {\"value\": -0.8649971720368415}, {\"value\": -0.42158147202061885}, {\"value\": -1.6566633941538003}, {\"value\": 0.33232958580627614}, {\"value\": -0.11049059518039875}, {\"value\": -0.20642250745687174}, {\"value\": 0.3756108790727277}, {\"value\": 0.30470485178844625}, {\"value\": 0.83618435663458}, {\"value\": 1.162518134613965}, {\"value\": 0.11065552374228009}, {\"value\": 1.8237246351486331}, {\"value\": -0.46527562291548397}, {\"value\": -0.7519881288216336}, {\"value\": -0.25561421482122404}, {\"value\": 0.2890952181561431}, {\"value\": -2.3465959764356388}, {\"value\": 0.8087546542726896}, {\"value\": -1.200733395307043}, {\"value\": -0.6838510774390599}, {\"value\": -0.7140411267140087}, {\"value\": -0.18801072580666858}, {\"value\": -2.2145441083815256}, {\"value\": 0.3341448728862909}, {\"value\": 0.3579313525903766}, {\"value\": -0.9000611157277384}, {\"value\": 1.504360502697183}, {\"value\": 0.10129188865879445}, {\"value\": 1.0532781877456059}, {\"value\": 0.3207987086773442}, {\"value\": -0.5780472932924913}, {\"value\": -0.4116584658660907}, {\"value\": 0.07130710277998231}, {\"value\": -0.8842475520060715}, {\"value\": 1.1313167279963068}, {\"value\": 1.3163851237907207}, {\"value\": 0.3521122801653823}, {\"value\": 0.36627121632071313}, {\"value\": 0.5657961076276663}, {\"value\": -0.3165657270160693}, {\"value\": 0.42079629960920323}, {\"value\": -0.6046497831283901}, {\"value\": 1.948535054155016}, {\"value\": 0.0943804557217485}, {\"value\": 0.36118433749374007}, {\"value\": -0.24228281279491976}, {\"value\": 2.5594319643956855}, {\"value\": -0.34389802837384975}, {\"value\": 0.8012995488969025}, {\"value\": 0.5496795469800939}, {\"value\": -1.630305221851973}, {\"value\": -0.7025224752378508}, {\"value\": 0.5699058459885566}, {\"value\": -0.061451899816550845}, {\"value\": 0.6326542450354271}, {\"value\": -0.6272641935802922}, {\"value\": -0.10759095595512733}, {\"value\": 1.2691388090875786}, {\"value\": -0.9891602358500319}, {\"value\": 0.5505913938047016}, {\"value\": -0.5159719587615611}, {\"value\": 0.15843392168185727}, {\"value\": -0.5011716880174527}, {\"value\": -1.1739306427416134}, {\"value\": -0.15967639791461397}, {\"value\": 0.2641811298823235}, {\"value\": -0.14819414998961275}, {\"value\": 1.0149537542884122}, {\"value\": -1.183969181096426}, {\"value\": -0.8351096379462994}, {\"value\": 0.46243969523387946}, {\"value\": -0.4029593752733118}, {\"value\": 1.5712271524587558}, {\"value\": 0.5824271818146669}, {\"value\": -0.47251546109341575}, {\"value\": 0.5327054891407325}, {\"value\": 0.8339974929389593}, {\"value\": 1.1219596751817744}, {\"value\": 0.37347864922746743}, {\"value\": 0.7932642103154013}, {\"value\": 0.18076965265706677}, {\"value\": -0.7060783322446372}, {\"value\": -0.39152054558694}, {\"value\": 0.3444098023796321}, {\"value\": 0.9552752602048918}, {\"value\": 0.299622162436725}, {\"value\": 0.5315732798701763}, {\"value\": -0.468978370968762}, {\"value\": -1.180841824939136}, {\"value\": 0.8399100055800086}, {\"value\": 0.1494819740297292}, {\"value\": -0.12239595507445881}, {\"value\": -0.8169422468383296}, {\"value\": -0.8766729475158557}, {\"value\": 0.12070081400539336}, {\"value\": -0.7668128825798982}, {\"value\": 0.9206268764099518}, {\"value\": -0.5584066158748865}, {\"value\": -0.8413458043845707}, {\"value\": 1.1343865754838212}, {\"value\": 1.8724726215777587}, {\"value\": -0.6096268741842672}, {\"value\": 0.11041286110410728}, {\"value\": -0.9091829194972046}, {\"value\": 0.5463393230001763}, {\"value\": 1.4876428172016603}, {\"value\": -1.2798067017042034}, {\"value\": -1.0130709681820813}, {\"value\": -0.8759121192589504}, {\"value\": -0.36361941446275065}, {\"value\": 1.9441226186592238}, {\"value\": 0.7620235414843438}, {\"value\": 0.5185313270284369}, {\"value\": -0.1500352235268125}, {\"value\": 1.8529307100821115}, {\"value\": 1.9396993479722635}, {\"value\": 0.6261163428006508}, {\"value\": 1.3966955227890556}, {\"value\": 0.07837045388768996}, {\"value\": 0.7125247158930464}, {\"value\": 0.7232189276590723}, {\"value\": 1.7453498794075721}, {\"value\": -0.6858302112539686}, {\"value\": 0.9609566640269479}, {\"value\": -1.5658904390160322}, {\"value\": -0.3990262357480863}, {\"value\": 1.2815829383473596}, {\"value\": -1.6285109806621563}, {\"value\": 0.9576862604791276}, {\"value\": 2.201389783264341}, {\"value\": -0.31735765937060983}, {\"value\": -0.8304432711758746}, {\"value\": 1.6397587591783664}, {\"value\": -0.9834756542187246}, {\"value\": 0.18515174532794007}, {\"value\": -1.5530724379104108}, {\"value\": 0.29100202475938297}, {\"value\": 1.4669822730757003}, {\"value\": -0.49132643907259105}, {\"value\": -1.0964629070637495}, {\"value\": 0.6076068882536698}, {\"value\": 0.9602685254692718}, {\"value\": -0.5061570471755809}, {\"value\": -1.1004247884565874}, {\"value\": -0.9953320292011928}, {\"value\": 0.8584490103167617}, {\"value\": 0.5040161094069759}, {\"value\": 0.3462226796925325}, {\"value\": 0.9881942809501534}, {\"value\": -0.9515275045728091}, {\"value\": 0.7317332158168772}, {\"value\": -0.0028278884604607058}, {\"value\": -0.9027452696542887}, {\"value\": 0.06054177796876748}, {\"value\": 0.8239886541876408}, {\"value\": 0.5396486212938565}, {\"value\": 0.3560922116603514}, {\"value\": -0.31910853947948054}, {\"value\": -0.7746014580663223}, {\"value\": -1.2856717800696815}, {\"value\": 0.7704011111685518}, {\"value\": -2.260511658810737}, {\"value\": -2.2014816390654386}, {\"value\": 0.942036728136044}, {\"value\": 0.2705817342132932}, {\"value\": -1.2163077462289653}, {\"value\": 0.6293499847610247}, {\"value\": 1.065375809786327}, {\"value\": 0.6519532757963694}, {\"value\": -0.39871904643150974}, {\"value\": -1.0418838209416725}, {\"value\": -1.6103619179245425}, {\"value\": -0.19046952161271732}, {\"value\": -0.2158741044057481}, {\"value\": 0.15585218889443833}, {\"value\": -0.8286343178755268}, {\"value\": 1.0527326483463877}, {\"value\": -1.829698881469005}, {\"value\": -0.4646661936669632}, {\"value\": -1.9355828003571438}, {\"value\": 0.3262845208738661}, {\"value\": -0.6707405470844002}, {\"value\": -2.8860358239298267}, {\"value\": -0.418992534748286}, {\"value\": -0.2739723768737418}, {\"value\": -0.3323334337089583}, {\"value\": -0.553682868918706}, {\"value\": 0.8846880449499158}, {\"value\": -2.0604901911294133}, {\"value\": -0.6580978501330454}, {\"value\": -0.9129425698535665}, {\"value\": 0.5623152879009021}, {\"value\": -1.4231896663369406}, {\"value\": -1.0545791983076294}, {\"value\": -1.3051289044483978}, {\"value\": -0.9534678354995277}, {\"value\": -0.8507135562705753}, {\"value\": -0.15947075499977273}, {\"value\": -0.7780540274801461}, {\"value\": -1.2233109421636879}, {\"value\": -0.47838183069841844}, {\"value\": 0.37484459395332875}, {\"value\": -0.4493517742827982}, {\"value\": -0.7642125959345974}, {\"value\": -0.3114450942815771}, {\"value\": -0.9094932044234867}, {\"value\": 0.3147042073423379}, {\"value\": 0.1224257835086687}, {\"value\": 1.7569875968135527}, {\"value\": 0.03946353791935646}, {\"value\": -0.3019188893752304}, {\"value\": -0.6737151737924603}, {\"value\": -0.12077851948193348}, {\"value\": -0.2908537019403523}, {\"value\": -1.6353045289067993}, {\"value\": 0.5122767334813302}, {\"value\": -1.0595846097540198}, {\"value\": 0.22750194453877684}, {\"value\": -1.3231224485142823}, {\"value\": 1.057288648559959}, {\"value\": -0.6366933597626316}, {\"value\": -0.706186246599708}, {\"value\": -0.23540868849477506}, {\"value\": 0.351422753814327}, {\"value\": -1.410985537371916}, {\"value\": -0.7126648726830023}, {\"value\": -0.04560390476517781}, {\"value\": -0.37466647728965}, {\"value\": -0.01693522920252434}, {\"value\": -0.8351445746430973}, {\"value\": -0.041279686035620496}, {\"value\": 0.6404349790058191}, {\"value\": -0.15373874198362875}, {\"value\": 1.2181286752298244}, {\"value\": -0.9040695740993185}, {\"value\": 0.8537617691062913}, {\"value\": 2.3621565206636226}, {\"value\": 0.2939785611514629}, {\"value\": 0.07495263928509015}, {\"value\": 0.2626070694646662}, {\"value\": -1.7778737421923263}, {\"value\": -1.8799431819287955}, {\"value\": -0.4774490086819821}, {\"value\": 2.397371520975803}, {\"value\": -1.1541110347071675}, {\"value\": 0.4186193449750453}, {\"value\": 1.292343967989841}, {\"value\": 0.8879441200247216}, {\"value\": -0.4326436961300078}, {\"value\": -0.26040662229184536}, {\"value\": -0.09276889603363159}, {\"value\": -0.11629509675902253}, {\"value\": 0.3573738585716287}, {\"value\": -3.626393718403922}, {\"value\": -0.16189150120170073}, {\"value\": 1.7049467110723815}, {\"value\": 0.17807547980985647}, {\"value\": -0.5522810517829361}, {\"value\": -0.2824581465538877}, {\"value\": -0.8476390750510269}, {\"value\": -1.2390757447246652}, {\"value\": -2.459832369594027}, {\"value\": 0.5851768364661407}, {\"value\": 0.6388239487425371}, {\"value\": -0.17443741742088686}, {\"value\": -0.31682276224476713}, {\"value\": 0.5618732120810812}, {\"value\": 0.6656726638522596}, {\"value\": -1.2200531870595124}, {\"value\": -0.8608352543328772}, {\"value\": -1.2277005418357836}, {\"value\": -0.11622085800185857}, {\"value\": 0.2547241485598863}, {\"value\": -0.8333539723705035}, {\"value\": -0.6786667859149728}, {\"value\": -0.6914084497760296}, {\"value\": 1.2543605914780553}, {\"value\": 1.1243184268099446}, {\"value\": -0.017289073847503736}, {\"value\": 0.9039447683757187}, {\"value\": 1.0359806527398259}, {\"value\": 0.7073783088217376}, {\"value\": -1.7149810292091636}, {\"value\": -1.1976923762295877}, {\"value\": 0.582817097325278}, {\"value\": 1.4317469793328017}, {\"value\": -0.16446447878460133}, {\"value\": -0.8289277647426414}, {\"value\": 0.7331633040820138}, {\"value\": 0.17994532023561857}, {\"value\": 1.994173313762014}, {\"value\": 1.227852342239312}, {\"value\": 0.5321357028749105}, {\"value\": 0.049431227560187016}, {\"value\": -0.4692717309662703}, {\"value\": 0.787478976580475}, {\"value\": -0.2947687780914711}, {\"value\": -0.734098377304077}, {\"value\": 1.7982423141131874}, {\"value\": -1.1860135313424345}, {\"value\": 0.1980164245356915}, {\"value\": 1.700033815996724}, {\"value\": 1.1333603027307586}, {\"value\": 0.1502049442366185}, {\"value\": 0.5049742212571918}, {\"value\": 0.2855230447043278}, {\"value\": -2.333982852307975}, {\"value\": 0.2212383598101336}, {\"value\": 0.20038572211203226}, {\"value\": -0.09803686495069362}, {\"value\": -2.6208352258853513}, {\"value\": 1.8110615234945278}, {\"value\": -0.26659478311079365}, {\"value\": -1.7257868855375469}, {\"value\": -1.0248443587763418}, {\"value\": 0.8944152801571083}, {\"value\": 2.224754178093497}, {\"value\": -1.4020687049787024}, {\"value\": -0.6890552448806756}, {\"value\": 0.28531121919716473}, {\"value\": -0.9479445066410974}, {\"value\": -0.3873420485327493}, {\"value\": -0.35941963548327577}, {\"value\": 0.45254357399334655}, {\"value\": 0.34943789961765404}, {\"value\": 1.6364923374419287}, {\"value\": -0.541227926556369}, {\"value\": 1.4720724211905305}, {\"value\": 0.18423633205345935}, {\"value\": 1.2310125115458828}, {\"value\": 0.03161707469380471}, {\"value\": -0.3238434961354482}, {\"value\": 1.6408058973276165}, {\"value\": 0.3035164506029923}, {\"value\": 2.3056627570425077}, {\"value\": -0.20492982128070109}, {\"value\": 0.7484833618400049}, {\"value\": -0.4812280012000599}, {\"value\": 0.06832301383302934}, {\"value\": 1.146940257704754}, {\"value\": -0.16844937718432781}, {\"value\": -0.8757123762397818}, {\"value\": 2.327702136569052}, {\"value\": 0.3211608399578758}, {\"value\": -0.6320196836841688}, {\"value\": -0.14988892270409077}, {\"value\": 0.8869479181679778}, {\"value\": 1.138361003772133}, {\"value\": -0.31907660759406103}, {\"value\": -0.5888016875163519}, {\"value\": 0.5931343438429055}, {\"value\": 0.7840714306046436}, {\"value\": 0.7880564302516149}, {\"value\": 0.22654772178062502}, {\"value\": -1.4018224457669892}, {\"value\": -1.6906291190320788}, {\"value\": 1.2881273989457063}, {\"value\": -0.5479584253557489}, {\"value\": -0.06880668835846852}, {\"value\": -0.7179069498799145}, {\"value\": -0.2916807966062812}, {\"value\": 0.3529323471386021}, {\"value\": 0.283518453632866}, {\"value\": -0.1510528136619727}, {\"value\": 0.08135235184597868}, {\"value\": -1.0935293240718107}, {\"value\": -2.4589881934435374}, {\"value\": 1.9080744072081544}, {\"value\": 0.9550792165358635}, {\"value\": -0.8637449598466114}, {\"value\": -0.31214650772441394}, {\"value\": -0.4424487295261886}, {\"value\": 1.5571470985498619}, {\"value\": -0.8148114798855921}, {\"value\": 0.2835121538990859}, {\"value\": -0.7329561356747312}, {\"value\": -0.593120747017872}, {\"value\": 1.3181466762290843}, {\"value\": -0.08514459865033688}, {\"value\": -0.9425973351239126}, {\"value\": 1.5512306942553526}, {\"value\": -1.3114276925398118}, {\"value\": 0.42182973815296965}, {\"value\": 0.7355602399494643}, {\"value\": -1.1100415226853673}, {\"value\": -0.9412459775114502}, {\"value\": -1.9802984669084567}, {\"value\": 0.4937314115897496}, {\"value\": -0.9129687215750342}, {\"value\": -0.9451523059401653}, {\"value\": 1.1423606908169297}, {\"value\": 1.9015547320828903}, {\"value\": -0.6881210055180211}, {\"value\": 0.846329327299411}, {\"value\": 0.16632000203435413}, {\"value\": 3.366422653409357}, {\"value\": 0.10680607906935899}, {\"value\": 1.485613987991559}, {\"value\": -0.47690494169290926}, {\"value\": 1.7046183434716324}, {\"value\": 0.786112849890717}, {\"value\": -0.14938422771594043}, {\"value\": 1.0315570199586537}, {\"value\": -1.162251177057253}, {\"value\": -1.0025812730634323}, {\"value\": -0.9004645511317019}, {\"value\": -0.652525639057894}, {\"value\": 0.2509317842052079}, {\"value\": 1.8011397616509062}, {\"value\": 0.1292973331443809}, {\"value\": 1.2188693025015815}, {\"value\": 0.59949474155764}, {\"value\": 0.23745125111073245}, {\"value\": 1.6956563604648576}, {\"value\": -0.5255362785378398}, {\"value\": -0.08891961326198843}, {\"value\": -0.40678613164739713}, {\"value\": 0.32346881498608737}, {\"value\": 0.19994666828945093}, {\"value\": 0.3116248401005922}, {\"value\": -0.5824405993572187}, {\"value\": -0.7036746224728438}, {\"value\": -1.8563979581513195}, {\"value\": 0.5241279462589628}, {\"value\": -1.1233503745664906}, {\"value\": -0.4180989103963655}, {\"value\": 0.39120178939232625}, {\"value\": 0.2668992163263302}, {\"value\": 0.13893261506127408}, {\"value\": 0.7411385186406505}, {\"value\": 0.7504301330805758}, {\"value\": -0.24288765759443345}, {\"value\": 1.054907423596025}, {\"value\": 0.6236533355879801}, {\"value\": 0.7682316981770551}, {\"value\": 0.5139568646436615}, {\"value\": -0.320009549874681}, {\"value\": -0.8279688548619933}, {\"value\": 1.0619163529803828}, {\"value\": -1.0479204795712147}, {\"value\": -0.6340846565089253}, {\"value\": -1.548452708634823}, {\"value\": -0.9012397593377534}, {\"value\": -1.45887139985584}, {\"value\": 1.2095334928525263}, {\"value\": 0.6899432876562889}, {\"value\": -1.2926733642682273}, {\"value\": -2.601817382137589}, {\"value\": -0.15432881175152968}, {\"value\": -0.3157539258408159}, {\"value\": -1.1203696176720723}, {\"value\": -0.10650212665448812}, {\"value\": -0.28883853122338726}, {\"value\": 0.08250614980340372}, {\"value\": -0.6289297186849847}, {\"value\": -0.14337078937203873}, {\"value\": 1.6343277803336764}, {\"value\": -1.2410354680056637}, {\"value\": 0.012302677483597587}, {\"value\": -2.2239540306815173}, {\"value\": -0.1917899947217376}, {\"value\": 0.09615930455332351}, {\"value\": -0.5116891556862241}, {\"value\": -0.9303947137447846}, {\"value\": 1.2581110411418353}, {\"value\": -0.1662855704737968}, {\"value\": 0.6235804041070325}, {\"value\": -0.21002812317475295}, {\"value\": -0.26336472271097955}, {\"value\": -1.4745873109687793}, {\"value\": -0.6530070467826693}, {\"value\": -0.24414979715972576}, {\"value\": -1.073991131846564}, {\"value\": 0.733664533516329}, {\"value\": -1.488634623478556}, {\"value\": -0.49674469391489723}, {\"value\": -0.6216673944199215}, {\"value\": -0.9784541653310321}, {\"value\": 1.0539661160871956}, {\"value\": -0.6456258333320892}, {\"value\": -0.6342096295227679}, {\"value\": -0.5392005913047676}, {\"value\": 0.15310454711215996}, {\"value\": 0.3535259290744038}, {\"value\": -0.7005315184709044}, {\"value\": -1.3033304146635172}, {\"value\": -0.21011755526343884}, {\"value\": 0.8417339811279443}, {\"value\": 0.07928711213679038}, {\"value\": -1.013611545596349}, {\"value\": -0.3103858723535476}, {\"value\": 1.366462440413781}, {\"value\": -0.8830062296175177}, {\"value\": -0.5101849894236513}, {\"value\": -0.6847877479793557}, {\"value\": -0.030870416035508993}, {\"value\": -1.3639142117977825}, {\"value\": -0.12453824064721046}, {\"value\": 0.4434334882084726}, {\"value\": -0.39721802824707714}, {\"value\": -1.3953585943529565}, {\"value\": 0.10739588341341301}, {\"value\": -0.099732699110109}, {\"value\": 2.123802414703408}, {\"value\": 1.3591243861968891}, {\"value\": 1.1598212130922594}, {\"value\": -0.8791445488185093}, {\"value\": -0.5329213298459385}, {\"value\": 0.8326638793959953}, {\"value\": 0.3615254716814362}, {\"value\": -0.32330424123918156}, {\"value\": 0.5177491032291567}, {\"value\": -1.5676526259700083}, {\"value\": 0.35669485585921246}, {\"value\": -0.4025964108133554}, {\"value\": -0.03476651479957405}, {\"value\": 0.3892551836007417}, {\"value\": -0.037850106891052504}, {\"value\": -0.5862095194468019}, {\"value\": 0.20414885364515828}, {\"value\": 0.7690079461529749}, {\"value\": 1.403518621990717}, {\"value\": -0.8987609000750206}, {\"value\": -1.1361765848319907}, {\"value\": -1.176742125096324}, {\"value\": 0.7117182567530709}, {\"value\": -2.069072473060617}, {\"value\": -0.45141684362944445}, {\"value\": -0.12730231485561894}, {\"value\": -0.36597022133443596}, {\"value\": -1.8301214173760303}, {\"value\": 1.0733569727821182}, {\"value\": -1.6086814782563932}, {\"value\": 1.067590625489753}, {\"value\": -0.4851929033159331}, {\"value\": -0.9214797597849091}, {\"value\": 0.948787770526588}, {\"value\": 0.28260249620397254}, {\"value\": -0.7923822748340527}, {\"value\": -0.5081959350172762}, {\"value\": 0.2916757279695226}, {\"value\": 0.1460895013736753}, {\"value\": -0.43225125509284934}, {\"value\": 0.4426742352029363}, {\"value\": 0.16801453731147095}, {\"value\": 0.98292491783247}, {\"value\": 2.126412180609978}, {\"value\": -0.6188200512318689}, {\"value\": 0.022609347452256057}, {\"value\": -0.7427127678570772}, {\"value\": 0.9733467792275176}, {\"value\": 0.16403338500406695}, {\"value\": 1.4374733328038334}, {\"value\": 1.533573814210561}, {\"value\": 0.4629907611348952}, {\"value\": 0.6516439021453371}, {\"value\": 1.0380730051411722}, {\"value\": -1.4629525502835146}, {\"value\": 0.7945313345666036}, {\"value\": -0.1491607229843563}, {\"value\": -0.7147788016759027}, {\"value\": 1.1458908711574427}, {\"value\": 0.20982854334505494}, {\"value\": -0.9329883512491419}, {\"value\": -0.07468601373155417}, {\"value\": -1.5473916473415124}]}}, {\"mode\": \"vega-lite\"});\n",
       "</script>"
      ],
      "text/plain": [
       "alt.Chart(...)"
      ]
     },
     "execution_count": 15,
     "metadata": {},
     "output_type": "execute_result"
    }
   ],
   "source": [
    "# Histograms work better here\n",
    "\n",
    "normal_values = pd.DataFrame({\"value\": n.rvs(5000)})\n",
    "\n",
    "alt.Chart(normal_values).mark_bar().encode(\n",
    "    alt.X(\"value\", bin=alt.Bin(maxbins=100)),\n",
    "    y='count()',\n",
    "    color=alt.value('#287E1E'),  # Aside: Note US spelling. Also try \"hex codes\": https://htmlcolorcodes.com/\n",
    ")"
   ]
  },
  {
   "cell_type": "markdown",
   "metadata": {},
   "source": [
    "\n",
    "<div class=\"alert alert-success\">\n",
    "Note that Altair won't let us directly compute a histogram with more than 5000 rows. To do that, check out this example, which saves the data to a local temporary json file, and then displays from that. Without doing this, Altair embeds a *copy* of the data in a graph!"
   ]
  },
  {
   "cell_type": "code",
   "execution_count": 16,
   "metadata": {
    "scrolled": false
   },
   "outputs": [
    {
     "data": {
      "text/html": [
       "\n",
       "<style>\n",
       "  #altair-viz-c80ead2659b24290b77e7ff2bda00b42.vega-embed {\n",
       "    width: 100%;\n",
       "    display: flex;\n",
       "  }\n",
       "\n",
       "  #altair-viz-c80ead2659b24290b77e7ff2bda00b42.vega-embed details,\n",
       "  #altair-viz-c80ead2659b24290b77e7ff2bda00b42.vega-embed details summary {\n",
       "    position: relative;\n",
       "  }\n",
       "</style>\n",
       "<div id=\"altair-viz-c80ead2659b24290b77e7ff2bda00b42\"></div>\n",
       "<script type=\"text/javascript\">\n",
       "  var VEGA_DEBUG = (typeof VEGA_DEBUG == \"undefined\") ? {} : VEGA_DEBUG;\n",
       "  (function(spec, embedOpt){\n",
       "    let outputDiv = document.currentScript.previousElementSibling;\n",
       "    if (outputDiv.id !== \"altair-viz-c80ead2659b24290b77e7ff2bda00b42\") {\n",
       "      outputDiv = document.getElementById(\"altair-viz-c80ead2659b24290b77e7ff2bda00b42\");\n",
       "    }\n",
       "    const paths = {\n",
       "      \"vega\": \"https://cdn.jsdelivr.net/npm/vega@5?noext\",\n",
       "      \"vega-lib\": \"https://cdn.jsdelivr.net/npm/vega-lib?noext\",\n",
       "      \"vega-lite\": \"https://cdn.jsdelivr.net/npm/vega-lite@5.8.0?noext\",\n",
       "      \"vega-embed\": \"https://cdn.jsdelivr.net/npm/vega-embed@6?noext\",\n",
       "    };\n",
       "\n",
       "    function maybeLoadScript(lib, version) {\n",
       "      var key = `${lib.replace(\"-\", \"\")}_version`;\n",
       "      return (VEGA_DEBUG[key] == version) ?\n",
       "        Promise.resolve(paths[lib]) :\n",
       "        new Promise(function(resolve, reject) {\n",
       "          var s = document.createElement('script');\n",
       "          document.getElementsByTagName(\"head\")[0].appendChild(s);\n",
       "          s.async = true;\n",
       "          s.onload = () => {\n",
       "            VEGA_DEBUG[key] = version;\n",
       "            return resolve(paths[lib]);\n",
       "          };\n",
       "          s.onerror = () => reject(`Error loading script: ${paths[lib]}`);\n",
       "          s.src = paths[lib];\n",
       "        });\n",
       "    }\n",
       "\n",
       "    function showError(err) {\n",
       "      outputDiv.innerHTML = `<div class=\"error\" style=\"color:red;\">${err}</div>`;\n",
       "      throw err;\n",
       "    }\n",
       "\n",
       "    function displayChart(vegaEmbed) {\n",
       "      vegaEmbed(outputDiv, spec, embedOpt)\n",
       "        .catch(err => showError(`Javascript Error: ${err.message}<br>This usually means there's a typo in your chart specification. See the javascript console for the full traceback.`));\n",
       "    }\n",
       "\n",
       "    if(typeof define === \"function\" && define.amd) {\n",
       "      requirejs.config({paths});\n",
       "      require([\"vega-embed\"], displayChart, err => showError(`Error loading script: ${err.message}`));\n",
       "    } else {\n",
       "      maybeLoadScript(\"vega\", \"5\")\n",
       "        .then(() => maybeLoadScript(\"vega-lite\", \"5.8.0\"))\n",
       "        .then(() => maybeLoadScript(\"vega-embed\", \"6\"))\n",
       "        .catch(showError)\n",
       "        .then(() => displayChart(vegaEmbed));\n",
       "    }\n",
       "  })({\"config\": {\"view\": {\"continuousWidth\": 300, \"continuousHeight\": 300}}, \"data\": {\"url\": \"altair-temp-data/-17f754c55ec165334443af1cd9a6588b.json\", \"format\": {\"type\": \"json\"}}, \"mark\": {\"type\": \"bar\"}, \"encoding\": {\"x\": {\"bin\": {\"maxbins\": 100}, \"field\": \"value\", \"type\": \"quantitative\"}, \"y\": {\"aggregate\": \"count\", \"type\": \"quantitative\"}}, \"$schema\": \"https://vega.github.io/schema/vega-lite/v5.8.0.json\"}, {\"mode\": \"vega-lite\"});\n",
       "</script>"
      ],
      "text/plain": [
       "alt.Chart(...)"
      ]
     },
     "execution_count": 16,
     "metadata": {},
     "output_type": "execute_result"
    }
   ],
   "source": [
    "if not alt.data_transformers.active == 'json':  # Check json isn't already active\n",
    "    import os\n",
    "    # Make a temp folder to put these json files in - Altair creates a lot of them!\n",
    "    dataset_temp_name = 'altair-temp-data/'\n",
    "    if not os.path.exists(dataset_temp_name):\n",
    "        # if the folder doesn't exist, create it\n",
    "        os.mkdir(dataset_temp_name)\n",
    "    # Tell Altair to temporary save datasets it needs to that folder\n",
    "    alt.data_transformers.enable('json', prefix=dataset_temp_name)\n",
    "\n",
    "normal_values = pd.DataFrame({\"value\": n.rvs(100000)})\n",
    "\n",
    "alt.Chart(normal_values).mark_bar().encode(\n",
    "    alt.X(\"value\", bin=alt.Bin(maxbins=100)),\n",
    "    y='count()',\n",
    ")"
   ]
  },
  {
   "cell_type": "markdown",
   "metadata": {},
   "source": [
    "Notice the shape, the famous \"bell curve\" of the normal distribution. It's heavily centred around the mean (0) and the spread of data is indicated by the standard deviation."
   ]
  },
  {
   "cell_type": "markdown",
   "metadata": {},
   "source": [
    "#### Exercises\n",
    "\n",
    "1. Plot a histogram of the standard deviation with the following properties:\n",
    "\n",
    "    1. Mean ($\\mu$) of 1, standard deviation ($\\sigma$) of 7\n",
    "    2. $\\mu=10, \\sigma=1$\n",
    "    3. $\\mu=-10, \\sigma=5$\n",
    "2. Create a python function that accepts two inputs (`mean` and `standard_deviation`) and plots the histogram as per question 1.\n",
    "\n",
    "3. Investigate the documentation of Altair and overlay these plots on top of each other, with different colours, giving a result that looks like this:\n",
    "<img src=\"img/snapshot.png\">"
   ]
  },
  {
   "cell_type": "code",
   "execution_count": 17,
   "metadata": {},
   "outputs": [
    {
     "data": {
      "text/html": [
       "\n",
       "<style>\n",
       "  #altair-viz-9c7d808ccaa54716b7a57e42bbda8cc5.vega-embed {\n",
       "    width: 100%;\n",
       "    display: flex;\n",
       "  }\n",
       "\n",
       "  #altair-viz-9c7d808ccaa54716b7a57e42bbda8cc5.vega-embed details,\n",
       "  #altair-viz-9c7d808ccaa54716b7a57e42bbda8cc5.vega-embed details summary {\n",
       "    position: relative;\n",
       "  }\n",
       "</style>\n",
       "<div id=\"altair-viz-9c7d808ccaa54716b7a57e42bbda8cc5\"></div>\n",
       "<script type=\"text/javascript\">\n",
       "  var VEGA_DEBUG = (typeof VEGA_DEBUG == \"undefined\") ? {} : VEGA_DEBUG;\n",
       "  (function(spec, embedOpt){\n",
       "    let outputDiv = document.currentScript.previousElementSibling;\n",
       "    if (outputDiv.id !== \"altair-viz-9c7d808ccaa54716b7a57e42bbda8cc5\") {\n",
       "      outputDiv = document.getElementById(\"altair-viz-9c7d808ccaa54716b7a57e42bbda8cc5\");\n",
       "    }\n",
       "    const paths = {\n",
       "      \"vega\": \"https://cdn.jsdelivr.net/npm/vega@5?noext\",\n",
       "      \"vega-lib\": \"https://cdn.jsdelivr.net/npm/vega-lib?noext\",\n",
       "      \"vega-lite\": \"https://cdn.jsdelivr.net/npm/vega-lite@5.8.0?noext\",\n",
       "      \"vega-embed\": \"https://cdn.jsdelivr.net/npm/vega-embed@6?noext\",\n",
       "    };\n",
       "\n",
       "    function maybeLoadScript(lib, version) {\n",
       "      var key = `${lib.replace(\"-\", \"\")}_version`;\n",
       "      return (VEGA_DEBUG[key] == version) ?\n",
       "        Promise.resolve(paths[lib]) :\n",
       "        new Promise(function(resolve, reject) {\n",
       "          var s = document.createElement('script');\n",
       "          document.getElementsByTagName(\"head\")[0].appendChild(s);\n",
       "          s.async = true;\n",
       "          s.onload = () => {\n",
       "            VEGA_DEBUG[key] = version;\n",
       "            return resolve(paths[lib]);\n",
       "          };\n",
       "          s.onerror = () => reject(`Error loading script: ${paths[lib]}`);\n",
       "          s.src = paths[lib];\n",
       "        });\n",
       "    }\n",
       "\n",
       "    function showError(err) {\n",
       "      outputDiv.innerHTML = `<div class=\"error\" style=\"color:red;\">${err}</div>`;\n",
       "      throw err;\n",
       "    }\n",
       "\n",
       "    function displayChart(vegaEmbed) {\n",
       "      vegaEmbed(outputDiv, spec, embedOpt)\n",
       "        .catch(err => showError(`Javascript Error: ${err.message}<br>This usually means there's a typo in your chart specification. See the javascript console for the full traceback.`));\n",
       "    }\n",
       "\n",
       "    if(typeof define === \"function\" && define.amd) {\n",
       "      requirejs.config({paths});\n",
       "      require([\"vega-embed\"], displayChart, err => showError(`Error loading script: ${err.message}`));\n",
       "    } else {\n",
       "      maybeLoadScript(\"vega\", \"5\")\n",
       "        .then(() => maybeLoadScript(\"vega-lite\", \"5.8.0\"))\n",
       "        .then(() => maybeLoadScript(\"vega-embed\", \"6\"))\n",
       "        .catch(showError)\n",
       "        .then(() => displayChart(vegaEmbed));\n",
       "    }\n",
       "  })({\"config\": {\"view\": {\"continuousWidth\": 300, \"continuousHeight\": 300}}, \"data\": {\"url\": \"altair-temp-data/-5cfeef25632e161e1b881f43849866d6.json\", \"format\": {\"type\": \"json\"}}, \"mark\": {\"type\": \"bar\"}, \"encoding\": {\"color\": {\"value\": \"#287E1E\"}, \"x\": {\"bin\": {\"maxbins\": 100}, \"field\": \"value\", \"type\": \"quantitative\"}, \"y\": {\"aggregate\": \"count\", \"type\": \"quantitative\"}}, \"$schema\": \"https://vega.github.io/schema/vega-lite/v5.8.0.json\"}, {\"mode\": \"vega-lite\"});\n",
       "</script>"
      ],
      "text/plain": [
       "alt.Chart(...)"
      ]
     },
     "execution_count": 17,
     "metadata": {},
     "output_type": "execute_result"
    }
   ],
   "source": [
    "n = stats.norm(1, 7)\n",
    "normal_values = pd.DataFrame({\"value\": n.rvs(5000)})\n",
    "alt.Chart(normal_values).mark_bar().encode(\n",
    "    alt.X(\"value\", bin=alt.Bin(maxbins=100)),\n",
    "    y='count()',\n",
    "    color=alt.value('#287E1E'),  # Aside: Note US spelling. Also try \"hex codes\": https://htmlcolorcodes.com/\n",
    "    )"
   ]
  },
  {
   "cell_type": "code",
   "execution_count": 18,
   "metadata": {},
   "outputs": [
    {
     "data": {
      "text/html": [
       "\n",
       "<style>\n",
       "  #altair-viz-5c675561187f4c06895c7bbedc557a88.vega-embed {\n",
       "    width: 100%;\n",
       "    display: flex;\n",
       "  }\n",
       "\n",
       "  #altair-viz-5c675561187f4c06895c7bbedc557a88.vega-embed details,\n",
       "  #altair-viz-5c675561187f4c06895c7bbedc557a88.vega-embed details summary {\n",
       "    position: relative;\n",
       "  }\n",
       "</style>\n",
       "<div id=\"altair-viz-5c675561187f4c06895c7bbedc557a88\"></div>\n",
       "<script type=\"text/javascript\">\n",
       "  var VEGA_DEBUG = (typeof VEGA_DEBUG == \"undefined\") ? {} : VEGA_DEBUG;\n",
       "  (function(spec, embedOpt){\n",
       "    let outputDiv = document.currentScript.previousElementSibling;\n",
       "    if (outputDiv.id !== \"altair-viz-5c675561187f4c06895c7bbedc557a88\") {\n",
       "      outputDiv = document.getElementById(\"altair-viz-5c675561187f4c06895c7bbedc557a88\");\n",
       "    }\n",
       "    const paths = {\n",
       "      \"vega\": \"https://cdn.jsdelivr.net/npm/vega@5?noext\",\n",
       "      \"vega-lib\": \"https://cdn.jsdelivr.net/npm/vega-lib?noext\",\n",
       "      \"vega-lite\": \"https://cdn.jsdelivr.net/npm/vega-lite@5.8.0?noext\",\n",
       "      \"vega-embed\": \"https://cdn.jsdelivr.net/npm/vega-embed@6?noext\",\n",
       "    };\n",
       "\n",
       "    function maybeLoadScript(lib, version) {\n",
       "      var key = `${lib.replace(\"-\", \"\")}_version`;\n",
       "      return (VEGA_DEBUG[key] == version) ?\n",
       "        Promise.resolve(paths[lib]) :\n",
       "        new Promise(function(resolve, reject) {\n",
       "          var s = document.createElement('script');\n",
       "          document.getElementsByTagName(\"head\")[0].appendChild(s);\n",
       "          s.async = true;\n",
       "          s.onload = () => {\n",
       "            VEGA_DEBUG[key] = version;\n",
       "            return resolve(paths[lib]);\n",
       "          };\n",
       "          s.onerror = () => reject(`Error loading script: ${paths[lib]}`);\n",
       "          s.src = paths[lib];\n",
       "        });\n",
       "    }\n",
       "\n",
       "    function showError(err) {\n",
       "      outputDiv.innerHTML = `<div class=\"error\" style=\"color:red;\">${err}</div>`;\n",
       "      throw err;\n",
       "    }\n",
       "\n",
       "    function displayChart(vegaEmbed) {\n",
       "      vegaEmbed(outputDiv, spec, embedOpt)\n",
       "        .catch(err => showError(`Javascript Error: ${err.message}<br>This usually means there's a typo in your chart specification. See the javascript console for the full traceback.`));\n",
       "    }\n",
       "\n",
       "    if(typeof define === \"function\" && define.amd) {\n",
       "      requirejs.config({paths});\n",
       "      require([\"vega-embed\"], displayChart, err => showError(`Error loading script: ${err.message}`));\n",
       "    } else {\n",
       "      maybeLoadScript(\"vega\", \"5\")\n",
       "        .then(() => maybeLoadScript(\"vega-lite\", \"5.8.0\"))\n",
       "        .then(() => maybeLoadScript(\"vega-embed\", \"6\"))\n",
       "        .catch(showError)\n",
       "        .then(() => displayChart(vegaEmbed));\n",
       "    }\n",
       "  })({\"config\": {\"view\": {\"continuousWidth\": 300, \"continuousHeight\": 300}}, \"data\": {\"url\": \"altair-temp-data/-35ba25490de4f304079eb796767d9f0f.json\", \"format\": {\"type\": \"json\"}}, \"mark\": {\"type\": \"bar\"}, \"encoding\": {\"color\": {\"value\": \"#287E1E\"}, \"x\": {\"bin\": {\"maxbins\": 100}, \"field\": \"value\", \"type\": \"quantitative\"}, \"y\": {\"aggregate\": \"count\", \"type\": \"quantitative\"}}, \"$schema\": \"https://vega.github.io/schema/vega-lite/v5.8.0.json\"}, {\"mode\": \"vega-lite\"});\n",
       "</script>"
      ],
      "text/plain": [
       "alt.Chart(...)"
      ]
     },
     "metadata": {},
     "output_type": "display_data"
    },
    {
     "data": {
      "text/html": [
       "\n",
       "<style>\n",
       "  #altair-viz-b7a96ee724ea4901b2aefcd04fd32d3b.vega-embed {\n",
       "    width: 100%;\n",
       "    display: flex;\n",
       "  }\n",
       "\n",
       "  #altair-viz-b7a96ee724ea4901b2aefcd04fd32d3b.vega-embed details,\n",
       "  #altair-viz-b7a96ee724ea4901b2aefcd04fd32d3b.vega-embed details summary {\n",
       "    position: relative;\n",
       "  }\n",
       "</style>\n",
       "<div id=\"altair-viz-b7a96ee724ea4901b2aefcd04fd32d3b\"></div>\n",
       "<script type=\"text/javascript\">\n",
       "  var VEGA_DEBUG = (typeof VEGA_DEBUG == \"undefined\") ? {} : VEGA_DEBUG;\n",
       "  (function(spec, embedOpt){\n",
       "    let outputDiv = document.currentScript.previousElementSibling;\n",
       "    if (outputDiv.id !== \"altair-viz-b7a96ee724ea4901b2aefcd04fd32d3b\") {\n",
       "      outputDiv = document.getElementById(\"altair-viz-b7a96ee724ea4901b2aefcd04fd32d3b\");\n",
       "    }\n",
       "    const paths = {\n",
       "      \"vega\": \"https://cdn.jsdelivr.net/npm/vega@5?noext\",\n",
       "      \"vega-lib\": \"https://cdn.jsdelivr.net/npm/vega-lib?noext\",\n",
       "      \"vega-lite\": \"https://cdn.jsdelivr.net/npm/vega-lite@5.8.0?noext\",\n",
       "      \"vega-embed\": \"https://cdn.jsdelivr.net/npm/vega-embed@6?noext\",\n",
       "    };\n",
       "\n",
       "    function maybeLoadScript(lib, version) {\n",
       "      var key = `${lib.replace(\"-\", \"\")}_version`;\n",
       "      return (VEGA_DEBUG[key] == version) ?\n",
       "        Promise.resolve(paths[lib]) :\n",
       "        new Promise(function(resolve, reject) {\n",
       "          var s = document.createElement('script');\n",
       "          document.getElementsByTagName(\"head\")[0].appendChild(s);\n",
       "          s.async = true;\n",
       "          s.onload = () => {\n",
       "            VEGA_DEBUG[key] = version;\n",
       "            return resolve(paths[lib]);\n",
       "          };\n",
       "          s.onerror = () => reject(`Error loading script: ${paths[lib]}`);\n",
       "          s.src = paths[lib];\n",
       "        });\n",
       "    }\n",
       "\n",
       "    function showError(err) {\n",
       "      outputDiv.innerHTML = `<div class=\"error\" style=\"color:red;\">${err}</div>`;\n",
       "      throw err;\n",
       "    }\n",
       "\n",
       "    function displayChart(vegaEmbed) {\n",
       "      vegaEmbed(outputDiv, spec, embedOpt)\n",
       "        .catch(err => showError(`Javascript Error: ${err.message}<br>This usually means there's a typo in your chart specification. See the javascript console for the full traceback.`));\n",
       "    }\n",
       "\n",
       "    if(typeof define === \"function\" && define.amd) {\n",
       "      requirejs.config({paths});\n",
       "      require([\"vega-embed\"], displayChart, err => showError(`Error loading script: ${err.message}`));\n",
       "    } else {\n",
       "      maybeLoadScript(\"vega\", \"5\")\n",
       "        .then(() => maybeLoadScript(\"vega-lite\", \"5.8.0\"))\n",
       "        .then(() => maybeLoadScript(\"vega-embed\", \"6\"))\n",
       "        .catch(showError)\n",
       "        .then(() => displayChart(vegaEmbed));\n",
       "    }\n",
       "  })({\"config\": {\"view\": {\"continuousWidth\": 300, \"continuousHeight\": 300}}, \"data\": {\"url\": \"altair-temp-data/-32c94a2ccdd9b87da704145a0e40ff23.json\", \"format\": {\"type\": \"json\"}}, \"mark\": {\"type\": \"bar\"}, \"encoding\": {\"color\": {\"value\": \"#287E1E\"}, \"x\": {\"bin\": {\"maxbins\": 100}, \"field\": \"value\", \"type\": \"quantitative\"}, \"y\": {\"aggregate\": \"count\", \"type\": \"quantitative\"}}, \"$schema\": \"https://vega.github.io/schema/vega-lite/v5.8.0.json\"}, {\"mode\": \"vega-lite\"});\n",
       "</script>"
      ],
      "text/plain": [
       "alt.Chart(...)"
      ]
     },
     "metadata": {},
     "output_type": "display_data"
    },
    {
     "data": {
      "text/html": [
       "\n",
       "<style>\n",
       "  #altair-viz-43bafc19e5f740eba41863e3e4fdda87.vega-embed {\n",
       "    width: 100%;\n",
       "    display: flex;\n",
       "  }\n",
       "\n",
       "  #altair-viz-43bafc19e5f740eba41863e3e4fdda87.vega-embed details,\n",
       "  #altair-viz-43bafc19e5f740eba41863e3e4fdda87.vega-embed details summary {\n",
       "    position: relative;\n",
       "  }\n",
       "</style>\n",
       "<div id=\"altair-viz-43bafc19e5f740eba41863e3e4fdda87\"></div>\n",
       "<script type=\"text/javascript\">\n",
       "  var VEGA_DEBUG = (typeof VEGA_DEBUG == \"undefined\") ? {} : VEGA_DEBUG;\n",
       "  (function(spec, embedOpt){\n",
       "    let outputDiv = document.currentScript.previousElementSibling;\n",
       "    if (outputDiv.id !== \"altair-viz-43bafc19e5f740eba41863e3e4fdda87\") {\n",
       "      outputDiv = document.getElementById(\"altair-viz-43bafc19e5f740eba41863e3e4fdda87\");\n",
       "    }\n",
       "    const paths = {\n",
       "      \"vega\": \"https://cdn.jsdelivr.net/npm/vega@5?noext\",\n",
       "      \"vega-lib\": \"https://cdn.jsdelivr.net/npm/vega-lib?noext\",\n",
       "      \"vega-lite\": \"https://cdn.jsdelivr.net/npm/vega-lite@5.8.0?noext\",\n",
       "      \"vega-embed\": \"https://cdn.jsdelivr.net/npm/vega-embed@6?noext\",\n",
       "    };\n",
       "\n",
       "    function maybeLoadScript(lib, version) {\n",
       "      var key = `${lib.replace(\"-\", \"\")}_version`;\n",
       "      return (VEGA_DEBUG[key] == version) ?\n",
       "        Promise.resolve(paths[lib]) :\n",
       "        new Promise(function(resolve, reject) {\n",
       "          var s = document.createElement('script');\n",
       "          document.getElementsByTagName(\"head\")[0].appendChild(s);\n",
       "          s.async = true;\n",
       "          s.onload = () => {\n",
       "            VEGA_DEBUG[key] = version;\n",
       "            return resolve(paths[lib]);\n",
       "          };\n",
       "          s.onerror = () => reject(`Error loading script: ${paths[lib]}`);\n",
       "          s.src = paths[lib];\n",
       "        });\n",
       "    }\n",
       "\n",
       "    function showError(err) {\n",
       "      outputDiv.innerHTML = `<div class=\"error\" style=\"color:red;\">${err}</div>`;\n",
       "      throw err;\n",
       "    }\n",
       "\n",
       "    function displayChart(vegaEmbed) {\n",
       "      vegaEmbed(outputDiv, spec, embedOpt)\n",
       "        .catch(err => showError(`Javascript Error: ${err.message}<br>This usually means there's a typo in your chart specification. See the javascript console for the full traceback.`));\n",
       "    }\n",
       "\n",
       "    if(typeof define === \"function\" && define.amd) {\n",
       "      requirejs.config({paths});\n",
       "      require([\"vega-embed\"], displayChart, err => showError(`Error loading script: ${err.message}`));\n",
       "    } else {\n",
       "      maybeLoadScript(\"vega\", \"5\")\n",
       "        .then(() => maybeLoadScript(\"vega-lite\", \"5.8.0\"))\n",
       "        .then(() => maybeLoadScript(\"vega-embed\", \"6\"))\n",
       "        .catch(showError)\n",
       "        .then(() => displayChart(vegaEmbed));\n",
       "    }\n",
       "  })({\"config\": {\"view\": {\"continuousWidth\": 300, \"continuousHeight\": 300}}, \"data\": {\"url\": \"altair-temp-data/-9ae811a07d15848d14f11e1e463f64f6.json\", \"format\": {\"type\": \"json\"}}, \"mark\": {\"type\": \"bar\"}, \"encoding\": {\"color\": {\"value\": \"#287E1E\"}, \"x\": {\"bin\": {\"maxbins\": 100}, \"field\": \"value\", \"type\": \"quantitative\"}, \"y\": {\"aggregate\": \"count\", \"type\": \"quantitative\"}}, \"$schema\": \"https://vega.github.io/schema/vega-lite/v5.8.0.json\"}, {\"mode\": \"vega-lite\"});\n",
       "</script>"
      ],
      "text/plain": [
       "alt.Chart(...)"
      ]
     },
     "metadata": {},
     "output_type": "display_data"
    },
    {
     "data": {
      "text/html": [
       "\n",
       "<style>\n",
       "  #altair-viz-fd4bcdfcf1f44d8cb6355ccc4f68bed4.vega-embed {\n",
       "    width: 100%;\n",
       "    display: flex;\n",
       "  }\n",
       "\n",
       "  #altair-viz-fd4bcdfcf1f44d8cb6355ccc4f68bed4.vega-embed details,\n",
       "  #altair-viz-fd4bcdfcf1f44d8cb6355ccc4f68bed4.vega-embed details summary {\n",
       "    position: relative;\n",
       "  }\n",
       "</style>\n",
       "<div id=\"altair-viz-fd4bcdfcf1f44d8cb6355ccc4f68bed4\"></div>\n",
       "<script type=\"text/javascript\">\n",
       "  var VEGA_DEBUG = (typeof VEGA_DEBUG == \"undefined\") ? {} : VEGA_DEBUG;\n",
       "  (function(spec, embedOpt){\n",
       "    let outputDiv = document.currentScript.previousElementSibling;\n",
       "    if (outputDiv.id !== \"altair-viz-fd4bcdfcf1f44d8cb6355ccc4f68bed4\") {\n",
       "      outputDiv = document.getElementById(\"altair-viz-fd4bcdfcf1f44d8cb6355ccc4f68bed4\");\n",
       "    }\n",
       "    const paths = {\n",
       "      \"vega\": \"https://cdn.jsdelivr.net/npm/vega@5?noext\",\n",
       "      \"vega-lib\": \"https://cdn.jsdelivr.net/npm/vega-lib?noext\",\n",
       "      \"vega-lite\": \"https://cdn.jsdelivr.net/npm/vega-lite@5.8.0?noext\",\n",
       "      \"vega-embed\": \"https://cdn.jsdelivr.net/npm/vega-embed@6?noext\",\n",
       "    };\n",
       "\n",
       "    function maybeLoadScript(lib, version) {\n",
       "      var key = `${lib.replace(\"-\", \"\")}_version`;\n",
       "      return (VEGA_DEBUG[key] == version) ?\n",
       "        Promise.resolve(paths[lib]) :\n",
       "        new Promise(function(resolve, reject) {\n",
       "          var s = document.createElement('script');\n",
       "          document.getElementsByTagName(\"head\")[0].appendChild(s);\n",
       "          s.async = true;\n",
       "          s.onload = () => {\n",
       "            VEGA_DEBUG[key] = version;\n",
       "            return resolve(paths[lib]);\n",
       "          };\n",
       "          s.onerror = () => reject(`Error loading script: ${paths[lib]}`);\n",
       "          s.src = paths[lib];\n",
       "        });\n",
       "    }\n",
       "\n",
       "    function showError(err) {\n",
       "      outputDiv.innerHTML = `<div class=\"error\" style=\"color:red;\">${err}</div>`;\n",
       "      throw err;\n",
       "    }\n",
       "\n",
       "    function displayChart(vegaEmbed) {\n",
       "      vegaEmbed(outputDiv, spec, embedOpt)\n",
       "        .catch(err => showError(`Javascript Error: ${err.message}<br>This usually means there's a typo in your chart specification. See the javascript console for the full traceback.`));\n",
       "    }\n",
       "\n",
       "    if(typeof define === \"function\" && define.amd) {\n",
       "      requirejs.config({paths});\n",
       "      require([\"vega-embed\"], displayChart, err => showError(`Error loading script: ${err.message}`));\n",
       "    } else {\n",
       "      maybeLoadScript(\"vega\", \"5\")\n",
       "        .then(() => maybeLoadScript(\"vega-lite\", \"5.8.0\"))\n",
       "        .then(() => maybeLoadScript(\"vega-embed\", \"6\"))\n",
       "        .catch(showError)\n",
       "        .then(() => displayChart(vegaEmbed));\n",
       "    }\n",
       "  })({\"config\": {\"view\": {\"continuousWidth\": 300, \"continuousHeight\": 300}}, \"data\": {\"url\": \"altair-temp-data/-c2aca130c31a6d5fad95e55b4a9b8160.json\", \"format\": {\"type\": \"json\"}}, \"mark\": {\"type\": \"bar\", \"binSpacing\": 0, \"opacity\": 0.5}, \"encoding\": {\"color\": {\"field\": \"(miu,sig)\", \"type\": \"nominal\"}, \"x\": {\"bin\": {\"maxbins\": 100}, \"field\": \"Values\", \"type\": \"quantitative\"}, \"y\": {\"aggregate\": \"count\", \"stack\": null, \"type\": \"quantitative\"}}, \"transform\": [{\"fold\": [\"(1,7)\", \"(10,1)\", \"(-10,5)\"], \"as\": [\"(miu,sig)\", \"Values\"]}], \"$schema\": \"https://vega.github.io/schema/vega-lite/v5.8.0.json\"}, {\"mode\": \"vega-lite\"});\n",
       "</script>"
      ],
      "text/plain": [
       "alt.Chart(...)"
      ]
     },
     "execution_count": 18,
     "metadata": {},
     "output_type": "execute_result"
    }
   ],
   "source": [
    "#import altair as alt\n",
    "def hist(miu,sig):\n",
    "    n = stats.norm(miu, sig).rvs(5000)\n",
    "    normal_values = pd.DataFrame({\"value\": n})\n",
    "    chart = alt.Chart(normal_values).mark_bar().encode(\n",
    "    alt.X(\"value\", bin=alt.Bin(maxbins=100)),\n",
    "    y='count()',\n",
    "    color=alt.value('#287E1E'),  # Aside: Note US spelling. Also try \"hex codes\": https://htmlcolorcodes.com/\n",
    "    )\n",
    "    display(chart)\n",
    "    return n\n",
    "\n",
    "\n",
    "h = [hist(1,7),hist(10,1),hist(-10,5)]\n",
    "names = ['(1,7)', '(10,1)', '(-10,5)']\n",
    "\n",
    "\n",
    "df = pd.DataFrame({names[i]:h[i] for i in range(len(h))})\n",
    "alt.Chart(df).transform_fold(\n",
    "    names,\n",
    "    as_ = ['(miu,sig)','Values']\n",
    ").mark_bar(\n",
    "    opacity=0.5,\n",
    "    binSpacing=0\n",
    ").encode(\n",
    "    alt.X('Values:Q', bin=alt.Bin(maxbins=100)),\n",
    "    alt.Y('count()', stack=None),\n",
    "    alt.Color('(miu,sig):N')\n",
    ")\n"
   ]
  },
  {
   "cell_type": "code",
   "execution_count": 19,
   "metadata": {},
   "outputs": [
    {
     "data": {
      "text/html": [
       "\n",
       "<style>\n",
       "  #altair-viz-6fdc9c33018c45c2b3906de8d344ba40.vega-embed {\n",
       "    width: 100%;\n",
       "    display: flex;\n",
       "  }\n",
       "\n",
       "  #altair-viz-6fdc9c33018c45c2b3906de8d344ba40.vega-embed details,\n",
       "  #altair-viz-6fdc9c33018c45c2b3906de8d344ba40.vega-embed details summary {\n",
       "    position: relative;\n",
       "  }\n",
       "</style>\n",
       "<div id=\"altair-viz-6fdc9c33018c45c2b3906de8d344ba40\"></div>\n",
       "<script type=\"text/javascript\">\n",
       "  var VEGA_DEBUG = (typeof VEGA_DEBUG == \"undefined\") ? {} : VEGA_DEBUG;\n",
       "  (function(spec, embedOpt){\n",
       "    let outputDiv = document.currentScript.previousElementSibling;\n",
       "    if (outputDiv.id !== \"altair-viz-6fdc9c33018c45c2b3906de8d344ba40\") {\n",
       "      outputDiv = document.getElementById(\"altair-viz-6fdc9c33018c45c2b3906de8d344ba40\");\n",
       "    }\n",
       "    const paths = {\n",
       "      \"vega\": \"https://cdn.jsdelivr.net/npm/vega@5?noext\",\n",
       "      \"vega-lib\": \"https://cdn.jsdelivr.net/npm/vega-lib?noext\",\n",
       "      \"vega-lite\": \"https://cdn.jsdelivr.net/npm/vega-lite@5.8.0?noext\",\n",
       "      \"vega-embed\": \"https://cdn.jsdelivr.net/npm/vega-embed@6?noext\",\n",
       "    };\n",
       "\n",
       "    function maybeLoadScript(lib, version) {\n",
       "      var key = `${lib.replace(\"-\", \"\")}_version`;\n",
       "      return (VEGA_DEBUG[key] == version) ?\n",
       "        Promise.resolve(paths[lib]) :\n",
       "        new Promise(function(resolve, reject) {\n",
       "          var s = document.createElement('script');\n",
       "          document.getElementsByTagName(\"head\")[0].appendChild(s);\n",
       "          s.async = true;\n",
       "          s.onload = () => {\n",
       "            VEGA_DEBUG[key] = version;\n",
       "            return resolve(paths[lib]);\n",
       "          };\n",
       "          s.onerror = () => reject(`Error loading script: ${paths[lib]}`);\n",
       "          s.src = paths[lib];\n",
       "        });\n",
       "    }\n",
       "\n",
       "    function showError(err) {\n",
       "      outputDiv.innerHTML = `<div class=\"error\" style=\"color:red;\">${err}</div>`;\n",
       "      throw err;\n",
       "    }\n",
       "\n",
       "    function displayChart(vegaEmbed) {\n",
       "      vegaEmbed(outputDiv, spec, embedOpt)\n",
       "        .catch(err => showError(`Javascript Error: ${err.message}<br>This usually means there's a typo in your chart specification. See the javascript console for the full traceback.`));\n",
       "    }\n",
       "\n",
       "    if(typeof define === \"function\" && define.amd) {\n",
       "      requirejs.config({paths});\n",
       "      require([\"vega-embed\"], displayChart, err => showError(`Error loading script: ${err.message}`));\n",
       "    } else {\n",
       "      maybeLoadScript(\"vega\", \"5\")\n",
       "        .then(() => maybeLoadScript(\"vega-lite\", \"5.8.0\"))\n",
       "        .then(() => maybeLoadScript(\"vega-embed\", \"6\"))\n",
       "        .catch(showError)\n",
       "        .then(() => displayChart(vegaEmbed));\n",
       "    }\n",
       "  })({\"config\": {\"view\": {\"continuousWidth\": 300, \"continuousHeight\": 300}}, \"data\": {\"url\": \"altair-temp-data/-ba497c8b255b662953d2c141c560720a.json\", \"format\": {\"type\": \"json\"}}, \"mark\": {\"type\": \"bar\"}, \"encoding\": {\"x\": {\"bin\": {\"maxbins\": 100}, \"field\": \"value\", \"type\": \"quantitative\"}, \"y\": {\"aggregate\": \"count\", \"type\": \"quantitative\"}}, \"title\": \"Normal Distribution histogram with mean 1 and standard deviation 7\", \"$schema\": \"https://vega.github.io/schema/vega-lite/v5.8.0.json\"}, {\"mode\": \"vega-lite\"});\n",
       "</script>"
      ],
      "text/plain": [
       "alt.Chart(...)"
      ]
     },
     "metadata": {},
     "output_type": "display_data"
    },
    {
     "data": {
      "text/html": [
       "\n",
       "<style>\n",
       "  #altair-viz-c794e4ca0dff4ec8a71c68694d4e10bb.vega-embed {\n",
       "    width: 100%;\n",
       "    display: flex;\n",
       "  }\n",
       "\n",
       "  #altair-viz-c794e4ca0dff4ec8a71c68694d4e10bb.vega-embed details,\n",
       "  #altair-viz-c794e4ca0dff4ec8a71c68694d4e10bb.vega-embed details summary {\n",
       "    position: relative;\n",
       "  }\n",
       "</style>\n",
       "<div id=\"altair-viz-c794e4ca0dff4ec8a71c68694d4e10bb\"></div>\n",
       "<script type=\"text/javascript\">\n",
       "  var VEGA_DEBUG = (typeof VEGA_DEBUG == \"undefined\") ? {} : VEGA_DEBUG;\n",
       "  (function(spec, embedOpt){\n",
       "    let outputDiv = document.currentScript.previousElementSibling;\n",
       "    if (outputDiv.id !== \"altair-viz-c794e4ca0dff4ec8a71c68694d4e10bb\") {\n",
       "      outputDiv = document.getElementById(\"altair-viz-c794e4ca0dff4ec8a71c68694d4e10bb\");\n",
       "    }\n",
       "    const paths = {\n",
       "      \"vega\": \"https://cdn.jsdelivr.net/npm/vega@5?noext\",\n",
       "      \"vega-lib\": \"https://cdn.jsdelivr.net/npm/vega-lib?noext\",\n",
       "      \"vega-lite\": \"https://cdn.jsdelivr.net/npm/vega-lite@5.8.0?noext\",\n",
       "      \"vega-embed\": \"https://cdn.jsdelivr.net/npm/vega-embed@6?noext\",\n",
       "    };\n",
       "\n",
       "    function maybeLoadScript(lib, version) {\n",
       "      var key = `${lib.replace(\"-\", \"\")}_version`;\n",
       "      return (VEGA_DEBUG[key] == version) ?\n",
       "        Promise.resolve(paths[lib]) :\n",
       "        new Promise(function(resolve, reject) {\n",
       "          var s = document.createElement('script');\n",
       "          document.getElementsByTagName(\"head\")[0].appendChild(s);\n",
       "          s.async = true;\n",
       "          s.onload = () => {\n",
       "            VEGA_DEBUG[key] = version;\n",
       "            return resolve(paths[lib]);\n",
       "          };\n",
       "          s.onerror = () => reject(`Error loading script: ${paths[lib]}`);\n",
       "          s.src = paths[lib];\n",
       "        });\n",
       "    }\n",
       "\n",
       "    function showError(err) {\n",
       "      outputDiv.innerHTML = `<div class=\"error\" style=\"color:red;\">${err}</div>`;\n",
       "      throw err;\n",
       "    }\n",
       "\n",
       "    function displayChart(vegaEmbed) {\n",
       "      vegaEmbed(outputDiv, spec, embedOpt)\n",
       "        .catch(err => showError(`Javascript Error: ${err.message}<br>This usually means there's a typo in your chart specification. See the javascript console for the full traceback.`));\n",
       "    }\n",
       "\n",
       "    if(typeof define === \"function\" && define.amd) {\n",
       "      requirejs.config({paths});\n",
       "      require([\"vega-embed\"], displayChart, err => showError(`Error loading script: ${err.message}`));\n",
       "    } else {\n",
       "      maybeLoadScript(\"vega\", \"5\")\n",
       "        .then(() => maybeLoadScript(\"vega-lite\", \"5.8.0\"))\n",
       "        .then(() => maybeLoadScript(\"vega-embed\", \"6\"))\n",
       "        .catch(showError)\n",
       "        .then(() => displayChart(vegaEmbed));\n",
       "    }\n",
       "  })({\"config\": {\"view\": {\"continuousWidth\": 300, \"continuousHeight\": 300}}, \"data\": {\"url\": \"altair-temp-data/-91aea5d4278070590df47350a96d14b2.json\", \"format\": {\"type\": \"json\"}}, \"mark\": {\"type\": \"bar\"}, \"encoding\": {\"x\": {\"bin\": {\"maxbins\": 100}, \"field\": \"value\", \"type\": \"quantitative\"}, \"y\": {\"aggregate\": \"count\", \"type\": \"quantitative\"}}, \"title\": \"Normal Distribution histogram with mean 10 and standard deviation 1\", \"$schema\": \"https://vega.github.io/schema/vega-lite/v5.8.0.json\"}, {\"mode\": \"vega-lite\"});\n",
       "</script>"
      ],
      "text/plain": [
       "alt.Chart(...)"
      ]
     },
     "metadata": {},
     "output_type": "display_data"
    },
    {
     "data": {
      "text/html": [
       "\n",
       "<style>\n",
       "  #altair-viz-9658bc6d75e84b359e8d3cad6f50aae3.vega-embed {\n",
       "    width: 100%;\n",
       "    display: flex;\n",
       "  }\n",
       "\n",
       "  #altair-viz-9658bc6d75e84b359e8d3cad6f50aae3.vega-embed details,\n",
       "  #altair-viz-9658bc6d75e84b359e8d3cad6f50aae3.vega-embed details summary {\n",
       "    position: relative;\n",
       "  }\n",
       "</style>\n",
       "<div id=\"altair-viz-9658bc6d75e84b359e8d3cad6f50aae3\"></div>\n",
       "<script type=\"text/javascript\">\n",
       "  var VEGA_DEBUG = (typeof VEGA_DEBUG == \"undefined\") ? {} : VEGA_DEBUG;\n",
       "  (function(spec, embedOpt){\n",
       "    let outputDiv = document.currentScript.previousElementSibling;\n",
       "    if (outputDiv.id !== \"altair-viz-9658bc6d75e84b359e8d3cad6f50aae3\") {\n",
       "      outputDiv = document.getElementById(\"altair-viz-9658bc6d75e84b359e8d3cad6f50aae3\");\n",
       "    }\n",
       "    const paths = {\n",
       "      \"vega\": \"https://cdn.jsdelivr.net/npm/vega@5?noext\",\n",
       "      \"vega-lib\": \"https://cdn.jsdelivr.net/npm/vega-lib?noext\",\n",
       "      \"vega-lite\": \"https://cdn.jsdelivr.net/npm/vega-lite@5.8.0?noext\",\n",
       "      \"vega-embed\": \"https://cdn.jsdelivr.net/npm/vega-embed@6?noext\",\n",
       "    };\n",
       "\n",
       "    function maybeLoadScript(lib, version) {\n",
       "      var key = `${lib.replace(\"-\", \"\")}_version`;\n",
       "      return (VEGA_DEBUG[key] == version) ?\n",
       "        Promise.resolve(paths[lib]) :\n",
       "        new Promise(function(resolve, reject) {\n",
       "          var s = document.createElement('script');\n",
       "          document.getElementsByTagName(\"head\")[0].appendChild(s);\n",
       "          s.async = true;\n",
       "          s.onload = () => {\n",
       "            VEGA_DEBUG[key] = version;\n",
       "            return resolve(paths[lib]);\n",
       "          };\n",
       "          s.onerror = () => reject(`Error loading script: ${paths[lib]}`);\n",
       "          s.src = paths[lib];\n",
       "        });\n",
       "    }\n",
       "\n",
       "    function showError(err) {\n",
       "      outputDiv.innerHTML = `<div class=\"error\" style=\"color:red;\">${err}</div>`;\n",
       "      throw err;\n",
       "    }\n",
       "\n",
       "    function displayChart(vegaEmbed) {\n",
       "      vegaEmbed(outputDiv, spec, embedOpt)\n",
       "        .catch(err => showError(`Javascript Error: ${err.message}<br>This usually means there's a typo in your chart specification. See the javascript console for the full traceback.`));\n",
       "    }\n",
       "\n",
       "    if(typeof define === \"function\" && define.amd) {\n",
       "      requirejs.config({paths});\n",
       "      require([\"vega-embed\"], displayChart, err => showError(`Error loading script: ${err.message}`));\n",
       "    } else {\n",
       "      maybeLoadScript(\"vega\", \"5\")\n",
       "        .then(() => maybeLoadScript(\"vega-lite\", \"5.8.0\"))\n",
       "        .then(() => maybeLoadScript(\"vega-embed\", \"6\"))\n",
       "        .catch(showError)\n",
       "        .then(() => displayChart(vegaEmbed));\n",
       "    }\n",
       "  })({\"config\": {\"view\": {\"continuousWidth\": 300, \"continuousHeight\": 300}}, \"data\": {\"url\": \"altair-temp-data/-196a175697c165904dcd187f5a05e23c.json\", \"format\": {\"type\": \"json\"}}, \"mark\": {\"type\": \"bar\"}, \"encoding\": {\"x\": {\"bin\": {\"maxbins\": 100}, \"field\": \"value\", \"type\": \"quantitative\"}, \"y\": {\"aggregate\": \"count\", \"type\": \"quantitative\"}}, \"title\": \"Normal Distribution histogram with mean -10 and standard deviation 5\", \"$schema\": \"https://vega.github.io/schema/vega-lite/v5.8.0.json\"}, {\"mode\": \"vega-lite\"});\n",
       "</script>"
      ],
      "text/plain": [
       "alt.Chart(...)"
      ]
     },
     "metadata": {},
     "output_type": "display_data"
    }
   ],
   "source": [
    "# (1) (doing is from scratch so just this chunk can be run)\n",
    "import pandas as pd\n",
    "from scipy import stats\n",
    "import altair as alt\n",
    "alt.renderers.enable('default')\n",
    "\n",
    "mean_std_list = [(1,7), (10,1), (-10,5)]\n",
    "\n",
    "for vals in mean_std_list:\n",
    "    norm_dist_func = stats.norm(vals[0], vals[1])\n",
    "    results = norm_dist_func.rvs(1000)\n",
    "    normal_values = pd.DataFrame({\"value\": results})\n",
    "    norm_plot = alt.Chart(normal_values, title=\"Normal Distribution histogram with mean \" + str(vals[0]) + \" and standard deviation \" + str(vals[1])).mark_bar().encode(\n",
    "    alt.X(\"value\", bin=alt.Bin(maxbins=100)),\n",
    "    y='count()',)\n",
    "    norm_plot.display()"
   ]
  },
  {
   "cell_type": "code",
   "execution_count": 20,
   "metadata": {},
   "outputs": [
    {
     "data": {
      "text/html": [
       "\n",
       "<style>\n",
       "  #altair-viz-6b596ce4483d4ea7bafc713b4f1d5bf8.vega-embed {\n",
       "    width: 100%;\n",
       "    display: flex;\n",
       "  }\n",
       "\n",
       "  #altair-viz-6b596ce4483d4ea7bafc713b4f1d5bf8.vega-embed details,\n",
       "  #altair-viz-6b596ce4483d4ea7bafc713b4f1d5bf8.vega-embed details summary {\n",
       "    position: relative;\n",
       "  }\n",
       "</style>\n",
       "<div id=\"altair-viz-6b596ce4483d4ea7bafc713b4f1d5bf8\"></div>\n",
       "<script type=\"text/javascript\">\n",
       "  var VEGA_DEBUG = (typeof VEGA_DEBUG == \"undefined\") ? {} : VEGA_DEBUG;\n",
       "  (function(spec, embedOpt){\n",
       "    let outputDiv = document.currentScript.previousElementSibling;\n",
       "    if (outputDiv.id !== \"altair-viz-6b596ce4483d4ea7bafc713b4f1d5bf8\") {\n",
       "      outputDiv = document.getElementById(\"altair-viz-6b596ce4483d4ea7bafc713b4f1d5bf8\");\n",
       "    }\n",
       "    const paths = {\n",
       "      \"vega\": \"https://cdn.jsdelivr.net/npm/vega@5?noext\",\n",
       "      \"vega-lib\": \"https://cdn.jsdelivr.net/npm/vega-lib?noext\",\n",
       "      \"vega-lite\": \"https://cdn.jsdelivr.net/npm/vega-lite@5.8.0?noext\",\n",
       "      \"vega-embed\": \"https://cdn.jsdelivr.net/npm/vega-embed@6?noext\",\n",
       "    };\n",
       "\n",
       "    function maybeLoadScript(lib, version) {\n",
       "      var key = `${lib.replace(\"-\", \"\")}_version`;\n",
       "      return (VEGA_DEBUG[key] == version) ?\n",
       "        Promise.resolve(paths[lib]) :\n",
       "        new Promise(function(resolve, reject) {\n",
       "          var s = document.createElement('script');\n",
       "          document.getElementsByTagName(\"head\")[0].appendChild(s);\n",
       "          s.async = true;\n",
       "          s.onload = () => {\n",
       "            VEGA_DEBUG[key] = version;\n",
       "            return resolve(paths[lib]);\n",
       "          };\n",
       "          s.onerror = () => reject(`Error loading script: ${paths[lib]}`);\n",
       "          s.src = paths[lib];\n",
       "        });\n",
       "    }\n",
       "\n",
       "    function showError(err) {\n",
       "      outputDiv.innerHTML = `<div class=\"error\" style=\"color:red;\">${err}</div>`;\n",
       "      throw err;\n",
       "    }\n",
       "\n",
       "    function displayChart(vegaEmbed) {\n",
       "      vegaEmbed(outputDiv, spec, embedOpt)\n",
       "        .catch(err => showError(`Javascript Error: ${err.message}<br>This usually means there's a typo in your chart specification. See the javascript console for the full traceback.`));\n",
       "    }\n",
       "\n",
       "    if(typeof define === \"function\" && define.amd) {\n",
       "      requirejs.config({paths});\n",
       "      require([\"vega-embed\"], displayChart, err => showError(`Error loading script: ${err.message}`));\n",
       "    } else {\n",
       "      maybeLoadScript(\"vega\", \"5\")\n",
       "        .then(() => maybeLoadScript(\"vega-lite\", \"5.8.0\"))\n",
       "        .then(() => maybeLoadScript(\"vega-embed\", \"6\"))\n",
       "        .catch(showError)\n",
       "        .then(() => displayChart(vegaEmbed));\n",
       "    }\n",
       "  })({\"config\": {\"view\": {\"continuousWidth\": 300, \"continuousHeight\": 300}}, \"data\": {\"url\": \"altair-temp-data/-3f80fe713fa48c24802df0f97f8eceab.json\", \"format\": {\"type\": \"json\"}}, \"mark\": {\"type\": \"bar\"}, \"encoding\": {\"x\": {\"bin\": {\"maxbins\": 100}, \"field\": \"value\", \"type\": \"quantitative\"}, \"y\": {\"aggregate\": \"count\", \"type\": \"quantitative\"}}, \"title\": \"Normal Distribution histogram with mean 1 and standard deviation 2\", \"$schema\": \"https://vega.github.io/schema/vega-lite/v5.8.0.json\"}, {\"mode\": \"vega-lite\"});\n",
       "</script>"
      ],
      "text/plain": [
       "alt.Chart(...)"
      ]
     },
     "metadata": {},
     "output_type": "display_data"
    }
   ],
   "source": [
    "# (2)\n",
    "def display_norm(mean, std):\n",
    "    norm_dist_func = stats.norm(mean, std)\n",
    "    results = norm_dist_func.rvs(1000)\n",
    "    normal_values = pd.DataFrame({\"value\": results})\n",
    "    norm_plot = alt.Chart(normal_values, title=\"Normal Distribution histogram with mean \" + str(mean) + \" and standard deviation \" + str(std)).mark_bar().encode(\n",
    "    alt.X(\"value\", bin=alt.Bin(maxbins=100)),\n",
    "    y='count()',)\n",
    "    norm_plot.display()\n",
    "    \n",
    "display_norm(1,2)"
   ]
  },
  {
   "cell_type": "code",
   "execution_count": 21,
   "metadata": {},
   "outputs": [
    {
     "data": {
      "text/html": [
       "\n",
       "<style>\n",
       "  #altair-viz-238bca29b5004d3394697eac6069fae2.vega-embed {\n",
       "    width: 100%;\n",
       "    display: flex;\n",
       "  }\n",
       "\n",
       "  #altair-viz-238bca29b5004d3394697eac6069fae2.vega-embed details,\n",
       "  #altair-viz-238bca29b5004d3394697eac6069fae2.vega-embed details summary {\n",
       "    position: relative;\n",
       "  }\n",
       "</style>\n",
       "<div id=\"altair-viz-238bca29b5004d3394697eac6069fae2\"></div>\n",
       "<script type=\"text/javascript\">\n",
       "  var VEGA_DEBUG = (typeof VEGA_DEBUG == \"undefined\") ? {} : VEGA_DEBUG;\n",
       "  (function(spec, embedOpt){\n",
       "    let outputDiv = document.currentScript.previousElementSibling;\n",
       "    if (outputDiv.id !== \"altair-viz-238bca29b5004d3394697eac6069fae2\") {\n",
       "      outputDiv = document.getElementById(\"altair-viz-238bca29b5004d3394697eac6069fae2\");\n",
       "    }\n",
       "    const paths = {\n",
       "      \"vega\": \"https://cdn.jsdelivr.net/npm/vega@5?noext\",\n",
       "      \"vega-lib\": \"https://cdn.jsdelivr.net/npm/vega-lib?noext\",\n",
       "      \"vega-lite\": \"https://cdn.jsdelivr.net/npm/vega-lite@5.8.0?noext\",\n",
       "      \"vega-embed\": \"https://cdn.jsdelivr.net/npm/vega-embed@6?noext\",\n",
       "    };\n",
       "\n",
       "    function maybeLoadScript(lib, version) {\n",
       "      var key = `${lib.replace(\"-\", \"\")}_version`;\n",
       "      return (VEGA_DEBUG[key] == version) ?\n",
       "        Promise.resolve(paths[lib]) :\n",
       "        new Promise(function(resolve, reject) {\n",
       "          var s = document.createElement('script');\n",
       "          document.getElementsByTagName(\"head\")[0].appendChild(s);\n",
       "          s.async = true;\n",
       "          s.onload = () => {\n",
       "            VEGA_DEBUG[key] = version;\n",
       "            return resolve(paths[lib]);\n",
       "          };\n",
       "          s.onerror = () => reject(`Error loading script: ${paths[lib]}`);\n",
       "          s.src = paths[lib];\n",
       "        });\n",
       "    }\n",
       "\n",
       "    function showError(err) {\n",
       "      outputDiv.innerHTML = `<div class=\"error\" style=\"color:red;\">${err}</div>`;\n",
       "      throw err;\n",
       "    }\n",
       "\n",
       "    function displayChart(vegaEmbed) {\n",
       "      vegaEmbed(outputDiv, spec, embedOpt)\n",
       "        .catch(err => showError(`Javascript Error: ${err.message}<br>This usually means there's a typo in your chart specification. See the javascript console for the full traceback.`));\n",
       "    }\n",
       "\n",
       "    if(typeof define === \"function\" && define.amd) {\n",
       "      requirejs.config({paths});\n",
       "      require([\"vega-embed\"], displayChart, err => showError(`Error loading script: ${err.message}`));\n",
       "    } else {\n",
       "      maybeLoadScript(\"vega\", \"5\")\n",
       "        .then(() => maybeLoadScript(\"vega-lite\", \"5.8.0\"))\n",
       "        .then(() => maybeLoadScript(\"vega-embed\", \"6\"))\n",
       "        .catch(showError)\n",
       "        .then(() => displayChart(vegaEmbed));\n",
       "    }\n",
       "  })({\"config\": {\"view\": {\"continuousWidth\": 300, \"continuousHeight\": 300}}, \"data\": {\"url\": \"altair-temp-data/-28dce82cdd4baee70af2384a7999e0dc.json\", \"format\": {\"type\": \"json\"}}, \"mark\": {\"type\": \"area\", \"interpolate\": \"step\", \"opacity\": 0.8}, \"encoding\": {\"color\": {\"field\": \"Columns\", \"type\": \"nominal\"}, \"x\": {\"bin\": {\"maxbins\": 300}, \"field\": \"Values\", \"type\": \"quantitative\"}, \"y\": {\"aggregate\": \"count\", \"stack\": null, \"type\": \"quantitative\"}}, \"transform\": [{\"fold\": [\"Norm 1\", \"Norm 2\", \"Norm 3\"], \"as\": [\"Columns\", \"Values\"]}], \"$schema\": \"https://vega.github.io/schema/vega-lite/v5.8.0.json\"}, {\"mode\": \"vega-lite\"});\n",
       "</script>"
      ],
      "text/plain": [
       "alt.Chart(...)"
      ]
     },
     "execution_count": 21,
     "metadata": {},
     "output_type": "execute_result"
    }
   ],
   "source": [
    "# (3) Compound Histogram Altair\n",
    "df = pd.DataFrame({'Norm 1': stats.norm(1,7).rvs(6000),\n",
    "                   'Norm 2': stats.norm(10,1).rvs(6000),\n",
    "                   'Norm 3': stats.norm(-10,5).rvs(6000)})\n",
    "\n",
    "alt.Chart(df).transform_fold(\n",
    "    ['Norm 1', 'Norm 2', 'Norm 3'],\n",
    "    as_=['Columns', 'Values']\n",
    ").mark_area(\n",
    "    opacity=0.8,\n",
    "    interpolate='step'\n",
    ").encode(\n",
    "    alt.X('Values:Q', bin=alt.Bin(maxbins=300)),\n",
    "    alt.Y('count()', stack=None),\n",
    "    alt.Color('Columns:N'))"
   ]
  },
  {
   "cell_type": "markdown",
   "metadata": {},
   "source": [
    "*For solutions, see `solutions/normal_distributions.py`*"
   ]
  },
  {
   "cell_type": "markdown",
   "metadata": {},
   "source": [
    "### Probability Density Functions\n",
    "\n",
    "The histograms we were looking at above are approximations of what is known as a *Probability Density Function*, or PDF. A PDF shows us the probability of a given value, for a discrete random variable.\n",
    "\n",
    "For a continuous random variable, any *exact* value has a probability of 0 (think about why this is the case). We can only give probabilities for ranges. For a lower bound of $a$ and an upper bound of $b$, we can obtain the probability of a random value lying between $a$ and $b$ by integrating the PDF between those values. For example, if our PDF function is $f(x)$, then the probability of random variable $X$ lying between $a$ and $b$ is given by:\n",
    "\n",
    "$P[a <= X <= b] = \\int_a^b f(x) dx$\n",
    "\n",
    "As an aside, and very informally, you can think of \"the probability of $X=2$\" as being a range *about* 2, say any value between 1.99 and 2.01 (or whatever precision makes sense in the context). Be clear on this definition when you do go to present your findings though, as a formal definition will be needed to replicate your results.\n",
    "\n",
    "We can generate the PDF through the `.pdf` method on a `scipy.stats` distribution. Earlier in this notebook we computed this manually through the equation. Now we let a library do the work for us."
   ]
  },
  {
   "cell_type": "code",
   "execution_count": 22,
   "metadata": {},
   "outputs": [],
   "source": [
    "n = stats.norm(0, 1)"
   ]
  },
  {
   "cell_type": "code",
   "execution_count": 23,
   "metadata": {},
   "outputs": [
    {
     "data": {
      "text/plain": [
       "<scipy.stats._distn_infrastructure.rv_continuous_frozen at 0x1b038657e90>"
      ]
     },
     "execution_count": 23,
     "metadata": {},
     "output_type": "execute_result"
    }
   ],
   "source": [
    "n"
   ]
  },
  {
   "cell_type": "code",
   "execution_count": 24,
   "metadata": {},
   "outputs": [],
   "source": [
    "x = np.linspace(-4, 4, 1000)\n",
    "y = n.pdf(x)"
   ]
  },
  {
   "cell_type": "code",
   "execution_count": 25,
   "metadata": {},
   "outputs": [
    {
     "data": {
      "image/png": "[encoded data removed]",
      "text/plain": [
       "<Figure size 640x480 with 1 Axes>"
      ]
     },
     "metadata": {},
     "output_type": "display_data"
    }
   ],
   "source": [
    "plt.plot(x, y);"
   ]
  },
  {
   "cell_type": "markdown",
   "metadata": {},
   "source": [
    "As with all probabilities, the sum or integral of the probabilities of all possible outcomes must equal one. In a die roll, each outcome (1, 2, 3, 4, 5, 6) has an probability of $\\frac{1}{6}$. Summed, that equals one.\n",
    "\n",
    "In a continuous scenario, the *area under the curve* must sum to 1.0 across the full range. That is:\n",
    "\n",
    "$\\int_{-\\infty}^{\\infty}f(x)dx = 1$\n",
    "\n",
    "<div class=\"alert alert-warning\">\n",
    "    Note that the value $f(x)$ is not a probability! It might look like one, but it's the <i>area under the curve</i> that gives us the probability.\n",
    "</div>\n",
    "\n",
    "For a given function, if it is positive or 0 everywhere, and the area under the curve integrates to 1, the function is a valid probability density function.\n",
    "\n",
    "Some functions are valid only under a given domain. For instance, the function $y = ax(b-x)$ is only positive for $0<=x<=b$. In this case, if the area under the curve sums to 1 across that domain, the function is a valid PDF for that domain.\n"
   ]
  },
  {
   "cell_type": "markdown",
   "metadata": {},
   "source": [
    "\n",
    "#### Exercises\n",
    "Using three different distribution classes in `scipy.stats`, run the following experiment:\n",
    "\n",
    "1. Compute 10,000 random values. Compute and save the mean.\n",
    "2. Repeat step 1, 1,000 times\n",
    "3. Plot the histogram of the mean values and observe the shape.\n",
    "\n",
    "Use the distributions `norm`, `cosine` and `uniform`.\n",
    "\n",
    "This finding is why the normal distribution is so important, and so commonly found in nature.\n",
    "\n",
    "**Hint:** See this example for how to do independent axes with Altair: https://altair-viz.github.io/gallery/layered_plot_with_dual_axis.html?highlight=resolve_scale\n",
    "\n",
    "#### Extended exercise\n",
    "\n",
    "Load a random dataset, and perform the same exercise with the real world data - that is, take the mean of each of 1,000 samples of size 10,000 and plot the histogram. What shaped distribution does it look like?"
   ]
  },
  {
   "cell_type": "code",
   "execution_count": null,
   "metadata": {},
   "outputs": [],
   "source": [
    "# (1)\n",
    "\n",
    "def get_rv_sample_mean(distribution, n_sample = 10000):\n",
    "    samp = distribution.rvs(n_sample)\n",
    "    return samp.mean()\n",
    "\n",
    "\n",
    "def list_of_means(distribution, n_means = 1000, n_sample = 10000):\n",
    "    samp_means = []\n",
    "    for i in range(n_means):\n",
    "        samp_means.append(get_rv_sample_mean(distribution, n_sample))\n",
    "    return samp_means\n",
    "\n",
    "\n",
    "distributions = dict([(\"normal\", stats.norm(0,1)),\n",
    "                 (\"poisson\", stats.poisson(1,1)),\n",
    "                 (\"uniform\", stats.uniform(0, 1))\n",
    "                ])\n",
    "\n",
    "\n",
    "means = pd.DataFrame({distribution_name: list_of_means(distribution)\n",
    "                  for distribution_name, distribution in distributions.items()})\n",
    "\n",
    "\n",
    "for dist in distributions:\n",
    "    nplot = alt.Chart(means[[dist]]).mark_bar().encode(alt.X(dist, bin=alt.Bin(maxbins=100)), y='count()',)\n",
    "    nplot.display()\n"
   ]
  },
  {
   "cell_type": "markdown",
   "metadata": {},
   "source": [
    "*For solutions, see `solutions/plotting_distributions.py`*"
   ]
  },
  {
   "cell_type": "markdown",
   "metadata": {},
   "source": [
    "### Cumulative Density Function\n",
    "\n",
    "A cumulative density function (CDF) tells us the probability of a value being less than, or equal to, a given value. A CDF is normally more useful for everyday usage.\n",
    "\n",
    "Here is the CDF for the normal distribution:"
   ]
  },
  {
   "cell_type": "code",
   "execution_count": null,
   "metadata": {},
   "outputs": [],
   "source": [
    "distribution = stats.norm()"
   ]
  },
  {
   "cell_type": "code",
   "execution_count": 155,
   "metadata": {},
   "outputs": [],
   "source": [
    "x = np.linspace(-5, 5, 1000)\n",
    "y_cdf = distribution.cdf(x)"
   ]
  },
  {
   "cell_type": "code",
   "execution_count": 156,
   "metadata": {},
   "outputs": [
    {
     "data": {
      "image/png": "[encoded data removed]",
      "text/plain": [
       "<Figure size 432x288 with 1 Axes>"
      ]
     },
     "metadata": {
      "needs_background": "light"
     },
     "output_type": "display_data"
    }
   ],
   "source": [
    "plt.plot(x, y_cdf);"
   ]
  },
  {
   "cell_type": "markdown",
   "metadata": {},
   "source": [
    "\n",
    "This graph allows us to compute the probability that a random value is chosen from the normal distribution ($\\mu=0, \\sigma=1$) will be less than or equal to the given $x$ value.\n",
    "\n",
    "For example, to determine the probability a given value is less than or equal to 1.2, we find the $y$ value corresponding to the given $x$ value:"
   ]
  },
  {
   "cell_type": "code",
   "execution_count": 157,
   "metadata": {},
   "outputs": [
    {
     "name": "stdout",
     "output_type": "stream",
     "text": [
      "At x=1.2, y=0.885\n"
     ]
    },
    {
     "data": {
      "image/png": "[encoded data removed]",
      "text/plain": [
       "<Figure size 432x288 with 1 Axes>"
      ]
     },
     "metadata": {
      "needs_background": "light"
     },
     "output_type": "display_data"
    }
   ],
   "source": [
    "x_0 = 1.2\n",
    "y_0 = distribution.cdf(x_0)\n",
    "\n",
    "plt.plot(x, y_cdf)\n",
    "plt.plot([x[0], x_0], [y_0, y_0], '--')\n",
    "plt.plot([x_0, x_0], [0, y_0], '--')\n",
    "print(\"At x={0}, y={1:.3f}\".format(x_0, y_0))"
   ]
  },
  {
   "cell_type": "markdown",
   "metadata": {},
   "source": [
    "Some major properties of a CDF, defined as $F_X(x)$ are:\n",
    " \n",
    "* The range (the values y can take) are between (and including) 0 and 1. This comes from its use as a probability computation - see the next point. Formally, $0 <= F_X(x) <= 1$ for any value $x$\n",
    "* The likelihood a value is less than or equal to infinity must be 1, and the likelihood it is less than or equal to negative infinity must be 0. Formally, $F_X(-\\infty)=0$ and $F_X(\\infty)=1$\n",
    "* The CDF value is *increasing*. That is, it must have a positive or zero slope (but not a negative one). Formally, $F_X(a) <= F_X(b) \\text{ iff } a < b$\n",
    " \n",
    "Further, if your random variable has a domain, then the CDF is 0 for all values less than the minimum domain, and 1 for any value above the maximum of the domain.\n",
    "\n",
    "To find the probability that a random variable lies within a range, subtract the value of the CDF at the minimum from the value at the maximum:\n",
    "\n",
    "$P(a < X <= b) = F_X(b) - F_X(a)$\n",
    "\n",
    "For a continuous distribution (like the normal distribution), the CDF is a smooth graph. Its shape will vary, but will follow the general pattern as seen above.\n",
    "\n",
    "For a discrete distribution, the graph is still increasing, but represents a \"staircase\", where the value of $F_X(x)$ between valid values remains the same. For example, for a die roll, the value of $F_X(3) == F_X(3.1)$. This makes sense, as no values between 3.0 and 3.1 can be obtained on a die, so the value $P(X<=3)$ must be the same as $P(X<=3.1)$."
   ]
  },
  {
   "cell_type": "markdown",
   "metadata": {},
   "source": [
    "#### Exercises\n",
    "\n",
    "1. Plot the relationship between the mean of a normal distribution as $x$ (with a fixed standard deviation of 1), and the area under the curve between 0 and 1 as the $y$ axis.\n",
    "2. Remake the plot, but have the standard deviation vary as $x$, and the mean fixed as 0. How can you characterise the relationship?\n",
    "\n",
    "#### Extended exercise\n",
    "\n",
    "Plot the CDF for rolling two dice, where the x value is the sum of the two dice, and the y value is the CDF for the distribution."
   ]
  },
  {
   "cell_type": "code",
   "execution_count": 163,
   "metadata": {},
   "outputs": [
    {
     "name": "stdout",
     "output_type": "stream",
     "text": [
      "The area between 0 and 1 decreases as the standard deviation increases are values will spread out and hence have less between 0 and 1.\n"
     ]
    },
    {
     "data": {
      "image/png": "[encoded data removed]",
      "text/plain": [
       "<Figure size 432x288 with 1 Axes>"
      ]
     },
     "metadata": {
      "needs_background": "light"
     },
     "output_type": "display_data"
    }
   ],
   "source": [
    "# Exercise 1\n",
    "x_values_1 = np.linspace(-5, 5, 1000)\n",
    "distributions_1 = [stats.norm(x, 1) for x in x_values_1]\n",
    "y_1 = np.array([distribution.cdf(1) - distribution.cdf(0)\n",
    "               for distribution in distributions_1])\n",
    "plt.plot(x_values_1, y_1, \"r\")\n",
    "\n",
    "# Exercise 2\n",
    "x_values_2 = np.linspace(0.1, 20, 1000)\n",
    "distributions_2 = [stats.norm(0, x) for x in x_values_2]\n",
    "y_2 = np.array([distribution.cdf(1) - distribution.cdf(0)\n",
    "               for distribution in distributions_2])\n",
    "plt.plot(x_values_2, y_2)\n",
    "print(\"The area between 0 and 1 decreases as the standard deviation increases are values will spread out and hence have less between 0 and 1.\")"
   ]
  },
  {
   "cell_type": "markdown",
   "metadata": {},
   "source": [
    "*For solutions, see `solutions/cdf_relationships.py`*"
   ]
  }
 ],
 "metadata": {
  "kernelspec": {
   "display_name": "Python 3 (ipykernel)",
   "language": "python",
   "name": "python3"
  },
  "language_info": {
   "codemirror_mode": {
    "name": "ipython",
    "version": 3
   },
   "file_extension": ".py",
   "mimetype": "text/x-python",
   "name": "python",
   "nbconvert_exporter": "python",
   "pygments_lexer": "ipython3",
   "version": "3.11.4"
  }
 },
 "nbformat": 4,
 "nbformat_minor": 2
}
