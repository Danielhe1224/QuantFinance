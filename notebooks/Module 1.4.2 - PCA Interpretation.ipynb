{
 "cells": [
  {
   "cell_type": "markdown",
   "metadata": {},
   "source": [
    "# Introduction to Quantitative Finance\n",
    "\n",
    "Copyright (c) 2019 Python Charmers Pty Ltd, Australia, <https://pythoncharmers.com>. All rights reserved.\n",
    "\n",
    "<img src=\"img/python_charmers_logo.png\" width=\"300\" alt=\"Python Charmers Logo\">\n",
    "\n",
    "    Published under the Creative Commons Attribution-NonCommercial 4.0 International (CC BY-NC 4.0) license. See `LICENSE.md` for details.\n",
    "\n",
    "Sponsored by Tibra Global Services, <https://tibra.com>\n",
    "\n",
    "<img src=\"img/tibra_logo.png\" width=\"300\" alt=\"Tibra Logo\">\n",
    "\n",
    "\n",
    "## Module 1.4: Principle Component Analysis (PCA)\n",
    "\n",
    "### 1.4.2 PCA Interpretation\n",
    "\n",
    "In the last notebook we introduced the Principle Component Analysis algorithm - PCA. In this notebook we will look at the algorithm in more detail, including methods for analysing the results.\n",
    "\n",
    "From a linear algebra perspective, the algorithm itself is quite straightforward:\n",
    "\n",
    "1. Normalise X to have a zero mean (`X = X - np.mean(X, axis=0)`)\n",
    "2. Calculate the covariance matrix $\\Sigma$, which is a square matrix of size `k`, the number of variables, where value $\\Sigma_{i,j}$ is the covariance of variables $i$ and $j$. Note that $\\Sigma = X'X$.\n",
    "3. Find the eigenvectors of $\\Sigma$\n",
    "\n",
    "The resulting eigenvectors will be the component and the eigenvalues of those will be the relative variance explained by the given component. If you sort the eigenvectors by their eigenvalues (highest first), you get the sorted eigenvectors, giving the sorted (by importance) principle components.\n",
    "\n",
    "To compute the transformed data, perform a dot product $XC$, where $C$ is a matrix of the first $n$ components we are interested in (which could be \"all of them\" if $n=k$)."
   ]
  },
  {
   "cell_type": "code",
   "execution_count": 1,
   "metadata": {},
   "outputs": [],
   "source": [
    "%run setup.ipy"
   ]
  },
  {
   "cell_type": "markdown",
   "metadata": {},
   "source": [
    "\n",
    "#### Exercise\n",
    "\n",
    "1. Review the documentation for the scikit-learn PCA algorithm, as well as the linked description. What does the `whiten` parameter do and when is it useful?\n",
    "\n",
    "\n",
    "#### Extended Exercise\n",
    "\n",
    "Implement the PCA algorithm as given above using only the NumPy algorithm.\n",
    "\n",
    "**Hint:** The `np.linalg.eig` function can be used for computing the eigenvectors and eigenvalues, although they won't be sorted correctly.\n",
    "\n",
    "\n"
   ]
  },
  {
   "cell_type": "code",
   "execution_count": null,
   "metadata": {},
   "outputs": [],
   "source": [
    "# Solution to extended exercise, \n",
    "# based on https://medium.com/100-days-of-algorithms/day-92-pca-bdb66840a8fb\n",
    "#When True (False by default) the components_ vectors are multiplied by the square root of n_samples \n",
    "#and then divided by the singular values to ensure uncorrelated outputs with unit component-wise variances.\n",
    "\n",
    "#Whitening will remove some information from the transformed signal (the relative variance scales of the components) \n",
    "#but can sometime improve the predictive accuracy of the downstream estimators by making their data respect some hard-wired assumptions.\n",
    "def PCA(X, n_components):\n",
    "    # normalize to zero mean\n",
    "    mu = X.mean(axis=0)\n",
    "    X = X - mu\n",
    "    \n",
    "    # eigenvectors of covariance matrix\n",
    "    sigma = X.T @ X\n",
    "    eigvals, eigvecs = np.linalg.eig(sigma)\n",
    "    \n",
    "    # principal components\n",
    "    order = np.argsort(eigvals)[::-1]\n",
    "    components = eigvecs[:, order[:n_components]]\n",
    "    \n",
    "    # projection\n",
    "    Z = X @ components\n",
    "    \n",
    "    # result\n",
    "    return Z, components"
   ]
  },
  {
   "cell_type": "markdown",
   "metadata": {},
   "source": [
    "*For solutions, see `solutions/pca_numpy.py`*"
   ]
  },
  {
   "cell_type": "markdown",
   "metadata": {},
   "source": [
    "### Eigenvectors and Eigenvalues\n",
    "\n",
    "Eigenvectors are an area of linear algebra that often causes lots of confusion. You *can* simply use PCA without knowing what they are. They are used within the algorithm, but the values that you normally use are the transformed dataset $X$, rather than the eigenvectors and eigenvalues themselves.\n",
    "\n",
    "However, an intuitive understanding of Eigenvectors can often help. To help with this, the following video on YouTube has the incredibly clear explanation and useful visualisations:\n",
    "\n",
    "<iframe width=\"560\" height=\"315\" src=\"https://www.youtube.com/embed/PFDu9oVAE-g\" frameborder=\"0\" allow=\"accelerometer; autoplay; encrypted-media; gyroscope; picture-in-picture\" allowfullscreen>\n",
    "</iframe>\n",
    "\n",
    "(If that doesn't load, which can happen due to security settings, click this link: https://www.youtube.com/watch?v=PFDu9oVAE-g )\n",
    "\n",
    "Usefully, the above video also talks about the change in basis, which is what PCA is effectively doing to your data.\n",
    "\n",
    "Details about linear algebra are outside the scope of this course, but I would recommend the full series of videos in the above playlist to fill any gaps in understanding. Also, the visualisations are written in Python!"
   ]
  },
  {
   "cell_type": "markdown",
   "metadata": {},
   "source": [
    "### Limitations of PCA\n",
    "\n",
    "PCA is not a perfect algorithm (such a thing doesn't exist), and using it has drawbacks. These are listed below:\n",
    "\n",
    "### Computation Requirements\n",
    "\n",
    "From a practical perspective, it can be very computationally heavy to undertake PCA on a dataset, particularly a large one. For this reason, methods like a [Randomised PCA](http://lijiancheng0614.github.io/scikit-learn/modules/generated/sklearn.decomposition.RandomizedPCA.html) which gives an approximation that is normally good enough practically, but takes far less computation time.\n",
    "\n",
    "\n",
    "### Sparse Representations\n",
    "\n",
    "Another limitation of PCA is that the resulting vectors from a PCA transformation are often quite dense. What this means, is that many of the values in the components are non-zero. From a mathematical perspective, this doesn't matter. However, from a computational perspective, having lots of zero elements in a vector allows us to use sparse representations and sparse computation. Sparse representations reduce the amount of space it takes to save data. As an example, consider the vector:\n",
    "\n",
    "    x = np.array([0, 0, 3, 9, 0, 0, 0, 0, 0, 0])\n",
    "    \n",
    "This vector has 10 values, of which 8 are zero. Storing the vector as above, with zeros, in memory, takes 10 chunks of memory (where a chunk is based on the data type, so likely it would be 32 bits). In contrast, we can *assume* values are zero, and just store the non-zero values, and where they sit on this vector. In pseudo code:\n",
    "\n",
    "    x is a vector with 10 spots, defaulting to zero\n",
    "    there is a 3 at index 2\n",
    "    there is a 9 at index 3\n",
    "    \n",
    "This means we can store this whole vector as something like (again, not real code):\n",
    "\n",
    "    x = sparse_vector([(3, 2), (9, 3)])\n",
    "    \n",
    "Just four numbers, resulting in a saving of 60% of the total memory. This idea also generalises well to higher dimensions (you just record the full co-ordinates). As you might suspect, the actual implementation will be more than 4 numbers, but the general pattern is roughly consistent with this analysis. In short, you should use sparse matrices if you expect more than 60% of the data to be zeros.\n",
    "\n",
    "Additionally, if you know that you are using sparse vectors and matrices, you can use specialised algorithms (both mathematical and computational) that take advantage of this fact. This type of algorithm takes *longer* for dense matrices, but *less time* for sparse matrices. For an example, see the [Sparse PCA](https://scikit-learn.org/stable/modules/generated/sklearn.decomposition.SparsePCA.html)\n",
    "\n",
    "\n",
    "#### Exercises\n",
    "\n",
    "1. Run a SparsePCA, RandomizedPCA and (normal) PCA analysis on some data, and compare the explained variance ratio graphs for each.\n",
    "2. Rerun the same analysis on a *very large* dataset, while profiling the result. You can time how long code takes in a Jupyter notebook using the `%time` command:"
   ]
  },
  {
   "cell_type": "code",
   "execution_count": 4,
   "metadata": {},
   "outputs": [],
   "source": [
    "import time\n",
    "\n",
    "def my_function():\n",
    "    # A function that takes a while to compute. On my computer, about 11 seconds\n",
    "    time.sleep(1)\n",
    "    j = 0\n",
    "    for i in range(int(10e7)):\n",
    "        j += i"
   ]
  },
  {
   "cell_type": "code",
   "execution_count": 5,
   "metadata": {},
   "outputs": [
    {
     "name": "stdout",
     "output_type": "stream",
     "text": [
      "Wall time: 5.54 s\n"
     ]
    }
   ],
   "source": [
    "%time my_function()"
   ]
  },
  {
   "cell_type": "markdown",
   "metadata": {},
   "source": [
    "### Orthogonal representations\n",
    "\n",
    "A mathematical limit of PCA is that it relies on orthogonal transformations of the data. That means that every component will be orthogonal to each other.\n",
    "\n",
    "This is a good \"rule of thumb\" that works well for many datasets, but there are lots of datasets for which this type of transformation doesn't really help. For instance, consider this dataset, created from two different underlying models:"
   ]
  },
  {
   "cell_type": "code",
   "execution_count": 2,
   "metadata": {},
   "outputs": [],
   "source": [
    "x_part_1 = np.arange(100) * 3 + 4 + np.random.random(100) * 50\n",
    "x_part_2 = np.arange(100) * 1.1 - 2 + np.random.random(100) * 60"
   ]
  },
  {
   "cell_type": "code",
   "execution_count": 3,
   "metadata": {},
   "outputs": [
    {
     "data": {
      "text/plain": [
       "[<matplotlib.lines.Line2D at 0x22262074f90>]"
      ]
     },
     "execution_count": 3,
     "metadata": {},
     "output_type": "execute_result"
    },
    {
     "data": {
      "image/png": "[encoded data removed]",
      "text/plain": [
       "<Figure size 640x480 with 1 Axes>"
      ]
     },
     "metadata": {},
     "output_type": "display_data"
    }
   ],
   "source": [
    "plt.plot(x_part_1, 'ro')\n",
    "plt.plot(x_part_2, 'bo')"
   ]
  },
  {
   "cell_type": "markdown",
   "metadata": {},
   "source": [
    "In the above dataset, the best transformations would be the lines $3x + 4$ and $1.1x - 2$. However, PCA wouldn't find these lines. It would find the singular line-of-best-fit, and then the best line orthogonal to it:"
   ]
  },
  {
   "cell_type": "code",
   "execution_count": 4,
   "metadata": {},
   "outputs": [
    {
     "data": {
      "text/plain": [
       "(200, 2)"
      ]
     },
     "execution_count": 4,
     "metadata": {},
     "output_type": "execute_result"
    }
   ],
   "source": [
    "y_data = np.hstack([x_part_1, x_part_2])\n",
    "x_data = np.hstack([np.arange(100), np.arange(100)])\n",
    "X = np.vstack([x_data, y_data]).T\n",
    "X.shape"
   ]
  },
  {
   "cell_type": "code",
   "execution_count": 7,
   "metadata": {
    "scrolled": true
   },
   "outputs": [
    {
     "data": {
      "text/plain": [
       "array([[  0.        ,  15.84795658],\n",
       "       [  1.        ,  23.3765158 ],\n",
       "       [  2.        ,  29.77423747],\n",
       "       [  3.        ,  23.56641204],\n",
       "       [  4.        ,  51.50604428],\n",
       "       [  5.        ,  42.46115045],\n",
       "       [  6.        ,  69.4203816 ],\n",
       "       [  7.        ,  72.19773837],\n",
       "       [  8.        ,  55.82073861],\n",
       "       [  9.        ,  44.64353134],\n",
       "       [ 10.        ,  82.24605491],\n",
       "       [ 11.        ,  58.64406543],\n",
       "       [ 12.        ,  74.96796121],\n",
       "       [ 13.        ,  80.81486948],\n",
       "       [ 14.        ,  73.50192788],\n",
       "       [ 15.        ,  85.83897503],\n",
       "       [ 16.        ,  86.1450359 ],\n",
       "       [ 17.        ,  99.85586841],\n",
       "       [ 18.        ,  74.79991683],\n",
       "       [ 19.        ,  66.1621675 ],\n",
       "       [ 20.        ,  85.83998611],\n",
       "       [ 21.        ,  67.14142322],\n",
       "       [ 22.        , 116.062502  ],\n",
       "       [ 23.        , 113.48850639],\n",
       "       [ 24.        ,  76.54561525],\n",
       "       [ 25.        , 115.84887618],\n",
       "       [ 26.        ,  86.7575765 ],\n",
       "       [ 27.        , 119.4805049 ],\n",
       "       [ 28.        , 120.79987258],\n",
       "       [ 29.        ,  97.62294481],\n",
       "       [ 30.        , 117.240423  ],\n",
       "       [ 31.        , 103.7048944 ],\n",
       "       [ 32.        , 108.04925993],\n",
       "       [ 33.        , 132.82124382],\n",
       "       [ 34.        , 148.64329206],\n",
       "       [ 35.        , 119.44784736],\n",
       "       [ 36.        , 117.72750669],\n",
       "       [ 37.        , 143.43128068],\n",
       "       [ 38.        , 167.16358442],\n",
       "       [ 39.        , 149.40843856],\n",
       "       [ 40.        , 157.14805035],\n",
       "       [ 41.        , 145.69970456],\n",
       "       [ 42.        , 156.40222868],\n",
       "       [ 43.        , 173.6860325 ],\n",
       "       [ 44.        , 173.36503311],\n",
       "       [ 45.        , 156.18428005],\n",
       "       [ 46.        , 167.91775833],\n",
       "       [ 47.        , 162.01715233],\n",
       "       [ 48.        , 183.60763968],\n",
       "       [ 49.        , 172.26574784],\n",
       "       [ 50.        , 192.52424833],\n",
       "       [ 51.        , 188.23840865],\n",
       "       [ 52.        , 209.75264736],\n",
       "       [ 53.        , 211.82634479],\n",
       "       [ 54.        , 169.85469754],\n",
       "       [ 55.        , 193.70073041],\n",
       "       [ 56.        , 209.5574733 ],\n",
       "       [ 57.        , 180.30732378],\n",
       "       [ 58.        , 212.05219775],\n",
       "       [ 59.        , 216.09238146],\n",
       "       [ 60.        , 214.72434392],\n",
       "       [ 61.        , 232.94594599],\n",
       "       [ 62.        , 193.19768041],\n",
       "       [ 63.        , 220.89955915],\n",
       "       [ 64.        , 204.85857615],\n",
       "       [ 65.        , 219.44443655],\n",
       "       [ 66.        , 244.92154856],\n",
       "       [ 67.        , 246.01785058],\n",
       "       [ 68.        , 217.84213064],\n",
       "       [ 69.        , 247.22026692],\n",
       "       [ 70.        , 233.65709244],\n",
       "       [ 71.        , 234.94007123],\n",
       "       [ 72.        , 233.03615759],\n",
       "       [ 73.        , 257.38481051],\n",
       "       [ 74.        , 239.63698883],\n",
       "       [ 75.        , 247.74653212],\n",
       "       [ 76.        , 236.11519444],\n",
       "       [ 77.        , 284.5005105 ],\n",
       "       [ 78.        , 269.74682583],\n",
       "       [ 79.        , 259.40337718],\n",
       "       [ 80.        , 252.57050214],\n",
       "       [ 81.        , 286.01295582],\n",
       "       [ 82.        , 278.53720316],\n",
       "       [ 83.        , 273.85442524],\n",
       "       [ 84.        , 258.71645543],\n",
       "       [ 85.        , 289.20289126],\n",
       "       [ 86.        , 269.01667555],\n",
       "       [ 87.        , 299.83343061],\n",
       "       [ 88.        , 299.07137526],\n",
       "       [ 89.        , 295.22235606],\n",
       "       [ 90.        , 304.77685457],\n",
       "       [ 91.        , 280.3276661 ],\n",
       "       [ 92.        , 289.29406021],\n",
       "       [ 93.        , 308.45365254],\n",
       "       [ 94.        , 313.21962531],\n",
       "       [ 95.        , 332.78934987],\n",
       "       [ 96.        , 292.26883975],\n",
       "       [ 97.        , 319.77056131],\n",
       "       [ 98.        , 302.16557759],\n",
       "       [ 99.        , 315.74559069],\n",
       "       [  0.        ,  24.30476932],\n",
       "       [  1.        ,   2.47476398],\n",
       "       [  2.        ,  27.88788904],\n",
       "       [  3.        ,  46.89335685],\n",
       "       [  4.        ,  20.04537848],\n",
       "       [  5.        ,  13.02893466],\n",
       "       [  6.        ,  64.33929207],\n",
       "       [  7.        ,  37.44805994],\n",
       "       [  8.        ,  19.22572559],\n",
       "       [  9.        ,  31.56911299],\n",
       "       [ 10.        ,  55.84695017],\n",
       "       [ 11.        ,  50.36871919],\n",
       "       [ 12.        ,  59.97311292],\n",
       "       [ 13.        ,  21.07684351],\n",
       "       [ 14.        ,  29.3559975 ],\n",
       "       [ 15.        ,  20.07481653],\n",
       "       [ 16.        ,  68.82998539],\n",
       "       [ 17.        ,  44.79592281],\n",
       "       [ 18.        ,  22.71994643],\n",
       "       [ 19.        ,  62.83273141],\n",
       "       [ 20.        ,  58.7148635 ],\n",
       "       [ 21.        ,  33.4692771 ],\n",
       "       [ 22.        ,  75.82103491],\n",
       "       [ 23.        ,  64.60488867],\n",
       "       [ 24.        ,  40.27508238],\n",
       "       [ 25.        ,  27.99802673],\n",
       "       [ 26.        ,  86.26481241],\n",
       "       [ 27.        ,  37.76790287],\n",
       "       [ 28.        ,  38.74111958],\n",
       "       [ 29.        ,  44.83738802],\n",
       "       [ 30.        ,  86.51003242],\n",
       "       [ 31.        ,  55.43599767],\n",
       "       [ 32.        ,  68.58060233],\n",
       "       [ 33.        ,  79.38104564],\n",
       "       [ 34.        ,  69.41633513],\n",
       "       [ 35.        ,  47.79196578],\n",
       "       [ 36.        ,  60.87351207],\n",
       "       [ 37.        ,  85.79690702],\n",
       "       [ 38.        ,  60.12070044],\n",
       "       [ 39.        ,  87.17483836],\n",
       "       [ 40.        ,  45.09944647],\n",
       "       [ 41.        ,  81.72978776],\n",
       "       [ 42.        ,  76.333799  ],\n",
       "       [ 43.        , 100.74748357],\n",
       "       [ 44.        ,  49.82269282],\n",
       "       [ 45.        ,  67.30357813],\n",
       "       [ 46.        ,  88.73011344],\n",
       "       [ 47.        ,  58.21231286],\n",
       "       [ 48.        ,  77.1589476 ],\n",
       "       [ 49.        ,  72.74394191],\n",
       "       [ 50.        , 108.87603394],\n",
       "       [ 51.        ,  68.3490346 ],\n",
       "       [ 52.        , 110.63922934],\n",
       "       [ 53.        , 104.12140155],\n",
       "       [ 54.        ,  71.74699349],\n",
       "       [ 55.        ,  88.96203472],\n",
       "       [ 56.        , 102.4393885 ],\n",
       "       [ 57.        ,  89.68831323],\n",
       "       [ 58.        ,  79.72107806],\n",
       "       [ 59.        , 105.32747716],\n",
       "       [ 60.        ,  66.24506848],\n",
       "       [ 61.        , 118.58438057],\n",
       "       [ 62.        ,  87.70166144],\n",
       "       [ 63.        , 111.45574028],\n",
       "       [ 64.        , 121.28281093],\n",
       "       [ 65.        , 114.19303555],\n",
       "       [ 66.        ,  81.30281119],\n",
       "       [ 67.        ,  93.4947935 ],\n",
       "       [ 68.        ,  91.77482887],\n",
       "       [ 69.        ,  90.29732522],\n",
       "       [ 70.        , 115.94242467],\n",
       "       [ 71.        , 126.54336432],\n",
       "       [ 72.        ,  99.14309795],\n",
       "       [ 73.        ,  86.17036495],\n",
       "       [ 74.        , 125.77812844],\n",
       "       [ 75.        , 122.36391452],\n",
       "       [ 76.        , 104.12021145],\n",
       "       [ 77.        , 114.00541206],\n",
       "       [ 78.        ,  93.30564468],\n",
       "       [ 79.        ,  96.95891647],\n",
       "       [ 80.        , 102.50441706],\n",
       "       [ 81.        , 144.9019749 ],\n",
       "       [ 82.        , 138.1201653 ],\n",
       "       [ 83.        , 107.53252893],\n",
       "       [ 84.        ,  93.82027026],\n",
       "       [ 85.        ,  97.47371842],\n",
       "       [ 86.        , 142.53917947],\n",
       "       [ 87.        , 150.11024529],\n",
       "       [ 88.        , 152.15565053],\n",
       "       [ 89.        , 126.05937895],\n",
       "       [ 90.        , 123.96648246],\n",
       "       [ 91.        , 106.7644938 ],\n",
       "       [ 92.        , 152.42976374],\n",
       "       [ 93.        , 148.71823409],\n",
       "       [ 94.        , 113.02153558],\n",
       "       [ 95.        , 138.47989411],\n",
       "       [ 96.        , 107.20308197],\n",
       "       [ 97.        , 105.26013247],\n",
       "       [ 98.        , 152.6207385 ],\n",
       "       [ 99.        , 159.61016709]])"
      ]
     },
     "execution_count": 7,
     "metadata": {},
     "output_type": "execute_result"
    }
   ],
   "source": [
    "X"
   ]
  },
  {
   "cell_type": "code",
   "execution_count": 6,
   "metadata": {},
   "outputs": [
    {
     "data": {
      "text/html": [
       "<style>#sk-container-id-1 {color: black;}#sk-container-id-1 pre{padding: 0;}#sk-container-id-1 div.sk-toggleable {background-color: white;}#sk-container-id-1 label.sk-toggleable__label {cursor: pointer;display: block;width: 100%;margin-bottom: 0;padding: 0.3em;box-sizing: border-box;text-align: center;}#sk-container-id-1 label.sk-toggleable__label-arrow:before {content: \"▸\";float: left;margin-right: 0.25em;color: #696969;}#sk-container-id-1 label.sk-toggleable__label-arrow:hover:before {color: black;}#sk-container-id-1 div.sk-estimator:hover label.sk-toggleable__label-arrow:before {color: black;}#sk-container-id-1 div.sk-toggleable__content {max-height: 0;max-width: 0;overflow: hidden;text-align: left;background-color: #f0f8ff;}#sk-container-id-1 div.sk-toggleable__content pre {margin: 0.2em;color: black;border-radius: 0.25em;background-color: #f0f8ff;}#sk-container-id-1 input.sk-toggleable__control:checked~div.sk-toggleable__content {max-height: 200px;max-width: 100%;overflow: auto;}#sk-container-id-1 input.sk-toggleable__control:checked~label.sk-toggleable__label-arrow:before {content: \"▾\";}#sk-container-id-1 div.sk-estimator input.sk-toggleable__control:checked~label.sk-toggleable__label {background-color: #d4ebff;}#sk-container-id-1 div.sk-label input.sk-toggleable__control:checked~label.sk-toggleable__label {background-color: #d4ebff;}#sk-container-id-1 input.sk-hidden--visually {border: 0;clip: rect(1px 1px 1px 1px);clip: rect(1px, 1px, 1px, 1px);height: 1px;margin: -1px;overflow: hidden;padding: 0;position: absolute;width: 1px;}#sk-container-id-1 div.sk-estimator {font-family: monospace;background-color: #f0f8ff;border: 1px dotted black;border-radius: 0.25em;box-sizing: border-box;margin-bottom: 0.5em;}#sk-container-id-1 div.sk-estimator:hover {background-color: #d4ebff;}#sk-container-id-1 div.sk-parallel-item::after {content: \"\";width: 100%;border-bottom: 1px solid gray;flex-grow: 1;}#sk-container-id-1 div.sk-label:hover label.sk-toggleable__label {background-color: #d4ebff;}#sk-container-id-1 div.sk-serial::before {content: \"\";position: absolute;border-left: 1px solid gray;box-sizing: border-box;top: 0;bottom: 0;left: 50%;z-index: 0;}#sk-container-id-1 div.sk-serial {display: flex;flex-direction: column;align-items: center;background-color: white;padding-right: 0.2em;padding-left: 0.2em;position: relative;}#sk-container-id-1 div.sk-item {position: relative;z-index: 1;}#sk-container-id-1 div.sk-parallel {display: flex;align-items: stretch;justify-content: center;background-color: white;position: relative;}#sk-container-id-1 div.sk-item::before, #sk-container-id-1 div.sk-parallel-item::before {content: \"\";position: absolute;border-left: 1px solid gray;box-sizing: border-box;top: 0;bottom: 0;left: 50%;z-index: -1;}#sk-container-id-1 div.sk-parallel-item {display: flex;flex-direction: column;z-index: 1;position: relative;background-color: white;}#sk-container-id-1 div.sk-parallel-item:first-child::after {align-self: flex-end;width: 50%;}#sk-container-id-1 div.sk-parallel-item:last-child::after {align-self: flex-start;width: 50%;}#sk-container-id-1 div.sk-parallel-item:only-child::after {width: 0;}#sk-container-id-1 div.sk-dashed-wrapped {border: 1px dashed gray;margin: 0 0.4em 0.5em 0.4em;box-sizing: border-box;padding-bottom: 0.4em;background-color: white;}#sk-container-id-1 div.sk-label label {font-family: monospace;font-weight: bold;display: inline-block;line-height: 1.2em;}#sk-container-id-1 div.sk-label-container {text-align: center;}#sk-container-id-1 div.sk-container {/* jupyter's `normalize.less` sets `[hidden] { display: none; }` but bootstrap.min.css set `[hidden] { display: none !important; }` so we also need the `!important` here to be able to override the default hidden behavior on the sphinx rendered scikit-learn.org. See: https://github.com/scikit-learn/scikit-learn/issues/21755 */display: inline-block !important;position: relative;}#sk-container-id-1 div.sk-text-repr-fallback {display: none;}</style><div id=\"sk-container-id-1\" class=\"sk-top-container\"><div class=\"sk-text-repr-fallback\"><pre>PCA(n_components=2)</pre><b>In a Jupyter environment, please rerun this cell to show the HTML representation or trust the notebook. <br />On GitHub, the HTML representation is unable to render, please try loading this page with nbviewer.org.</b></div><div class=\"sk-container\" hidden><div class=\"sk-item\"><div class=\"sk-estimator sk-toggleable\"><input class=\"sk-toggleable__control sk-hidden--visually\" id=\"sk-estimator-id-1\" type=\"checkbox\" checked><label for=\"sk-estimator-id-1\" class=\"sk-toggleable__label sk-toggleable__label-arrow\">PCA</label><div class=\"sk-toggleable__content\"><pre>PCA(n_components=2)</pre></div></div></div></div></div>"
      ],
      "text/plain": [
       "PCA(n_components=2)"
      ]
     },
     "execution_count": 6,
     "metadata": {},
     "output_type": "execute_result"
    }
   ],
   "source": [
    "from sklearn.decomposition import PCA\n",
    "parts_PCA = PCA(n_components=2)\n",
    "parts_PCA.fit(X)"
   ]
  },
  {
   "cell_type": "code",
   "execution_count": 8,
   "metadata": {},
   "outputs": [
    {
     "data": {
      "text/plain": [
       "array([[ 0.26052013,  0.96546841],\n",
       "       [ 0.96546841, -0.26052013]])"
      ]
     },
     "execution_count": 8,
     "metadata": {},
     "output_type": "execute_result"
    }
   ],
   "source": [
    "parts_PCA.components_"
   ]
  },
  {
   "cell_type": "code",
   "execution_count": 9,
   "metadata": {},
   "outputs": [
    {
     "data": {
      "image/png": "[encoded data removed]",
      "text/plain": [
       "<Figure size 640x480 with 1 Axes>"
      ]
     },
     "metadata": {},
     "output_type": "display_data"
    }
   ],
   "source": [
    "plt.plot(X[:, 0], X[:, 1], 'o', alpha=0.5)\n",
    "for length, vector in zip(parts_PCA.explained_variance_, parts_PCA.components_):\n",
    "    v = vector * 3 * np.sqrt(length)  # The \"3\" just scales so the graph looks good\n",
    "    plt.plot([0, v[0]], [0, v[1]], '-k', lw=3)\n",
    "plt.axis('equal');"
   ]
  },
  {
   "cell_type": "markdown",
   "metadata": {},
   "source": [
    "Here, the line of best fit for the dots in blue above aren't represented well by this transformation. Instead, you can use other Factor analysis methods to find this type of transformation."
   ]
  },
  {
   "cell_type": "markdown",
   "metadata": {},
   "source": [
    "### Variance isn't everything\n",
    "\n",
    "PCA also assumes that the mean and covariance matrices effectively describe the dataset. Many datasets do not following this fact. If your distribution isn't effectively describe with a combination of a mean and variance value, then PCA is not going to give you a useful representation of your data. As an example, a Gaussian distribution is *only* defined by its mean and variance. Many distributions have more parameters.\n",
    "\n",
    "Despite this, even if a distribution can't be described with just a mean and variance, a PCA may still provide a useful result.\n",
    "\n",
    "Further to the above, PCA also assumes that *explaining the variance explains the data*. This is a consequence also that PCA is **scale variant**, which causes numbers with higher values and variances to be considered more important than numbers with lower values, even if those lower values are actually more important in the data. A common fix for this is to compute $z-scores$ for each variable, and then compute the PCA on the resulting Z scores instead.\n",
    "\n",
    "\n",
    "### A Linear Assumption\n",
    "\n",
    "PCA also assumes that the best way of looking at your data is as a linear combination of each other. Many relationships have more complicated relationships (log transformations, polynomial, exponent), and PCA cannot account for this."
   ]
  },
  {
   "cell_type": "markdown",
   "metadata": {},
   "source": [
    "#### Extended Exercise\n",
    "\n",
    "Download the Quandl dataset \"Capital Market Yields – Government Bonds - Daily\" from Quandl (code `RBA/F02`), compute the change in value per row (diff), and then perform the following steps:\n",
    "\n",
    "1. Split the data into a training set and a testing set. The test set contains the last row of the data. The training set contains all the previous data.\n",
    "2. *With only the training dataset*, fit a PCA model and extract the principle components\n",
    "3. How many principle components are needed to fit at least 99% of the variance in the data?\n",
    "4. Fit a OLS estimator on the lagged data, *for each principle component*. I explain this further below.\n",
    "5. Project the data into the test period, by taking the bias and coefficients of the OLS and predicting the next values.\n",
    "6. Map the projections onto the original data space, by taking the PCA's inverse, to get the actual predicted values\n",
    "7. Calculate the sum of squared error for your predictions.\n",
    "\n",
    "\n",
    "\n",
    "In step 4 above, I ask that we fit an OLS on each principle component. If we have a principle component $C$, we want to use the value $c_{n-1}$ to predict the value $c_{n}$ using the linear equation $c_n = \\beta_0 + \\beta_1 c_{n-1}$. In other words, we fit a linear model saying \"given the a value of this variable in a time series, what is the next value?\". This type of analysis, moving average, will be reviewed further in a future notebook (1.6.1). \n",
    "\n",
    "Solution is in `solutions/PCA Application Example Solution.ipynb`"
   ]
  },
  {
   "cell_type": "code",
   "execution_count": null,
   "metadata": {},
   "outputs": [],
   "source": []
  }
 ],
 "metadata": {
  "kernelspec": {
   "display_name": "Python 3 (ipykernel)",
   "language": "python",
   "name": "python3"
  },
  "language_info": {
   "codemirror_mode": {
    "name": "ipython",
    "version": 3
   },
   "file_extension": ".py",
   "mimetype": "text/x-python",
   "name": "python",
   "nbconvert_exporter": "python",
   "pygments_lexer": "ipython3",
   "version": "3.11.4"
  }
 },
 "nbformat": 4,
 "nbformat_minor": 2
}
