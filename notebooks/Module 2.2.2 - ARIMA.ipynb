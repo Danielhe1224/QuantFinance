{
 "cells": [
  {
   "cell_type": "markdown",
   "metadata": {},
   "source": [
    "# Introduction to Quantitative Finance\n",
    "\n",
    "Copyright (c) 2019 Python Charmers Pty Ltd, Australia, <https://pythoncharmers.com>. All rights reserved.\n",
    "\n",
    "<img src=\"img/python_charmers_logo.png\" width=\"300\" alt=\"Python Charmers Logo\">\n",
    "\n",
    "Published under the Creative Commons Attribution-NonCommercial 4.0 International (CC BY-NC 4.0) license. See `LICENSE.md` for details.\n",
    "\n",
    "Sponsored by Tibra Global Services, <https://tibra.com>\n",
    "\n",
    "<img src=\"img/tibra_logo.png\" width=\"300\" alt=\"Tibra Logo\">\n",
    "\n",
    "\n",
    "## Module 2.2: Modelling Techniques\n",
    "\n",
    "### 2.2.2 ARIMA\n",
    "\n",
    "In this module we will introduce ARIMA, an improvement over the ARMA model we reviewed in a past module (1.6.4). We will quickly review the key parts of ARMA as we build to the new ARIMA model:\n",
    "\n",
    "\n",
    "### Autoregressive Model (AR)\n",
    "\n",
    "The autoregressive model is used for predicting the value of a variable in a time series. We use the annotation $AR(p)$ for an autoregressive model with $p$ periods.\n",
    "\n",
    "$AR(p) X_t = c + \\sum_{i=1}^p{\\beta_i X_{t-i}} + u_t$\n",
    "\n",
    "We can simplify in the case of an AR(1) model, that is $p=1$. This simplifies further if we also assume a zero mean (which can be done by demeaning the data beforehand, giving $c=0$) and an error term $u$ that is white noise:\n",
    "\n",
    "$AR(1) = \\beta X_{t-1}$\n",
    "\n",
    "### Moving Average (MA)\n",
    "\n",
    "A Moving Average (MA) model is given as:\n",
    "\n",
    "$MA(q) X_t = \\mu + \\epsilon_{t} + \\sum_{i=1}^{q}\\theta_i\\epsilon_{t-i}$\n",
    "\n",
    "and specifically the MA(1) process as:\n",
    "\n",
    "$MA(1)X_t = \\epsilon_t + \\theta \\epsilon_{t-1}$\n",
    "\n",
    "Here, the values $\\epsilon_t$ are the error terms for a given time step $t$ and $\\mu$ is the average of the values of $X$.\n"
   ]
  },
  {
   "cell_type": "markdown",
   "metadata": {},
   "source": [
    "### ARMA model\n",
    "\n",
    "The ARMA model is a combination of both the AR model and the MA. It is quite a simple combination - we just concatenate the models, but the training of the model does become more complicated. \n",
    "\n",
    "An $ARMA(p, q)$ model, where $p$ is the lag in the autoregressive model and $q$ is the lag in the moving-average model, given as:\n",
    "\n",
    "$X_t = c + \\epsilon_t + \\sum_{i=1}^{p}{\\beta_i X_{t-i}} + \\sum_{i=1}^{q}\\theta_i\\epsilon_{t-i}$"
   ]
  },
  {
   "cell_type": "markdown",
   "metadata": {},
   "source": [
    "#### Extended Exercise\n",
    "\n",
    "It is often argued that cryptocurrency prices for non-Bitcoin coins \"follow\" Bitcoin, i.e. they lag. Test this hypothesis on a daily level by checking if the values for Ethereum (ETH) and Ripple (XRP) can be modelled using a ARMA model. Test different values for p and q and find the best model.\n",
    "\n",
    "You can get daily prices from Quandl, via BITFINEX: https://www.quandl.com/data/BITFINEX-Bitfinex\n",
    "\n",
    "You can review module 1.6.4 for code on how to run the ARMA model in statsmodels."
   ]
  },
  {
   "cell_type": "code",
   "execution_count": 1,
   "metadata": {},
   "outputs": [
    {
     "name": "stderr",
     "output_type": "stream",
     "text": [
      "C:\\Users\\Luke\\AppData\\Local\\Programs\\Python\\Python311\\Lib\\site-packages\\statsmodels\\tsa\\statespace\\sarimax.py:978: UserWarning: Non-invertible starting MA parameters found. Using zeros as starting parameters.\n",
      "  warn('Non-invertible starting MA parameters found.'\n",
      "C:\\Users\\Luke\\AppData\\Local\\Programs\\Python\\Python311\\Lib\\site-packages\\statsmodels\\base\\model.py:607: ConvergenceWarning: Maximum Likelihood optimization failed to converge. Check mle_retvals\n",
      "  warnings.warn(\"Maximum Likelihood optimization failed to \"\n",
      "C:\\Users\\Luke\\AppData\\Local\\Programs\\Python\\Python311\\Lib\\site-packages\\statsmodels\\base\\model.py:607: ConvergenceWarning: Maximum Likelihood optimization failed to converge. Check mle_retvals\n",
      "  warnings.warn(\"Maximum Likelihood optimization failed to \"\n",
      "C:\\Users\\Luke\\AppData\\Local\\Programs\\Python\\Python311\\Lib\\site-packages\\statsmodels\\base\\model.py:607: ConvergenceWarning: Maximum Likelihood optimization failed to converge. Check mle_retvals\n",
      "  warnings.warn(\"Maximum Likelihood optimization failed to \"\n",
      "C:\\Users\\Luke\\AppData\\Local\\Programs\\Python\\Python311\\Lib\\site-packages\\statsmodels\\base\\model.py:607: ConvergenceWarning: Maximum Likelihood optimization failed to converge. Check mle_retvals\n",
      "  warnings.warn(\"Maximum Likelihood optimization failed to \"\n",
      "C:\\Users\\Luke\\AppData\\Local\\Programs\\Python\\Python311\\Lib\\site-packages\\statsmodels\\base\\model.py:607: ConvergenceWarning: Maximum Likelihood optimization failed to converge. Check mle_retvals\n",
      "  warnings.warn(\"Maximum Likelihood optimization failed to \"\n",
      "C:\\Users\\Luke\\AppData\\Local\\Programs\\Python\\Python311\\Lib\\site-packages\\statsmodels\\tsa\\statespace\\sarimax.py:966: UserWarning: Non-stationary starting autoregressive parameters found. Using zeros as starting parameters.\n",
      "  warn('Non-stationary starting autoregressive parameters'\n",
      "C:\\Users\\Luke\\AppData\\Local\\Programs\\Python\\Python311\\Lib\\site-packages\\statsmodels\\tsa\\statespace\\sarimax.py:978: UserWarning: Non-invertible starting MA parameters found. Using zeros as starting parameters.\n",
      "  warn('Non-invertible starting MA parameters found.'\n",
      "C:\\Users\\Luke\\AppData\\Local\\Programs\\Python\\Python311\\Lib\\site-packages\\statsmodels\\base\\model.py:607: ConvergenceWarning: Maximum Likelihood optimization failed to converge. Check mle_retvals\n",
      "  warnings.warn(\"Maximum Likelihood optimization failed to \"\n"
     ]
    },
    {
     "name": "stdout",
     "output_type": "stream",
     "text": [
      "XRP:  {'bic':              0            1            2\n",
      "0  1344.224014 -1424.374258 -3264.848770\n",
      "1 -7306.699478 -7344.094961 -7343.191862\n",
      "2 -7339.632899 -7351.181937 -7337.310044\n",
      "3 -7334.961336 -7342.874314 -7348.753396\n",
      "4 -7384.192083 -7367.682199 -7376.208120, 'bic_min_order': (4, 0)}\n",
      "ETH: {'bic':               0             1             2\n",
      "0  45255.348007  41794.985261  38959.047404\n",
      "1  30072.766815  30079.482633  30086.531601\n",
      "2  30079.437700  30076.738784  30094.368273\n",
      "3  30086.473783  30083.424315  30087.501433\n",
      "4  30094.293325  30091.280490  30085.937235, 'bic_min_order': (1, 0)}\n"
     ]
    },
    {
     "ename": "AttributeError",
     "evalue": "module 'statsmodels.tsa.api' has no attribute 'ARMA'",
     "output_type": "error",
     "traceback": [
      "\u001b[1;31m---------------------------------------------------------------------------\u001b[0m",
      "\u001b[1;31mAttributeError\u001b[0m                            Traceback (most recent call last)",
      "Cell \u001b[1;32mIn[1], line 23\u001b[0m\n\u001b[0;32m     20\u001b[0m \u001b[38;5;28mprint\u001b[39m(\u001b[38;5;124m\"\u001b[39m\u001b[38;5;124mETH:\u001b[39m\u001b[38;5;124m\"\u001b[39m, eth_stats)\n\u001b[0;32m     22\u001b[0m \u001b[38;5;28;01mfrom\u001b[39;00m \u001b[38;5;21;01mstatsmodels\u001b[39;00m \u001b[38;5;28;01mimport\u001b[39;00m api \u001b[38;5;28;01mas\u001b[39;00m sms\n\u001b[1;32m---> 23\u001b[0m xrp_model \u001b[38;5;241m=\u001b[39m \u001b[43msms\u001b[49m\u001b[38;5;241;43m.\u001b[39;49m\u001b[43mtsa\u001b[49m\u001b[38;5;241;43m.\u001b[39;49m\u001b[43mARMA\u001b[49m(xrp, order\u001b[38;5;241m=\u001b[39m(\u001b[38;5;241m4\u001b[39m, \u001b[38;5;241m2\u001b[39m))\n\u001b[0;32m     24\u001b[0m eth_model \u001b[38;5;241m=\u001b[39m sms\u001b[38;5;241m.\u001b[39mtsa\u001b[38;5;241m.\u001b[39mARMA(eth, order\u001b[38;5;241m=\u001b[39m(\u001b[38;5;241m3\u001b[39m, \u001b[38;5;241m2\u001b[39m))\n\u001b[0;32m     26\u001b[0m xrp_results \u001b[38;5;241m=\u001b[39m xrp_model\u001b[38;5;241m.\u001b[39mfit()\n",
      "\u001b[1;31mAttributeError\u001b[0m: module 'statsmodels.tsa.api' has no attribute 'ARMA'"
     ]
    }
   ],
   "source": [
    "#From solutions\n",
    "%run setup.ipy\n",
    "\n",
    "#import quandl\n",
    "#import my_secrets\n",
    "#quandl.ApiConfig.api_key = my_secrets.QUANDL_API_KEY\n",
    "\n",
    "xrp = quandl.get(\"BITFINEX/XRPUSD\")[\"Last\"]\n",
    "eth = quandl.get(\"BITFINEX/ETHUSD\")[\"Last\"]\n",
    "\n",
    "# Should we replace the index? Some dates are missing so we can't set a frquency to 'D' without actually\n",
    "# replacing the entire index? This generates a lot of warnings...\n",
    "\n",
    "\n",
    "# When we've played with values a bit, we can then use the below.\n",
    "from statsmodels.tsa import stattools\n",
    "xrp_stats = stattools.arma_order_select_ic(xrp) \n",
    "eth_stats = stattools.arma_order_select_ic(eth) \n",
    "print(\"XRP: \", xrp_stats)\n",
    "print(\"ETH:\", eth_stats)\n",
    "\n",
    "from statsmodels import api as sms\n",
    "xrp_model = sms.tsa.ARMA(xrp, order=(4, 2))\n",
    "eth_model = sms.tsa.ARMA(eth, order=(3, 2))\n",
    "\n",
    "xrp_results = xrp_model.fit()\n",
    "eth_results = eth_model.fit()"
   ]
  },
  {
   "cell_type": "code",
   "execution_count": 5,
   "metadata": {},
   "outputs": [
    {
     "data": {
      "text/html": [
       "<table class=\"simpletable\">\n",
       "<caption>ARMA Model Results</caption>\n",
       "<tr>\n",
       "  <th>Dep. Variable:</th>       <td>Last</td>       <th>  No. Observations:  </th>   <td>1699</td>   \n",
       "</tr>\n",
       "<tr>\n",
       "  <th>Model:</th>            <td>ARMA(4, 2)</td>    <th>  Log Likelihood     </th> <td>2624.174</td> \n",
       "</tr>\n",
       "<tr>\n",
       "  <th>Method:</th>             <td>css-mle</td>     <th>  S.D. of innovations</th>   <td>0.052</td>  \n",
       "</tr>\n",
       "<tr>\n",
       "  <th>Date:</th>          <td>Sat, 19 Feb 2022</td> <th>  AIC                </th> <td>-5232.347</td>\n",
       "</tr>\n",
       "<tr>\n",
       "  <th>Time:</th>              <td>14:34:33</td>     <th>  BIC                </th> <td>-5188.845</td>\n",
       "</tr>\n",
       "<tr>\n",
       "  <th>Sample:</th>                <td>0</td>        <th>  HQIC               </th> <td>-5216.242</td>\n",
       "</tr>\n",
       "<tr>\n",
       "  <th></th>                       <td> </td>        <th>                     </th>     <td> </td>    \n",
       "</tr>\n",
       "</table>\n",
       "<table class=\"simpletable\">\n",
       "<tr>\n",
       "       <td></td>         <th>coef</th>     <th>std err</th>      <th>z</th>      <th>P>|z|</th>  <th>[0.025</th>    <th>0.975]</th>  \n",
       "</tr>\n",
       "<tr>\n",
       "  <th>const</th>      <td>    0.4990</td> <td>    0.091</td> <td>    5.505</td> <td> 0.000</td> <td>    0.321</td> <td>    0.677</td>\n",
       "</tr>\n",
       "<tr>\n",
       "  <th>ar.L1.Last</th> <td>    1.2388</td> <td>    0.091</td> <td>   13.678</td> <td> 0.000</td> <td>    1.061</td> <td>    1.416</td>\n",
       "</tr>\n",
       "<tr>\n",
       "  <th>ar.L2.Last</th> <td>   -0.8262</td> <td>    0.193</td> <td>   -4.279</td> <td> 0.000</td> <td>   -1.205</td> <td>   -0.448</td>\n",
       "</tr>\n",
       "<tr>\n",
       "  <th>ar.L3.Last</th> <td>    0.8020</td> <td>    0.149</td> <td>    5.383</td> <td> 0.000</td> <td>    0.510</td> <td>    1.094</td>\n",
       "</tr>\n",
       "<tr>\n",
       "  <th>ar.L4.Last</th> <td>   -0.2337</td> <td>    0.025</td> <td>   -9.392</td> <td> 0.000</td> <td>   -0.282</td> <td>   -0.185</td>\n",
       "</tr>\n",
       "<tr>\n",
       "  <th>ma.L1.Last</th> <td>   -0.0898</td> <td>    0.092</td> <td>   -0.971</td> <td> 0.332</td> <td>   -0.271</td> <td>    0.091</td>\n",
       "</tr>\n",
       "<tr>\n",
       "  <th>ma.L2.Last</th> <td>    0.5181</td> <td>    0.148</td> <td>    3.494</td> <td> 0.000</td> <td>    0.228</td> <td>    0.809</td>\n",
       "</tr>\n",
       "</table>\n",
       "<table class=\"simpletable\">\n",
       "<caption>Roots</caption>\n",
       "<tr>\n",
       "    <td></td>   <th>            Real</th>  <th>         Imaginary</th> <th>         Modulus</th>  <th>        Frequency</th>\n",
       "</tr>\n",
       "<tr>\n",
       "  <th>AR.1</th> <td>          -0.1011</td> <td>          -1.2636j</td> <td>           1.2676</td> <td>          -0.2627</td>\n",
       "</tr>\n",
       "<tr>\n",
       "  <th>AR.2</th> <td>          -0.1011</td> <td>          +1.2636j</td> <td>           1.2676</td> <td>           0.2627</td>\n",
       "</tr>\n",
       "<tr>\n",
       "  <th>AR.3</th> <td>           1.0180</td> <td>          -0.0000j</td> <td>           1.0180</td> <td>          -0.0000</td>\n",
       "</tr>\n",
       "<tr>\n",
       "  <th>AR.4</th> <td>           2.6159</td> <td>          -0.0000j</td> <td>           2.6159</td> <td>          -0.0000</td>\n",
       "</tr>\n",
       "<tr>\n",
       "  <th>MA.1</th> <td>           0.0866</td> <td>          -1.3866j</td> <td>           1.3893</td> <td>          -0.2401</td>\n",
       "</tr>\n",
       "<tr>\n",
       "  <th>MA.2</th> <td>           0.0866</td> <td>          +1.3866j</td> <td>           1.3893</td> <td>           0.2401</td>\n",
       "</tr>\n",
       "</table>"
      ],
      "text/plain": [
       "<class 'statsmodels.iolib.summary.Summary'>\n",
       "\"\"\"\n",
       "                              ARMA Model Results                              \n",
       "==============================================================================\n",
       "Dep. Variable:                   Last   No. Observations:                 1699\n",
       "Model:                     ARMA(4, 2)   Log Likelihood                2624.174\n",
       "Method:                       css-mle   S.D. of innovations              0.052\n",
       "Date:                Sat, 19 Feb 2022   AIC                          -5232.347\n",
       "Time:                        14:34:33   BIC                          -5188.845\n",
       "Sample:                             0   HQIC                         -5216.242\n",
       "                                                                              \n",
       "==============================================================================\n",
       "                 coef    std err          z      P>|z|      [0.025      0.975]\n",
       "------------------------------------------------------------------------------\n",
       "const          0.4990      0.091      5.505      0.000       0.321       0.677\n",
       "ar.L1.Last     1.2388      0.091     13.678      0.000       1.061       1.416\n",
       "ar.L2.Last    -0.8262      0.193     -4.279      0.000      -1.205      -0.448\n",
       "ar.L3.Last     0.8020      0.149      5.383      0.000       0.510       1.094\n",
       "ar.L4.Last    -0.2337      0.025     -9.392      0.000      -0.282      -0.185\n",
       "ma.L1.Last    -0.0898      0.092     -0.971      0.332      -0.271       0.091\n",
       "ma.L2.Last     0.5181      0.148      3.494      0.000       0.228       0.809\n",
       "                                    Roots                                    \n",
       "=============================================================================\n",
       "                  Real          Imaginary           Modulus         Frequency\n",
       "-----------------------------------------------------------------------------\n",
       "AR.1           -0.1011           -1.2636j            1.2676           -0.2627\n",
       "AR.2           -0.1011           +1.2636j            1.2676            0.2627\n",
       "AR.3            1.0180           -0.0000j            1.0180           -0.0000\n",
       "AR.4            2.6159           -0.0000j            2.6159           -0.0000\n",
       "MA.1            0.0866           -1.3866j            1.3893           -0.2401\n",
       "MA.2            0.0866           +1.3866j            1.3893            0.2401\n",
       "-----------------------------------------------------------------------------\n",
       "\"\"\""
      ]
     },
     "execution_count": 5,
     "metadata": {},
     "output_type": "execute_result"
    }
   ],
   "source": [
    "xrp_results.summary()"
   ]
  },
  {
   "cell_type": "code",
   "execution_count": 6,
   "metadata": {},
   "outputs": [
    {
     "data": {
      "text/html": [
       "<table class=\"simpletable\">\n",
       "<caption>ARMA Model Results</caption>\n",
       "<tr>\n",
       "  <th>Dep. Variable:</th>       <td>Last</td>       <th>  No. Observations:  </th>    <td>2126</td>   \n",
       "</tr>\n",
       "<tr>\n",
       "  <th>Model:</th>            <td>ARMA(3, 2)</td>    <th>  Log Likelihood     </th> <td>-11871.732</td>\n",
       "</tr>\n",
       "<tr>\n",
       "  <th>Method:</th>             <td>css-mle</td>     <th>  S.D. of innovations</th>   <td>64.302</td>  \n",
       "</tr>\n",
       "<tr>\n",
       "  <th>Date:</th>          <td>Sat, 19 Feb 2022</td> <th>  AIC                </th>  <td>23757.464</td>\n",
       "</tr>\n",
       "<tr>\n",
       "  <th>Time:</th>              <td>14:34:37</td>     <th>  BIC                </th>  <td>23797.098</td>\n",
       "</tr>\n",
       "<tr>\n",
       "  <th>Sample:</th>                <td>0</td>        <th>  HQIC               </th>  <td>23771.971</td>\n",
       "</tr>\n",
       "<tr>\n",
       "  <th></th>                       <td> </td>        <th>                     </th>      <td> </td>    \n",
       "</tr>\n",
       "</table>\n",
       "<table class=\"simpletable\">\n",
       "<tr>\n",
       "       <td></td>         <th>coef</th>     <th>std err</th>      <th>z</th>      <th>P>|z|</th>  <th>[0.025</th>    <th>0.975]</th>  \n",
       "</tr>\n",
       "<tr>\n",
       "  <th>const</th>      <td>  748.1353</td> <td>  812.828</td> <td>    0.920</td> <td> 0.357</td> <td> -844.978</td> <td> 2341.248</td>\n",
       "</tr>\n",
       "<tr>\n",
       "  <th>ar.L1.Last</th> <td>   -0.8121</td> <td>    0.020</td> <td>  -40.397</td> <td> 0.000</td> <td>   -0.851</td> <td>   -0.773</td>\n",
       "</tr>\n",
       "<tr>\n",
       "  <th>ar.L2.Last</th> <td>    0.9087</td> <td>    0.006</td> <td>  160.375</td> <td> 0.000</td> <td>    0.898</td> <td>    0.920</td>\n",
       "</tr>\n",
       "<tr>\n",
       "  <th>ar.L3.Last</th> <td>    0.8981</td> <td>    0.020</td> <td>   44.303</td> <td> 0.000</td> <td>    0.858</td> <td>    0.938</td>\n",
       "</tr>\n",
       "<tr>\n",
       "  <th>ma.L1.Last</th> <td>    1.8433</td> <td>    0.014</td> <td>  128.403</td> <td> 0.000</td> <td>    1.815</td> <td>    1.871</td>\n",
       "</tr>\n",
       "<tr>\n",
       "  <th>ma.L2.Last</th> <td>    0.9524</td> <td>    0.014</td> <td>   67.444</td> <td> 0.000</td> <td>    0.925</td> <td>    0.980</td>\n",
       "</tr>\n",
       "</table>\n",
       "<table class=\"simpletable\">\n",
       "<caption>Roots</caption>\n",
       "<tr>\n",
       "    <td></td>   <th>            Real</th>  <th>         Imaginary</th> <th>         Modulus</th>  <th>        Frequency</th>\n",
       "</tr>\n",
       "<tr>\n",
       "  <th>AR.1</th> <td>           1.0014</td> <td>          -0.0000j</td> <td>           1.0014</td> <td>          -0.0000</td>\n",
       "</tr>\n",
       "<tr>\n",
       "  <th>AR.2</th> <td>          -1.0066</td> <td>          -0.3141j</td> <td>           1.0544</td> <td>          -0.4519</td>\n",
       "</tr>\n",
       "<tr>\n",
       "  <th>AR.3</th> <td>          -1.0066</td> <td>          +0.3141j</td> <td>           1.0544</td> <td>           0.4519</td>\n",
       "</tr>\n",
       "<tr>\n",
       "  <th>MA.1</th> <td>          -0.9677</td> <td>          -0.3370j</td> <td>           1.0247</td> <td>          -0.4467</td>\n",
       "</tr>\n",
       "<tr>\n",
       "  <th>MA.2</th> <td>          -0.9677</td> <td>          +0.3370j</td> <td>           1.0247</td> <td>           0.4467</td>\n",
       "</tr>\n",
       "</table>"
      ],
      "text/plain": [
       "<class 'statsmodels.iolib.summary.Summary'>\n",
       "\"\"\"\n",
       "                              ARMA Model Results                              \n",
       "==============================================================================\n",
       "Dep. Variable:                   Last   No. Observations:                 2126\n",
       "Model:                     ARMA(3, 2)   Log Likelihood              -11871.732\n",
       "Method:                       css-mle   S.D. of innovations             64.302\n",
       "Date:                Sat, 19 Feb 2022   AIC                          23757.464\n",
       "Time:                        14:34:37   BIC                          23797.098\n",
       "Sample:                             0   HQIC                         23771.971\n",
       "                                                                              \n",
       "==============================================================================\n",
       "                 coef    std err          z      P>|z|      [0.025      0.975]\n",
       "------------------------------------------------------------------------------\n",
       "const        748.1353    812.828      0.920      0.357    -844.978    2341.248\n",
       "ar.L1.Last    -0.8121      0.020    -40.397      0.000      -0.851      -0.773\n",
       "ar.L2.Last     0.9087      0.006    160.375      0.000       0.898       0.920\n",
       "ar.L3.Last     0.8981      0.020     44.303      0.000       0.858       0.938\n",
       "ma.L1.Last     1.8433      0.014    128.403      0.000       1.815       1.871\n",
       "ma.L2.Last     0.9524      0.014     67.444      0.000       0.925       0.980\n",
       "                                    Roots                                    \n",
       "=============================================================================\n",
       "                  Real          Imaginary           Modulus         Frequency\n",
       "-----------------------------------------------------------------------------\n",
       "AR.1            1.0014           -0.0000j            1.0014           -0.0000\n",
       "AR.2           -1.0066           -0.3141j            1.0544           -0.4519\n",
       "AR.3           -1.0066           +0.3141j            1.0544            0.4519\n",
       "MA.1           -0.9677           -0.3370j            1.0247           -0.4467\n",
       "MA.2           -0.9677           +0.3370j            1.0247            0.4467\n",
       "-----------------------------------------------------------------------------\n",
       "\"\"\""
      ]
     },
     "execution_count": 6,
     "metadata": {},
     "output_type": "execute_result"
    }
   ],
   "source": [
    "eth_results.summary()"
   ]
  },
  {
   "cell_type": "markdown",
   "metadata": {},
   "source": [
    "*For solutions, see `solutions/arma_cryptocurrency.py`*"
   ]
  },
  {
   "cell_type": "markdown",
   "metadata": {},
   "source": [
    "### The ARIMA model\n",
    "\n",
    "One of the issues with the ARMA model is that it requires data to be stationary before the algorithm begins. A normal step for turning non-stationary data into stationary data is to difference the data, either once or twice. Therefore, a normal process is to difference the data and then run ARMA. A problem with this is that we have a two step methodology to describe. ARIMA captures this idea in a single model.\n",
    "\n",
    "The ARIMA model is a more general form of the ARMA model. Specifically, ARMA(p, q) is an ARIMA(p, 0, q) model. The $p$ and $q$ values are the same as the ARMA model. The middle parameter is $d$, for differencing. The ARIMA model will apply differencing to turn a non-stationary dataset into a stationary one, allowing the AR and MA processes to model them better. That's the same as our two step process above, just captured nicely. And a lot more useful.\n",
    "\n",
    "That gives the full ARIMA model as:\n",
    "\n",
    "$ARIMA(p, d, q)$\n",
    "\n",
    "where $p$ is the lag in the autoregressive model and $q$ is the lag in the moving-average model, and $d$ is the order of differencing applied (i.e. how many times to difference the data to get a stationary series).\n",
    "\n",
    "The ARIMA model can also be identified by having components \"turned off\", i.e. set to zero. We saw above that ARIMA(p, 0, q) is simply the ARMA(p, q) model. Further, ARIMA(0, 0, q) is simply MA(q). ARIMA(0, 1, 1) is IMA(1, 1), although that is more obscure than other variants you'll see."
   ]
  },
  {
   "cell_type": "markdown",
   "metadata": {},
   "source": [
    "#### Exercise\n",
    "\n",
    "1. What can the ARIMA(1, 0, 0) model also be known as?\n",
    "2. What does an ARIMA(0, 0, 0) model actually model? Hint: use the ARMA equation, and set p and q to zero.\n",
    "3. What does an ARIMA(0, 1, 0) model represent - i.e. what other term have we seen that refers to the same idea?"
   ]
  },
  {
   "cell_type": "markdown",
   "metadata": {},
   "source": [
    "1. An AR(1) model\n",
    "2. Constant mean plus white noise\n",
    "3. Difference model"
   ]
  },
  {
   "cell_type": "markdown",
   "metadata": {},
   "source": [
    "*For solutions, see `solutions/arima_types.py`*"
   ]
  },
  {
   "cell_type": "markdown",
   "metadata": {},
   "source": [
    "#### Extended Exercise\n",
    "\n",
    "The ARIMA model is implemented in statsmodels under `statsmodels.tsa.arima_model.ARIMA` with a similar use case to the `ARMA` model previously used. Perform an ARIMA modelling on the cryptocurrency data from the previous exercise.\n",
    "\n",
    "Normally, the value for $d$ is determined before running the model, but performing a test of stationarity. See Module 1.6.2 for information on performing these tests. Simply difference the data, check for stationarity, and if it isn't, difference it again. Values more than 3 are abnormal - if you still aren't getting stationary data at that point, check your assumptions."
   ]
  },
  {
   "cell_type": "code",
   "execution_count": 7,
   "metadata": {},
   "outputs": [
    {
     "name": "stderr",
     "output_type": "stream",
     "text": [
      "C:\\Users\\marin\\Anaconda3\\lib\\site-packages\\statsmodels\\tsa\\stattools.py:1685: FutureWarning: The behavior of using lags=None will change in the next release. Currently lags=None is the same as lags='legacy', and so a sample-size lag length is used. After the next release, the default will change to be the same as lags='auto' which uses an automatic lag length selection method. To silence this warning, either use 'auto' or 'legacy'\n",
      "  warn(msg, FutureWarning)\n",
      "C:\\Users\\marin\\Anaconda3\\lib\\site-packages\\statsmodels\\tsa\\stattools.py:1708: InterpolationWarning: p-value is smaller than the indicated p-value\n",
      "  warn(\"p-value is smaller than the indicated p-value\", InterpolationWarning)\n",
      "C:\\Users\\marin\\Anaconda3\\lib\\site-packages\\statsmodels\\tsa\\stattools.py:1708: InterpolationWarning: p-value is smaller than the indicated p-value\n",
      "  warn(\"p-value is smaller than the indicated p-value\", InterpolationWarning)\n",
      "C:\\Users\\marin\\Anaconda3\\lib\\site-packages\\statsmodels\\tsa\\base\\tsa_model.py:219: ValueWarning: A date index has been provided, but it has no associated frequency information and so will be ignored when e.g. forecasting.\n",
      "  ' ignored when e.g. forecasting.', ValueWarning)\n",
      "C:\\Users\\marin\\Anaconda3\\lib\\site-packages\\statsmodels\\tsa\\base\\tsa_model.py:219: ValueWarning: A date index has been provided, but it has no associated frequency information and so will be ignored when e.g. forecasting.\n",
      "  ' ignored when e.g. forecasting.', ValueWarning)\n",
      "C:\\Users\\marin\\Anaconda3\\lib\\site-packages\\statsmodels\\tsa\\base\\tsa_model.py:219: ValueWarning: A date index has been provided, but it has no associated frequency information and so will be ignored when e.g. forecasting.\n",
      "  ' ignored when e.g. forecasting.', ValueWarning)\n"
     ]
    },
    {
     "name": "stdout",
     "output_type": "stream",
     "text": [
      "XRP p_value: 0.01\n",
      "ETH p_value: 0.01\n"
     ]
    },
    {
     "data": {
      "text/html": [
       "<table class=\"simpletable\">\n",
       "<caption>ARMA Model Results</caption>\n",
       "<tr>\n",
       "  <th>Dep. Variable:</th>       <td>Last</td>       <th>  No. Observations:  </th>    <td>2126</td>   \n",
       "</tr>\n",
       "<tr>\n",
       "  <th>Model:</th>            <td>ARMA(3, 1)</td>    <th>  Log Likelihood     </th> <td>-11896.681</td>\n",
       "</tr>\n",
       "<tr>\n",
       "  <th>Method:</th>             <td>css-mle</td>     <th>  S.D. of innovations</th>   <td>65.071</td>  \n",
       "</tr>\n",
       "<tr>\n",
       "  <th>Date:</th>          <td>Sat, 19 Feb 2022</td> <th>  AIC                </th>  <td>23805.363</td>\n",
       "</tr>\n",
       "<tr>\n",
       "  <th>Time:</th>              <td>14:48:00</td>     <th>  BIC                </th>  <td>23839.335</td>\n",
       "</tr>\n",
       "<tr>\n",
       "  <th>Sample:</th>                <td>0</td>        <th>  HQIC               </th>  <td>23817.798</td>\n",
       "</tr>\n",
       "<tr>\n",
       "  <th></th>                       <td> </td>        <th>                     </th>      <td> </td>    \n",
       "</tr>\n",
       "</table>\n",
       "<table class=\"simpletable\">\n",
       "<tr>\n",
       "       <td></td>         <th>coef</th>     <th>std err</th>      <th>z</th>      <th>P>|z|</th>  <th>[0.025</th>    <th>0.975]</th>  \n",
       "</tr>\n",
       "<tr>\n",
       "  <th>const</th>      <td>  980.3539</td> <td>  770.587</td> <td>    1.272</td> <td> 0.203</td> <td> -529.970</td> <td> 2490.678</td>\n",
       "</tr>\n",
       "<tr>\n",
       "  <th>ar.L1.Last</th> <td>    0.1663</td> <td>    0.050</td> <td>    3.296</td> <td> 0.001</td> <td>    0.067</td> <td>    0.265</td>\n",
       "</tr>\n",
       "<tr>\n",
       "  <th>ar.L2.Last</th> <td>    0.8629</td> <td>    0.040</td> <td>   21.468</td> <td> 0.000</td> <td>    0.784</td> <td>    0.942</td>\n",
       "</tr>\n",
       "<tr>\n",
       "  <th>ar.L3.Last</th> <td>   -0.0318</td> <td>    0.023</td> <td>   -1.395</td> <td> 0.163</td> <td>   -0.076</td> <td>    0.013</td>\n",
       "</tr>\n",
       "<tr>\n",
       "  <th>ma.L1.Last</th> <td>    0.8140</td> <td>    0.046</td> <td>   17.794</td> <td> 0.000</td> <td>    0.724</td> <td>    0.904</td>\n",
       "</tr>\n",
       "</table>\n",
       "<table class=\"simpletable\">\n",
       "<caption>Roots</caption>\n",
       "<tr>\n",
       "    <td></td>   <th>            Real</th>  <th>         Imaginary</th> <th>         Modulus</th>  <th>        Frequency</th>\n",
       "</tr>\n",
       "<tr>\n",
       "  <th>AR.1</th> <td>           1.0014</td> <td>          +0.0000j</td> <td>           1.0014</td> <td>           0.0000</td>\n",
       "</tr>\n",
       "<tr>\n",
       "  <th>AR.2</th> <td>          -1.1509</td> <td>          +0.0000j</td> <td>           1.1509</td> <td>           0.5000</td>\n",
       "</tr>\n",
       "<tr>\n",
       "  <th>AR.3</th> <td>          27.2954</td> <td>          +0.0000j</td> <td>          27.2954</td> <td>           0.0000</td>\n",
       "</tr>\n",
       "<tr>\n",
       "  <th>MA.1</th> <td>          -1.2285</td> <td>          +0.0000j</td> <td>           1.2285</td> <td>           0.5000</td>\n",
       "</tr>\n",
       "</table>"
      ],
      "text/plain": [
       "<class 'statsmodels.iolib.summary.Summary'>\n",
       "\"\"\"\n",
       "                              ARMA Model Results                              \n",
       "==============================================================================\n",
       "Dep. Variable:                   Last   No. Observations:                 2126\n",
       "Model:                     ARMA(3, 1)   Log Likelihood              -11896.681\n",
       "Method:                       css-mle   S.D. of innovations             65.071\n",
       "Date:                Sat, 19 Feb 2022   AIC                          23805.363\n",
       "Time:                        14:48:00   BIC                          23839.335\n",
       "Sample:                             0   HQIC                         23817.798\n",
       "                                                                              \n",
       "==============================================================================\n",
       "                 coef    std err          z      P>|z|      [0.025      0.975]\n",
       "------------------------------------------------------------------------------\n",
       "const        980.3539    770.587      1.272      0.203    -529.970    2490.678\n",
       "ar.L1.Last     0.1663      0.050      3.296      0.001       0.067       0.265\n",
       "ar.L2.Last     0.8629      0.040     21.468      0.000       0.784       0.942\n",
       "ar.L3.Last    -0.0318      0.023     -1.395      0.163      -0.076       0.013\n",
       "ma.L1.Last     0.8140      0.046     17.794      0.000       0.724       0.904\n",
       "                                    Roots                                    \n",
       "=============================================================================\n",
       "                  Real          Imaginary           Modulus         Frequency\n",
       "-----------------------------------------------------------------------------\n",
       "AR.1            1.0014           +0.0000j            1.0014            0.0000\n",
       "AR.2           -1.1509           +0.0000j            1.1509            0.5000\n",
       "AR.3           27.2954           +0.0000j           27.2954            0.0000\n",
       "MA.1           -1.2285           +0.0000j            1.2285            0.5000\n",
       "-----------------------------------------------------------------------------\n",
       "\"\"\""
      ]
     },
     "execution_count": 7,
     "metadata": {},
     "output_type": "execute_result"
    }
   ],
   "source": [
    "#From solutions\n",
    "# Use KPSS to test for stationarity.\n",
    "from statsmodels.tsa.stattools import kpss\n",
    "\n",
    "kpss_stat, p_value, lags, crit = kpss(xrp)\n",
    "print(\"XRP p_value:\", p_value)\n",
    "\n",
    "kpss_stat, p_value, lags, crit = kpss(eth)\n",
    "print(\"ETH p_value:\", p_value)\n",
    "\n",
    "\n",
    "from statsmodels.tsa.arima_model import ARIMA as arima\n",
    "\n",
    "xrp_model_arima = arima(xrp, order=(4,1, 2))  #Remember if we use d=0 we're back to using the ARMA model!\n",
    "eth_model_arima = sms.tsa.ARMA(eth, order=(3, 1, 2))\n",
    "\n",
    "xrp_results_arima = xrp_model_arima.fit()\n",
    "eth_results_arima = eth_model_arima.fit()\n",
    "\n",
    "xrp_results_arima.summary()\n",
    "eth_results_arima.summary()"
   ]
  },
  {
   "cell_type": "markdown",
   "metadata": {},
   "source": [
    "*For solutions, see `solutions/arima_cryptocurrency.py`*"
   ]
  },
  {
   "cell_type": "markdown",
   "metadata": {},
   "source": [
    "### Choosing parameters\n",
    "\n",
    "When choosing parameters for the ARIMA model, the normal rule of thumb is \"keep them small\". Robert Nau summarised this as:\n",
    "\n",
    "<i>In most cases either p is zero or q is zero, and p+q is less than or equal to 3, so there aren’t very many terms on the right-hand-side of this equation</i>\n",
    "\n",
    "<small>See https://people.duke.edu/~rnau/Notes_on_nonseasonal_ARIMA_models--Robert_Nau.pdf</small>\n",
    "\n",
    "Galit Shmueli has some further insight into this problem in her video on YouTube: https://www.youtube.com/watch?v=0xHf-SJ9Z9U\n",
    "\n",
    "When performing a grid search (in other words, \"try all combinations of these values for the parameters\") you can keep your search space small by trying 0, 1, 2 and 3 as the only options (and just 0, 1, 2 for $d$). If that model isn't sufficient, **and** you have a good theoretical reason for a different value. For seasonal change, for instance, if you suspect a yearly trend (this June's data will be dependent on last June's), then seasonal ARIMA is needed, which we will cover later in this module."
   ]
  },
  {
   "cell_type": "code",
   "execution_count": 9,
   "metadata": {},
   "outputs": [],
   "source": [
    "import quandl"
   ]
  },
  {
   "cell_type": "code",
   "execution_count": 2,
   "metadata": {},
   "outputs": [],
   "source": [
    "from statsmodels import api as sms"
   ]
  },
  {
   "cell_type": "code",
   "execution_count": 3,
   "metadata": {},
   "outputs": [],
   "source": [
    "employment = quandl.get(\"FRED/NROUST\").diff().dropna()"
   ]
  },
  {
   "cell_type": "code",
   "execution_count": 4,
   "metadata": {},
   "outputs": [],
   "source": [
    "changes = employment.diff().dropna()"
   ]
  },
  {
   "cell_type": "code",
   "execution_count": 5,
   "metadata": {},
   "outputs": [],
   "source": [
    "from statsmodels.tsa.arima_model import ARIMA"
   ]
  },
  {
   "cell_type": "code",
   "execution_count": 7,
   "metadata": {},
   "outputs": [],
   "source": [
    "from statsmodels.tsa.arima.model import ARIMA"
   ]
  },
  {
   "cell_type": "code",
   "execution_count": 8,
   "metadata": {},
   "outputs": [
    {
     "name": "stderr",
     "output_type": "stream",
     "text": [
      "C:\\Users\\Luke\\AppData\\Local\\Programs\\Python\\Python311\\Lib\\site-packages\\statsmodels\\tsa\\base\\tsa_model.py:473: ValueWarning: No frequency information was provided, so inferred frequency QS-OCT will be used.\n",
      "  self._init_dates(dates, freq)\n",
      "C:\\Users\\Luke\\AppData\\Local\\Programs\\Python\\Python311\\Lib\\site-packages\\statsmodels\\tsa\\base\\tsa_model.py:473: ValueWarning: No frequency information was provided, so inferred frequency QS-OCT will be used.\n",
      "  self._init_dates(dates, freq)\n",
      "C:\\Users\\Luke\\AppData\\Local\\Programs\\Python\\Python311\\Lib\\site-packages\\statsmodels\\tsa\\base\\tsa_model.py:473: ValueWarning: No frequency information was provided, so inferred frequency QS-OCT will be used.\n",
      "  self._init_dates(dates, freq)\n"
     ]
    }
   ],
   "source": [
    "model = ARIMA(changes, order=(1, 1, 1))"
   ]
  },
  {
   "cell_type": "code",
   "execution_count": 9,
   "metadata": {},
   "outputs": [],
   "source": [
    "results = model.fit()"
   ]
  },
  {
   "cell_type": "code",
   "execution_count": 10,
   "metadata": {},
   "outputs": [
    {
     "data": {
      "text/html": [
       "<table class=\"simpletable\">\n",
       "<caption>SARIMAX Results</caption>\n",
       "<tr>\n",
       "  <th>Dep. Variable:</th>         <td>Value</td>      <th>  No. Observations:  </th>    <td>330</td>   \n",
       "</tr>\n",
       "<tr>\n",
       "  <th>Model:</th>            <td>ARIMA(1, 1, 1)</td>  <th>  Log Likelihood     </th> <td>1018.749</td> \n",
       "</tr>\n",
       "<tr>\n",
       "  <th>Date:</th>            <td>Wed, 30 Aug 2023</td> <th>  AIC                </th> <td>-2031.498</td>\n",
       "</tr>\n",
       "<tr>\n",
       "  <th>Time:</th>                <td>18:50:45</td>     <th>  BIC                </th> <td>-2020.110</td>\n",
       "</tr>\n",
       "<tr>\n",
       "  <th>Sample:</th>             <td>07-01-1949</td>    <th>  HQIC               </th> <td>-2026.955</td>\n",
       "</tr>\n",
       "<tr>\n",
       "  <th></th>                   <td>- 10-01-2031</td>   <th>                     </th>     <td> </td>    \n",
       "</tr>\n",
       "<tr>\n",
       "  <th>Covariance Type:</th>        <td>opg</td>       <th>                     </th>     <td> </td>    \n",
       "</tr>\n",
       "</table>\n",
       "<table class=\"simpletable\">\n",
       "<tr>\n",
       "     <td></td>       <th>coef</th>     <th>std err</th>      <th>z</th>      <th>P>|z|</th>  <th>[0.025</th>    <th>0.975]</th>  \n",
       "</tr>\n",
       "<tr>\n",
       "  <th>ar.L1</th>  <td>   -0.1947</td> <td>    0.028</td> <td>   -6.970</td> <td> 0.000</td> <td>   -0.249</td> <td>   -0.140</td>\n",
       "</tr>\n",
       "<tr>\n",
       "  <th>ma.L1</th>  <td>   -1.0000</td> <td>    1.051</td> <td>   -0.951</td> <td> 0.342</td> <td>   -3.060</td> <td>    1.061</td>\n",
       "</tr>\n",
       "<tr>\n",
       "  <th>sigma2</th> <td>    0.0001</td> <td>    0.000</td> <td>    0.953</td> <td> 0.341</td> <td>   -0.000</td> <td>    0.000</td>\n",
       "</tr>\n",
       "</table>\n",
       "<table class=\"simpletable\">\n",
       "<tr>\n",
       "  <th>Ljung-Box (L1) (Q):</th>      <td>0.05</td>   <th>  Jarque-Bera (JB):  </th> <td>20420.85</td>\n",
       "</tr>\n",
       "<tr>\n",
       "  <th>Prob(Q):</th>                 <td>0.83</td>   <th>  Prob(JB):          </th>   <td>0.00</td>  \n",
       "</tr>\n",
       "<tr>\n",
       "  <th>Heteroskedasticity (H):</th> <td>2019.58</td> <th>  Skew:              </th>   <td>-1.89</td> \n",
       "</tr>\n",
       "<tr>\n",
       "  <th>Prob(H) (two-sided):</th>     <td>0.00</td>   <th>  Kurtosis:          </th>   <td>41.41</td> \n",
       "</tr>\n",
       "</table><br/><br/>Warnings:<br/>[1] Covariance matrix calculated using the outer product of gradients (complex-step)."
      ],
      "text/latex": [
       "\\begin{center}\n",
       "\\begin{tabular}{lclc}\n",
       "\\toprule\n",
       "\\textbf{Dep. Variable:}          &      Value       & \\textbf{  No. Observations:  } &    330      \\\\\n",
       "\\textbf{Model:}                  &  ARIMA(1, 1, 1)  & \\textbf{  Log Likelihood     } &  1018.749   \\\\\n",
       "\\textbf{Date:}                   & Wed, 30 Aug 2023 & \\textbf{  AIC                } & -2031.498   \\\\\n",
       "\\textbf{Time:}                   &     18:50:45     & \\textbf{  BIC                } & -2020.110   \\\\\n",
       "\\textbf{Sample:}                 &    07-01-1949    & \\textbf{  HQIC               } & -2026.955   \\\\\n",
       "\\textbf{}                        &   - 10-01-2031   & \\textbf{                     } &             \\\\\n",
       "\\textbf{Covariance Type:}        &       opg        & \\textbf{                     } &             \\\\\n",
       "\\bottomrule\n",
       "\\end{tabular}\n",
       "\\begin{tabular}{lcccccc}\n",
       "                & \\textbf{coef} & \\textbf{std err} & \\textbf{z} & \\textbf{P$> |$z$|$} & \\textbf{[0.025} & \\textbf{0.975]}  \\\\\n",
       "\\midrule\n",
       "\\textbf{ar.L1}  &      -0.1947  &        0.028     &    -6.970  &         0.000        &       -0.249    &       -0.140     \\\\\n",
       "\\textbf{ma.L1}  &      -1.0000  &        1.051     &    -0.951  &         0.342        &       -3.060    &        1.061     \\\\\n",
       "\\textbf{sigma2} &       0.0001  &        0.000     &     0.953  &         0.341        &       -0.000    &        0.000     \\\\\n",
       "\\bottomrule\n",
       "\\end{tabular}\n",
       "\\begin{tabular}{lclc}\n",
       "\\textbf{Ljung-Box (L1) (Q):}     &   0.05  & \\textbf{  Jarque-Bera (JB):  } & 20420.85  \\\\\n",
       "\\textbf{Prob(Q):}                &   0.83  & \\textbf{  Prob(JB):          } &   0.00    \\\\\n",
       "\\textbf{Heteroskedasticity (H):} & 2019.58 & \\textbf{  Skew:              } &  -1.89    \\\\\n",
       "\\textbf{Prob(H) (two-sided):}    &   0.00  & \\textbf{  Kurtosis:          } &  41.41    \\\\\n",
       "\\bottomrule\n",
       "\\end{tabular}\n",
       "%\\caption{SARIMAX Results}\n",
       "\\end{center}\n",
       "\n",
       "Warnings: \\newline\n",
       " [1] Covariance matrix calculated using the outer product of gradients (complex-step)."
      ],
      "text/plain": [
       "<class 'statsmodels.iolib.summary.Summary'>\n",
       "\"\"\"\n",
       "                               SARIMAX Results                                \n",
       "==============================================================================\n",
       "Dep. Variable:                  Value   No. Observations:                  330\n",
       "Model:                 ARIMA(1, 1, 1)   Log Likelihood                1018.749\n",
       "Date:                Wed, 30 Aug 2023   AIC                          -2031.498\n",
       "Time:                        18:50:45   BIC                          -2020.110\n",
       "Sample:                    07-01-1949   HQIC                         -2026.955\n",
       "                         - 10-01-2031                                         \n",
       "Covariance Type:                  opg                                         \n",
       "==============================================================================\n",
       "                 coef    std err          z      P>|z|      [0.025      0.975]\n",
       "------------------------------------------------------------------------------\n",
       "ar.L1         -0.1947      0.028     -6.970      0.000      -0.249      -0.140\n",
       "ma.L1         -1.0000      1.051     -0.951      0.342      -3.060       1.061\n",
       "sigma2         0.0001      0.000      0.953      0.341      -0.000       0.000\n",
       "===================================================================================\n",
       "Ljung-Box (L1) (Q):                   0.05   Jarque-Bera (JB):             20420.85\n",
       "Prob(Q):                              0.83   Prob(JB):                         0.00\n",
       "Heteroskedasticity (H):            2019.58   Skew:                            -1.89\n",
       "Prob(H) (two-sided):                  0.00   Kurtosis:                        41.41\n",
       "===================================================================================\n",
       "\n",
       "Warnings:\n",
       "[1] Covariance matrix calculated using the outer product of gradients (complex-step).\n",
       "\"\"\""
      ]
     },
     "execution_count": 10,
     "metadata": {},
     "output_type": "execute_result"
    }
   ],
   "source": [
    "results.summary()"
   ]
  },
  {
   "cell_type": "markdown",
   "metadata": {},
   "source": [
    "#### Exercise\n",
    "\n",
    "Play around with the values for order and test out several types. How does the summary results change? What extra variables are added? How are they added, for instance, when you set $p=2$?"
   ]
  },
  {
   "cell_type": "markdown",
   "metadata": {},
   "source": [
    "Note: There are no solutions for this exercise - just try different values and examine the result."
   ]
  },
  {
   "cell_type": "markdown",
   "metadata": {},
   "source": [
    "### Testing your ARIMA model\n",
    "\n",
    "With your ARIMA model, you can test the residuals of the model to confirm they are white noise, or whether there is an additional correlation in the residuals that needs to be modelled. The Ljung-Box tests the following hypotheses:\n",
    "\n",
    "$H_0$: The data are independently distributed\n",
    "\n",
    "$H_A$: The data is not independently distributed, that is that they have a serial correlation.\n",
    "\n",
    "Such a serial correlation indicates that the ARIMA model hasn't done its job well, indicative of a bad choice of parameters for $p$ and $q$, mainly $q$.\n",
    "\n",
    "The test itself is:\n",
    "\n",
    "$Q = n(n + 2)\\sum_{k=1}^{h}\\frac{p^2}{n-k}$\n",
    "\n",
    "Where $n$ is the size of the dataset, $h$ is the number of lags being tested"
   ]
  },
  {
   "cell_type": "code",
   "execution_count": 11,
   "metadata": {},
   "outputs": [],
   "source": [
    "from statsmodels.stats.diagnostic import acorr_ljungbox"
   ]
  },
  {
   "cell_type": "code",
   "execution_count": 16,
   "metadata": {},
   "outputs": [
    {
     "data": {
      "text/html": [
       "<div>\n",
       "<style scoped>\n",
       "    .dataframe tbody tr th:only-of-type {\n",
       "        vertical-align: middle;\n",
       "    }\n",
       "\n",
       "    .dataframe tbody tr th {\n",
       "        vertical-align: top;\n",
       "    }\n",
       "\n",
       "    .dataframe thead th {\n",
       "        text-align: right;\n",
       "    }\n",
       "</style>\n",
       "<table border=\"1\" class=\"dataframe\">\n",
       "  <thead>\n",
       "    <tr style=\"text-align: right;\">\n",
       "      <th></th>\n",
       "      <th>lb_stat</th>\n",
       "      <th>lb_pvalue</th>\n",
       "    </tr>\n",
       "  </thead>\n",
       "  <tbody>\n",
       "    <tr>\n",
       "      <th>1</th>\n",
       "      <td>0.047655</td>\n",
       "      <td>8.271960e-01</td>\n",
       "    </tr>\n",
       "    <tr>\n",
       "      <th>2</th>\n",
       "      <td>3.242439</td>\n",
       "      <td>1.976575e-01</td>\n",
       "    </tr>\n",
       "    <tr>\n",
       "      <th>3</th>\n",
       "      <td>9.048076</td>\n",
       "      <td>2.865847e-02</td>\n",
       "    </tr>\n",
       "    <tr>\n",
       "      <th>4</th>\n",
       "      <td>20.744205</td>\n",
       "      <td>3.558721e-04</td>\n",
       "    </tr>\n",
       "    <tr>\n",
       "      <th>5</th>\n",
       "      <td>25.558540</td>\n",
       "      <td>1.086614e-04</td>\n",
       "    </tr>\n",
       "    <tr>\n",
       "      <th>6</th>\n",
       "      <td>49.360384</td>\n",
       "      <td>6.314711e-09</td>\n",
       "    </tr>\n",
       "    <tr>\n",
       "      <th>7</th>\n",
       "      <td>53.874075</td>\n",
       "      <td>2.490705e-09</td>\n",
       "    </tr>\n",
       "    <tr>\n",
       "      <th>8</th>\n",
       "      <td>61.399589</td>\n",
       "      <td>2.475076e-10</td>\n",
       "    </tr>\n",
       "    <tr>\n",
       "      <th>9</th>\n",
       "      <td>63.025216</td>\n",
       "      <td>3.488470e-10</td>\n",
       "    </tr>\n",
       "    <tr>\n",
       "      <th>10</th>\n",
       "      <td>69.866538</td>\n",
       "      <td>4.704788e-11</td>\n",
       "    </tr>\n",
       "  </tbody>\n",
       "</table>\n",
       "</div>"
      ],
      "text/plain": [
       "      lb_stat     lb_pvalue\n",
       "1    0.047655  8.271960e-01\n",
       "2    3.242439  1.976575e-01\n",
       "3    9.048076  2.865847e-02\n",
       "4   20.744205  3.558721e-04\n",
       "5   25.558540  1.086614e-04\n",
       "6   49.360384  6.314711e-09\n",
       "7   53.874075  2.490705e-09\n",
       "8   61.399589  2.475076e-10\n",
       "9   63.025216  3.488470e-10\n",
       "10  69.866538  4.704788e-11"
      ]
     },
     "execution_count": 16,
     "metadata": {},
     "output_type": "execute_result"
    }
   ],
   "source": [
    "acorr_ljungbox(results.resid)"
   ]
  },
  {
   "cell_type": "code",
   "execution_count": 12,
   "metadata": {},
   "outputs": [],
   "source": [
    "test_statistics, p_values = acorr_ljungbox(results.resid)"
   ]
  },
  {
   "cell_type": "code",
   "execution_count": 13,
   "metadata": {},
   "outputs": [
    {
     "ename": "TypeError",
     "evalue": "'>' not supported between instances of 'str' and 'float'",
     "output_type": "error",
     "traceback": [
      "\u001b[1;31m---------------------------------------------------------------------------\u001b[0m",
      "\u001b[1;31mTypeError\u001b[0m                                 Traceback (most recent call last)",
      "Cell \u001b[1;32mIn[13], line 1\u001b[0m\n\u001b[1;32m----> 1\u001b[0m \u001b[43mp_values\u001b[49m\u001b[43m \u001b[49m\u001b[38;5;241;43m>\u001b[39;49m\u001b[43m \u001b[49m\u001b[38;5;241;43m0.05\u001b[39;49m\n",
      "\u001b[1;31mTypeError\u001b[0m: '>' not supported between instances of 'str' and 'float'"
     ]
    }
   ],
   "source": [
    "p_values > 0.05"
   ]
  },
  {
   "cell_type": "markdown",
   "metadata": {},
   "source": [
    "#### Exercise\n",
    "\n",
    "Review carefully these results, compared against the hypothesis stated for the Ljung-Box test. What are the results saying?\n",
    "\n",
    "Hint: for documentation on the function itself, see https://www.statsmodels.org/stable/generated/statsmodels.stats.diagnostic.acorr_ljungbox.html"
   ]
  },
  {
   "cell_type": "markdown",
   "metadata": {},
   "source": [
    "*For solutions, see `solutions/ljungbox.py`*"
   ]
  },
  {
   "cell_type": "code",
   "execution_count": null,
   "metadata": {},
   "outputs": [],
   "source": [
    "# We reject that the data is independently distributed for lags of 1 and 2, giving evidence for H_A\n",
    "# that there is a serial correlation for these two lag periods."
   ]
  },
  {
   "cell_type": "markdown",
   "metadata": {},
   "source": [
    "### Prediction with ARIMA\n",
    "\n",
    "ARIMA models can be used for predicting future values. \n",
    "The prediction confidence interval from an ARIMA model will be wider for data with a higher volatility.\n",
    "\n",
    "An ARIMA model is often harder to analyse than a simple Linear Regression model. For this reason, analysis of the fitted parameters (and meta-parameters, internal states of the model) are not often performed to understand \"why\" the model fit the way it did. Compare this to Linear Regression models, where we can interpret the $\\beta$ values to understand why the model fit the way it did."
   ]
  },
  {
   "cell_type": "code",
   "execution_count": 19,
   "metadata": {},
   "outputs": [
    {
     "data": {
      "text/html": [
       "<div>\n",
       "<style scoped>\n",
       "    .dataframe tbody tr th:only-of-type {\n",
       "        vertical-align: middle;\n",
       "    }\n",
       "\n",
       "    .dataframe tbody tr th {\n",
       "        vertical-align: top;\n",
       "    }\n",
       "\n",
       "    .dataframe thead th {\n",
       "        text-align: right;\n",
       "    }\n",
       "</style>\n",
       "<table border=\"1\" class=\"dataframe\">\n",
       "  <thead>\n",
       "    <tr style=\"text-align: right;\">\n",
       "      <th></th>\n",
       "      <th>Value</th>\n",
       "    </tr>\n",
       "    <tr>\n",
       "      <th>Date</th>\n",
       "      <th></th>\n",
       "    </tr>\n",
       "  </thead>\n",
       "  <tbody>\n",
       "    <tr>\n",
       "      <td>2030-10-01</td>\n",
       "      <td>0.000026</td>\n",
       "    </tr>\n",
       "    <tr>\n",
       "      <td>2031-01-01</td>\n",
       "      <td>0.000039</td>\n",
       "    </tr>\n",
       "    <tr>\n",
       "      <td>2031-04-01</td>\n",
       "      <td>0.000048</td>\n",
       "    </tr>\n",
       "    <tr>\n",
       "      <td>2031-07-01</td>\n",
       "      <td>0.000051</td>\n",
       "    </tr>\n",
       "    <tr>\n",
       "      <td>2031-10-01</td>\n",
       "      <td>0.000042</td>\n",
       "    </tr>\n",
       "  </tbody>\n",
       "</table>\n",
       "</div>"
      ],
      "text/plain": [
       "               Value\n",
       "Date                \n",
       "2030-10-01  0.000026\n",
       "2031-01-01  0.000039\n",
       "2031-04-01  0.000048\n",
       "2031-07-01  0.000051\n",
       "2031-10-01  0.000042"
      ]
     },
     "execution_count": 19,
     "metadata": {},
     "output_type": "execute_result"
    }
   ],
   "source": [
    "changes.tail()"
   ]
  },
  {
   "cell_type": "code",
   "execution_count": 20,
   "metadata": {},
   "outputs": [
    {
     "data": {
      "text/html": [
       "<div>\n",
       "<style scoped>\n",
       "    .dataframe tbody tr th:only-of-type {\n",
       "        vertical-align: middle;\n",
       "    }\n",
       "\n",
       "    .dataframe tbody tr th {\n",
       "        vertical-align: top;\n",
       "    }\n",
       "\n",
       "    .dataframe thead th {\n",
       "        text-align: right;\n",
       "    }\n",
       "</style>\n",
       "<table border=\"1\" class=\"dataframe\">\n",
       "  <thead>\n",
       "    <tr style=\"text-align: right;\">\n",
       "      <th></th>\n",
       "      <th>Value</th>\n",
       "    </tr>\n",
       "    <tr>\n",
       "      <th>Date</th>\n",
       "      <th></th>\n",
       "    </tr>\n",
       "  </thead>\n",
       "  <tbody>\n",
       "    <tr>\n",
       "      <td>2000-01-01</td>\n",
       "      <td>-0.000088</td>\n",
       "    </tr>\n",
       "    <tr>\n",
       "      <td>2000-04-01</td>\n",
       "      <td>-0.000089</td>\n",
       "    </tr>\n",
       "    <tr>\n",
       "      <td>2000-07-01</td>\n",
       "      <td>-0.000085</td>\n",
       "    </tr>\n",
       "    <tr>\n",
       "      <td>2000-10-01</td>\n",
       "      <td>-0.000069</td>\n",
       "    </tr>\n",
       "  </tbody>\n",
       "</table>\n",
       "</div>"
      ],
      "text/plain": [
       "               Value\n",
       "Date                \n",
       "2000-01-01 -0.000088\n",
       "2000-04-01 -0.000089\n",
       "2000-07-01 -0.000085\n",
       "2000-10-01 -0.000069"
      ]
     },
     "execution_count": 20,
     "metadata": {},
     "output_type": "execute_result"
    }
   ],
   "source": [
    "changes[\"2000\"]"
   ]
  },
  {
   "cell_type": "code",
   "execution_count": 17,
   "metadata": {},
   "outputs": [],
   "source": [
    "# Predict values within the sample\n",
    "from datetime import datetime\n",
    "\n",
    "start_date = datetime(2000, 1, 1)\n",
    "end_date = datetime(2001, 10, 1)\n",
    "\n",
    "y_pred = results.predict(start_date, end_date)\n",
    "y_pred.name = \"Predictions\""
   ]
  },
  {
   "cell_type": "code",
   "execution_count": 18,
   "metadata": {},
   "outputs": [],
   "source": [
    "%run setup.ipy"
   ]
  },
  {
   "cell_type": "code",
   "execution_count": 19,
   "metadata": {},
   "outputs": [
    {
     "data": {
      "image/png": "[encoded data removed]",
      "text/plain": [
       "<Figure size 640x480 with 1 Axes>"
      ]
     },
     "metadata": {},
     "output_type": "display_data"
    },
    {
     "data": {
      "image/png": "[encoded data removed]",
      "text/plain": [
       "<Figure size 640x480 with 1 Axes>"
      ]
     },
     "metadata": {},
     "output_type": "display_data"
    }
   ],
   "source": [
    "y_pred.plot(title=\"Predictions\")\n",
    "changes[start_date:end_date].plot(title=\"Actual\");"
   ]
  },
  {
   "cell_type": "code",
   "execution_count": 20,
   "metadata": {},
   "outputs": [],
   "source": [
    "# Perform out-of-sample prediction of data past the end of the data we have\n",
    "y_new = results.forecast(steps=10)  # You can also use the predict method with a start/end date in the future:\n",
    "# y_new = results.predict(len(changes), end=len(changes)+10, dynamic=True)"
   ]
  },
  {
   "cell_type": "code",
   "execution_count": 22,
   "metadata": {},
   "outputs": [
    {
     "data": {
      "text/plain": [
       "2032-01-01   -0.000052\n",
       "2032-04-01   -0.000034\n",
       "2032-07-01   -0.000037\n",
       "2032-10-01   -0.000036\n",
       "2033-01-01   -0.000037\n",
       "2033-04-01   -0.000036\n",
       "2033-07-01   -0.000037\n",
       "2033-10-01   -0.000037\n",
       "2034-01-01   -0.000037\n",
       "2034-04-01   -0.000037\n",
       "Freq: QS-OCT, Name: predicted_mean, dtype: float64"
      ]
     },
     "execution_count": 22,
     "metadata": {},
     "output_type": "execute_result"
    }
   ],
   "source": [
    "y_new"
   ]
  },
  {
   "cell_type": "code",
   "execution_count": 21,
   "metadata": {},
   "outputs": [],
   "source": [
    "results.forecast?"
   ]
  },
  {
   "cell_type": "code",
   "execution_count": 26,
   "metadata": {},
   "outputs": [
    {
     "data": {
      "text/plain": [
       "[<matplotlib.lines.Line2D at 0x26e0808cd10>]"
      ]
     },
     "execution_count": 26,
     "metadata": {},
     "output_type": "execute_result"
    },
    {
     "data": {
      "image/png": "[encoded data removed]",
      "text/plain": [
       "<Figure size 640x480 with 1 Axes>"
      ]
     },
     "metadata": {},
     "output_type": "display_data"
    }
   ],
   "source": [
    "plt.plot(y_new)"
   ]
  },
  {
   "cell_type": "markdown",
   "metadata": {},
   "source": [
    "#### Exercise\n",
    "\n",
    "Compute the SSE value on the predicted values from 2015 onwards. Remember to retrain your model after doing a train/test split before you evaluate!"
   ]
  },
  {
   "cell_type": "code",
   "execution_count": 27,
   "metadata": {},
   "outputs": [
    {
     "name": "stderr",
     "output_type": "stream",
     "text": [
      "C:\\Users\\Luke\\AppData\\Local\\Programs\\Python\\Python311\\Lib\\site-packages\\statsmodels\\tsa\\base\\tsa_model.py:473: ValueWarning: No frequency information was provided, so inferred frequency QS-OCT will be used.\n",
      "  self._init_dates(dates, freq)\n",
      "C:\\Users\\Luke\\AppData\\Local\\Programs\\Python\\Python311\\Lib\\site-packages\\statsmodels\\tsa\\base\\tsa_model.py:473: ValueWarning: No frequency information was provided, so inferred frequency QS-OCT will be used.\n",
      "  self._init_dates(dates, freq)\n",
      "C:\\Users\\Luke\\AppData\\Local\\Programs\\Python\\Python311\\Lib\\site-packages\\statsmodels\\tsa\\base\\tsa_model.py:473: ValueWarning: No frequency information was provided, so inferred frequency QS-OCT will be used.\n",
      "  self._init_dates(dates, freq)\n",
      "C:\\Users\\Luke\\AppData\\Local\\Programs\\Python\\Python311\\Lib\\site-packages\\statsmodels\\tsa\\statespace\\sarimax.py:966: UserWarning: Non-stationary starting autoregressive parameters found. Using zeros as starting parameters.\n",
      "  warn('Non-stationary starting autoregressive parameters'\n",
      "C:\\Users\\Luke\\AppData\\Local\\Programs\\Python\\Python311\\Lib\\site-packages\\statsmodels\\tsa\\statespace\\sarimax.py:978: UserWarning: Non-invertible starting MA parameters found. Using zeros as starting parameters.\n",
      "  warn('Non-invertible starting MA parameters found.'\n",
      "C:\\Users\\Luke\\AppData\\Local\\Programs\\Python\\Python311\\Lib\\site-packages\\statsmodels\\base\\model.py:607: ConvergenceWarning: Maximum Likelihood optimization failed to converge. Check mle_retvals\n",
      "  warnings.warn(\"Maximum Likelihood optimization failed to \"\n"
     ]
    },
    {
     "data": {
      "text/plain": [
       "0.0011884611132999062"
      ]
     },
     "execution_count": 27,
     "metadata": {},
     "output_type": "execute_result"
    },
    {
     "data": {
      "image/png": "[encoded data removed]",
      "text/plain": [
       "<Figure size 640x480 with 1 Axes>"
      ]
     },
     "metadata": {},
     "output_type": "display_data"
    },
    {
     "data": {
      "image/png": "[encoded data removed]",
      "text/plain": [
       "<Figure size 640x480 with 1 Axes>"
      ]
     },
     "metadata": {},
     "output_type": "display_data"
    }
   ],
   "source": [
    "from datetime import datetime\n",
    "\n",
    "start_date = datetime(2015, 1, 1)\n",
    "end_date = datetime(2029, 10, 1)\n",
    "\n",
    "train = changes.loc[:start_date]\n",
    "test = changes.loc[start_date:end_date]\n",
    "\n",
    "model = ARIMA(train, order=(1, 0, 2))\n",
    "results = model.fit()\n",
    "results.summary()\n",
    "\n",
    "y_pred = results.predict(start_date, end_date)\n",
    "y_pred.name = \"Predictions\"\n",
    "y_pred.plot(title=\"Predictions\")\n",
    "test.plot(title=\"Actual\")\n",
    "\n",
    "test_s = test[\"Value\"] #Convert to a series to match our predicted data\n",
    "sse = np.sum((y_pred - test_s)**2)\n",
    "\n",
    "sse\n"
   ]
  },
  {
   "cell_type": "markdown",
   "metadata": {},
   "source": [
    "*For solutions, see `solutions/arima_sse.py`*"
   ]
  },
  {
   "cell_type": "markdown",
   "metadata": {},
   "source": [
    "### Seasonal ARIMA\n",
    "\n",
    "Seasonal variations are not included by default in an ARIMA model. You can approximate this with lag periods of your season, for instance, setting $d=12$. A Seasonal ARIMA model has parameters for both the standard ARIMA model, and additional ones for the seasonality. This gives the full model as: \n",
    "\n",
    "$ARIMA(p, d, q)(P, D, Q)$\n",
    "\n",
    "Alternatively you may see this model written as $ARIMA(p, d, q)x(P, D, Q)$.\n",
    "\n",
    "Where $p$, $d$ and $q$ are as with ARIMA, and $P$, $D$, and $Q$ are the same as their lowercase version, except with a seasonal lag added in. For example,  D is seasonal lag, setting $y_t = y_t - y_{t-M}$ where $M$ is the seasonal lag period (if you have monthly data and want yearly differencing, $M=12$).\n",
    "\n",
    "As with ARIMA, and all the model we have seen so far, any of these values could be zero, effectively turning that part of the model off. Unlike non-seasonal ARIMA, we normally still refer to the model by it's full name, i.e. ARIMA(0, 0, 1)(1, 1, 0), (as opposed to, say, MASAR(1, 1) or some weird combination).\n",
    "\n",
    "In statsmodels, the name of this model is SARIMAX - Seasonal ARIMA, with eXogenous regressors (additional independent variables)."
   ]
  },
  {
   "cell_type": "code",
   "execution_count": 30,
   "metadata": {},
   "outputs": [],
   "source": [
    "from statsmodels.tsa.statespace.sarimax import SARIMAX"
   ]
  },
  {
   "cell_type": "code",
   "execution_count": 31,
   "metadata": {
    "scrolled": true
   },
   "outputs": [
    {
     "name": "stderr",
     "output_type": "stream",
     "text": [
      "C:\\Users\\Luke\\AppData\\Local\\Programs\\Python\\Python311\\Lib\\site-packages\\statsmodels\\tsa\\base\\tsa_model.py:473: ValueWarning: No frequency information was provided, so inferred frequency QS-OCT will be used.\n",
      "  self._init_dates(dates, freq)\n",
      "C:\\Users\\Luke\\AppData\\Local\\Programs\\Python\\Python311\\Lib\\site-packages\\statsmodels\\tsa\\base\\tsa_model.py:473: ValueWarning: No frequency information was provided, so inferred frequency QS-OCT will be used.\n",
      "  self._init_dates(dates, freq)\n"
     ]
    }
   ],
   "source": [
    "seasonal_model = SARIMAX(changes, order=(1, 1, 1), seasonal_order=(0, 1, 0, 4))"
   ]
  },
  {
   "cell_type": "code",
   "execution_count": 32,
   "metadata": {},
   "outputs": [
    {
     "name": "stderr",
     "output_type": "stream",
     "text": [
      "C:\\Users\\Luke\\AppData\\Local\\Programs\\Python\\Python311\\Lib\\site-packages\\statsmodels\\base\\model.py:607: ConvergenceWarning: Maximum Likelihood optimization failed to converge. Check mle_retvals\n",
      "  warnings.warn(\"Maximum Likelihood optimization failed to \"\n"
     ]
    }
   ],
   "source": [
    "results = seasonal_model.fit()"
   ]
  },
  {
   "cell_type": "code",
   "execution_count": 33,
   "metadata": {},
   "outputs": [
    {
     "data": {
      "text/html": [
       "<table class=\"simpletable\">\n",
       "<caption>SARIMAX Results</caption>\n",
       "<tr>\n",
       "  <th>Dep. Variable:</th>                <td>Value</td>             <th>  No. Observations:  </th>    <td>330</td>   \n",
       "</tr>\n",
       "<tr>\n",
       "  <th>Model:</th>           <td>SARIMAX(1, 1, 1)x(0, 1, [], 4)</td> <th>  Log Likelihood     </th>  <td>929.738</td> \n",
       "</tr>\n",
       "<tr>\n",
       "  <th>Date:</th>                   <td>Wed, 30 Aug 2023</td>        <th>  AIC                </th> <td>-1853.477</td>\n",
       "</tr>\n",
       "<tr>\n",
       "  <th>Time:</th>                       <td>22:24:33</td>            <th>  BIC                </th> <td>-1842.125</td>\n",
       "</tr>\n",
       "<tr>\n",
       "  <th>Sample:</th>                    <td>07-01-1949</td>           <th>  HQIC               </th> <td>-1848.947</td>\n",
       "</tr>\n",
       "<tr>\n",
       "  <th></th>                          <td>- 10-01-2031</td>          <th>                     </th>     <td> </td>    \n",
       "</tr>\n",
       "<tr>\n",
       "  <th>Covariance Type:</th>               <td>opg</td>              <th>                     </th>     <td> </td>    \n",
       "</tr>\n",
       "</table>\n",
       "<table class=\"simpletable\">\n",
       "<tr>\n",
       "     <td></td>       <th>coef</th>     <th>std err</th>      <th>z</th>      <th>P>|z|</th>  <th>[0.025</th>    <th>0.975]</th>  \n",
       "</tr>\n",
       "<tr>\n",
       "  <th>ar.L1</th>  <td>   -0.3510</td> <td>    0.019</td> <td>  -18.353</td> <td> 0.000</td> <td>   -0.389</td> <td>   -0.314</td>\n",
       "</tr>\n",
       "<tr>\n",
       "  <th>ma.L1</th>  <td>   -0.9992</td> <td>    0.085</td> <td>  -11.792</td> <td> 0.000</td> <td>   -1.165</td> <td>   -0.833</td>\n",
       "</tr>\n",
       "<tr>\n",
       "  <th>sigma2</th> <td>    0.0002</td> <td> 1.77e-05</td> <td>   10.583</td> <td> 0.000</td> <td>    0.000</td> <td>    0.000</td>\n",
       "</tr>\n",
       "</table>\n",
       "<table class=\"simpletable\">\n",
       "<tr>\n",
       "  <th>Ljung-Box (L1) (Q):</th>      <td>0.64</td>   <th>  Jarque-Bera (JB):  </th> <td>6677.17</td>\n",
       "</tr>\n",
       "<tr>\n",
       "  <th>Prob(Q):</th>                 <td>0.42</td>   <th>  Prob(JB):          </th>  <td>0.00</td>  \n",
       "</tr>\n",
       "<tr>\n",
       "  <th>Heteroskedasticity (H):</th> <td>8732.68</td> <th>  Skew:              </th>  <td>0.54</td>  \n",
       "</tr>\n",
       "<tr>\n",
       "  <th>Prob(H) (two-sided):</th>     <td>0.00</td>   <th>  Kurtosis:          </th>  <td>25.18</td> \n",
       "</tr>\n",
       "</table><br/><br/>Warnings:<br/>[1] Covariance matrix calculated using the outer product of gradients (complex-step)."
      ],
      "text/latex": [
       "\\begin{center}\n",
       "\\begin{tabular}{lclc}\n",
       "\\toprule\n",
       "\\textbf{Dep. Variable:}          &             Value              & \\textbf{  No. Observations:  } &    330      \\\\\n",
       "\\textbf{Model:}                  & SARIMAX(1, 1, 1)x(0, 1, [], 4) & \\textbf{  Log Likelihood     } &  929.738    \\\\\n",
       "\\textbf{Date:}                   &        Wed, 30 Aug 2023        & \\textbf{  AIC                } & -1853.477   \\\\\n",
       "\\textbf{Time:}                   &            22:24:33            & \\textbf{  BIC                } & -1842.125   \\\\\n",
       "\\textbf{Sample:}                 &           07-01-1949           & \\textbf{  HQIC               } & -1848.947   \\\\\n",
       "\\textbf{}                        &          - 10-01-2031          & \\textbf{                     } &             \\\\\n",
       "\\textbf{Covariance Type:}        &              opg               & \\textbf{                     } &             \\\\\n",
       "\\bottomrule\n",
       "\\end{tabular}\n",
       "\\begin{tabular}{lcccccc}\n",
       "                & \\textbf{coef} & \\textbf{std err} & \\textbf{z} & \\textbf{P$> |$z$|$} & \\textbf{[0.025} & \\textbf{0.975]}  \\\\\n",
       "\\midrule\n",
       "\\textbf{ar.L1}  &      -0.3510  &        0.019     &   -18.353  &         0.000        &       -0.389    &       -0.314     \\\\\n",
       "\\textbf{ma.L1}  &      -0.9992  &        0.085     &   -11.792  &         0.000        &       -1.165    &       -0.833     \\\\\n",
       "\\textbf{sigma2} &       0.0002  &     1.77e-05     &    10.583  &         0.000        &        0.000    &        0.000     \\\\\n",
       "\\bottomrule\n",
       "\\end{tabular}\n",
       "\\begin{tabular}{lclc}\n",
       "\\textbf{Ljung-Box (L1) (Q):}     &   0.64  & \\textbf{  Jarque-Bera (JB):  } & 6677.17  \\\\\n",
       "\\textbf{Prob(Q):}                &   0.42  & \\textbf{  Prob(JB):          } &   0.00   \\\\\n",
       "\\textbf{Heteroskedasticity (H):} & 8732.68 & \\textbf{  Skew:              } &   0.54   \\\\\n",
       "\\textbf{Prob(H) (two-sided):}    &   0.00  & \\textbf{  Kurtosis:          } &  25.18   \\\\\n",
       "\\bottomrule\n",
       "\\end{tabular}\n",
       "%\\caption{SARIMAX Results}\n",
       "\\end{center}\n",
       "\n",
       "Warnings: \\newline\n",
       " [1] Covariance matrix calculated using the outer product of gradients (complex-step)."
      ],
      "text/plain": [
       "<class 'statsmodels.iolib.summary.Summary'>\n",
       "\"\"\"\n",
       "                                     SARIMAX Results                                      \n",
       "==========================================================================================\n",
       "Dep. Variable:                              Value   No. Observations:                  330\n",
       "Model:             SARIMAX(1, 1, 1)x(0, 1, [], 4)   Log Likelihood                 929.738\n",
       "Date:                            Wed, 30 Aug 2023   AIC                          -1853.477\n",
       "Time:                                    22:24:33   BIC                          -1842.125\n",
       "Sample:                                07-01-1949   HQIC                         -1848.947\n",
       "                                     - 10-01-2031                                         \n",
       "Covariance Type:                              opg                                         \n",
       "==============================================================================\n",
       "                 coef    std err          z      P>|z|      [0.025      0.975]\n",
       "------------------------------------------------------------------------------\n",
       "ar.L1         -0.3510      0.019    -18.353      0.000      -0.389      -0.314\n",
       "ma.L1         -0.9992      0.085    -11.792      0.000      -1.165      -0.833\n",
       "sigma2         0.0002   1.77e-05     10.583      0.000       0.000       0.000\n",
       "===================================================================================\n",
       "Ljung-Box (L1) (Q):                   0.64   Jarque-Bera (JB):              6677.17\n",
       "Prob(Q):                              0.42   Prob(JB):                         0.00\n",
       "Heteroskedasticity (H):            8732.68   Skew:                             0.54\n",
       "Prob(H) (two-sided):                  0.00   Kurtosis:                        25.18\n",
       "===================================================================================\n",
       "\n",
       "Warnings:\n",
       "[1] Covariance matrix calculated using the outer product of gradients (complex-step).\n",
       "\"\"\""
      ]
     },
     "execution_count": 33,
     "metadata": {},
     "output_type": "execute_result"
    }
   ],
   "source": [
    "results.summary()"
   ]
  },
  {
   "cell_type": "markdown",
   "metadata": {},
   "source": [
    "#### Exercise\n",
    "\n",
    "1. Check the documentation for SARIMAX on the statsmodels website. These values were set in the previous code example?\n",
    "2. Choose a seasonal commodity from Quandl, such as Wheat, and apply a Seasonal ARIMA to the data."
   ]
  },
  {
   "cell_type": "code",
   "execution_count": 34,
   "metadata": {},
   "outputs": [
    {
     "name": "stderr",
     "output_type": "stream",
     "text": [
      "C:\\Users\\Luke\\AppData\\Local\\Programs\\Python\\Python311\\Lib\\site-packages\\statsmodels\\tsa\\base\\tsa_model.py:473: ValueWarning: No frequency information was provided, so inferred frequency QS-OCT will be used.\n",
      "  self._init_dates(dates, freq)\n",
      "C:\\Users\\Luke\\AppData\\Local\\Programs\\Python\\Python311\\Lib\\site-packages\\statsmodels\\tsa\\base\\tsa_model.py:473: ValueWarning: No frequency information was provided, so inferred frequency QS-OCT will be used.\n",
      "  self._init_dates(dates, freq)\n"
     ]
    },
    {
     "data": {
      "text/html": [
       "<table class=\"simpletable\">\n",
       "<caption>SARIMAX Results</caption>\n",
       "<tr>\n",
       "  <th>Dep. Variable:</th>                <td>Value</td>              <th>  No. Observations:  </th>    <td>330</td>   \n",
       "</tr>\n",
       "<tr>\n",
       "  <th>Model:</th>           <td>SARIMAX(1, 1, 1)x(0, 1, [], 12)</td> <th>  Log Likelihood     </th>  <td>849.628</td> \n",
       "</tr>\n",
       "<tr>\n",
       "  <th>Date:</th>                   <td>Wed, 30 Aug 2023</td>         <th>  AIC                </th> <td>-1693.255</td>\n",
       "</tr>\n",
       "<tr>\n",
       "  <th>Time:</th>                       <td>22:24:38</td>             <th>  BIC                </th> <td>-1681.979</td>\n",
       "</tr>\n",
       "<tr>\n",
       "  <th>Sample:</th>                    <td>07-01-1949</td>            <th>  HQIC               </th> <td>-1688.751</td>\n",
       "</tr>\n",
       "<tr>\n",
       "  <th></th>                          <td>- 10-01-2031</td>           <th>                     </th>     <td> </td>    \n",
       "</tr>\n",
       "<tr>\n",
       "  <th>Covariance Type:</th>               <td>opg</td>               <th>                     </th>     <td> </td>    \n",
       "</tr>\n",
       "</table>\n",
       "<table class=\"simpletable\">\n",
       "<tr>\n",
       "     <td></td>       <th>coef</th>     <th>std err</th>      <th>z</th>      <th>P>|z|</th>  <th>[0.025</th>    <th>0.975]</th>  \n",
       "</tr>\n",
       "<tr>\n",
       "  <th>ar.L1</th>  <td>   -0.4029</td> <td>    0.017</td> <td>  -23.708</td> <td> 0.000</td> <td>   -0.436</td> <td>   -0.370</td>\n",
       "</tr>\n",
       "<tr>\n",
       "  <th>ma.L1</th>  <td>   -0.7016</td> <td>    0.024</td> <td>  -28.830</td> <td> 0.000</td> <td>   -0.749</td> <td>   -0.654</td>\n",
       "</tr>\n",
       "<tr>\n",
       "  <th>sigma2</th> <td>    0.0003</td> <td> 6.65e-06</td> <td>   41.154</td> <td> 0.000</td> <td>    0.000</td> <td>    0.000</td>\n",
       "</tr>\n",
       "</table>\n",
       "<table class=\"simpletable\">\n",
       "<tr>\n",
       "  <th>Ljung-Box (L1) (Q):</th>      <td>0.71</td>   <th>  Jarque-Bera (JB):  </th> <td>6122.21</td>\n",
       "</tr>\n",
       "<tr>\n",
       "  <th>Prob(Q):</th>                 <td>0.40</td>   <th>  Prob(JB):          </th>  <td>0.00</td>  \n",
       "</tr>\n",
       "<tr>\n",
       "  <th>Heteroskedasticity (H):</th> <td>7517.14</td> <th>  Skew:              </th>  <td>0.33</td>  \n",
       "</tr>\n",
       "<tr>\n",
       "  <th>Prob(H) (two-sided):</th>     <td>0.00</td>   <th>  Kurtosis:          </th>  <td>24.52</td> \n",
       "</tr>\n",
       "</table><br/><br/>Warnings:<br/>[1] Covariance matrix calculated using the outer product of gradients (complex-step)."
      ],
      "text/latex": [
       "\\begin{center}\n",
       "\\begin{tabular}{lclc}\n",
       "\\toprule\n",
       "\\textbf{Dep. Variable:}          &              Value              & \\textbf{  No. Observations:  } &    330      \\\\\n",
       "\\textbf{Model:}                  & SARIMAX(1, 1, 1)x(0, 1, [], 12) & \\textbf{  Log Likelihood     } &  849.628    \\\\\n",
       "\\textbf{Date:}                   &         Wed, 30 Aug 2023        & \\textbf{  AIC                } & -1693.255   \\\\\n",
       "\\textbf{Time:}                   &             22:24:38            & \\textbf{  BIC                } & -1681.979   \\\\\n",
       "\\textbf{Sample:}                 &            07-01-1949           & \\textbf{  HQIC               } & -1688.751   \\\\\n",
       "\\textbf{}                        &           - 10-01-2031          & \\textbf{                     } &             \\\\\n",
       "\\textbf{Covariance Type:}        &               opg               & \\textbf{                     } &             \\\\\n",
       "\\bottomrule\n",
       "\\end{tabular}\n",
       "\\begin{tabular}{lcccccc}\n",
       "                & \\textbf{coef} & \\textbf{std err} & \\textbf{z} & \\textbf{P$> |$z$|$} & \\textbf{[0.025} & \\textbf{0.975]}  \\\\\n",
       "\\midrule\n",
       "\\textbf{ar.L1}  &      -0.4029  &        0.017     &   -23.708  &         0.000        &       -0.436    &       -0.370     \\\\\n",
       "\\textbf{ma.L1}  &      -0.7016  &        0.024     &   -28.830  &         0.000        &       -0.749    &       -0.654     \\\\\n",
       "\\textbf{sigma2} &       0.0003  &     6.65e-06     &    41.154  &         0.000        &        0.000    &        0.000     \\\\\n",
       "\\bottomrule\n",
       "\\end{tabular}\n",
       "\\begin{tabular}{lclc}\n",
       "\\textbf{Ljung-Box (L1) (Q):}     &   0.71  & \\textbf{  Jarque-Bera (JB):  } & 6122.21  \\\\\n",
       "\\textbf{Prob(Q):}                &   0.40  & \\textbf{  Prob(JB):          } &   0.00   \\\\\n",
       "\\textbf{Heteroskedasticity (H):} & 7517.14 & \\textbf{  Skew:              } &   0.33   \\\\\n",
       "\\textbf{Prob(H) (two-sided):}    &   0.00  & \\textbf{  Kurtosis:          } &  24.52   \\\\\n",
       "\\bottomrule\n",
       "\\end{tabular}\n",
       "%\\caption{SARIMAX Results}\n",
       "\\end{center}\n",
       "\n",
       "Warnings: \\newline\n",
       " [1] Covariance matrix calculated using the outer product of gradients (complex-step)."
      ],
      "text/plain": [
       "<class 'statsmodels.iolib.summary.Summary'>\n",
       "\"\"\"\n",
       "                                      SARIMAX Results                                      \n",
       "===========================================================================================\n",
       "Dep. Variable:                               Value   No. Observations:                  330\n",
       "Model:             SARIMAX(1, 1, 1)x(0, 1, [], 12)   Log Likelihood                 849.628\n",
       "Date:                             Wed, 30 Aug 2023   AIC                          -1693.255\n",
       "Time:                                     22:24:38   BIC                          -1681.979\n",
       "Sample:                                 07-01-1949   HQIC                         -1688.751\n",
       "                                      - 10-01-2031                                         \n",
       "Covariance Type:                               opg                                         \n",
       "==============================================================================\n",
       "                 coef    std err          z      P>|z|      [0.025      0.975]\n",
       "------------------------------------------------------------------------------\n",
       "ar.L1         -0.4029      0.017    -23.708      0.000      -0.436      -0.370\n",
       "ma.L1         -0.7016      0.024    -28.830      0.000      -0.749      -0.654\n",
       "sigma2         0.0003   6.65e-06     41.154      0.000       0.000       0.000\n",
       "===================================================================================\n",
       "Ljung-Box (L1) (Q):                   0.71   Jarque-Bera (JB):              6122.21\n",
       "Prob(Q):                              0.40   Prob(JB):                         0.00\n",
       "Heteroskedasticity (H):            7517.14   Skew:                             0.33\n",
       "Prob(H) (two-sided):                  0.00   Kurtosis:                        24.52\n",
       "===================================================================================\n",
       "\n",
       "Warnings:\n",
       "[1] Covariance matrix calculated using the outer product of gradients (complex-step).\n",
       "\"\"\""
      ]
     },
     "execution_count": 34,
     "metadata": {},
     "output_type": "execute_result"
    }
   ],
   "source": [
    "#1. In the above example we have specified a seasonal ARMIMA model of 0, 1, 0 (P,Q,Q) with a period of 4, since \n",
    "#    we are using quarterly data.\n",
    "\n",
    "#2.\n",
    "\n",
    "wheat_price = quandl.get(\"ODA/PWHEAMT_USD\", collapse=\"monthly\")\n",
    "seasonal_model_wheat = SARIMAX(changes, order=(1, 1, 1), seasonal_order=(0, 1, 0, 12))\n",
    "result_wheat = seasonal_model_wheat.fit()\n",
    "result_wheat.summary()"
   ]
  },
  {
   "cell_type": "markdown",
   "metadata": {},
   "source": [
    "*For solutions see `solutions/arima_seasonal.py`*"
   ]
  },
  {
   "cell_type": "markdown",
   "metadata": {},
   "source": [
    "#### Extended Exercise Automating parameter selection\n",
    "\n",
    "As we saw above, choosing parameters for ARIMA is a fairly straight-forward process, using AIC to choose the best from a subset of features. This process is easily automatable, and has been automated in a few libraries. In the R programming language, the ARIMA implementation already includes it, while it is a separate module for statsmodels in Python. You can get the code from https://github.com/tgsmith61591/pmdarima\n",
    "\n",
    "Install the package on your system and run on the data you received for the exercises in this module (cryptocurrency and seasonal commodity). What parameters does it choose, and how effective was the algorithm?\n",
    "\n",
    "As a warning, automated parameter selection is basically a brute force selection. Generally it composes the following steps:\n",
    "\n",
    "1. Try all parameter combinations from those given\n",
    "2. Evaluate all of them using some metric\n",
    "3. Choose the best one.\n",
    "\n",
    "Some algorithms exist separately to optimise and improve this process by being a bit more clever about their search, but these options are not available in `pmdarima`.\n",
    "\n",
    "Further, the documenation for this library also contains additional information on choosing parameter bounds that is worth reading for a more complete picture of ARIMA."
   ]
  }
 ],
 "metadata": {
  "kernelspec": {
   "display_name": "Python 3 (ipykernel)",
   "language": "python",
   "name": "python3"
  },
  "language_info": {
   "codemirror_mode": {
    "name": "ipython",
    "version": 3
   },
   "file_extension": ".py",
   "mimetype": "text/x-python",
   "name": "python",
   "nbconvert_exporter": "python",
   "pygments_lexer": "ipython3",
   "version": "3.11.4"
  }
 },
 "nbformat": 4,
 "nbformat_minor": 2
}
