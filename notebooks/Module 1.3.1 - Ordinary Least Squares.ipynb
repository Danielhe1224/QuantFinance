{
 "cells": [
  {
   "cell_type": "markdown",
   "metadata": {},
   "source": [
    "# Introduction to Quantitative Finance\n",
    "\n",
    "Copyright (c) 2019 Python Charmers Pty Ltd, Australia, <https://pythoncharmers.com>. All rights reserved.\n",
    "\n",
    "<img src=\"img/python_charmers_logo.png\" width=\"300\" alt=\"Python Charmers Logo\">\n",
    "\n",
    "Published under the Creative Commons Attribution-NonCommercial 4.0 International (CC BY-NC 4.0) license. See `LICENSE.md` for details.\n",
    "\n",
    "Sponsored by Tibra Global Services, <https://tibra.com>\n",
    "\n",
    "<img src=\"img/tibra_logo.png\" width=\"300\" alt=\"Tibra Logo\">\n",
    "\n",
    "\n",
    "## Module 1.3: Ordinary Least Squares\n",
    "\n",
    "### 1.3.1 Ordinary Least Squares\n",
    "\n",
    "The Ordinary Least Squares (hereafter OLS) algorithm is a key algorithm for prediction, regression and many other learning tasks. Despite it initially looking like *just* a linear algorithm, it can be extended to be able to predict a wide variety of complex tasks. It is a powerful algorithm with some solid mathematical proofs behind it, and is a very practically useful algorithm for prediction and modelling tasks.\n",
    "\n",
    "We will review the OLS algorithm in significant depth over the next few notebooks, and use it extensively over the rest of this course.\n",
    "The OLS algorithm aims to solve problems of the form:\n",
    "\n",
    "$ Y = X\\beta + \\boldsymbol{u}$\n",
    "\n",
    "Where:\n",
    "* $Y$ is the variable we are attempting to predict (the dependent variable)\n",
    "* $X$ is our independent variable (or multiple variables, as we will see in the next notebook)\n",
    "* $\\beta$ is the parameters we are trying to learn\n",
    "* $u$ is the error of our model, as we can often not predict data perfectly.\n",
    "\n",
    "This type of model is a **Linear Regression Model**, as the model is a linear combination of $X$ and $\\beta$. Note, however, that the values of $X$ do not have to be linear, for instance, we can used $x^2$ as our $X$ value, and we still use Linear Regression to learn that model (although in some cases it may no longer be the best algorithm - a problem for later). We use OLS to find the best values for $\\beta$ for our Linear Regression Model.\n",
    "\n",
    "OLS aims to learn the *best* values for $\\beta$, which is defined as the values that minimise the value $u$, our error. Before we get to how to do that, we will have a look at the Linear Regression Model in more detail."
   ]
  },
  {
   "cell_type": "markdown",
   "metadata": {},
   "source": [
    "### Linear Regression Model\n",
    "\n",
    "In a Linear Regression Model, we have our independent $X$ values, and our dependent $Y$ values, and we wish to find a linear relationship between them. For instance:"
   ]
  },
  {
   "cell_type": "code",
   "execution_count": 1,
   "metadata": {},
   "outputs": [],
   "source": [
    "%run setup.ipy"
   ]
  },
  {
   "cell_type": "code",
   "execution_count": 2,
   "metadata": {},
   "outputs": [],
   "source": [
    "prices = pd.read_hdf(\"data/HousePricesVsInterestRates.hdf\", key=\"NSW\")"
   ]
  },
  {
   "cell_type": "code",
   "execution_count": 3,
   "metadata": {},
   "outputs": [
    {
     "data": {
      "text/html": [
       "<div>\n",
       "<style scoped>\n",
       "    .dataframe tbody tr th:only-of-type {\n",
       "        vertical-align: middle;\n",
       "    }\n",
       "\n",
       "    .dataframe tbody tr th {\n",
       "        vertical-align: top;\n",
       "    }\n",
       "\n",
       "    .dataframe thead th {\n",
       "        text-align: right;\n",
       "    }\n",
       "</style>\n",
       "<table border=\"1\" class=\"dataframe\">\n",
       "  <thead>\n",
       "    <tr style=\"text-align: right;\">\n",
       "      <th></th>\n",
       "      <th>MedianPrice</th>\n",
       "      <th>CashRate</th>\n",
       "    </tr>\n",
       "  </thead>\n",
       "  <tbody>\n",
       "    <tr>\n",
       "      <th>2007-03-31</th>\n",
       "      <td>517447.312500</td>\n",
       "      <td>6.25</td>\n",
       "    </tr>\n",
       "    <tr>\n",
       "      <th>2007-06-30</th>\n",
       "      <td>528379.733333</td>\n",
       "      <td>6.25</td>\n",
       "    </tr>\n",
       "    <tr>\n",
       "      <th>2007-09-30</th>\n",
       "      <td>511257.021277</td>\n",
       "      <td>6.50</td>\n",
       "    </tr>\n",
       "    <tr>\n",
       "      <th>2007-12-31</th>\n",
       "      <td>547164.071090</td>\n",
       "      <td>6.75</td>\n",
       "    </tr>\n",
       "    <tr>\n",
       "      <th>2008-03-31</th>\n",
       "      <td>567444.245132</td>\n",
       "      <td>7.25</td>\n",
       "    </tr>\n",
       "  </tbody>\n",
       "</table>\n",
       "</div>"
      ],
      "text/plain": [
       "              MedianPrice  CashRate\n",
       "2007-03-31  517447.312500      6.25\n",
       "2007-06-30  528379.733333      6.25\n",
       "2007-09-30  511257.021277      6.50\n",
       "2007-12-31  547164.071090      6.75\n",
       "2008-03-31  567444.245132      7.25"
      ]
     },
     "execution_count": 3,
     "metadata": {},
     "output_type": "execute_result"
    }
   ],
   "source": [
    "prices.head()"
   ]
  },
  {
   "cell_type": "code",
   "execution_count": 4,
   "metadata": {},
   "outputs": [],
   "source": [
    "# Divide the MedianPrice by 1000 to get easier numbers to work with\n",
    "prices['MedianPrice'] /= 1000"
   ]
  },
  {
   "cell_type": "code",
   "execution_count": 5,
   "metadata": {},
   "outputs": [
    {
     "data": {
      "text/html": [
       "\n",
       "<style>\n",
       "  #altair-viz-098f8d00b8e04e16b361d1250b06b0f0.vega-embed {\n",
       "    width: 100%;\n",
       "    display: flex;\n",
       "  }\n",
       "\n",
       "  #altair-viz-098f8d00b8e04e16b361d1250b06b0f0.vega-embed details,\n",
       "  #altair-viz-098f8d00b8e04e16b361d1250b06b0f0.vega-embed details summary {\n",
       "    position: relative;\n",
       "  }\n",
       "</style>\n",
       "<div id=\"altair-viz-098f8d00b8e04e16b361d1250b06b0f0\"></div>\n",
       "<script type=\"text/javascript\">\n",
       "  var VEGA_DEBUG = (typeof VEGA_DEBUG == \"undefined\") ? {} : VEGA_DEBUG;\n",
       "  (function(spec, embedOpt){\n",
       "    let outputDiv = document.currentScript.previousElementSibling;\n",
       "    if (outputDiv.id !== \"altair-viz-098f8d00b8e04e16b361d1250b06b0f0\") {\n",
       "      outputDiv = document.getElementById(\"altair-viz-098f8d00b8e04e16b361d1250b06b0f0\");\n",
       "    }\n",
       "    const paths = {\n",
       "      \"vega\": \"https://cdn.jsdelivr.net/npm/vega@5?noext\",\n",
       "      \"vega-lib\": \"https://cdn.jsdelivr.net/npm/vega-lib?noext\",\n",
       "      \"vega-lite\": \"https://cdn.jsdelivr.net/npm/vega-lite@5.8.0?noext\",\n",
       "      \"vega-embed\": \"https://cdn.jsdelivr.net/npm/vega-embed@6?noext\",\n",
       "    };\n",
       "\n",
       "    function maybeLoadScript(lib, version) {\n",
       "      var key = `${lib.replace(\"-\", \"\")}_version`;\n",
       "      return (VEGA_DEBUG[key] == version) ?\n",
       "        Promise.resolve(paths[lib]) :\n",
       "        new Promise(function(resolve, reject) {\n",
       "          var s = document.createElement('script');\n",
       "          document.getElementsByTagName(\"head\")[0].appendChild(s);\n",
       "          s.async = true;\n",
       "          s.onload = () => {\n",
       "            VEGA_DEBUG[key] = version;\n",
       "            return resolve(paths[lib]);\n",
       "          };\n",
       "          s.onerror = () => reject(`Error loading script: ${paths[lib]}`);\n",
       "          s.src = paths[lib];\n",
       "        });\n",
       "    }\n",
       "\n",
       "    function showError(err) {\n",
       "      outputDiv.innerHTML = `<div class=\"error\" style=\"color:red;\">${err}</div>`;\n",
       "      throw err;\n",
       "    }\n",
       "\n",
       "    function displayChart(vegaEmbed) {\n",
       "      vegaEmbed(outputDiv, spec, embedOpt)\n",
       "        .catch(err => showError(`Javascript Error: ${err.message}<br>This usually means there's a typo in your chart specification. See the javascript console for the full traceback.`));\n",
       "    }\n",
       "\n",
       "    if(typeof define === \"function\" && define.amd) {\n",
       "      requirejs.config({paths});\n",
       "      require([\"vega-embed\"], displayChart, err => showError(`Error loading script: ${err.message}`));\n",
       "    } else {\n",
       "      maybeLoadScript(\"vega\", \"5\")\n",
       "        .then(() => maybeLoadScript(\"vega-lite\", \"5.8.0\"))\n",
       "        .then(() => maybeLoadScript(\"vega-embed\", \"6\"))\n",
       "        .catch(showError)\n",
       "        .then(() => displayChart(vegaEmbed));\n",
       "    }\n",
       "  })({\"config\": {\"view\": {\"continuousWidth\": 300, \"continuousHeight\": 300}}, \"data\": {\"url\": \"altair-data-16a52107771e16dd783182898e95326f.json\", \"format\": {\"type\": \"json\"}}, \"mark\": {\"type\": \"circle\"}, \"encoding\": {\"x\": {\"field\": \"CashRate\", \"type\": \"quantitative\"}, \"y\": {\"field\": \"MedianPrice\", \"type\": \"quantitative\"}}, \"height\": 300, \"width\": 800, \"$schema\": \"https://vega.github.io/schema/vega-lite/v5.8.0.json\"}, {\"mode\": \"vega-lite\"});\n",
       "</script>"
      ],
      "text/plain": [
       "alt.Chart(...)"
      ]
     },
     "execution_count": 5,
     "metadata": {},
     "output_type": "execute_result"
    }
   ],
   "source": [
    "alt.Chart(prices).mark_circle().encode(\n",
    "    x='CashRate',\n",
    "    y='MedianPrice'\n",
    ").properties(\n",
    "    width=800,\n",
    "    height=300\n",
    ")"
   ]
  },
  {
   "cell_type": "markdown",
   "metadata": {},
   "source": [
    "In this data, there is a linear relationship between the Cash Interest Rate and House Prices that we will attempt to model.\n",
    "\n",
    "Side note: while there is a causual relationship between the two (a lower cash rate gives more people the ability to take out loans), the linear relationship here is a drastic oversimplification of things. For instance, the interest rate has been in relatively steady decline for a while, while house prices have gone up, and generally would have due to inflation anyway. A more formal analysis would need to remove the effect of inflation and other impacts."
   ]
  },
  {
   "cell_type": "code",
   "execution_count": 6,
   "metadata": {},
   "outputs": [
    {
     "data": {
      "text/html": [
       "\n",
       "<style>\n",
       "  #altair-viz-02c461b82e0f46e68fb9282aa889c15f.vega-embed {\n",
       "    width: 100%;\n",
       "    display: flex;\n",
       "  }\n",
       "\n",
       "  #altair-viz-02c461b82e0f46e68fb9282aa889c15f.vega-embed details,\n",
       "  #altair-viz-02c461b82e0f46e68fb9282aa889c15f.vega-embed details summary {\n",
       "    position: relative;\n",
       "  }\n",
       "</style>\n",
       "<div id=\"altair-viz-02c461b82e0f46e68fb9282aa889c15f\"></div>\n",
       "<script type=\"text/javascript\">\n",
       "  var VEGA_DEBUG = (typeof VEGA_DEBUG == \"undefined\") ? {} : VEGA_DEBUG;\n",
       "  (function(spec, embedOpt){\n",
       "    let outputDiv = document.currentScript.previousElementSibling;\n",
       "    if (outputDiv.id !== \"altair-viz-02c461b82e0f46e68fb9282aa889c15f\") {\n",
       "      outputDiv = document.getElementById(\"altair-viz-02c461b82e0f46e68fb9282aa889c15f\");\n",
       "    }\n",
       "    const paths = {\n",
       "      \"vega\": \"https://cdn.jsdelivr.net/npm/vega@5?noext\",\n",
       "      \"vega-lib\": \"https://cdn.jsdelivr.net/npm/vega-lib?noext\",\n",
       "      \"vega-lite\": \"https://cdn.jsdelivr.net/npm/vega-lite@5.8.0?noext\",\n",
       "      \"vega-embed\": \"https://cdn.jsdelivr.net/npm/vega-embed@6?noext\",\n",
       "    };\n",
       "\n",
       "    function maybeLoadScript(lib, version) {\n",
       "      var key = `${lib.replace(\"-\", \"\")}_version`;\n",
       "      return (VEGA_DEBUG[key] == version) ?\n",
       "        Promise.resolve(paths[lib]) :\n",
       "        new Promise(function(resolve, reject) {\n",
       "          var s = document.createElement('script');\n",
       "          document.getElementsByTagName(\"head\")[0].appendChild(s);\n",
       "          s.async = true;\n",
       "          s.onload = () => {\n",
       "            VEGA_DEBUG[key] = version;\n",
       "            return resolve(paths[lib]);\n",
       "          };\n",
       "          s.onerror = () => reject(`Error loading script: ${paths[lib]}`);\n",
       "          s.src = paths[lib];\n",
       "        });\n",
       "    }\n",
       "\n",
       "    function showError(err) {\n",
       "      outputDiv.innerHTML = `<div class=\"error\" style=\"color:red;\">${err}</div>`;\n",
       "      throw err;\n",
       "    }\n",
       "\n",
       "    function displayChart(vegaEmbed) {\n",
       "      vegaEmbed(outputDiv, spec, embedOpt)\n",
       "        .catch(err => showError(`Javascript Error: ${err.message}<br>This usually means there's a typo in your chart specification. See the javascript console for the full traceback.`));\n",
       "    }\n",
       "\n",
       "    if(typeof define === \"function\" && define.amd) {\n",
       "      requirejs.config({paths});\n",
       "      require([\"vega-embed\"], displayChart, err => showError(`Error loading script: ${err.message}`));\n",
       "    } else {\n",
       "      maybeLoadScript(\"vega\", \"5\")\n",
       "        .then(() => maybeLoadScript(\"vega-lite\", \"5.8.0\"))\n",
       "        .then(() => maybeLoadScript(\"vega-embed\", \"6\"))\n",
       "        .catch(showError)\n",
       "        .then(() => displayChart(vegaEmbed));\n",
       "    }\n",
       "  })({\"config\": {\"view\": {\"continuousWidth\": 300, \"continuousHeight\": 300}}, \"layer\": [{\"data\": {\"url\": \"altair-data-16a52107771e16dd783182898e95326f.json\", \"format\": {\"type\": \"json\"}}, \"mark\": {\"type\": \"circle\"}, \"encoding\": {\"x\": {\"field\": \"CashRate\", \"type\": \"quantitative\"}, \"y\": {\"field\": \"MedianPrice\", \"type\": \"quantitative\"}}}, {\"data\": {\"url\": \"altair-data-0983ca0ffb151542a56784fdf2d68f3b.json\", \"format\": {\"type\": \"json\"}}, \"mark\": {\"type\": \"line\"}, \"encoding\": {\"x\": {\"field\": \"x\", \"type\": \"quantitative\"}, \"y\": {\"field\": \"y\", \"type\": \"quantitative\"}}}], \"height\": 300, \"width\": 800, \"$schema\": \"https://vega.github.io/schema/vega-lite/v5.8.0.json\"}, {\"mode\": \"vega-lite\"});\n",
       "</script>"
      ],
      "text/plain": [
       "alt.LayerChart(...)"
      ]
     },
     "execution_count": 6,
     "metadata": {},
     "output_type": "execute_result"
    }
   ],
   "source": [
    "data_chart = alt.Chart(prices).mark_circle().encode(\n",
    "    x='CashRate',\n",
    "    y='MedianPrice'\n",
    ")\n",
    "\n",
    "\n",
    "x = np.arange(0, 8.25, 0.25)\n",
    "\n",
    "m = -100\n",
    "c = 1100\n",
    "\n",
    "y = m * x + c\n",
    "\n",
    "model = pd.DataFrame({'x': x, 'y':y})\n",
    "\n",
    "\n",
    "linear_model_chart = alt.Chart(model).mark_line().encode(\n",
    "    x='x', y='y'\n",
    ")\n",
    "\n",
    "(data_chart + linear_model_chart).properties(\n",
    "    width=800,\n",
    "    height=300\n",
    ")"
   ]
  },
  {
   "cell_type": "markdown",
   "metadata": {},
   "source": [
    "Quite a good fit! We can then work out our error, by using our \"model\" where $\\beta=4$ and a constant of 300 (we will see how this fits into a model soon), on the actual hours studied, and compare that to the actual scores:"
   ]
  },
  {
   "cell_type": "code",
   "execution_count": 7,
   "metadata": {},
   "outputs": [
    {
     "name": "stdout",
     "output_type": "stream",
     "text": [
      "The error is 4935.24\n"
     ]
    }
   ],
   "source": [
    "predicted_prices = prices['CashRate'] * m + c  # Same values as before - this is our \"model\"\n",
    "error = np.sum(np.abs(predicted_prices - prices['MedianPrice']))  # The \"absolute error\"\n",
    "print(\"The error is {:.2f}\".format(error))"
   ]
  },
  {
   "cell_type": "markdown",
   "metadata": {},
   "source": [
    "The OLS algorithm aims to minimise the squared error, which is:"
   ]
  },
  {
   "cell_type": "code",
   "execution_count": 8,
   "metadata": {},
   "outputs": [
    {
     "name": "stdout",
     "output_type": "stream",
     "text": [
      "The squared error is 689865.92\n"
     ]
    }
   ],
   "source": [
    "squared_error = np.sum((predicted_prices - prices['MedianPrice']) ** 2)\n",
    "print(\"The squared error is {:.2f}\".format(squared_error))"
   ]
  },
  {
   "cell_type": "markdown",
   "metadata": {},
   "source": [
    "Both errors are valid to use, but the squared error is nicer from an algebraic perspective, allowing for gradients to be computed, and automatically account for positive/negative errors in the same way."
   ]
  },
  {
   "cell_type": "markdown",
   "metadata": {},
   "source": [
    "#### Exercises\n",
    "\n",
    "1. Why wouldn't you use the actual error, that is `np.sum(predicted_prices - prices['MedianPrice'])`?\n",
    "2. Try three different models (change the values of m and c in the equation before). What is your best performing model?"
   ]
  },
  {
   "cell_type": "code",
   "execution_count": 14,
   "metadata": {},
   "outputs": [
    {
     "name": "stdout",
     "output_type": "stream",
     "text": [
      "The error is 4935.24\n",
      "The squared error is 689865.92\n",
      "The error is 5181.09\n",
      "The squared error is 906373.12\n",
      "The error is 4083.08\n",
      "The squared error is 468521.42\n"
     ]
    }
   ],
   "source": [
    "m = -100\n",
    "c = 1100\n",
    "predicted_prices = prices['CashRate'] * m + c  # Same values as before - this is our \"model\"\n",
    "error = np.sum(np.abs(predicted_prices - prices['MedianPrice']))  # The \"absolute error\"\n",
    "print(\"The error is {:.2f}\".format(error))\n",
    "\n",
    "squared_error = np.sum((predicted_prices - prices['MedianPrice']) ** 2)\n",
    "print(\"The squared error is {:.2f}\".format(squared_error))\n",
    "\n",
    "m = -110\n",
    "c = 1000\n",
    "predicted_prices = prices['CashRate'] * m + c  # Same values as before - this is our \"model\"\n",
    "error = np.sum(np.abs(predicted_prices - prices['MedianPrice']))  # The \"absolute error\"\n",
    "print(\"The error is {:.2f}\".format(error))\n",
    "\n",
    "squared_error = np.sum((predicted_prices - prices['MedianPrice']) ** 2)\n",
    "print(\"The squared error is {:.2f}\".format(squared_error))\n",
    "\n",
    "m = -90\n",
    "c = 1000\n",
    "predicted_prices = prices['CashRate'] * m + c  # Same values as before - this is our \"model\"\n",
    "error = np.sum(np.abs(predicted_prices - prices['MedianPrice']))  # The \"absolute error\"\n",
    "print(\"The error is {:.2f}\".format(error))\n",
    "\n",
    "squared_error = np.sum((predicted_prices - prices['MedianPrice']) ** 2)\n",
    "print(\"The squared error is {:.2f}\".format(squared_error))"
   ]
  },
  {
   "cell_type": "markdown",
   "metadata": {},
   "source": [
    "*For solutions, see `solutions/linear_regression_intro.py`*"
   ]
  },
  {
   "cell_type": "markdown",
   "metadata": {},
   "source": [
    "### Ordinary Least Squares Derivation\n",
    "\n",
    "Here we will go through the derivation of the OLS algorithm with matrix mathematics. We will extend this further in the next notebook where we look at multivariate OLS. Before we do that, we will extend our Linear Regression Model slightly to account for our constant value (the \"c\" in our model for house prices):\n",
    "\n",
    "$ Y = X\\beta + \\boldsymbol{u}$  (as before)\n",
    "\n",
    "where $\\beta = [\\beta_1, \\beta_2]$ and $X = [1, X]$.\n",
    "\n",
    "In other words, $\\beta$ is two values - the multiplier against the constant (hereafter just \"the constant\") and the value that the independent variable is multiplied against ($X\\beta_2$). We extend $X$ by adding a column of 1s to it, and then use matrix multiplication, as we will review in the next notebook. This multiplies the 1s by the constant and also the independent variable by its coefficient.\n",
    "\n",
    "The aim of OLS is to choose $\\beta$ to minimise $u^2$ (the squared error), which we can do via the following equations:\n",
    "\n",
    "$ \\boldsymbol{y}  = X\\beta + u$ \n",
    "\n",
    "$ \\boldsymbol{u} = \\boldsymbol{y} - X\\beta $\n",
    "\n",
    "$\\boldsymbol{u}^2 = \\boldsymbol{u}\\boldsymbol{u} = (\\boldsymbol{y} - X\\beta)(\\boldsymbol{y} - X\\beta)$\n",
    "\n",
    "$\\boldsymbol{u}\\boldsymbol{u} = \\boldsymbol{y}\\boldsymbol{y} - 2\\boldsymbol{y}X\\beta + X\\beta X\\beta$\n",
    "\n",
    "Computing the partial derivative of the squared error with respect to $\\beta$, and setting it to zero yields:\n",
    "\n",
    "$\\frac{ \\partial(\\boldsymbol{u}\\boldsymbol{u})}{ \\partial\\beta} = 0$\n",
    "$ = -2X\\boldsymbol{y} + 2X^2\\beta$\n",
    "\n",
    "Solving for $\\beta$ yields:\n",
    "\n",
    "$\\beta = \\frac{XY}{X^2}$\n",
    "\n",
    "<div class=\"alert alert-warning\">\n",
    "    We do <b>not</b> reduce the $X$ values - they are matrices, and the equations here will change slightly in the next notebook when we examine these values as matrices\n",
    "</div>\n",
    "\n",
    "Below, I take you through the code to do the same. There is a bit of matrix manipulation happening here that may not be familiar, however we will cover that in the next notebook. Ignoring the transposing (`.T`), inverting (`np.linalg.inv`) and some rearranging if you are not familiar with matrix maths, this is the same result as before. Also note that generally you do *not* do this yourself, instead letting an established library do it for you."
   ]
  },
  {
   "cell_type": "code",
   "execution_count": 9,
   "metadata": {},
   "outputs": [],
   "source": [
    "house_prices = prices['MedianPrice'].values\n",
    "cash_rate = prices['CashRate'].values"
   ]
  },
  {
   "cell_type": "code",
   "execution_count": 11,
   "metadata": {},
   "outputs": [
    {
     "data": {
      "text/plain": [
       "(53,)"
      ]
     },
     "execution_count": 11,
     "metadata": {},
     "output_type": "execute_result"
    }
   ],
   "source": [
    "cash_rate.shape"
   ]
  },
  {
   "cell_type": "code",
   "execution_count": 20,
   "metadata": {},
   "outputs": [
    {
     "data": {
      "text/plain": [
       "(53,)"
      ]
     },
     "execution_count": 20,
     "metadata": {},
     "output_type": "execute_result"
    }
   ],
   "source": [
    "ones = np.ones((len(cash_rate)))\n",
    "ones.shape"
   ]
  },
  {
   "cell_type": "code",
   "execution_count": 21,
   "metadata": {},
   "outputs": [
    {
     "data": {
      "text/plain": [
       "(53, 2)"
      ]
     },
     "execution_count": 21,
     "metadata": {},
     "output_type": "execute_result"
    }
   ],
   "source": [
    "X = np.vstack([ones, cash_rate]).T\n",
    "X.shape"
   ]
  },
  {
   "cell_type": "code",
   "execution_count": 23,
   "metadata": {},
   "outputs": [
    {
     "data": {
      "text/plain": [
       "(53, 2)"
      ]
     },
     "execution_count": 23,
     "metadata": {},
     "output_type": "execute_result"
    }
   ],
   "source": [
    "X.shape"
   ]
  },
  {
   "cell_type": "code",
   "execution_count": 23,
   "metadata": {},
   "outputs": [],
   "source": [
    "Y = house_prices.reshape((len(house_prices), 1))"
   ]
  },
  {
   "cell_type": "code",
   "execution_count": 25,
   "metadata": {},
   "outputs": [
    {
     "data": {
      "text/plain": [
       "((53, 2), (53, 1))"
      ]
     },
     "execution_count": 25,
     "metadata": {},
     "output_type": "execute_result"
    }
   ],
   "source": [
    "X.shape, Y.shape"
   ]
  },
  {
   "cell_type": "code",
   "execution_count": 25,
   "metadata": {},
   "outputs": [
    {
     "data": {
      "text/plain": [
       "array([[975.51254806],\n",
       "       [-78.60228844]])"
      ]
     },
     "execution_count": 25,
     "metadata": {},
     "output_type": "execute_result"
    }
   ],
   "source": [
    "beta = np.linalg.inv(X.T.dot(X)).dot(X.T.dot(Y))\n",
    "beta"
   ]
  },
  {
   "cell_type": "markdown",
   "metadata": {},
   "source": [
    "Those are the new `m` and `c` values."
   ]
  },
  {
   "cell_type": "code",
   "execution_count": 26,
   "metadata": {},
   "outputs": [
    {
     "data": {
      "text/plain": [
       "[<matplotlib.lines.Line2D at 0x22036912910>]"
      ]
     },
     "execution_count": 26,
     "metadata": {},
     "output_type": "execute_result"
    },
    {
     "data": {
      "image/png": "[encoded data removed]",
      "text/plain": [
       "<Figure size 640x480 with 1 Axes>"
      ]
     },
     "metadata": {},
     "output_type": "display_data"
    }
   ],
   "source": [
    "plt.plot(cash_rate, house_prices, 'ro')\n",
    "plt.xlabel(\"Cash Rate\")\n",
    "plt.ylabel(\"House Prices\")\n",
    "\n",
    "# Here we create x values for \"each hour of study\" so we can plot the results\n",
    "x_model = np.arange(0, 8, 0.25)\n",
    "y_model = x_model * beta[1] + beta[0]  # Use our learned model to fit the line of best fit.\n",
    "\n",
    "plt.plot(x_model, y_model, 'b-')"
   ]
  },
  {
   "cell_type": "markdown",
   "metadata": {},
   "source": [
    "Predicting the actual scores, we can see our trained model is better than the intuited model from earlier."
   ]
  },
  {
   "cell_type": "code",
   "execution_count": 27,
   "metadata": {},
   "outputs": [
    {
     "name": "stdout",
     "output_type": "stream",
     "text": [
      "The squared error is 438881.87\n"
     ]
    }
   ],
   "source": [
    "predicted_prices = cash_rate * beta[1] + beta[0]\n",
    "squared_error = np.sum((predicted_prices - house_prices) ** 2)\n",
    "print(\"The squared error is {:.2f}\".format(squared_error))"
   ]
  },
  {
   "cell_type": "markdown",
   "metadata": {},
   "source": [
    "#### Exercises\n",
    "\n",
    "1. Remove the values with a cash rate above 6.0 and rerun the analysis. What $\\beta$ values do you obtain?\n",
    "2. Implement and run the following algorithm:\n",
    "\n",
    "\n",
    "```\n",
    "loop 100 times:\n",
    "    obtain a sample of 50% of the data points\n",
    "    compute the beta values\n",
    "    \n",
    "average all beta values obtained during the loop as the final beta values\n",
    "```\n",
    "\n",
    "This is an *ensemble* learner - it is great for removing the effect of outliers, as seen in the above data.\n"
   ]
  },
  {
   "cell_type": "code",
   "execution_count": 28,
   "metadata": {},
   "outputs": [
    {
     "data": {
      "text/plain": [
       "array([6.25, 6.25, 6.5 , 6.75, 7.25, 7.25, 7.  , 4.25, 3.25, 3.  , 3.  ,\n",
       "       3.75, 4.  , 4.5 , 4.5 , 4.75, 4.75, 4.75, 4.75, 4.25, 4.25, 3.5 ,\n",
       "       3.5 , 3.  , 3.  , 2.75, 2.5 , 2.5 , 2.5 , 2.5 , 2.5 , 2.5 , 2.25,\n",
       "       2.  , 2.  , 2.  , 2.  , 1.75, 1.5 , 1.5 , 1.5 , 1.5 , 1.5 , 1.5 ,\n",
       "       1.5 , 1.5 , 1.5 , 1.5 , 1.5 , 1.25, 1.  , 0.75, 0.25])"
      ]
     },
     "execution_count": 28,
     "metadata": {},
     "output_type": "execute_result"
    }
   ],
   "source": [
    "cash_rate"
   ]
  },
  {
   "cell_type": "code",
   "execution_count": 31,
   "metadata": {},
   "outputs": [],
   "source": [
    "keep=cash_rate < 6"
   ]
  },
  {
   "cell_type": "code",
   "execution_count": 32,
   "metadata": {},
   "outputs": [
    {
     "data": {
      "text/plain": [
       "array([4.25, 3.25, 3.  , 3.  , 3.75, 4.  , 4.5 , 4.5 , 4.75, 4.75, 4.75,\n",
       "       4.75, 4.25, 4.25, 3.5 , 3.5 , 3.  , 3.  , 2.75, 2.5 , 2.5 , 2.5 ,\n",
       "       2.5 , 2.5 , 2.5 , 2.25, 2.  , 2.  , 2.  , 2.  , 1.75, 1.5 , 1.5 ,\n",
       "       1.5 , 1.5 , 1.5 , 1.5 , 1.5 , 1.5 , 1.5 , 1.5 , 1.5 , 1.25, 1.  ,\n",
       "       0.75, 0.25])"
      ]
     },
     "execution_count": 32,
     "metadata": {},
     "output_type": "execute_result"
    }
   ],
   "source": [
    "cash_rate[keep]"
   ]
  },
  {
   "cell_type": "code",
   "execution_count": 33,
   "metadata": {},
   "outputs": [
    {
     "name": "stdout",
     "output_type": "stream",
     "text": [
      "The squared error is 355102.81\n"
     ]
    },
    {
     "data": {
      "image/png": "[encoded data removed]",
      "text/plain": [
       "<Figure size 640x480 with 1 Axes>"
      ]
     },
     "metadata": {},
     "output_type": "display_data"
    }
   ],
   "source": [
    "keep = cash_rate < 6\n",
    "cash_rate = cash_rate[keep]\n",
    "house_prices = house_prices[keep]\n",
    "\n",
    "plt.plot(cash_rate, house_prices, 'ro')\n",
    "plt.xlabel(\"Cash Rate\")\n",
    "plt.ylabel(\"House Prices\")\n",
    "\n",
    "# Here we create x values for \"each hour of study\" so we can plot the results\n",
    "x_model = np.arange(0, 8, 0.25)\n",
    "y_model = x_model * beta[1] + beta[0]  # Use our learned model to fit the line of best fit.\n",
    "\n",
    "plt.plot(x_model, y_model, 'b-')\n",
    "predicted_prices = cash_rate * beta[1] + beta[0]\n",
    "squared_error = np.sum((predicted_prices - house_prices) ** 2)\n",
    "print(\"The squared error is {:.2f}\".format(squared_error))\n"
   ]
  },
  {
   "cell_type": "code",
   "execution_count": 34,
   "metadata": {},
   "outputs": [
    {
     "name": "stdout",
     "output_type": "stream",
     "text": [
      "[[1076.39690549]\n",
      " [-122.75429159]]\n"
     ]
    }
   ],
   "source": [
    "# Question 2\n",
    "\n",
    "# Store parameter versions here\n",
    "models = []\n",
    "\n",
    "n = len(cash_rate)\n",
    "\n",
    "for i in range(100):\n",
    "    \n",
    "    # Choose random indexes\n",
    "    # replace=True is better statistically, we will come back to it later on...\n",
    "    random_indexes = np.random.choice(np.arange(n), size=int(n/2), replace=True)\n",
    "    cash_rate_sample = cash_rate[random_indexes]\n",
    "    house_prices_sample = house_prices[random_indexes]\n",
    "    \n",
    "    ones_sample = np.ones((len(cash_rate_sample)))\n",
    "    X_sample = np.vstack([ones_sample, cash_rate_sample]).T\n",
    "\n",
    "    Y_sample = house_prices_sample.reshape((len(house_prices_sample), 1))\n",
    "\n",
    "    beta_sample = np.linalg.inv(X_sample.T.dot(X_sample)).dot(X_sample.T.dot(Y_sample))\n",
    "    models.append(beta_sample)\n",
    "# Average all parameters\n",
    "final_model = np.mean(models, axis=0)\n",
    "print(final_model)"
   ]
  },
  {
   "cell_type": "markdown",
   "metadata": {},
   "source": [
    "*For solutions, see `solutions/ols_basic_ensemble.py`*"
   ]
  }
 ],
 "metadata": {
  "kernelspec": {
   "display_name": "Python 3 (ipykernel)",
   "language": "python",
   "name": "python3"
  },
  "language_info": {
   "codemirror_mode": {
    "name": "ipython",
    "version": 3
   },
   "file_extension": ".py",
   "mimetype": "text/x-python",
   "name": "python",
   "nbconvert_exporter": "python",
   "pygments_lexer": "ipython3",
   "version": "3.11.4"
  }
 },
 "nbformat": 4,
 "nbformat_minor": 2
}
